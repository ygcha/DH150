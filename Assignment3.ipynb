{
 "cells": [
  {
   "cell_type": "markdown",
   "id": "c6cb1704-4796-4ec5-9db0-033e5ce346ea",
   "metadata": {
    "tags": []
   },
   "source": [
    "# Assignment 3 - Christina Cha"
   ]
  },
  {
   "cell_type": "markdown",
   "id": "0486ed2a-3dea-48a2-9d30-bc3f19b8442c",
   "metadata": {
    "tags": []
   },
   "source": [
    "### Import scikit-learn's example diabetes dataset with the following code:"
   ]
  },
  {
   "cell_type": "code",
   "execution_count": 1,
   "id": "934d2146-3517-4743-98ef-8a99e6a99250",
   "metadata": {},
   "outputs": [],
   "source": [
    "import sklearn.datasets\n",
    "diabetes = sklearn.datasets.load_diabetes()"
   ]
  },
  {
   "cell_type": "markdown",
   "id": "9af25806-db2d-4821-9b9c-a6f04d64694f",
   "metadata": {},
   "source": [
    "### Print a description of the dataset with:"
   ]
  },
  {
   "cell_type": "code",
   "execution_count": 2,
   "id": "8eb2656d-7142-460f-925e-df627ef4da1d",
   "metadata": {},
   "outputs": [
    {
     "name": "stdout",
     "output_type": "stream",
     "text": [
      ".. _diabetes_dataset:\n",
      "\n",
      "Diabetes dataset\n",
      "----------------\n",
      "\n",
      "Ten baseline variables, age, sex, body mass index, average blood\n",
      "pressure, and six blood serum measurements were obtained for each of n =\n",
      "442 diabetes patients, as well as the response of interest, a\n",
      "quantitative measure of disease progression one year after baseline.\n",
      "\n",
      "**Data Set Characteristics:**\n",
      "\n",
      "  :Number of Instances: 442\n",
      "\n",
      "  :Number of Attributes: First 10 columns are numeric predictive values\n",
      "\n",
      "  :Target: Column 11 is a quantitative measure of disease progression one year after baseline\n",
      "\n",
      "  :Attribute Information:\n",
      "      - age     age in years\n",
      "      - sex\n",
      "      - bmi     body mass index\n",
      "      - bp      average blood pressure\n",
      "      - s1      tc, total serum cholesterol\n",
      "      - s2      ldl, low-density lipoproteins\n",
      "      - s3      hdl, high-density lipoproteins\n",
      "      - s4      tch, total cholesterol / HDL\n",
      "      - s5      ltg, possibly log of serum triglycerides level\n",
      "      - s6      glu, blood sugar level\n",
      "\n",
      "Note: Each of these 10 feature variables have been mean centered and scaled by the standard deviation times `n_samples` (i.e. the sum of squares of each column totals 1).\n",
      "\n",
      "Source URL:\n",
      "https://www4.stat.ncsu.edu/~boos/var.select/diabetes.html\n",
      "\n",
      "For more information see:\n",
      "Bradley Efron, Trevor Hastie, Iain Johnstone and Robert Tibshirani (2004) \"Least Angle Regression,\" Annals of Statistics (with discussion), 407-499.\n",
      "(https://web.stanford.edu/~hastie/Papers/LARS/LeastAngle_2002.pdf)\n"
     ]
    }
   ],
   "source": [
    "print(diabetes.DESCR)"
   ]
  },
  {
   "cell_type": "markdown",
   "id": "dbbd497e-5955-441a-9707-b88774a5ea7a",
   "metadata": {},
   "source": [
    "### Get the features and target arrays with:"
   ]
  },
  {
   "cell_type": "code",
   "execution_count": 3,
   "id": "bebe3eb7-a8e1-44c9-a162-99eaad7dcbc4",
   "metadata": {},
   "outputs": [],
   "source": [
    "x = diabetes.data\n",
    "y = diabetes.target"
   ]
  },
  {
   "cell_type": "markdown",
   "id": "cf9b6ffa-47c8-4cd5-8553-f56078465718",
   "metadata": {},
   "source": [
    "### Look at x : output one of the records to see that it has the expected number of features (attributes)\n",
    "Hint: there should be 10 features in x, and 442 records (patients)"
   ]
  },
  {
   "cell_type": "code",
   "execution_count": 4,
   "id": "d38e2383-ca58-4b56-b0ab-f5d2c670309b",
   "metadata": {},
   "outputs": [
    {
     "name": "stdout",
     "output_type": "stream",
     "text": [
      "['age', 'sex', 'bmi', 'bp', 's1', 's2', 's3', 's4', 's5', 's6']\n"
     ]
    }
   ],
   "source": [
    "features = diabetes.feature_names\n",
    "print(features)"
   ]
  },
  {
   "cell_type": "code",
   "execution_count": 5,
   "id": "cea4899b-bb03-4516-8e2e-6f1ade9c6ff2",
   "metadata": {},
   "outputs": [
    {
     "data": {
      "text/html": [
       "<div>\n",
       "<style scoped>\n",
       "    .dataframe tbody tr th:only-of-type {\n",
       "        vertical-align: middle;\n",
       "    }\n",
       "\n",
       "    .dataframe tbody tr th {\n",
       "        vertical-align: top;\n",
       "    }\n",
       "\n",
       "    .dataframe thead th {\n",
       "        text-align: right;\n",
       "    }\n",
       "</style>\n",
       "<table border=\"1\" class=\"dataframe\">\n",
       "  <thead>\n",
       "    <tr style=\"text-align: right;\">\n",
       "      <th></th>\n",
       "      <th>age</th>\n",
       "      <th>sex</th>\n",
       "      <th>bmi</th>\n",
       "      <th>bp</th>\n",
       "      <th>s1</th>\n",
       "      <th>s2</th>\n",
       "      <th>s3</th>\n",
       "      <th>s4</th>\n",
       "      <th>s5</th>\n",
       "      <th>s6</th>\n",
       "    </tr>\n",
       "  </thead>\n",
       "  <tbody>\n",
       "    <tr>\n",
       "      <th>0</th>\n",
       "      <td>0.038076</td>\n",
       "      <td>0.050680</td>\n",
       "      <td>0.061696</td>\n",
       "      <td>0.021872</td>\n",
       "      <td>-0.044223</td>\n",
       "      <td>-0.034821</td>\n",
       "      <td>-0.043401</td>\n",
       "      <td>-0.002592</td>\n",
       "      <td>0.019908</td>\n",
       "      <td>-0.017646</td>\n",
       "    </tr>\n",
       "    <tr>\n",
       "      <th>1</th>\n",
       "      <td>-0.001882</td>\n",
       "      <td>-0.044642</td>\n",
       "      <td>-0.051474</td>\n",
       "      <td>-0.026328</td>\n",
       "      <td>-0.008449</td>\n",
       "      <td>-0.019163</td>\n",
       "      <td>0.074412</td>\n",
       "      <td>-0.039493</td>\n",
       "      <td>-0.068330</td>\n",
       "      <td>-0.092204</td>\n",
       "    </tr>\n",
       "    <tr>\n",
       "      <th>2</th>\n",
       "      <td>0.085299</td>\n",
       "      <td>0.050680</td>\n",
       "      <td>0.044451</td>\n",
       "      <td>-0.005671</td>\n",
       "      <td>-0.045599</td>\n",
       "      <td>-0.034194</td>\n",
       "      <td>-0.032356</td>\n",
       "      <td>-0.002592</td>\n",
       "      <td>0.002864</td>\n",
       "      <td>-0.025930</td>\n",
       "    </tr>\n",
       "    <tr>\n",
       "      <th>3</th>\n",
       "      <td>-0.089063</td>\n",
       "      <td>-0.044642</td>\n",
       "      <td>-0.011595</td>\n",
       "      <td>-0.036656</td>\n",
       "      <td>0.012191</td>\n",
       "      <td>0.024991</td>\n",
       "      <td>-0.036038</td>\n",
       "      <td>0.034309</td>\n",
       "      <td>0.022692</td>\n",
       "      <td>-0.009362</td>\n",
       "    </tr>\n",
       "    <tr>\n",
       "      <th>4</th>\n",
       "      <td>0.005383</td>\n",
       "      <td>-0.044642</td>\n",
       "      <td>-0.036385</td>\n",
       "      <td>0.021872</td>\n",
       "      <td>0.003935</td>\n",
       "      <td>0.015596</td>\n",
       "      <td>0.008142</td>\n",
       "      <td>-0.002592</td>\n",
       "      <td>-0.031991</td>\n",
       "      <td>-0.046641</td>\n",
       "    </tr>\n",
       "    <tr>\n",
       "      <th>...</th>\n",
       "      <td>...</td>\n",
       "      <td>...</td>\n",
       "      <td>...</td>\n",
       "      <td>...</td>\n",
       "      <td>...</td>\n",
       "      <td>...</td>\n",
       "      <td>...</td>\n",
       "      <td>...</td>\n",
       "      <td>...</td>\n",
       "      <td>...</td>\n",
       "    </tr>\n",
       "    <tr>\n",
       "      <th>437</th>\n",
       "      <td>0.041708</td>\n",
       "      <td>0.050680</td>\n",
       "      <td>0.019662</td>\n",
       "      <td>0.059744</td>\n",
       "      <td>-0.005697</td>\n",
       "      <td>-0.002566</td>\n",
       "      <td>-0.028674</td>\n",
       "      <td>-0.002592</td>\n",
       "      <td>0.031193</td>\n",
       "      <td>0.007207</td>\n",
       "    </tr>\n",
       "    <tr>\n",
       "      <th>438</th>\n",
       "      <td>-0.005515</td>\n",
       "      <td>0.050680</td>\n",
       "      <td>-0.015906</td>\n",
       "      <td>-0.067642</td>\n",
       "      <td>0.049341</td>\n",
       "      <td>0.079165</td>\n",
       "      <td>-0.028674</td>\n",
       "      <td>0.034309</td>\n",
       "      <td>-0.018118</td>\n",
       "      <td>0.044485</td>\n",
       "    </tr>\n",
       "    <tr>\n",
       "      <th>439</th>\n",
       "      <td>0.041708</td>\n",
       "      <td>0.050680</td>\n",
       "      <td>-0.015906</td>\n",
       "      <td>0.017282</td>\n",
       "      <td>-0.037344</td>\n",
       "      <td>-0.013840</td>\n",
       "      <td>-0.024993</td>\n",
       "      <td>-0.011080</td>\n",
       "      <td>-0.046879</td>\n",
       "      <td>0.015491</td>\n",
       "    </tr>\n",
       "    <tr>\n",
       "      <th>440</th>\n",
       "      <td>-0.045472</td>\n",
       "      <td>-0.044642</td>\n",
       "      <td>0.039062</td>\n",
       "      <td>0.001215</td>\n",
       "      <td>0.016318</td>\n",
       "      <td>0.015283</td>\n",
       "      <td>-0.028674</td>\n",
       "      <td>0.026560</td>\n",
       "      <td>0.044528</td>\n",
       "      <td>-0.025930</td>\n",
       "    </tr>\n",
       "    <tr>\n",
       "      <th>441</th>\n",
       "      <td>-0.045472</td>\n",
       "      <td>-0.044642</td>\n",
       "      <td>-0.073030</td>\n",
       "      <td>-0.081414</td>\n",
       "      <td>0.083740</td>\n",
       "      <td>0.027809</td>\n",
       "      <td>0.173816</td>\n",
       "      <td>-0.039493</td>\n",
       "      <td>-0.004220</td>\n",
       "      <td>0.003064</td>\n",
       "    </tr>\n",
       "  </tbody>\n",
       "</table>\n",
       "<p>442 rows × 10 columns</p>\n",
       "</div>"
      ],
      "text/plain": [
       "          age       sex       bmi        bp        s1        s2        s3  \\\n",
       "0    0.038076  0.050680  0.061696  0.021872 -0.044223 -0.034821 -0.043401   \n",
       "1   -0.001882 -0.044642 -0.051474 -0.026328 -0.008449 -0.019163  0.074412   \n",
       "2    0.085299  0.050680  0.044451 -0.005671 -0.045599 -0.034194 -0.032356   \n",
       "3   -0.089063 -0.044642 -0.011595 -0.036656  0.012191  0.024991 -0.036038   \n",
       "4    0.005383 -0.044642 -0.036385  0.021872  0.003935  0.015596  0.008142   \n",
       "..        ...       ...       ...       ...       ...       ...       ...   \n",
       "437  0.041708  0.050680  0.019662  0.059744 -0.005697 -0.002566 -0.028674   \n",
       "438 -0.005515  0.050680 -0.015906 -0.067642  0.049341  0.079165 -0.028674   \n",
       "439  0.041708  0.050680 -0.015906  0.017282 -0.037344 -0.013840 -0.024993   \n",
       "440 -0.045472 -0.044642  0.039062  0.001215  0.016318  0.015283 -0.028674   \n",
       "441 -0.045472 -0.044642 -0.073030 -0.081414  0.083740  0.027809  0.173816   \n",
       "\n",
       "           s4        s5        s6  \n",
       "0   -0.002592  0.019908 -0.017646  \n",
       "1   -0.039493 -0.068330 -0.092204  \n",
       "2   -0.002592  0.002864 -0.025930  \n",
       "3    0.034309  0.022692 -0.009362  \n",
       "4   -0.002592 -0.031991 -0.046641  \n",
       "..        ...       ...       ...  \n",
       "437 -0.002592  0.031193  0.007207  \n",
       "438  0.034309 -0.018118  0.044485  \n",
       "439 -0.011080 -0.046879  0.015491  \n",
       "440  0.026560  0.044528 -0.025930  \n",
       "441 -0.039493 -0.004220  0.003064  \n",
       "\n",
       "[442 rows x 10 columns]"
      ]
     },
     "execution_count": 5,
     "metadata": {},
     "output_type": "execute_result"
    }
   ],
   "source": [
    "import pandas as pd\n",
    "\n",
    "df=pd.DataFrame(x, columns = features)\n",
    "df"
   ]
  },
  {
   "cell_type": "markdown",
   "id": "c17e4939-a0e4-42a9-abd6-f81aaffd8c19",
   "metadata": {},
   "source": [
    "### Make a scatter plot using just one of the features in x vs the target variable y:"
   ]
  },
  {
   "cell_type": "code",
   "execution_count": 6,
   "id": "e09e7ac9-d9bf-47e4-9c10-54ef910738fc",
   "metadata": {},
   "outputs": [
    {
     "data": {
      "text/plain": [
       "<AxesSubplot:xlabel='BMI', ylabel='Target'>"
      ]
     },
     "execution_count": 6,
     "metadata": {},
     "output_type": "execute_result"
    },
    {
     "data": {
      "image/png": "[encoded data removed]",
      "text/plain": [
       "<Figure size 432x288 with 1 Axes>"
      ]
     },
     "metadata": {
      "needs_background": "light"
     },
     "output_type": "display_data"
    }
   ],
   "source": [
    "#BMI\n",
    "bmi = x[:,2]\n",
    "\n",
    "diabetesDict = {\n",
    "    'BMI' : bmi,\n",
    "    'Target' : y\n",
    "}\n",
    "\n",
    "df1= pd.DataFrame(diabetesDict)\n",
    "df1.plot.scatter(x = 'BMI', y = 'Target')"
   ]
  },
  {
   "cell_type": "markdown",
   "id": "4ebb6cc0-3bf0-48f0-9983-7618a400cdb2",
   "metadata": {},
   "source": [
    "### y is currently a continuous-valued variable.  Make it a True/False category by executing the following:\n",
    "This will change y from an array of floats to an array of True/False values, with the True values corresponding to data points with diabetes.target > 150.\n",
    "Remake your above scatter plot to check that the target variable y now has just 2 values"
   ]
  },
  {
   "cell_type": "code",
   "execution_count": 17,
   "id": "0e07378e-bfc8-4dd0-8dac-cb10a3c404c2",
   "metadata": {},
   "outputs": [
    {
     "data": {
      "text/plain": [
       "<AxesSubplot:xlabel='BMI', ylabel='Target'>"
      ]
     },
     "execution_count": 17,
     "metadata": {},
     "output_type": "execute_result"
    },
    {
     "data": {
      "image/png": "[encoded data removed]",
      "text/plain": [
       "<Figure size 432x288 with 1 Axes>"
      ]
     },
     "metadata": {
      "needs_background": "light"
     },
     "output_type": "display_data"
    }
   ],
   "source": [
    "y = (diabetes.target > 150).astype(int)\n",
    "\n",
    "diabetesDict = {\n",
    "    'BMI' : bmi,\n",
    "    'Target' : y\n",
    "} \n",
    "\n",
    "df1 = pd.DataFrame(newdiabetesDict)\n",
    "df1.plot.scatter(x = 'BMI', y = 'Target')"
   ]
  },
  {
   "cell_type": "markdown",
   "id": "4f79c4a0-3a8f-4e39-a590-2fcd0eb76bb7",
   "metadata": {},
   "source": [
    "### Make plots with several features until you find one that you think may have a good relationship with y for classification."
   ]
  },
  {
   "cell_type": "code",
   "execution_count": 18,
   "id": "ba2d086a-2d33-4d8b-92e5-ceaa4fa938a6",
   "metadata": {},
   "outputs": [
    {
     "data": {
      "text/plain": [
       "<AxesSubplot:xlabel='S6', ylabel='Target'>"
      ]
     },
     "execution_count": 18,
     "metadata": {},
     "output_type": "execute_result"
    },
    {
     "data": {
      "image/png": "[encoded data removed]",
      "text/plain": [
       "<Figure size 432x288 with 1 Axes>"
      ]
     },
     "metadata": {
      "needs_background": "light"
     },
     "output_type": "display_data"
    },
    {
     "data": {
      "image/png": "[encoded data removed]",
      "text/plain": [
       "<Figure size 432x288 with 1 Axes>"
      ]
     },
     "metadata": {
      "needs_background": "light"
     },
     "output_type": "display_data"
    },
    {
     "data": {
      "image/png": "[encoded data removed]",
      "text/plain": [
       "<Figure size 432x288 with 1 Axes>"
      ]
     },
     "metadata": {
      "needs_background": "light"
     },
     "output_type": "display_data"
    },
    {
     "data": {
      "image/png": "[encoded data removed]",
      "text/plain": [
       "<Figure size 432x288 with 1 Axes>"
      ]
     },
     "metadata": {
      "needs_background": "light"
     },
     "output_type": "display_data"
    },
    {
     "data": {
      "image/png": "[encoded data removed]",
      "text/plain": [
       "<Figure size 432x288 with 1 Axes>"
      ]
     },
     "metadata": {
      "needs_background": "light"
     },
     "output_type": "display_data"
    },
    {
     "data": {
      "image/png": "[encoded data removed]",
      "text/plain": [
       "<Figure size 432x288 with 1 Axes>"
      ]
     },
     "metadata": {
      "needs_background": "light"
     },
     "output_type": "display_data"
    },
    {
     "data": {
      "image/png": "[encoded data removed]",
      "text/plain": [
       "<Figure size 432x288 with 1 Axes>"
      ]
     },
     "metadata": {
      "needs_background": "light"
     },
     "output_type": "display_data"
    },
    {
     "data": {
      "image/png": "[encoded data removed]",
      "text/plain": [
       "<Figure size 432x288 with 1 Axes>"
      ]
     },
     "metadata": {
      "needs_background": "light"
     },
     "output_type": "display_data"
    },
    {
     "data": {
      "image/png": "[encoded data removed]",
      "text/plain": [
       "<Figure size 432x288 with 1 Axes>"
      ]
     },
     "metadata": {
      "needs_background": "light"
     },
     "output_type": "display_data"
    }
   ],
   "source": [
    "#Age\n",
    "age = x[:,0]\n",
    "\n",
    "diabetesDict = {\n",
    "    'Age' : age,\n",
    "    'Target' : y\n",
    "}\n",
    "\n",
    "df2= pd.DataFrame(diabetesDict)\n",
    "df2.plot.scatter(x = 'Age', y = 'Target')\n",
    "\n",
    "#Sex\n",
    "sex = x[:,1]\n",
    "\n",
    "diabetesDict = {\n",
    "    'Sex' : sex,\n",
    "    'Target' : y\n",
    "}\n",
    "\n",
    "df3= pd.DataFrame(diabetesDict)\n",
    "df3.plot.scatter(x = 'Sex', y = 'Target')\n",
    "\n",
    "#BP\n",
    "bp = x[:,3]\n",
    "\n",
    "diabetesDict = {\n",
    "    'BP' : bp,\n",
    "    'Target' : y\n",
    "}\n",
    "\n",
    "df4= pd.DataFrame(diabetesDict)\n",
    "df4.plot.scatter(x = 'BP', y = 'Target')\n",
    "\n",
    "#S1\n",
    "s1 = x[:,4]\n",
    "\n",
    "diabetesDict = {\n",
    "    'S1' : s1,\n",
    "    'Target' : y\n",
    "}\n",
    "\n",
    "df5= pd.DataFrame(diabetesDict)\n",
    "df5.plot.scatter(x = 'S1', y = 'Target')\n",
    "\n",
    "#S2\n",
    "s2 = x[:,5]\n",
    "\n",
    "diabetesDict = {\n",
    "    'S2' : s2,\n",
    "    'Target' : y\n",
    "}\n",
    "\n",
    "df6= pd.DataFrame(diabetesDict)\n",
    "df6.plot.scatter(x = 'S2', y = 'Target')\n",
    "\n",
    "#S3\n",
    "s3 = x[:,6]\n",
    "\n",
    "diabetesDict = {\n",
    "    'S3' : s3,\n",
    "    'Target' : y\n",
    "}\n",
    "\n",
    "df7= pd.DataFrame(diabetesDict)\n",
    "df7.plot.scatter(x = 'S3', y = 'Target')\n",
    "\n",
    "#S4\n",
    "s4 = x[:,7]\n",
    "\n",
    "diabetesDict = {\n",
    "    'S4' : s4,\n",
    "    'Target' : y\n",
    "}\n",
    "\n",
    "df8= pd.DataFrame(diabetesDict)\n",
    "df8.plot.scatter(x = 'S4', y = 'Target')\n",
    "\n",
    "#S5\n",
    "s5 = x[:,8]\n",
    "\n",
    "diabetesDict = {\n",
    "    'S5' : s5,\n",
    "    'Target' : y\n",
    "}\n",
    "\n",
    "df9= pd.DataFrame(diabetesDict)\n",
    "df9.plot.scatter(x = 'S5', y = 'Target')\n",
    "\n",
    "#S6\n",
    "s6 = x[:,6]\n",
    "\n",
    "diabetesDict = {\n",
    "    'S6' : s6,\n",
    "    'Target' : y\n",
    "}\n",
    "\n",
    "df10= pd.DataFrame(diabetesDict)\n",
    "df10.plot.scatter(x = 'S6', y = 'Target')"
   ]
  },
  {
   "cell_type": "code",
   "execution_count": 19,
   "id": "1e99eed9-a522-4128-9448-ade3c13de19a",
   "metadata": {},
   "outputs": [],
   "source": [
    "# S5 has a good relationship with y for classification."
   ]
  },
  {
   "cell_type": "markdown",
   "id": "20877846-71ed-4d82-9a5b-89593ca5564e",
   "metadata": {},
   "source": [
    "### Step 4: Do classification with logistic regression\n",
    "Using the feature you've identified in x and the target variable y, perform logistic regression with sklearn's LogisticRegression.\n",
    "Be sure to use a train/test split"
   ]
  },
  {
   "cell_type": "code",
   "execution_count": 20,
   "id": "142b3ed8-a6f8-477d-b32e-441be5233bfe",
   "metadata": {},
   "outputs": [],
   "source": [
    "import numpy as np\n",
    "import seaborn as sns\n",
    "import sklearn.linear_model\n",
    "import matplotlib.pyplot as plt\n",
    "from sklearn import preprocessing, svm\n",
    "from sklearn.model_selection import train_test_split\n",
    "from sklearn.metrics import mean_squared_error, r2_score\n",
    "from sklearn.linear_model import LogisticRegression\n",
    "\n",
    "# Select a logistic regression model\n",
    "model = sklearn.linear_model.LogisticRegression()"
   ]
  },
  {
   "cell_type": "code",
   "execution_count": 21,
   "id": "1f99ce24-52ba-4c28-af86-196617eea650",
   "metadata": {},
   "outputs": [],
   "source": [
    "x = df9[['S5']]\n",
    "y = df9['Target']"
   ]
  },
  {
   "cell_type": "code",
   "execution_count": 22,
   "id": "792d0a5d-327a-4fa0-ba7b-32f8391f1058",
   "metadata": {},
   "outputs": [
    {
     "data": {
      "text/plain": [
       "LogisticRegression()"
      ]
     },
     "execution_count": 22,
     "metadata": {},
     "output_type": "execute_result"
    }
   ],
   "source": [
    "# Train the model\n",
    "model.fit(x,y)"
   ]
  },
  {
   "cell_type": "code",
   "execution_count": 23,
   "id": "0328dd2c-0797-46f7-a092-bca0a1b1f0ba",
   "metadata": {},
   "outputs": [
    {
     "data": {
      "text/plain": [
       "array([1])"
      ]
     },
     "execution_count": 23,
     "metadata": {},
     "output_type": "execute_result"
    }
   ],
   "source": [
    "# Make a prediction\n",
    "x_test = [[10]]\n",
    "model.predict(x_test)"
   ]
  },
  {
   "cell_type": "code",
   "execution_count": 24,
   "id": "b49d640c-3e67-4f83-b1ad-9b42a9a5e49b",
   "metadata": {},
   "outputs": [
    {
     "data": {
      "image/png": "[encoded data removed]",
      "text/plain": [
       "<Figure size 432x288 with 1 Axes>"
      ]
     },
     "metadata": {
      "needs_background": "light"
     },
     "output_type": "display_data"
    }
   ],
   "source": [
    "# Visualize what the predictions are for this model\n",
    "\n",
    "df9.plot.scatter(x='S5', y='Target')\n",
    "\n",
    "x_new = np.linspace(-0.15,0.15)\n",
    "x_new = x_new.reshape(-1,1)\n",
    "y_pred = model.predict(x_new)\n",
    "plt.plot(x_new, y_pred)\n",
    "\n",
    "plt.show()"
   ]
  },
  {
   "cell_type": "code",
   "execution_count": 25,
   "id": "59f69379-d3b7-46cf-9a7f-689e2c731a36",
   "metadata": {},
   "outputs": [
    {
     "data": {
      "text/plain": [
       "array([0, 1])"
      ]
     },
     "execution_count": 25,
     "metadata": {},
     "output_type": "execute_result"
    }
   ],
   "source": [
    "model.classes_"
   ]
  },
  {
   "cell_type": "code",
   "execution_count": 26,
   "id": "22111601-4b77-4b8a-8777-24c1fd66b00c",
   "metadata": {},
   "outputs": [
    {
     "name": "stdout",
     "output_type": "stream",
     "text": [
      "[[4.15818976]] [-0.19228433]\n"
     ]
    }
   ],
   "source": [
    "# Coefficient\n",
    "print(model.coef_, model.intercept_)"
   ]
  },
  {
   "cell_type": "markdown",
   "id": "40b7b6b4-c658-4fa3-97c6-4c73ec0dff97",
   "metadata": {},
   "source": [
    "#### Generate a new array x_new of x values; generate a new array y_new containing predictions of y for each element of x_new; and make a line plot of y_new vs x_new."
   ]
  },
  {
   "cell_type": "code",
   "execution_count": 36,
   "id": "c7780043-3381-4d0d-94dc-a247250f148c",
   "metadata": {},
   "outputs": [
    {
     "data": {
      "image/png": "[encoded data removed]",
      "text/plain": [
       "<Figure size 432x288 with 1 Axes>"
      ]
     },
     "metadata": {
      "needs_background": "light"
     },
     "output_type": "display_data"
    }
   ],
   "source": [
    "# Visualize what the predictions are for this model\n",
    "df9.plot.scatter(x='S5', y='Target')\n",
    "#plt.plot(x,y,'ko')\n",
    "\n",
    "x_new = np.linspace(-0.15,0.15)\n",
    "x_new = x_new.reshape(-1,1)\n",
    "\n",
    "# the predicted y values are now from a model equation, \n",
    "# not from results of calling the predict function\n",
    "y_model = 1 / (1 + np.exp(-(model.intercept_ + model.coef_ * x_new)))\n",
    "\n",
    "plt.plot(x_new, y_model)\n",
    "\n",
    "plt.axhline(0.5,color='r',linestyle='--')\n",
    "\n",
    "x_new = np.linspace(-0.15,0.15)\n",
    "x_new = x_new.reshape(-1,1)\n",
    "y_pred = model.predict(x_new)\n",
    "plt.plot(x_new, y_pred)\n",
    "\n",
    "plt.show()"
   ]
  },
  {
   "cell_type": "code",
   "execution_count": 40,
   "id": "e1cf6482-14f8-4c15-be66-88f5356b1519",
   "metadata": {},
   "outputs": [
    {
     "ename": "NameError",
     "evalue": "name 'results' is not defined",
     "output_type": "error",
     "traceback": [
      "\u001b[0;31m---------------------------------------------------------------------------\u001b[0m",
      "\u001b[0;31mNameError\u001b[0m                                 Traceback (most recent call last)",
      "\u001b[0;32m/tmp/ipykernel_219/3555064532.py\u001b[0m in \u001b[0;36m<module>\u001b[0;34m\u001b[0m\n\u001b[1;32m      1\u001b[0m \u001b[0my_new\u001b[0m \u001b[0;34m=\u001b[0m \u001b[0mmodel\u001b[0m\u001b[0;34m.\u001b[0m\u001b[0mpredict\u001b[0m\u001b[0;34m(\u001b[0m\u001b[0mx_new\u001b[0m\u001b[0;34m)\u001b[0m\u001b[0;34m\u001b[0m\u001b[0;34m\u001b[0m\u001b[0m\n\u001b[0;32m----> 2\u001b[0;31m \u001b[0my_new\u001b[0m \u001b[0;34m=\u001b[0m \u001b[0mresults\u001b[0m\u001b[0;34m.\u001b[0m\u001b[0mpredict\u001b[0m\u001b[0;34m(\u001b[0m\u001b[0mx_new\u001b[0m\u001b[0;34m)\u001b[0m\u001b[0;34m\u001b[0m\u001b[0;34m\u001b[0m\u001b[0m\n\u001b[0m",
      "\u001b[0;31mNameError\u001b[0m: name 'results' is not defined"
     ]
    }
   ],
   "source": [
    "y_new = model.predict(x_new)\n",
    "y_new = results.predict(x_new)"
   ]
  },
  {
   "cell_type": "markdown",
   "id": "c8b2cc8f-60a0-48c5-99c5-084a1e6ab662",
   "metadata": {},
   "source": [
    "#### Calculate the confusion matrix, accuracy, precision, and recall of the model on your test data"
   ]
  },
  {
   "cell_type": "code",
   "execution_count": 31,
   "id": "2d1c43f8-de1b-4c75-bb94-8e54275ac348",
   "metadata": {},
   "outputs": [
    {
     "data": {
      "text/plain": [
       "0.6493212669683258"
      ]
     },
     "execution_count": 31,
     "metadata": {},
     "output_type": "execute_result"
    }
   ],
   "source": [
    "model.score(x, y)"
   ]
  },
  {
   "cell_type": "code",
   "execution_count": 32,
   "id": "e7167a5b-c796-4cc8-84cc-8ac42b7de473",
   "metadata": {},
   "outputs": [
    {
     "data": {
      "text/plain": [
       "0.9310344827586207"
      ]
     },
     "execution_count": 32,
     "metadata": {},
     "output_type": "execute_result"
    }
   ],
   "source": [
    "27/29"
   ]
  },
  {
   "cell_type": "code",
   "execution_count": 33,
   "id": "adaac61d-b338-47c7-b6b8-e1a083a01194",
   "metadata": {},
   "outputs": [
    {
     "data": {
      "text/plain": [
       "array([[230,  12],\n",
       "       [143,  57]])"
      ]
     },
     "execution_count": 33,
     "metadata": {},
     "output_type": "execute_result"
    }
   ],
   "source": [
    "from sklearn.metrics import confusion_matrix\n",
    "confusion_matrix(y, model.predict(x))"
   ]
  },
  {
   "cell_type": "code",
   "execution_count": 34,
   "id": "27f636a0-1b6b-42be-a7b4-64b64b7de8a5",
   "metadata": {},
   "outputs": [
    {
     "data": {
      "image/png": "[encoded data removed]",
      "text/plain": [
       "<Figure size 360x360 with 1 Axes>"
      ]
     },
     "metadata": {
      "needs_background": "light"
     },
     "output_type": "display_data"
    }
   ],
   "source": [
    "confmat = confusion_matrix(y, model.predict(x))\n",
    "\n",
    "fig, ax = plt.subplots(figsize=(5, 5))\n",
    "ax.imshow(confmat)\n",
    "\n",
    "# the below just sets the axis labels, tick marks, and text inside the boxes\n",
    "ax.xaxis.set(ticks=(0, 1), ticklabels=('Predicted 0s', 'Predicted 1s'))\n",
    "ax.yaxis.set(ticks=(0, 1), ticklabels=('Actual 0s', 'Actual 1s'))\n",
    "for i in range(2):\n",
    "    for j in range(2):\n",
    "        ax.text(j, i, confmat[i,j], ha='center', va='center', color='red')\n",
    "\n",
    "plt.show()"
   ]
  },
  {
   "cell_type": "code",
   "execution_count": 35,
   "id": "1345efd0-1c5d-4e56-8307-fd50c79ae7ef",
   "metadata": {},
   "outputs": [
    {
     "name": "stdout",
     "output_type": "stream",
     "text": [
      "              precision    recall  f1-score   support\n",
      "\n",
      "           0       0.62      0.95      0.75       242\n",
      "           1       0.83      0.28      0.42       200\n",
      "\n",
      "    accuracy                           0.65       442\n",
      "   macro avg       0.72      0.62      0.59       442\n",
      "weighted avg       0.71      0.65      0.60       442\n",
      "\n"
     ]
    }
   ],
   "source": [
    "from sklearn.metrics import classification_report\n",
    "\n",
    "print(classification_report(y, model.predict(x)))"
   ]
  },
  {
   "cell_type": "code",
   "execution_count": null,
   "id": "a5d53b50-f8d9-4119-828e-cd9b47f6311b",
   "metadata": {},
   "outputs": [],
   "source": []
  }
 ],
 "metadata": {
  "kernelspec": {
   "display_name": "Python 3 (ipykernel)",
   "language": "python",
   "name": "python3"
  },
  "language_info": {
   "codemirror_mode": {
    "name": "ipython",
    "version": 3
   },
   "file_extension": ".py",
   "mimetype": "text/x-python",
   "name": "python",
   "nbconvert_exporter": "python",
   "pygments_lexer": "ipython3",
   "version": "3.9.6"
  }
 },
 "nbformat": 4,
 "nbformat_minor": 5
}
