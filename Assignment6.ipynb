{
 "cells": [
  {
   "cell_type": "markdown",
   "id": "1d7756af-61f1-4f81-a7b5-77f6b0b41ddb",
   "metadata": {},
   "source": [
    "# Assignment 6"
   ]
  },
  {
   "cell_type": "code",
   "execution_count": 1,
   "id": "9f602a49-c702-462f-9741-ff59740cc213",
   "metadata": {},
   "outputs": [
    {
     "name": "stderr",
     "output_type": "stream",
     "text": [
      "[nltk_data] Downloading package vader_lexicon to\n",
      "[nltk_data]     /home/jovyan/nltk_data...\n",
      "[nltk_data]   Package vader_lexicon is already up-to-date!\n"
     ]
    }
   ],
   "source": [
    "import numpy as np\n",
    "import pandas as pd\n",
    "import statistics\n",
    "import matplotlib.pyplot as plt\n",
    "import nltk\n",
    "nltk.download('vader_lexicon')\n",
    "from nltk.sentiment.vader import SentimentIntensityAnalyzer\n",
    "import nltk\n",
    "from nltk.tokenize import sent_tokenize, word_tokenize\n",
    "from nltk.corpus import stopwords\n",
    "from string import punctuation\n",
    "\n",
    "sia = SentimentIntensityAnalyzer()"
   ]
  },
  {
   "cell_type": "markdown",
   "id": "debf5a77-8f86-44c8-ab22-29b6f96a0c94",
   "metadata": {},
   "source": [
    "#### Import Data"
   ]
  },
  {
   "cell_type": "code",
   "execution_count": 2,
   "id": "2c70a075-5eb2-45ba-b747-3ed679edc4d3",
   "metadata": {},
   "outputs": [],
   "source": [
    "trump_tweets = pd.read_csv('realDonaldTrump.csv',encoding='mac_roman')\n",
    "obama_tweets = pd.read_csv('BarackObama.csv',encoding='mac_roman')"
   ]
  },
  {
   "cell_type": "markdown",
   "id": "f65153f9-4972-46ac-9272-ec2b35ee2015",
   "metadata": {},
   "source": [
    "#### View Data"
   ]
  },
  {
   "cell_type": "code",
   "execution_count": 3,
   "id": "f02fd451-04e4-4122-bacc-83d81a7d1e1b",
   "metadata": {},
   "outputs": [
    {
     "data": {
      "text/html": [
       "<div>\n",
       "<style scoped>\n",
       "    .dataframe tbody tr th:only-of-type {\n",
       "        vertical-align: middle;\n",
       "    }\n",
       "\n",
       "    .dataframe tbody tr th {\n",
       "        vertical-align: top;\n",
       "    }\n",
       "\n",
       "    .dataframe thead th {\n",
       "        text-align: right;\n",
       "    }\n",
       "</style>\n",
       "<table border=\"1\" class=\"dataframe\">\n",
       "  <thead>\n",
       "    <tr style=\"text-align: right;\">\n",
       "      <th></th>\n",
       "      <th>created_at</th>\n",
       "      <th>text</th>\n",
       "      <th>url</th>\n",
       "      <th>replies</th>\n",
       "      <th>retweets</th>\n",
       "      <th>favorites</th>\n",
       "      <th>user</th>\n",
       "    </tr>\n",
       "  </thead>\n",
       "  <tbody>\n",
       "    <tr>\n",
       "      <th>0</th>\n",
       "      <td>10/23/17 12:30</td>\n",
       "      <td>I had a very respectful conversation with the ...</td>\n",
       "      <td>https://twitter.com/realDonaldTrump/status/922...</td>\n",
       "      <td>46228</td>\n",
       "      <td>10243</td>\n",
       "      <td>49468</td>\n",
       "      <td>realDonaldTrump</td>\n",
       "    </tr>\n",
       "    <tr>\n",
       "      <th>1</th>\n",
       "      <td>10/23/17 11:53</td>\n",
       "      <td>Two dozen NFL players continue to kneel during...</td>\n",
       "      <td>https://twitter.com/realDonaldTrump/status/922...</td>\n",
       "      <td>31419</td>\n",
       "      <td>14006</td>\n",
       "      <td>62406</td>\n",
       "      <td>realDonaldTrump</td>\n",
       "    </tr>\n",
       "    <tr>\n",
       "      <th>2</th>\n",
       "      <td>10/23/17 11:42</td>\n",
       "      <td>There will be NO change to your 401(k). This h...</td>\n",
       "      <td>https://twitter.com/realDonaldTrump/status/922...</td>\n",
       "      <td>9552</td>\n",
       "      <td>13719</td>\n",
       "      <td>62662</td>\n",
       "      <td>realDonaldTrump</td>\n",
       "    </tr>\n",
       "    <tr>\n",
       "      <th>3</th>\n",
       "      <td>10/22/17 12:08</td>\n",
       "      <td>It is finally sinking through. 46% OF PEOPLE B...</td>\n",
       "      <td>https://twitter.com/realDonaldTrump/status/922...</td>\n",
       "      <td>56238</td>\n",
       "      <td>25102</td>\n",
       "      <td>112890</td>\n",
       "      <td>realDonaldTrump</td>\n",
       "    </tr>\n",
       "    <tr>\n",
       "      <th>4</th>\n",
       "      <td>10/22/17 12:02</td>\n",
       "      <td>Wacky Congresswoman Wilson is the gift that ke...</td>\n",
       "      <td>https://twitter.com/realDonaldTrump/status/922...</td>\n",
       "      <td>32136</td>\n",
       "      <td>21573</td>\n",
       "      <td>97145</td>\n",
       "      <td>realDonaldTrump</td>\n",
       "    </tr>\n",
       "    <tr>\n",
       "      <th>...</th>\n",
       "      <td>...</td>\n",
       "      <td>...</td>\n",
       "      <td>...</td>\n",
       "      <td>...</td>\n",
       "      <td>...</td>\n",
       "      <td>...</td>\n",
       "      <td>...</td>\n",
       "    </tr>\n",
       "    <tr>\n",
       "      <th>3227</th>\n",
       "      <td>8/24/16 22:39</td>\n",
       "      <td>Thank you for your support!\\r#AmericaFirst #Im...</td>\n",
       "      <td>https://twitter.com/realDonaldTrump/status/768...</td>\n",
       "      <td>1693</td>\n",
       "      <td>6441</td>\n",
       "      <td>18401</td>\n",
       "      <td>realDonaldTrump</td>\n",
       "    </tr>\n",
       "    <tr>\n",
       "      <th>3228</th>\n",
       "      <td>8/24/16 21:32</td>\n",
       "      <td>A great afternoon in Tampa, Florida. Thank you...</td>\n",
       "      <td>https://twitter.com/realDonaldTrump/status/768...</td>\n",
       "      <td>1148</td>\n",
       "      <td>4837</td>\n",
       "      <td>16968</td>\n",
       "      <td>realDonaldTrump</td>\n",
       "    </tr>\n",
       "    <tr>\n",
       "      <th>3229</th>\n",
       "      <td>8/24/16 17:24</td>\n",
       "      <td>New national poll released. Join the MOVEMENT ...</td>\n",
       "      <td>https://twitter.com/realDonaldTrump/status/768...</td>\n",
       "      <td>2737</td>\n",
       "      <td>5991</td>\n",
       "      <td>16619</td>\n",
       "      <td>realDonaldTrump</td>\n",
       "    </tr>\n",
       "    <tr>\n",
       "      <th>3230</th>\n",
       "      <td>8/24/16 16:42</td>\n",
       "      <td>Great new poll Florida - thank you! #MakeAmeri...</td>\n",
       "      <td>https://twitter.com/realDonaldTrump/status/768...</td>\n",
       "      <td>1888</td>\n",
       "      <td>7288</td>\n",
       "      <td>20072</td>\n",
       "      <td>realDonaldTrump</td>\n",
       "    </tr>\n",
       "    <tr>\n",
       "      <th>3231</th>\n",
       "      <td>8/24/16 15:19</td>\n",
       "      <td>I will not let the families of The Remembrance...</td>\n",
       "      <td>https://twitter.com/realDonaldTrump/status/768...</td>\n",
       "      <td>1178</td>\n",
       "      <td>6809</td>\n",
       "      <td>15973</td>\n",
       "      <td>realDonaldTrump</td>\n",
       "    </tr>\n",
       "  </tbody>\n",
       "</table>\n",
       "<p>3232 rows × 7 columns</p>\n",
       "</div>"
      ],
      "text/plain": [
       "          created_at                                               text  \\\n",
       "0     10/23/17 12:30  I had a very respectful conversation with the ...   \n",
       "1     10/23/17 11:53  Two dozen NFL players continue to kneel during...   \n",
       "2     10/23/17 11:42  There will be NO change to your 401(k). This h...   \n",
       "3     10/22/17 12:08  It is finally sinking through. 46% OF PEOPLE B...   \n",
       "4     10/22/17 12:02  Wacky Congresswoman Wilson is the gift that ke...   \n",
       "...              ...                                                ...   \n",
       "3227   8/24/16 22:39  Thank you for your support!\\r#AmericaFirst #Im...   \n",
       "3228   8/24/16 21:32  A great afternoon in Tampa, Florida. Thank you...   \n",
       "3229   8/24/16 17:24  New national poll released. Join the MOVEMENT ...   \n",
       "3230   8/24/16 16:42  Great new poll Florida - thank you! #MakeAmeri...   \n",
       "3231   8/24/16 15:19  I will not let the families of The Remembrance...   \n",
       "\n",
       "                                                    url  replies  retweets  \\\n",
       "0     https://twitter.com/realDonaldTrump/status/922...    46228     10243   \n",
       "1     https://twitter.com/realDonaldTrump/status/922...    31419     14006   \n",
       "2     https://twitter.com/realDonaldTrump/status/922...     9552     13719   \n",
       "3     https://twitter.com/realDonaldTrump/status/922...    56238     25102   \n",
       "4     https://twitter.com/realDonaldTrump/status/922...    32136     21573   \n",
       "...                                                 ...      ...       ...   \n",
       "3227  https://twitter.com/realDonaldTrump/status/768...     1693      6441   \n",
       "3228  https://twitter.com/realDonaldTrump/status/768...     1148      4837   \n",
       "3229  https://twitter.com/realDonaldTrump/status/768...     2737      5991   \n",
       "3230  https://twitter.com/realDonaldTrump/status/768...     1888      7288   \n",
       "3231  https://twitter.com/realDonaldTrump/status/768...     1178      6809   \n",
       "\n",
       "      favorites             user  \n",
       "0         49468  realDonaldTrump  \n",
       "1         62406  realDonaldTrump  \n",
       "2         62662  realDonaldTrump  \n",
       "3        112890  realDonaldTrump  \n",
       "4         97145  realDonaldTrump  \n",
       "...         ...              ...  \n",
       "3227      18401  realDonaldTrump  \n",
       "3228      16968  realDonaldTrump  \n",
       "3229      16619  realDonaldTrump  \n",
       "3230      20072  realDonaldTrump  \n",
       "3231      15973  realDonaldTrump  \n",
       "\n",
       "[3232 rows x 7 columns]"
      ]
     },
     "execution_count": 3,
     "metadata": {},
     "output_type": "execute_result"
    }
   ],
   "source": [
    "trump_tweets"
   ]
  },
  {
   "cell_type": "code",
   "execution_count": 4,
   "id": "5ed4e4bb-da4d-44b0-949b-25e3fde3b8ca",
   "metadata": {},
   "outputs": [
    {
     "data": {
      "text/html": [
       "<div>\n",
       "<style scoped>\n",
       "    .dataframe tbody tr th:only-of-type {\n",
       "        vertical-align: middle;\n",
       "    }\n",
       "\n",
       "    .dataframe tbody tr th {\n",
       "        vertical-align: top;\n",
       "    }\n",
       "\n",
       "    .dataframe thead th {\n",
       "        text-align: right;\n",
       "    }\n",
       "</style>\n",
       "<table border=\"1\" class=\"dataframe\">\n",
       "  <thead>\n",
       "    <tr style=\"text-align: right;\">\n",
       "      <th></th>\n",
       "      <th>created_at</th>\n",
       "      <th>text</th>\n",
       "      <th>url</th>\n",
       "      <th>replies</th>\n",
       "      <th>retweets</th>\n",
       "      <th>favorites</th>\n",
       "      <th>user</th>\n",
       "    </tr>\n",
       "  </thead>\n",
       "  <tbody>\n",
       "    <tr>\n",
       "      <th>0</th>\n",
       "      <td>10/16/17 22:59</td>\n",
       "      <td>I'm grateful to @SenJohnMcCain for his lifetim...</td>\n",
       "      <td>https://twitter.com/BarackObama/status/9200615...</td>\n",
       "      <td>17064</td>\n",
       "      <td>89916</td>\n",
       "      <td>641842</td>\n",
       "      <td>BarackObama</td>\n",
       "    </tr>\n",
       "    <tr>\n",
       "      <th>1</th>\n",
       "      <td>10/2/17 12:41</td>\n",
       "      <td>Michelle &amp;amp; I are praying for the victims i...</td>\n",
       "      <td>https://twitter.com/BarackObama/status/9148326...</td>\n",
       "      <td>21588</td>\n",
       "      <td>405895</td>\n",
       "      <td>1715753</td>\n",
       "      <td>BarackObama</td>\n",
       "    </tr>\n",
       "    <tr>\n",
       "      <th>2</th>\n",
       "      <td>9/30/17 2:22</td>\n",
       "      <td>Proud to cheer on Team USA at the Invictus Gam...</td>\n",
       "      <td>https://twitter.com/BarackObama/status/9139520...</td>\n",
       "      <td>8476</td>\n",
       "      <td>60651</td>\n",
       "      <td>503255</td>\n",
       "      <td>BarackObama</td>\n",
       "    </tr>\n",
       "    <tr>\n",
       "      <th>3</th>\n",
       "      <td>9/26/17 17:03</td>\n",
       "      <td>We're expanding our efforts to help Puerto Ric...</td>\n",
       "      <td>https://twitter.com/BarackObama/status/9127244...</td>\n",
       "      <td>10657</td>\n",
       "      <td>113807</td>\n",
       "      <td>334901</td>\n",
       "      <td>BarackObama</td>\n",
       "    </tr>\n",
       "    <tr>\n",
       "      <th>4</th>\n",
       "      <td>9/25/17 23:36</td>\n",
       "      <td>Prosecutor, soldier, family man, citizen. Beau...</td>\n",
       "      <td>https://twitter.com/BarackObama/status/9124608...</td>\n",
       "      <td>3886</td>\n",
       "      <td>58449</td>\n",
       "      <td>328106</td>\n",
       "      <td>BarackObama</td>\n",
       "    </tr>\n",
       "    <tr>\n",
       "      <th>...</th>\n",
       "      <td>...</td>\n",
       "      <td>...</td>\n",
       "      <td>...</td>\n",
       "      <td>...</td>\n",
       "      <td>...</td>\n",
       "      <td>...</td>\n",
       "      <td>...</td>\n",
       "    </tr>\n",
       "    <tr>\n",
       "      <th>3202</th>\n",
       "      <td>8/15/14 20:16</td>\n",
       "      <td>Earning the minimum wage while raising a famil...</td>\n",
       "      <td>https://twitter.com/BarackObama/status/5003754...</td>\n",
       "      <td>536</td>\n",
       "      <td>1520</td>\n",
       "      <td>2155</td>\n",
       "      <td>BarackObama</td>\n",
       "    </tr>\n",
       "    <tr>\n",
       "      <th>3203</th>\n",
       "      <td>8/15/14 18:02</td>\n",
       "      <td>FACT: 97% of scientists and NASA accept the sc...</td>\n",
       "      <td>https://twitter.com/BarackObama/status/5003418...</td>\n",
       "      <td>531</td>\n",
       "      <td>2103</td>\n",
       "      <td>2377</td>\n",
       "      <td>BarackObama</td>\n",
       "    </tr>\n",
       "    <tr>\n",
       "      <th>3204</th>\n",
       "      <td>8/15/14 16:21</td>\n",
       "      <td>Getting covered made Jason so happy he wanted ...</td>\n",
       "      <td>https://twitter.com/BarackObama/status/5003164...</td>\n",
       "      <td>206</td>\n",
       "      <td>261</td>\n",
       "      <td>721</td>\n",
       "      <td>BarackObama</td>\n",
       "    </tr>\n",
       "    <tr>\n",
       "      <th>3205</th>\n",
       "      <td>8/15/14 15:15</td>\n",
       "      <td>It's time to get serious and #ActOnClimate. ht...</td>\n",
       "      <td>https://twitter.com/BarackObama/status/5002997...</td>\n",
       "      <td>509</td>\n",
       "      <td>2009</td>\n",
       "      <td>2273</td>\n",
       "      <td>BarackObama</td>\n",
       "    </tr>\n",
       "    <tr>\n",
       "      <th>3206</th>\n",
       "      <td>8/14/14 16:50</td>\n",
       "      <td>Happening now: President Obama is delivering a...</td>\n",
       "      <td>https://twitter.com/BarackObama/status/4999611...</td>\n",
       "      <td>583</td>\n",
       "      <td>1243</td>\n",
       "      <td>961</td>\n",
       "      <td>BarackObama</td>\n",
       "    </tr>\n",
       "  </tbody>\n",
       "</table>\n",
       "<p>3207 rows × 7 columns</p>\n",
       "</div>"
      ],
      "text/plain": [
       "          created_at                                               text  \\\n",
       "0     10/16/17 22:59  I'm grateful to @SenJohnMcCain for his lifetim...   \n",
       "1      10/2/17 12:41  Michelle &amp; I are praying for the victims i...   \n",
       "2       9/30/17 2:22  Proud to cheer on Team USA at the Invictus Gam...   \n",
       "3      9/26/17 17:03  We're expanding our efforts to help Puerto Ric...   \n",
       "4      9/25/17 23:36  Prosecutor, soldier, family man, citizen. Beau...   \n",
       "...              ...                                                ...   \n",
       "3202   8/15/14 20:16  Earning the minimum wage while raising a famil...   \n",
       "3203   8/15/14 18:02  FACT: 97% of scientists and NASA accept the sc...   \n",
       "3204   8/15/14 16:21  Getting covered made Jason so happy he wanted ...   \n",
       "3205   8/15/14 15:15  It's time to get serious and #ActOnClimate. ht...   \n",
       "3206   8/14/14 16:50  Happening now: President Obama is delivering a...   \n",
       "\n",
       "                                                    url  replies  retweets  \\\n",
       "0     https://twitter.com/BarackObama/status/9200615...    17064     89916   \n",
       "1     https://twitter.com/BarackObama/status/9148326...    21588    405895   \n",
       "2     https://twitter.com/BarackObama/status/9139520...     8476     60651   \n",
       "3     https://twitter.com/BarackObama/status/9127244...    10657    113807   \n",
       "4     https://twitter.com/BarackObama/status/9124608...     3886     58449   \n",
       "...                                                 ...      ...       ...   \n",
       "3202  https://twitter.com/BarackObama/status/5003754...      536      1520   \n",
       "3203  https://twitter.com/BarackObama/status/5003418...      531      2103   \n",
       "3204  https://twitter.com/BarackObama/status/5003164...      206       261   \n",
       "3205  https://twitter.com/BarackObama/status/5002997...      509      2009   \n",
       "3206  https://twitter.com/BarackObama/status/4999611...      583      1243   \n",
       "\n",
       "      favorites         user  \n",
       "0        641842  BarackObama  \n",
       "1       1715753  BarackObama  \n",
       "2        503255  BarackObama  \n",
       "3        334901  BarackObama  \n",
       "4        328106  BarackObama  \n",
       "...         ...          ...  \n",
       "3202       2155  BarackObama  \n",
       "3203       2377  BarackObama  \n",
       "3204        721  BarackObama  \n",
       "3205       2273  BarackObama  \n",
       "3206        961  BarackObama  \n",
       "\n",
       "[3207 rows x 7 columns]"
      ]
     },
     "execution_count": 4,
     "metadata": {},
     "output_type": "execute_result"
    }
   ],
   "source": [
    "obama_tweets"
   ]
  },
  {
   "cell_type": "markdown",
   "id": "355b3eb9-0efc-4d0e-95fa-e29276192f39",
   "metadata": {},
   "source": [
    "#### VADER's SentimentIntensityAnalyzer to get the sentiment scores"
   ]
  },
  {
   "cell_type": "code",
   "execution_count": 5,
   "id": "457ed979-db2b-4e7a-9194-893d84d89137",
   "metadata": {},
   "outputs": [],
   "source": [
    "trump_text = trump_tweets['text']\n",
    "obama_text = obama_tweets['text']"
   ]
  },
  {
   "cell_type": "code",
   "execution_count": 6,
   "id": "b7adaa37-22d3-4f0c-b453-c91ed37e4815",
   "metadata": {},
   "outputs": [
    {
     "name": "stdout",
     "output_type": "stream",
     "text": [
      "Two dozen NFL players continue to kneel during the National Anthem, showing total disrespect to our Flag &amp; Country.  No leadership in NFL!\n"
     ]
    }
   ],
   "source": [
    "# Trump\n",
    "a = trump_text[1]\n",
    "print(a)"
   ]
  },
  {
   "cell_type": "code",
   "execution_count": 7,
   "id": "6137af15-0bf2-404a-b600-a458eed3a3b6",
   "metadata": {},
   "outputs": [
    {
     "data": {
      "text/plain": [
       "{'neg': 0.201, 'neu': 0.799, 'pos': 0.0, 'compound': -0.6476}"
      ]
     },
     "execution_count": 7,
     "metadata": {},
     "output_type": "execute_result"
    }
   ],
   "source": [
    "sia.polarity_scores(a)"
   ]
  },
  {
   "cell_type": "code",
   "execution_count": 8,
   "id": "dada1193-fe7b-4605-ac71-e20b232659e9",
   "metadata": {},
   "outputs": [
    {
     "name": "stdout",
     "output_type": "stream",
     "text": [
      "Michelle &amp; I are praying for the victims in Las Vegas. Our thoughts are with their families &amp; everyone enduring another senseless tragedy.\n"
     ]
    }
   ],
   "source": [
    "# Obama\n",
    "b = obama_text[1]\n",
    "print(b)"
   ]
  },
  {
   "cell_type": "code",
   "execution_count": 9,
   "id": "befa67fd-d87f-40ef-936c-6869af5db3cc",
   "metadata": {},
   "outputs": [
    {
     "data": {
      "text/plain": [
       "{'neg': 0.238, 'neu': 0.674, 'pos': 0.089, 'compound': -0.6369}"
      ]
     },
     "execution_count": 9,
     "metadata": {},
     "output_type": "execute_result"
    }
   ],
   "source": [
    "sia.polarity_scores(b)"
   ]
  },
  {
   "cell_type": "code",
   "execution_count": 10,
   "id": "de3b246a-4bd6-4ab1-9e6e-7516a4f9ad3b",
   "metadata": {},
   "outputs": [],
   "source": [
    "# NEG, NEU, POS\n",
    "analyzer = SentimentIntensityAnalyzer()"
   ]
  },
  {
   "cell_type": "code",
   "execution_count": 11,
   "id": "ae53febd-0d3c-467b-81f6-134236f3b36b",
   "metadata": {},
   "outputs": [
    {
     "data": {
      "text/html": [
       "<div>\n",
       "<style scoped>\n",
       "    .dataframe tbody tr th:only-of-type {\n",
       "        vertical-align: middle;\n",
       "    }\n",
       "\n",
       "    .dataframe tbody tr th {\n",
       "        vertical-align: top;\n",
       "    }\n",
       "\n",
       "    .dataframe thead th {\n",
       "        text-align: right;\n",
       "    }\n",
       "</style>\n",
       "<table border=\"1\" class=\"dataframe\">\n",
       "  <thead>\n",
       "    <tr style=\"text-align: right;\">\n",
       "      <th></th>\n",
       "      <th>created_at</th>\n",
       "      <th>text</th>\n",
       "      <th>url</th>\n",
       "      <th>replies</th>\n",
       "      <th>retweets</th>\n",
       "      <th>favorites</th>\n",
       "      <th>user</th>\n",
       "      <th>neg</th>\n",
       "      <th>neu</th>\n",
       "      <th>pos</th>\n",
       "      <th>compound</th>\n",
       "      <th>comp_score</th>\n",
       "    </tr>\n",
       "  </thead>\n",
       "  <tbody>\n",
       "    <tr>\n",
       "      <th>0</th>\n",
       "      <td>10/23/17 12:30</td>\n",
       "      <td>I had a very respectful conversation with the ...</td>\n",
       "      <td>https://twitter.com/realDonaldTrump/status/922...</td>\n",
       "      <td>46228</td>\n",
       "      <td>10243</td>\n",
       "      <td>49468</td>\n",
       "      <td>realDonaldTrump</td>\n",
       "      <td>0.000</td>\n",
       "      <td>0.769</td>\n",
       "      <td>0.231</td>\n",
       "      <td>0.6596</td>\n",
       "      <td>pos</td>\n",
       "    </tr>\n",
       "    <tr>\n",
       "      <th>1</th>\n",
       "      <td>10/23/17 11:53</td>\n",
       "      <td>Two dozen NFL players continue to kneel during...</td>\n",
       "      <td>https://twitter.com/realDonaldTrump/status/922...</td>\n",
       "      <td>31419</td>\n",
       "      <td>14006</td>\n",
       "      <td>62406</td>\n",
       "      <td>realDonaldTrump</td>\n",
       "      <td>0.201</td>\n",
       "      <td>0.799</td>\n",
       "      <td>0.000</td>\n",
       "      <td>-0.6476</td>\n",
       "      <td>neg</td>\n",
       "    </tr>\n",
       "    <tr>\n",
       "      <th>2</th>\n",
       "      <td>10/23/17 11:42</td>\n",
       "      <td>There will be NO change to your 401(k). This h...</td>\n",
       "      <td>https://twitter.com/realDonaldTrump/status/922...</td>\n",
       "      <td>9552</td>\n",
       "      <td>13719</td>\n",
       "      <td>62662</td>\n",
       "      <td>realDonaldTrump</td>\n",
       "      <td>0.094</td>\n",
       "      <td>0.675</td>\n",
       "      <td>0.231</td>\n",
       "      <td>0.6439</td>\n",
       "      <td>pos</td>\n",
       "    </tr>\n",
       "    <tr>\n",
       "      <th>3</th>\n",
       "      <td>10/22/17 12:08</td>\n",
       "      <td>It is finally sinking through. 46% OF PEOPLE B...</td>\n",
       "      <td>https://twitter.com/realDonaldTrump/status/922...</td>\n",
       "      <td>56238</td>\n",
       "      <td>25102</td>\n",
       "      <td>112890</td>\n",
       "      <td>realDonaldTrump</td>\n",
       "      <td>0.323</td>\n",
       "      <td>0.677</td>\n",
       "      <td>0.000</td>\n",
       "      <td>-0.8599</td>\n",
       "      <td>neg</td>\n",
       "    </tr>\n",
       "    <tr>\n",
       "      <th>4</th>\n",
       "      <td>10/22/17 12:02</td>\n",
       "      <td>Wacky Congresswoman Wilson is the gift that ke...</td>\n",
       "      <td>https://twitter.com/realDonaldTrump/status/922...</td>\n",
       "      <td>32136</td>\n",
       "      <td>21573</td>\n",
       "      <td>97145</td>\n",
       "      <td>realDonaldTrump</td>\n",
       "      <td>0.123</td>\n",
       "      <td>0.629</td>\n",
       "      <td>0.248</td>\n",
       "      <td>0.4926</td>\n",
       "      <td>pos</td>\n",
       "    </tr>\n",
       "    <tr>\n",
       "      <th>...</th>\n",
       "      <td>...</td>\n",
       "      <td>...</td>\n",
       "      <td>...</td>\n",
       "      <td>...</td>\n",
       "      <td>...</td>\n",
       "      <td>...</td>\n",
       "      <td>...</td>\n",
       "      <td>...</td>\n",
       "      <td>...</td>\n",
       "      <td>...</td>\n",
       "      <td>...</td>\n",
       "      <td>...</td>\n",
       "    </tr>\n",
       "    <tr>\n",
       "      <th>3227</th>\n",
       "      <td>8/24/16 22:39</td>\n",
       "      <td>Thank you for your support!\\r#AmericaFirst #Im...</td>\n",
       "      <td>https://twitter.com/realDonaldTrump/status/768...</td>\n",
       "      <td>1693</td>\n",
       "      <td>6441</td>\n",
       "      <td>18401</td>\n",
       "      <td>realDonaldTrump</td>\n",
       "      <td>0.000</td>\n",
       "      <td>0.522</td>\n",
       "      <td>0.478</td>\n",
       "      <td>0.6696</td>\n",
       "      <td>pos</td>\n",
       "    </tr>\n",
       "    <tr>\n",
       "      <th>3228</th>\n",
       "      <td>8/24/16 21:32</td>\n",
       "      <td>A great afternoon in Tampa, Florida. Thank you...</td>\n",
       "      <td>https://twitter.com/realDonaldTrump/status/768...</td>\n",
       "      <td>1148</td>\n",
       "      <td>4837</td>\n",
       "      <td>16968</td>\n",
       "      <td>realDonaldTrump</td>\n",
       "      <td>0.000</td>\n",
       "      <td>0.504</td>\n",
       "      <td>0.496</td>\n",
       "      <td>0.7840</td>\n",
       "      <td>pos</td>\n",
       "    </tr>\n",
       "    <tr>\n",
       "      <th>3229</th>\n",
       "      <td>8/24/16 17:24</td>\n",
       "      <td>New national poll released. Join the MOVEMENT ...</td>\n",
       "      <td>https://twitter.com/realDonaldTrump/status/768...</td>\n",
       "      <td>2737</td>\n",
       "      <td>5991</td>\n",
       "      <td>16619</td>\n",
       "      <td>realDonaldTrump</td>\n",
       "      <td>0.000</td>\n",
       "      <td>0.839</td>\n",
       "      <td>0.161</td>\n",
       "      <td>0.3595</td>\n",
       "      <td>pos</td>\n",
       "    </tr>\n",
       "    <tr>\n",
       "      <th>3230</th>\n",
       "      <td>8/24/16 16:42</td>\n",
       "      <td>Great new poll Florida - thank you! #MakeAmeri...</td>\n",
       "      <td>https://twitter.com/realDonaldTrump/status/768...</td>\n",
       "      <td>1888</td>\n",
       "      <td>7288</td>\n",
       "      <td>20072</td>\n",
       "      <td>realDonaldTrump</td>\n",
       "      <td>0.000</td>\n",
       "      <td>0.465</td>\n",
       "      <td>0.535</td>\n",
       "      <td>0.7840</td>\n",
       "      <td>pos</td>\n",
       "    </tr>\n",
       "    <tr>\n",
       "      <th>3231</th>\n",
       "      <td>8/24/16 15:19</td>\n",
       "      <td>I will not let the families of The Remembrance...</td>\n",
       "      <td>https://twitter.com/realDonaldTrump/status/768...</td>\n",
       "      <td>1178</td>\n",
       "      <td>6809</td>\n",
       "      <td>15973</td>\n",
       "      <td>realDonaldTrump</td>\n",
       "      <td>0.000</td>\n",
       "      <td>1.000</td>\n",
       "      <td>0.000</td>\n",
       "      <td>0.0000</td>\n",
       "      <td>pos</td>\n",
       "    </tr>\n",
       "  </tbody>\n",
       "</table>\n",
       "<p>3232 rows × 12 columns</p>\n",
       "</div>"
      ],
      "text/plain": [
       "          created_at                                               text  \\\n",
       "0     10/23/17 12:30  I had a very respectful conversation with the ...   \n",
       "1     10/23/17 11:53  Two dozen NFL players continue to kneel during...   \n",
       "2     10/23/17 11:42  There will be NO change to your 401(k). This h...   \n",
       "3     10/22/17 12:08  It is finally sinking through. 46% OF PEOPLE B...   \n",
       "4     10/22/17 12:02  Wacky Congresswoman Wilson is the gift that ke...   \n",
       "...              ...                                                ...   \n",
       "3227   8/24/16 22:39  Thank you for your support!\\r#AmericaFirst #Im...   \n",
       "3228   8/24/16 21:32  A great afternoon in Tampa, Florida. Thank you...   \n",
       "3229   8/24/16 17:24  New national poll released. Join the MOVEMENT ...   \n",
       "3230   8/24/16 16:42  Great new poll Florida - thank you! #MakeAmeri...   \n",
       "3231   8/24/16 15:19  I will not let the families of The Remembrance...   \n",
       "\n",
       "                                                    url  replies  retweets  \\\n",
       "0     https://twitter.com/realDonaldTrump/status/922...    46228     10243   \n",
       "1     https://twitter.com/realDonaldTrump/status/922...    31419     14006   \n",
       "2     https://twitter.com/realDonaldTrump/status/922...     9552     13719   \n",
       "3     https://twitter.com/realDonaldTrump/status/922...    56238     25102   \n",
       "4     https://twitter.com/realDonaldTrump/status/922...    32136     21573   \n",
       "...                                                 ...      ...       ...   \n",
       "3227  https://twitter.com/realDonaldTrump/status/768...     1693      6441   \n",
       "3228  https://twitter.com/realDonaldTrump/status/768...     1148      4837   \n",
       "3229  https://twitter.com/realDonaldTrump/status/768...     2737      5991   \n",
       "3230  https://twitter.com/realDonaldTrump/status/768...     1888      7288   \n",
       "3231  https://twitter.com/realDonaldTrump/status/768...     1178      6809   \n",
       "\n",
       "      favorites             user    neg    neu    pos  compound comp_score  \n",
       "0         49468  realDonaldTrump  0.000  0.769  0.231    0.6596        pos  \n",
       "1         62406  realDonaldTrump  0.201  0.799  0.000   -0.6476        neg  \n",
       "2         62662  realDonaldTrump  0.094  0.675  0.231    0.6439        pos  \n",
       "3        112890  realDonaldTrump  0.323  0.677  0.000   -0.8599        neg  \n",
       "4         97145  realDonaldTrump  0.123  0.629  0.248    0.4926        pos  \n",
       "...         ...              ...    ...    ...    ...       ...        ...  \n",
       "3227      18401  realDonaldTrump  0.000  0.522  0.478    0.6696        pos  \n",
       "3228      16968  realDonaldTrump  0.000  0.504  0.496    0.7840        pos  \n",
       "3229      16619  realDonaldTrump  0.000  0.839  0.161    0.3595        pos  \n",
       "3230      20072  realDonaldTrump  0.000  0.465  0.535    0.7840        pos  \n",
       "3231      15973  realDonaldTrump  0.000  1.000  0.000    0.0000        pos  \n",
       "\n",
       "[3232 rows x 12 columns]"
      ]
     },
     "execution_count": 11,
     "metadata": {},
     "output_type": "execute_result"
    }
   ],
   "source": [
    "# Trump\n",
    "trump_tweets['neg'] = trump_tweets['text'].apply(lambda x:analyzer.polarity_scores(x)['neg'])\n",
    "trump_tweets['neu'] = trump_tweets['text'].apply(lambda x:analyzer.polarity_scores(x)['neu'])\n",
    "trump_tweets['pos'] = trump_tweets['text'].apply(lambda x:analyzer.polarity_scores(x)['pos'])\n",
    "trump_tweets['compound'] = trump_tweets['text'].apply(lambda x:analyzer.polarity_scores(x)['compound'])\n",
    "trump_tweets['comp_score'] = trump_tweets['compound'].apply(lambda c: 'pos' if c >=0 else 'neg')\n",
    "trump_tweets"
   ]
  },
  {
   "cell_type": "code",
   "execution_count": 12,
   "id": "93f5c6ba-b3ae-4b86-b9a7-ac7eeca30e7d",
   "metadata": {},
   "outputs": [
    {
     "data": {
      "text/html": [
       "<div>\n",
       "<style scoped>\n",
       "    .dataframe tbody tr th:only-of-type {\n",
       "        vertical-align: middle;\n",
       "    }\n",
       "\n",
       "    .dataframe tbody tr th {\n",
       "        vertical-align: top;\n",
       "    }\n",
       "\n",
       "    .dataframe thead th {\n",
       "        text-align: right;\n",
       "    }\n",
       "</style>\n",
       "<table border=\"1\" class=\"dataframe\">\n",
       "  <thead>\n",
       "    <tr style=\"text-align: right;\">\n",
       "      <th></th>\n",
       "      <th>created_at</th>\n",
       "      <th>text</th>\n",
       "      <th>url</th>\n",
       "      <th>replies</th>\n",
       "      <th>retweets</th>\n",
       "      <th>favorites</th>\n",
       "      <th>user</th>\n",
       "      <th>neg</th>\n",
       "      <th>neu</th>\n",
       "      <th>pos</th>\n",
       "      <th>compound</th>\n",
       "      <th>comp_score</th>\n",
       "    </tr>\n",
       "  </thead>\n",
       "  <tbody>\n",
       "    <tr>\n",
       "      <th>0</th>\n",
       "      <td>10/16/17 22:59</td>\n",
       "      <td>I'm grateful to @SenJohnMcCain for his lifetim...</td>\n",
       "      <td>https://twitter.com/BarackObama/status/9200615...</td>\n",
       "      <td>17064</td>\n",
       "      <td>89916</td>\n",
       "      <td>641842</td>\n",
       "      <td>BarackObama</td>\n",
       "      <td>0.000</td>\n",
       "      <td>0.544</td>\n",
       "      <td>0.456</td>\n",
       "      <td>0.9246</td>\n",
       "      <td>pos</td>\n",
       "    </tr>\n",
       "    <tr>\n",
       "      <th>1</th>\n",
       "      <td>10/2/17 12:41</td>\n",
       "      <td>Michelle &amp;amp; I are praying for the victims i...</td>\n",
       "      <td>https://twitter.com/BarackObama/status/9148326...</td>\n",
       "      <td>21588</td>\n",
       "      <td>405895</td>\n",
       "      <td>1715753</td>\n",
       "      <td>BarackObama</td>\n",
       "      <td>0.238</td>\n",
       "      <td>0.674</td>\n",
       "      <td>0.089</td>\n",
       "      <td>-0.6369</td>\n",
       "      <td>neg</td>\n",
       "    </tr>\n",
       "    <tr>\n",
       "      <th>2</th>\n",
       "      <td>9/30/17 2:22</td>\n",
       "      <td>Proud to cheer on Team USA at the Invictus Gam...</td>\n",
       "      <td>https://twitter.com/BarackObama/status/9139520...</td>\n",
       "      <td>8476</td>\n",
       "      <td>60651</td>\n",
       "      <td>503255</td>\n",
       "      <td>BarackObama</td>\n",
       "      <td>0.000</td>\n",
       "      <td>0.579</td>\n",
       "      <td>0.421</td>\n",
       "      <td>0.9300</td>\n",
       "      <td>pos</td>\n",
       "    </tr>\n",
       "    <tr>\n",
       "      <th>3</th>\n",
       "      <td>9/26/17 17:03</td>\n",
       "      <td>We're expanding our efforts to help Puerto Ric...</td>\n",
       "      <td>https://twitter.com/BarackObama/status/9127244...</td>\n",
       "      <td>10657</td>\n",
       "      <td>113807</td>\n",
       "      <td>334901</td>\n",
       "      <td>BarackObama</td>\n",
       "      <td>0.000</td>\n",
       "      <td>0.811</td>\n",
       "      <td>0.189</td>\n",
       "      <td>0.5994</td>\n",
       "      <td>pos</td>\n",
       "    </tr>\n",
       "    <tr>\n",
       "      <th>4</th>\n",
       "      <td>9/25/17 23:36</td>\n",
       "      <td>Prosecutor, soldier, family man, citizen. Beau...</td>\n",
       "      <td>https://twitter.com/BarackObama/status/9124608...</td>\n",
       "      <td>3886</td>\n",
       "      <td>58449</td>\n",
       "      <td>328106</td>\n",
       "      <td>BarackObama</td>\n",
       "      <td>0.056</td>\n",
       "      <td>0.748</td>\n",
       "      <td>0.196</td>\n",
       "      <td>0.4588</td>\n",
       "      <td>pos</td>\n",
       "    </tr>\n",
       "    <tr>\n",
       "      <th>...</th>\n",
       "      <td>...</td>\n",
       "      <td>...</td>\n",
       "      <td>...</td>\n",
       "      <td>...</td>\n",
       "      <td>...</td>\n",
       "      <td>...</td>\n",
       "      <td>...</td>\n",
       "      <td>...</td>\n",
       "      <td>...</td>\n",
       "      <td>...</td>\n",
       "      <td>...</td>\n",
       "      <td>...</td>\n",
       "    </tr>\n",
       "    <tr>\n",
       "      <th>3202</th>\n",
       "      <td>8/15/14 20:16</td>\n",
       "      <td>Earning the minimum wage while raising a famil...</td>\n",
       "      <td>https://twitter.com/BarackObama/status/5003754...</td>\n",
       "      <td>536</td>\n",
       "      <td>1520</td>\n",
       "      <td>2155</td>\n",
       "      <td>BarackObama</td>\n",
       "      <td>0.171</td>\n",
       "      <td>0.829</td>\n",
       "      <td>0.000</td>\n",
       "      <td>-0.5106</td>\n",
       "      <td>neg</td>\n",
       "    </tr>\n",
       "    <tr>\n",
       "      <th>3203</th>\n",
       "      <td>8/15/14 18:02</td>\n",
       "      <td>FACT: 97% of scientists and NASA accept the sc...</td>\n",
       "      <td>https://twitter.com/BarackObama/status/5003418...</td>\n",
       "      <td>531</td>\n",
       "      <td>2103</td>\n",
       "      <td>2377</td>\n",
       "      <td>BarackObama</td>\n",
       "      <td>0.000</td>\n",
       "      <td>0.833</td>\n",
       "      <td>0.167</td>\n",
       "      <td>0.3818</td>\n",
       "      <td>pos</td>\n",
       "    </tr>\n",
       "    <tr>\n",
       "      <th>3204</th>\n",
       "      <td>8/15/14 16:21</td>\n",
       "      <td>Getting covered made Jason so happy he wanted ...</td>\n",
       "      <td>https://twitter.com/BarackObama/status/5003164...</td>\n",
       "      <td>206</td>\n",
       "      <td>261</td>\n",
       "      <td>721</td>\n",
       "      <td>BarackObama</td>\n",
       "      <td>0.000</td>\n",
       "      <td>0.717</td>\n",
       "      <td>0.283</td>\n",
       "      <td>0.6948</td>\n",
       "      <td>pos</td>\n",
       "    </tr>\n",
       "    <tr>\n",
       "      <th>3205</th>\n",
       "      <td>8/15/14 15:15</td>\n",
       "      <td>It's time to get serious and #ActOnClimate. ht...</td>\n",
       "      <td>https://twitter.com/BarackObama/status/5002997...</td>\n",
       "      <td>509</td>\n",
       "      <td>2009</td>\n",
       "      <td>2273</td>\n",
       "      <td>BarackObama</td>\n",
       "      <td>0.157</td>\n",
       "      <td>0.843</td>\n",
       "      <td>0.000</td>\n",
       "      <td>-0.0772</td>\n",
       "      <td>neg</td>\n",
       "    </tr>\n",
       "    <tr>\n",
       "      <th>3206</th>\n",
       "      <td>8/14/14 16:50</td>\n",
       "      <td>Happening now: President Obama is delivering a...</td>\n",
       "      <td>https://twitter.com/BarackObama/status/4999611...</td>\n",
       "      <td>583</td>\n",
       "      <td>1243</td>\n",
       "      <td>961</td>\n",
       "      <td>BarackObama</td>\n",
       "      <td>0.000</td>\n",
       "      <td>1.000</td>\n",
       "      <td>0.000</td>\n",
       "      <td>0.0000</td>\n",
       "      <td>pos</td>\n",
       "    </tr>\n",
       "  </tbody>\n",
       "</table>\n",
       "<p>3207 rows × 12 columns</p>\n",
       "</div>"
      ],
      "text/plain": [
       "          created_at                                               text  \\\n",
       "0     10/16/17 22:59  I'm grateful to @SenJohnMcCain for his lifetim...   \n",
       "1      10/2/17 12:41  Michelle &amp; I are praying for the victims i...   \n",
       "2       9/30/17 2:22  Proud to cheer on Team USA at the Invictus Gam...   \n",
       "3      9/26/17 17:03  We're expanding our efforts to help Puerto Ric...   \n",
       "4      9/25/17 23:36  Prosecutor, soldier, family man, citizen. Beau...   \n",
       "...              ...                                                ...   \n",
       "3202   8/15/14 20:16  Earning the minimum wage while raising a famil...   \n",
       "3203   8/15/14 18:02  FACT: 97% of scientists and NASA accept the sc...   \n",
       "3204   8/15/14 16:21  Getting covered made Jason so happy he wanted ...   \n",
       "3205   8/15/14 15:15  It's time to get serious and #ActOnClimate. ht...   \n",
       "3206   8/14/14 16:50  Happening now: President Obama is delivering a...   \n",
       "\n",
       "                                                    url  replies  retweets  \\\n",
       "0     https://twitter.com/BarackObama/status/9200615...    17064     89916   \n",
       "1     https://twitter.com/BarackObama/status/9148326...    21588    405895   \n",
       "2     https://twitter.com/BarackObama/status/9139520...     8476     60651   \n",
       "3     https://twitter.com/BarackObama/status/9127244...    10657    113807   \n",
       "4     https://twitter.com/BarackObama/status/9124608...     3886     58449   \n",
       "...                                                 ...      ...       ...   \n",
       "3202  https://twitter.com/BarackObama/status/5003754...      536      1520   \n",
       "3203  https://twitter.com/BarackObama/status/5003418...      531      2103   \n",
       "3204  https://twitter.com/BarackObama/status/5003164...      206       261   \n",
       "3205  https://twitter.com/BarackObama/status/5002997...      509      2009   \n",
       "3206  https://twitter.com/BarackObama/status/4999611...      583      1243   \n",
       "\n",
       "      favorites         user    neg    neu    pos  compound comp_score  \n",
       "0        641842  BarackObama  0.000  0.544  0.456    0.9246        pos  \n",
       "1       1715753  BarackObama  0.238  0.674  0.089   -0.6369        neg  \n",
       "2        503255  BarackObama  0.000  0.579  0.421    0.9300        pos  \n",
       "3        334901  BarackObama  0.000  0.811  0.189    0.5994        pos  \n",
       "4        328106  BarackObama  0.056  0.748  0.196    0.4588        pos  \n",
       "...         ...          ...    ...    ...    ...       ...        ...  \n",
       "3202       2155  BarackObama  0.171  0.829  0.000   -0.5106        neg  \n",
       "3203       2377  BarackObama  0.000  0.833  0.167    0.3818        pos  \n",
       "3204        721  BarackObama  0.000  0.717  0.283    0.6948        pos  \n",
       "3205       2273  BarackObama  0.157  0.843  0.000   -0.0772        neg  \n",
       "3206        961  BarackObama  0.000  1.000  0.000    0.0000        pos  \n",
       "\n",
       "[3207 rows x 12 columns]"
      ]
     },
     "execution_count": 12,
     "metadata": {},
     "output_type": "execute_result"
    }
   ],
   "source": [
    "# Obama\n",
    "obama_tweets['neg'] = obama_tweets['text'].apply(lambda x:analyzer.polarity_scores(x)['neg'])\n",
    "obama_tweets['neu'] = obama_tweets['text'].apply(lambda x:analyzer.polarity_scores(x)['neu'])\n",
    "obama_tweets['pos'] = obama_tweets['text'].apply(lambda x:analyzer.polarity_scores(x)['pos'])\n",
    "obama_tweets['compound'] = obama_tweets['text'].apply(lambda x:analyzer.polarity_scores(x)['compound'])\n",
    "obama_tweets['comp_score'] = obama_tweets['compound'].apply(lambda c: 'pos' if c >=0 else 'neg')\n",
    "obama_tweets"
   ]
  },
  {
   "cell_type": "markdown",
   "id": "b3b0f0f3-e749-4104-a487-b7f8c43d097c",
   "metadata": {},
   "source": [
    "#### Compare the sentiment scores of the two dataframes by:"
   ]
  },
  {
   "cell_type": "code",
   "execution_count": 13,
   "id": "46294c72-4f01-4a25-9b96-02e55352ac09",
   "metadata": {},
   "outputs": [],
   "source": [
    "# Calculating the mean and standard deviation of the sentiment scores for each dataframe"
   ]
  },
  {
   "cell_type": "code",
   "execution_count": 14,
   "id": "8ea32afe-e8a8-4cbc-add7-92ec3f9c4faa",
   "metadata": {},
   "outputs": [
    {
     "name": "stdout",
     "output_type": "stream",
     "text": [
      "Mean of the sentiment scores:  0.18796383044554454\n",
      "Standard Deviation of the sentiment scores:  0.541958272454006\n"
     ]
    }
   ],
   "source": [
    "trump_compound = trump_tweets['compound']\n",
    "print('Mean of the sentiment scores: ', statistics.mean(trump_compound))\n",
    "print('Standard Deviation of the sentiment scores: ', statistics.stdev(trump_compound))"
   ]
  },
  {
   "cell_type": "code",
   "execution_count": 15,
   "id": "fe9e104e-3ca7-4079-8807-880935e18782",
   "metadata": {},
   "outputs": [
    {
     "name": "stdout",
     "output_type": "stream",
     "text": [
      "Mean of the sentiment scores:  0.19910617399438726\n",
      "Standard Deviation of the sentiment scores:  0.37872101501899325\n"
     ]
    }
   ],
   "source": [
    "obama_compound = obama_tweets['compound']\n",
    "print('Mean of the sentiment scores: ', statistics.mean(obama_compound))\n",
    "print('Standard Deviation of the sentiment scores: ', statistics.stdev(obama_compound))"
   ]
  },
  {
   "cell_type": "code",
   "execution_count": 16,
   "id": "1421d010-a3c4-4fce-91f5-6d889192bf29",
   "metadata": {},
   "outputs": [],
   "source": [
    "# Making a histogram plot showing the distribution of sentiment scores for each dataframe"
   ]
  },
  {
   "cell_type": "code",
   "execution_count": 17,
   "id": "058da1c3-73ca-46c0-bcfd-1fbf50113cc1",
   "metadata": {},
   "outputs": [
    {
     "data": {
      "text/plain": [
       "Text(0.5, 0, 'Compound Value in Sentiment Analysis')"
      ]
     },
     "execution_count": 17,
     "metadata": {},
     "output_type": "execute_result"
    },
    {
     "data": {
      "image/png": "[encoded data removed]",
      "text/plain": [
       "<Figure size 432x288 with 1 Axes>"
      ]
     },
     "metadata": {
      "needs_background": "light"
     },
     "output_type": "display_data"
    }
   ],
   "source": [
    "plt.hist(trump_compound)\n",
    "plt.title('Sentiment Scores: Trumps Tweets')\n",
    "plt.ylabel('# of Occurrences')\n",
    "plt.xlabel('Compound Value in Sentiment Analysis')"
   ]
  },
  {
   "cell_type": "code",
   "execution_count": 18,
   "id": "24be0a67-337d-47c7-9787-266689cfbba2",
   "metadata": {},
   "outputs": [
    {
     "data": {
      "text/plain": [
       "Text(0.5, 0, 'Compound Value in Sentiment Analysis')"
      ]
     },
     "execution_count": 18,
     "metadata": {},
     "output_type": "execute_result"
    },
    {
     "data": {
      "image/png": "[encoded data removed]",
      "text/plain": [
       "<Figure size 432x288 with 1 Axes>"
      ]
     },
     "metadata": {
      "needs_background": "light"
     },
     "output_type": "display_data"
    }
   ],
   "source": [
    "plt.hist(obama_compound)\n",
    "plt.title('Sentiment Scores: Obamas Tweets')\n",
    "plt.ylabel('# of Occurrences')\n",
    "plt.xlabel('Compound Value in Sentiment Analysis')"
   ]
  },
  {
   "cell_type": "code",
   "execution_count": 19,
   "id": "188b97e0-55d4-408b-bf5d-66abb89794b5",
   "metadata": {},
   "outputs": [],
   "source": [
    "# Printing examples of the most positively and most negatively scored tweets from each dataframe "
   ]
  },
  {
   "cell_type": "code",
   "execution_count": 20,
   "id": "b564105e-29cf-4df2-bd73-52cb72dfae6d",
   "metadata": {},
   "outputs": [
    {
     "name": "stdout",
     "output_type": "stream",
     "text": [
      "-0.9735\n",
      "0.9805\n"
     ]
    }
   ],
   "source": [
    "# Trump\n",
    "print(min(trump_compound))\n",
    "print(max(trump_compound))"
   ]
  },
  {
   "cell_type": "code",
   "execution_count": 21,
   "id": "df0be927-6ed8-4c3b-b069-89bedeef4518",
   "metadata": {},
   "outputs": [
    {
     "data": {
      "text/html": [
       "<div>\n",
       "<style scoped>\n",
       "    .dataframe tbody tr th:only-of-type {\n",
       "        vertical-align: middle;\n",
       "    }\n",
       "\n",
       "    .dataframe tbody tr th {\n",
       "        vertical-align: top;\n",
       "    }\n",
       "\n",
       "    .dataframe thead th {\n",
       "        text-align: right;\n",
       "    }\n",
       "</style>\n",
       "<table border=\"1\" class=\"dataframe\">\n",
       "  <thead>\n",
       "    <tr style=\"text-align: right;\">\n",
       "      <th></th>\n",
       "      <th>created_at</th>\n",
       "      <th>text</th>\n",
       "      <th>url</th>\n",
       "      <th>replies</th>\n",
       "      <th>retweets</th>\n",
       "      <th>favorites</th>\n",
       "      <th>user</th>\n",
       "      <th>neg</th>\n",
       "      <th>neu</th>\n",
       "      <th>pos</th>\n",
       "      <th>compound</th>\n",
       "      <th>comp_score</th>\n",
       "    </tr>\n",
       "  </thead>\n",
       "  <tbody>\n",
       "    <tr>\n",
       "      <th>1431</th>\n",
       "      <td>4/18/17 10:38</td>\n",
       "      <td>Democrat Jon Ossoff would be a disaster in Con...</td>\n",
       "      <td>https://twitter.com/realDonaldTrump/status/854...</td>\n",
       "      <td>12950</td>\n",
       "      <td>14207</td>\n",
       "      <td>56073</td>\n",
       "      <td>realDonaldTrump</td>\n",
       "      <td>0.555</td>\n",
       "      <td>0.445</td>\n",
       "      <td>0.0</td>\n",
       "      <td>-0.9735</td>\n",
       "      <td>neg</td>\n",
       "    </tr>\n",
       "  </tbody>\n",
       "</table>\n",
       "</div>"
      ],
      "text/plain": [
       "         created_at                                               text  \\\n",
       "1431  4/18/17 10:38  Democrat Jon Ossoff would be a disaster in Con...   \n",
       "\n",
       "                                                    url  replies  retweets  \\\n",
       "1431  https://twitter.com/realDonaldTrump/status/854...    12950     14207   \n",
       "\n",
       "      favorites             user    neg    neu  pos  compound comp_score  \n",
       "1431      56073  realDonaldTrump  0.555  0.445  0.0   -0.9735        neg  "
      ]
     },
     "execution_count": 21,
     "metadata": {},
     "output_type": "execute_result"
    }
   ],
   "source": [
    "trump_min = -0.9735\n",
    "trump_tweets.loc[trump_tweets['compound'] == trump_min]"
   ]
  },
  {
   "cell_type": "code",
   "execution_count": 22,
   "id": "e4cc8f4a-8e62-47c8-a51a-19c32f58a072",
   "metadata": {},
   "outputs": [
    {
     "name": "stdout",
     "output_type": "stream",
     "text": [
      "Min Tweet: Democrat Jon Ossoff would be a disaster in Congress. VERY weak on crime and illegal immigration, bad for jobs and wants higher taxes. Say NO\n"
     ]
    }
   ],
   "source": [
    "print('Min Tweet:', trump_text[1431])"
   ]
  },
  {
   "cell_type": "code",
   "execution_count": 23,
   "id": "4b8418ef-1d8e-4b6f-87a3-86234c1bf357",
   "metadata": {},
   "outputs": [
    {
     "data": {
      "text/html": [
       "<div>\n",
       "<style scoped>\n",
       "    .dataframe tbody tr th:only-of-type {\n",
       "        vertical-align: middle;\n",
       "    }\n",
       "\n",
       "    .dataframe tbody tr th {\n",
       "        vertical-align: top;\n",
       "    }\n",
       "\n",
       "    .dataframe thead th {\n",
       "        text-align: right;\n",
       "    }\n",
       "</style>\n",
       "<table border=\"1\" class=\"dataframe\">\n",
       "  <thead>\n",
       "    <tr style=\"text-align: right;\">\n",
       "      <th></th>\n",
       "      <th>created_at</th>\n",
       "      <th>text</th>\n",
       "      <th>url</th>\n",
       "      <th>replies</th>\n",
       "      <th>retweets</th>\n",
       "      <th>favorites</th>\n",
       "      <th>user</th>\n",
       "      <th>neg</th>\n",
       "      <th>neu</th>\n",
       "      <th>pos</th>\n",
       "      <th>compound</th>\n",
       "      <th>comp_score</th>\n",
       "    </tr>\n",
       "  </thead>\n",
       "  <tbody>\n",
       "    <tr>\n",
       "      <th>458</th>\n",
       "      <td>9/7/17 12:33</td>\n",
       "      <td>Hurricane Irma is raging but we have great tea...</td>\n",
       "      <td>https://twitter.com/realDonaldTrump/status/905...</td>\n",
       "      <td>6457</td>\n",
       "      <td>16565</td>\n",
       "      <td>82003</td>\n",
       "      <td>realDonaldTrump</td>\n",
       "      <td>0.046</td>\n",
       "      <td>0.377</td>\n",
       "      <td>0.577</td>\n",
       "      <td>0.9805</td>\n",
       "      <td>pos</td>\n",
       "    </tr>\n",
       "  </tbody>\n",
       "</table>\n",
       "</div>"
      ],
      "text/plain": [
       "       created_at                                               text  \\\n",
       "458  9/7/17 12:33  Hurricane Irma is raging but we have great tea...   \n",
       "\n",
       "                                                   url  replies  retweets  \\\n",
       "458  https://twitter.com/realDonaldTrump/status/905...     6457     16565   \n",
       "\n",
       "     favorites             user    neg    neu    pos  compound comp_score  \n",
       "458      82003  realDonaldTrump  0.046  0.377  0.577    0.9805        pos  "
      ]
     },
     "execution_count": 23,
     "metadata": {},
     "output_type": "execute_result"
    }
   ],
   "source": [
    "trump_max = 0.9805\n",
    "trump_tweets.loc[trump_tweets['compound'] == trump_max]"
   ]
  },
  {
   "cell_type": "code",
   "execution_count": 24,
   "id": "a7d5d6ff-72d4-40d5-a5b3-7924feb1d4ae",
   "metadata": {},
   "outputs": [
    {
     "name": "stdout",
     "output_type": "stream",
     "text": [
      "Max Tweet: Hurricane Irma is raging but we have great teams of talented and brave people already in place and ready to help. Be careful, be safe! #FEMA\n"
     ]
    }
   ],
   "source": [
    "print('Max Tweet:', trump_text[458])"
   ]
  },
  {
   "cell_type": "code",
   "execution_count": 25,
   "id": "67094dbd-d4e8-45ec-a9fd-1affad6d0ee6",
   "metadata": {},
   "outputs": [
    {
     "name": "stdout",
     "output_type": "stream",
     "text": [
      "-0.9201\n",
      "0.9349\n"
     ]
    }
   ],
   "source": [
    "# Obama\n",
    "print(min(obama_compound))\n",
    "print(max(obama_compound))"
   ]
  },
  {
   "cell_type": "code",
   "execution_count": 26,
   "id": "4ba6c073-e92a-4f9e-b5ae-670ea9267f47",
   "metadata": {},
   "outputs": [
    {
     "data": {
      "text/html": [
       "<div>\n",
       "<style scoped>\n",
       "    .dataframe tbody tr th:only-of-type {\n",
       "        vertical-align: middle;\n",
       "    }\n",
       "\n",
       "    .dataframe tbody tr th {\n",
       "        vertical-align: top;\n",
       "    }\n",
       "\n",
       "    .dataframe thead th {\n",
       "        text-align: right;\n",
       "    }\n",
       "</style>\n",
       "<table border=\"1\" class=\"dataframe\">\n",
       "  <thead>\n",
       "    <tr style=\"text-align: right;\">\n",
       "      <th></th>\n",
       "      <th>created_at</th>\n",
       "      <th>text</th>\n",
       "      <th>url</th>\n",
       "      <th>replies</th>\n",
       "      <th>retweets</th>\n",
       "      <th>favorites</th>\n",
       "      <th>user</th>\n",
       "      <th>neg</th>\n",
       "      <th>neu</th>\n",
       "      <th>pos</th>\n",
       "      <th>compound</th>\n",
       "      <th>comp_score</th>\n",
       "    </tr>\n",
       "  </thead>\n",
       "  <tbody>\n",
       "    <tr>\n",
       "      <th>453</th>\n",
       "      <td>6/21/16 15:46</td>\n",
       "      <td>RT @POTUS: Gun violence requires more than mom...</td>\n",
       "      <td>https://twitter.com/BarackObama/status/7452818...</td>\n",
       "      <td>4272</td>\n",
       "      <td>64984</td>\n",
       "      <td>120391</td>\n",
       "      <td>BarackObama</td>\n",
       "      <td>0.408</td>\n",
       "      <td>0.592</td>\n",
       "      <td>0.0</td>\n",
       "      <td>-0.9201</td>\n",
       "      <td>neg</td>\n",
       "    </tr>\n",
       "  </tbody>\n",
       "</table>\n",
       "</div>"
      ],
      "text/plain": [
       "        created_at                                               text  \\\n",
       "453  6/21/16 15:46  RT @POTUS: Gun violence requires more than mom...   \n",
       "\n",
       "                                                   url  replies  retweets  \\\n",
       "453  https://twitter.com/BarackObama/status/7452818...     4272     64984   \n",
       "\n",
       "     favorites         user    neg    neu  pos  compound comp_score  \n",
       "453     120391  BarackObama  0.408  0.592  0.0   -0.9201        neg  "
      ]
     },
     "execution_count": 26,
     "metadata": {},
     "output_type": "execute_result"
    }
   ],
   "source": [
    "obama_min = -0.9201\n",
    "obama_tweets.loc[obama_tweets['compound'] == obama_min]"
   ]
  },
  {
   "cell_type": "code",
   "execution_count": 27,
   "id": "09293341-26e9-46eb-ad0b-83185d6cb482",
   "metadata": {},
   "outputs": [
    {
     "name": "stdout",
     "output_type": "stream",
     "text": [
      "Min Tweet: RT @POTUS: Gun violence requires more than moments of silence. It requires action. In failing that test, the Senate failed the American peo‰Û_\n"
     ]
    }
   ],
   "source": [
    "print('Min Tweet:', obama_text[453])"
   ]
  },
  {
   "cell_type": "code",
   "execution_count": 28,
   "id": "15dc1bff-32e9-4c89-bb36-7ab66604e4e6",
   "metadata": {},
   "outputs": [
    {
     "data": {
      "text/html": [
       "<div>\n",
       "<style scoped>\n",
       "    .dataframe tbody tr th:only-of-type {\n",
       "        vertical-align: middle;\n",
       "    }\n",
       "\n",
       "    .dataframe tbody tr th {\n",
       "        vertical-align: top;\n",
       "    }\n",
       "\n",
       "    .dataframe thead th {\n",
       "        text-align: right;\n",
       "    }\n",
       "</style>\n",
       "<table border=\"1\" class=\"dataframe\">\n",
       "  <thead>\n",
       "    <tr style=\"text-align: right;\">\n",
       "      <th></th>\n",
       "      <th>created_at</th>\n",
       "      <th>text</th>\n",
       "      <th>url</th>\n",
       "      <th>replies</th>\n",
       "      <th>retweets</th>\n",
       "      <th>favorites</th>\n",
       "      <th>user</th>\n",
       "      <th>neg</th>\n",
       "      <th>neu</th>\n",
       "      <th>pos</th>\n",
       "      <th>compound</th>\n",
       "      <th>comp_score</th>\n",
       "    </tr>\n",
       "  </thead>\n",
       "  <tbody>\n",
       "    <tr>\n",
       "      <th>723</th>\n",
       "      <td>3/27/16 17:43</td>\n",
       "      <td>\"We wish all who celebrate a blessed and joyfu...</td>\n",
       "      <td>https://twitter.com/BarackObama/status/7141457...</td>\n",
       "      <td>1140</td>\n",
       "      <td>7866</td>\n",
       "      <td>32989</td>\n",
       "      <td>BarackObama</td>\n",
       "      <td>0.0</td>\n",
       "      <td>0.360</td>\n",
       "      <td>0.640</td>\n",
       "      <td>0.9349</td>\n",
       "      <td>pos</td>\n",
       "    </tr>\n",
       "    <tr>\n",
       "      <th>1618</th>\n",
       "      <td>8/4/15 21:13</td>\n",
       "      <td>Help President Obama celebrate another great y...</td>\n",
       "      <td>https://twitter.com/BarackObama/status/6286750...</td>\n",
       "      <td>1516</td>\n",
       "      <td>2382</td>\n",
       "      <td>6101</td>\n",
       "      <td>BarackObama</td>\n",
       "      <td>0.0</td>\n",
       "      <td>0.388</td>\n",
       "      <td>0.612</td>\n",
       "      <td>0.9349</td>\n",
       "      <td>pos</td>\n",
       "    </tr>\n",
       "  </tbody>\n",
       "</table>\n",
       "</div>"
      ],
      "text/plain": [
       "         created_at                                               text  \\\n",
       "723   3/27/16 17:43  \"We wish all who celebrate a blessed and joyfu...   \n",
       "1618   8/4/15 21:13  Help President Obama celebrate another great y...   \n",
       "\n",
       "                                                    url  replies  retweets  \\\n",
       "723   https://twitter.com/BarackObama/status/7141457...     1140      7866   \n",
       "1618  https://twitter.com/BarackObama/status/6286750...     1516      2382   \n",
       "\n",
       "      favorites         user  neg    neu    pos  compound comp_score  \n",
       "723       32989  BarackObama  0.0  0.360  0.640    0.9349        pos  \n",
       "1618       6101  BarackObama  0.0  0.388  0.612    0.9349        pos  "
      ]
     },
     "execution_count": 28,
     "metadata": {},
     "output_type": "execute_result"
    }
   ],
   "source": [
    "obama_max = 0.9349\n",
    "obama_tweets.loc[obama_tweets['compound'] == obama_max]"
   ]
  },
  {
   "cell_type": "code",
   "execution_count": 29,
   "id": "463942c8-593d-4ed6-ac37-55f1bcd88a64",
   "metadata": {},
   "outputs": [
    {
     "name": "stdout",
     "output_type": "stream",
     "text": [
      "Max Tweet: RT @IvankaTrump: Since @realDonaldTrump inauguration, over 1 million net new jobs have been created in the American economy! #MAGA\n",
      "Max Tweet: 45,000 construction &amp; manufacturing jobs in the U.S. Gulf Coast region. $20 billion investment. We are already winning again, America!\n"
     ]
    }
   ],
   "source": [
    "print('Max Tweet:', trump_text[723])\n",
    "print('Max Tweet:', trump_text[1618])"
   ]
  },
  {
   "cell_type": "code",
   "execution_count": 30,
   "id": "9fbb9806-db43-4c07-a2ca-99b40cb8b219",
   "metadata": {},
   "outputs": [],
   "source": [
    "# Commenting on how the two sets differ + VADER's performance"
   ]
  },
  {
   "cell_type": "markdown",
   "id": "6d14bad2-7ddd-4daa-823f-aeff4f4d37a1",
   "metadata": {},
   "source": [
    "Obama has two tweets that have the same highest compound score. In addition, Obama's highest neg and pos tweets are from 2015-2016 while Trump's is slightly more recent with the highest neg and pos tweets being from 2017.\n",
    "\n",
    "Overall, VADER does a good job deciding what tweets are positive or negative on the surface level. However, it is not able to understand the actual context of the tweets."
   ]
  },
  {
   "cell_type": "markdown",
   "id": "2be278ed-9182-409a-86c8-2671007067f4",
   "metadata": {},
   "source": [
    "### Topic Modeling of Trump & Obama Tweets"
   ]
  },
  {
   "cell_type": "code",
   "execution_count": 31,
   "id": "9e8691a9-5212-412d-b82d-10581bd2bcdc",
   "metadata": {},
   "outputs": [
    {
     "name": "stderr",
     "output_type": "stream",
     "text": [
      "[nltk_data] Downloading package stopwords to /home/jovyan/nltk_data...\n",
      "[nltk_data]   Package stopwords is already up-to-date!\n"
     ]
    },
    {
     "data": {
      "text/plain": [
       "True"
      ]
     },
     "execution_count": 31,
     "metadata": {},
     "output_type": "execute_result"
    }
   ],
   "source": [
    "# Use gensim and LDA to perform topic modeling on the tweets of each dataframe.\n",
    "from nltk.stem.porter import PorterStemmer\n",
    "from gensim import corpora, models\n",
    "import gensim\n",
    "import nltk\n",
    "nltk.download('stopwords')"
   ]
  },
  {
   "cell_type": "code",
   "execution_count": 32,
   "id": "2151cc5a-b98a-47d1-a23c-3348b5d780d3",
   "metadata": {},
   "outputs": [
    {
     "data": {
      "text/plain": [
       "['respectful',\n",
       " 'conversation',\n",
       " 'widow',\n",
       " 'sgt',\n",
       " 'la',\n",
       " 'david',\n",
       " 'johnson',\n",
       " 'spoke',\n",
       " 'name',\n",
       " 'beginning',\n",
       " 'without',\n",
       " 'hesitation']"
      ]
     },
     "execution_count": 32,
     "metadata": {},
     "output_type": "execute_result"
    }
   ],
   "source": [
    "# Trump\n",
    "myStopWords = list(punctuation) + stopwords.words('english')\n",
    "[w for w in word_tokenize(trump_text[0].lower()) if w not in myStopWords]"
   ]
  },
  {
   "cell_type": "code",
   "execution_count": 33,
   "id": "0f5888ee-d109-437e-835d-d92e19723d98",
   "metadata": {},
   "outputs": [
    {
     "data": {
      "text/plain": [
       "'I had a very respectful conversation with the widow of Sgt. La David Johnson, and spoke his name from beginning, without hesitation!'"
      ]
     },
     "execution_count": 33,
     "metadata": {},
     "output_type": "execute_result"
    }
   ],
   "source": [
    "docs = []\n",
    "for i in trump_text:\n",
    "    docs.append([w for w in word_tokenize(i.lower()) if w not in myStopWords])\n",
    "    \n",
    "trump_text[0]"
   ]
  },
  {
   "cell_type": "code",
   "execution_count": 34,
   "id": "d0cf1bf3-c4dc-4567-9ad5-4524d57eca82",
   "metadata": {},
   "outputs": [
    {
     "data": {
      "text/plain": [
       "['respect',\n",
       " 'convers',\n",
       " 'widow',\n",
       " 'sgt',\n",
       " 'la',\n",
       " 'david',\n",
       " 'johnson',\n",
       " 'spoke',\n",
       " 'name',\n",
       " 'begin',\n",
       " 'without',\n",
       " 'hesit']"
      ]
     },
     "execution_count": 34,
     "metadata": {},
     "output_type": "execute_result"
    }
   ],
   "source": [
    "p_stemmer = PorterStemmer()\n",
    "\n",
    "docs_stemmed = []\n",
    "for i in docs:\n",
    "    docs_stemmed.append([p_stemmer.stem(w) for w in i])\n",
    "    \n",
    "docs_stemmed[0]"
   ]
  },
  {
   "cell_type": "code",
   "execution_count": 35,
   "id": "cf9d87c0-3a9d-4bd7-a4ae-2e0c2a5a7b70",
   "metadata": {},
   "outputs": [
    {
     "data": {
      "text/plain": [
       "7336"
      ]
     },
     "execution_count": 35,
     "metadata": {},
     "output_type": "execute_result"
    }
   ],
   "source": [
    "dictionary = corpora.Dictionary(docs_stemmed)\n",
    "len(dictionary)"
   ]
  },
  {
   "cell_type": "code",
   "execution_count": 36,
   "id": "219a9f1a-d102-4dc1-8fde-e6f71986158f",
   "metadata": {},
   "outputs": [
    {
     "data": {
      "text/plain": [
       "751"
      ]
     },
     "execution_count": 36,
     "metadata": {},
     "output_type": "execute_result"
    }
   ],
   "source": [
    "dictionary.filter_extremes(no_below=10, no_above=0.5)\n",
    "len(dictionary)"
   ]
  },
  {
   "cell_type": "code",
   "execution_count": 37,
   "id": "d26570e1-620a-45a3-8dcb-1a0cca86f77e",
   "metadata": {},
   "outputs": [
    {
     "name": "stdout",
     "output_type": "stream",
     "text": [
      "{'begin': 0, 'david': 1, 'la': 2, 'name': 3, 'respect': 4, 'spoke': 5, 'without': 6, 'amp': 7, 'anthem': 8, 'continu': 9, 'countri': 10, 'disrespect': 11, 'flag': 12, 'leadership': 13, 'nation': 14, 'nfl': 15, 'player': 16, 'show': 17, 'total': 18, 'two': 19, 'alway': 20, 'chang': 21, 'class': 22, 'great': 23, 'middl': 24, 'popular': 25, 'stay': 26, 'tax': 27, 'work': 28, 'believ': 29, 'even': 30, 'fabric': 31, 'fake': 32, 'final': 33, 'lost': 34, 'major': 35, 'news': 36, 'peopl': 37, 'stori': 38, 'wors': 39, 'action': 40, 'dem': 41, 'disast': 42, 'give': 43, 'keep': 44, 'parti': 45, 'r': 46, 'republican': 47, 'vote': 48, 'watch': 49, 'a.m.': 50, 'enjoy': 51, 'foxnew': 52, 'interview': 53, 'today': 54, '...': 55, 'court': 56, 'histor': 57, 'isi': 58, 'justic': 59, 'market': 60, 'militari': 61, 'record': 62, 'stock': 63, 'strong': 64, 'suprem': 65, '....': 66, '50': 67, 'administr': 68, 'approv': 69, 'border': 70, 'cut': 71, 'energi': 72, 'freedom': 73, 'legisl': 74, 'massiv': 75, 'month': 76, 'regul': 77, 'secur': 78, '.....': 79, 'agre': 80, 'also': 81, 'done': 82, 'first': 83, 'get': 84, 'healthcar': 85, 'import': 86, 'perhap': 87, \"''\": 88, '``': 89, 'claim': 90, 'job': 91, 'report': 92, 'sinc': 93, 'u.s.': 94, 'clinton': 95, 'crook': 96, 'dollar': 97, 'elect': 98, 'facebook': 99, 'hillari': 100, 'million': 101, 'presidenti': 102, 'spent': 103, 'abc': 104, 'ad': 105, 'billion': 106, 'cnn': 107, 'hear': 108, 'money': 109, 'nbc': 110, 'depart': 111, 'fbi': 112, 'immedi': 113, 'offici': 114, 'paid': 115, 'releas': 116, 'http': 117, 'anoth': 118, 'friday': 119, 'high': 120, 'hit': 121, 'much': 122, \"n't\": 123, 'time': 124, 'trillion': 125, 'go': 126, 'presid': 127, 'rt': 128, 'trump': 129, 'tune': 130, 'allow': 131, 'classifi': 132, 'inform': 133, 'long': 134, 'open': 135, 'democrat': 136, 'hope': 137, 'kill': 138, 'media': 139, 'repres': 140, 'talk': 141, 'big': 142, 'biggest': 143, 'budget': 144, 'cover': 145, 'deal': 146, 'histori': 147, 'pass': 148, 'realli': 149, 'call': 150, 'man': 151, 'place': 152, 'wonder': 153, 'american': 154, 'join': 155, 'honor': 156, 'speak': 157, 'whitehous': 158, 'foxandfriend': 159, 'thank': 160, 'america': 161, 'crime': 162, 'good': 163, 'islam': 164, 'must': 165, 'radic': 166, 'safe': 167, 'terror': 168, 'unit': 169, 'larg': 170, 'reform': 171, '51': 172, 'got': 173, 'last': 174, 'night': 175, 'paul': 176, 'zero': 177, 'deliv': 178, 'step': 179, 'taxreform': 180, 'john': 181, 'rate': 182, 'right': 183, 'seanhann': 184, 'vega': 185, 'crazi': 186, 'gave': 187, 'lie': 188, 'person': 189, '100': 190, 'lose': 191, '“': 192, 'governor': 193, 'us': 194, 'obama': 195, 'realdonaldtrump': 196, 'foundat': 197, 'russia': 198, 'take': 199, 'worker': 200, 'follow': 201, 'help': 202, 'want': 203, 'know': 204, 'think': 205, 'actual': 206, 'hard': 207, 'maga': 208, 'one': 209, 'year': 210, 'real': 211, 'usa_ÿ‡º_ÿ‡¸': 212, 'stand': 213, '..': 214, 'iran': 215, 'nuclear': 216, 'committe': 217, 'member': 218, 'senat': 219, 'welcom': 220, 'bless': 221, 'brave': 222, 'fema': 223, 'god': 224, 'respond': 225, 'support': 226, 'team': 227, 'need': 228, \"'s\": 229, 'made': 230, 'never': 231, 'w/': 232, 'die': 233, 'sad': 234, 'said': 235, 'forc': 236, 'play': 237, 'best': 238, 'comey': 239, 'ever': 240, 'happen': 241, 'jame': 242, 'leak': 243, 'protect': 244, 'thing': 245, 'turn': 246, 'increas': 247, 'fix': 248, 'includ': 249, 'state': 250, 'complet': 251, 'investig': 252, 'mani': 253, 'wow': 254, '_ÿ_¥http': 255, 'truth': 256, 'economi': 257, 'industri': 258, 'wall': 259, 'chanc': 260, 'obamacar': 261, 'premium': 262, 'product': 263, 'may': 264, 'nbcnew': 265, 'put': 266, 'minist': 267, 'prime': 268, 'wh': 269, 'live': 270, 'â_¡ï¸èhttp': 271, 'drug': 272, 'day': 273, 'scavino45': 274, 'beauti': 275, 'carolina': 276, 'see': 277, 'south': 278, 'answer': 279, 'ask': 280, 'run': 281, 'busi': 282, 'enthusiasm': 283, '25': 284, '8': 285, 'back': 286, 'come': 287, 'compani': 288, 'low': 289, 'novemb': 290, 'u.': 291, 'chuck': 292, 'israel': 293, 'schumer': 294, 'tell': 295, 'obstruct': 296, 'bill': 297, 'could': 298, 'ivanka': 299, 'women': 300, 'fight': 301, 'grow': 302, 'mike_p': 303, 'look': 304, 'new': 305, 'fail': 306, 'fast': 307, 'nytim': 308, 'pari': 309, 'rapid': 310, 'erictrump': 311, 'fox': 312, 'special': 313, 'tonight': 314, 'forward': 315, 'makeamericagreatagain': 316, 'friend': 317, 'head': 318, 'make': 319, 'virginia': 320, 'let': 321, 'part': 322, 'cost': 323, 'execut': 324, 'far': 325, 'lower': 326, 'order': 327, 'proud': 328, 'end': 329, 'gone': 330, 'health': 331, 'insur': 332, 'yesterday': 333, 'confid': 334, 'highest': 335, 'level': 336, '2016': 337, 'accomplish': 338, 'statement': 339, 'deduct': 340, 'way': 341, 'smart': 342, 'lot': 343, 'speech': 344, 'trade': 345, 'better': 346, 'leader': 347, 'start': 348, 'announc': 349, 'govern': 350, 'birthday': 351, 'happi': 352, 'incred': 353, 'men': 354, 'serv': 355, 'bad': 356, 'puerto': 357, 'rico': 358, 'spirit': 359, 'left': 360, 'longer': 361, 'sanctuari': 362, 'mess': 363, 'other': 364, 'public': 365, 'corrupt': 366, 'free': 367, 'press': 368, 'stop': 369, 'care': 370, 'commun': 371, 'rebuild': 372, 'dishonest': 373, 'fakenew': 374, 'find': 375, 'famili': 376, 'system': 377, 'amaz': 378, 'congress': 379, 'hurrican': 380, 'say': 381, 'spend': 382, 'courag': 383, 'love': 384, 'becom': 385, 'challeng': 386, 'network': 387, 'pennsylvania': 388, 'enforc': 389, 'law': 390, 'local': 391, 'point': 392, 'nice': 393, 'would': 394, 'number': 395, '8th': 396, 'chief': 397, 'fantast': 398, 'fire': 399, 'usa': 400, 'gener': 401, 'hurt': 402, 'kelli': 403, 'soon': 404, 'tri': 405, '2017': 406, 'flotu': 407, 'host': 408, 'fool': 409, 'set': 410, 'came': 411, 'donald': 412, 'highli': 413, 'badli': 414, 'fact': 415, 'mike': 416, 'act': 417, 'ca': 418, 'power': 419, 'togeth': 420, 'use': 421, 'immigr': 422, 'polici': 423, 'problem': 424, 'safeti': 425, 'close': 426, 'greatest': 427, 'ivankatrump': 428, 'ralli': 429, 'game': 430, 'j.': 431, 'leav': 432, 'penc': 433, 'plan': 434, 'vp': 435, 'korea': 436, 'north': 437, 'noth': 438, 'small': 439, 'littl': 440, 'lead': 441, 'control': 442, 'yet': 443, 'expect': 444, 'endors': 445, 'secretari': 446, 'win': 447, 'given': 448, 'hous': 449, 'progress': 450, 'white': 451, 'negoti': 452, '......': 453, 'everyon': 454, 'pleas': 455, 'prepar': 456, '1': 457, 'matter': 458, 'coverag': 459, 'campaign': 460, 'discuss': 461, 'voter': 462, 'offic': 463, 'potu': 464, 'citi': 465, 'gang': 466, 'manufactur': 467, 'forget': 468, 'meet': 469, 'polic': 470, 'victim': 471, 'save': 472, 'melania': 473, 'visit': 474, 'behalf': 475, 'grate': 476, 'hero': 477, 'land': 478, 'pay': 479, 'prayer': 480, 'thought': 481, 'apolog': 482, 'issu': 483, 'around': 484, 'commit': 485, 'possibl': 486, 'provid': 487, 'abl': 488, 'd.c.': 489, 'tomorrow': 490, 'condol': 491, 'terribl': 492, 'congratul': 493, 'victori': 494, 'told': 495, 'build': 496, 'almost': 497, 'polit': 498, 'protest': 499, 'alabama': 500, 'candid': 501, 'race': 502, 'went': 503, 'seen': 504, 'everyth': 505, 'effort': 506, 'mayor': 507, 'result': 508, \"'re\": 509, 'truli': 510, 'everi': 511, 'guy': 512, 'despit': 513, 'away': 514, 'tuesday': 515, 'video': 516, 'destroy': 517, 'feder': 518, 'ago': 519, 'optim': 520, 'address': 521, 'weekli': 522, 'kellyannepol': 523, 'econom': 524, 'futur': 525, 'reach': 526, 'week': 527, 'decis': 528, \"'ve\": 529, '3': 530, 'inaugur': 531, 'check': 532, 'bring': 533, 'home': 534, 'wish': 535, 'dead': 536, 'review': 537, 'â€': 538, 'arriv': 539, 'indiana': 540, 'collus': 541, 'rule': 542, 'mccain': 543, 'posit': 544, 'sign': 545, 'like': 546, 'luther': 547, 'strang': 548, 'council': 549, 'met': 550, 'attack': 551, 'mean': 552, 'word': 553, 'entir': 554, 'heard': 555, 'whether': 556, 'repeal': 557, 'replac': 558, 'top': 559, 'well': 560, 'old': 561, 'alreadi': 562, 'florida': 563, 'texa': 564, 'tremend': 565, 'return': 566, 'vet': 567, '7': 568, 'arizona': 569, '--': 570, 'patriot': 571, 'â€_': 572, 'refus': 573, 'foreign': 574, 'consid': 575, 'crowd': 576, 'worst': 577, 'unga': 578, 'next': 579, 'bias': 580, 'harvey': 581, 'debat': 582, 'world': 583, 'poll': 584, 'york': 585, 'morn': 586, 'tough': 587, 'afternoon': 588, 'peac': 589, 'promis': 590, 'ocar': 591, 'interest': 592, 'deplor': 593, 'question': 594, 'true': 595, 'mexico': 596, 'americafirst_ÿ‡º_ÿ‡¸': 597, 'full': 598, 'remark': 599, 'defend': 600, 'restor': 601, 'franc': 602, 'focu': 603, 'less': 604, 'terrorist': 605, 'ban': 606, 'travel': 607, 'stronger': 608, 'crookedhillari': 609, 'form': 610, 'line': 611, 'attorney': 612, 'michigan': 613, 'saturday': 614, 'life': 615, 'price': 616, 'berni': 617, 'push': 618, 'unbeliev': 619, 'etc': 620, 'loss': 621, 'china': 622, 'move': 623, 'son': 624, 'anyon': 625, 'cabinet': 626, 'camp': 627, 'donaldjtrumpjr': 628, 'readi': 629, 'wait': 630, 'extrem': 631, 'prosper': 632, 'confer': 633, 'concern': 634, 'gop': 635, 'rais': 636, \"'trump\": 637, 'danscavino': 638, 'hand': 639, 'matti': 640, 'success': 641, 'threat': 642, 'danger': 643, 'rememb': 644, 'louisiana': 645, 'hurricaneharvey': 646, 'still': 647, 'rig': 648, 'center': 649, 'veteran': 650, 'fals': 651, 'read': 652, 'secret': 653, 'ahead': 654, 'air': 655, 'servic': 656, 'caught': 657, 'differ': 658, 'hold': 659, 'phoenix': 660, 'weak': 661, 'draintheswamp': 662, 'via': 663, 'maga_ÿ‡º_ÿ‡¸': 664, 'p.m.': 665, 'ticket': 666, 'washington': 667, 'bedminst': 668, 'delay': 669, 'taken': 670, 'reason': 671, 'idea': 672, 'excit': 673, 'ceo': 674, 'russian': 675, 'chicago': 676, 'defens': 677, 'e-mail': 678, 'nevada': 679, 'sourc': 680, 'judg': 681, 'phoni': 682, 'base': 683, 'west': 684, 'iowa': 685, 'ohio': 686, 'wrong': 687, 'took': 688, 'creat': 689, 'email': 690, 'post': 691, 'invest': 692, 'movement': 693, 'wisconsin': 694, 'plant': 695, 'hunt': 696, 'witch': 697, 'scandal': 698, 'session': 699, 'dnc': 700, 'server': 701, 'excus': 702, '”': 703, 'ford': 704, 'podesta': 705, 'illeg': 706, 'intellig': 707, 'event': 708, 'icymi-': 709, 'germani': 710, 'putin': 711, 'instead': 712, 'info': 713, 'former': 714, 'hillaryclinton': 715, 'celebr': 716, 'tower': 717, 'iraq': 718, 'syria': 719, 'hack': 720, 'icymi': 721, '30': 722, 'fraud': 723, 'crimin': 724, 'nomin': 725, 'case': 726, 'georgia': 727, 'americafirst': 728, 'drudge_report': 729, '7pm': 730, 'horribl': 731, 'regist': 732, 'thankyoutour2016': 733, '3pm': 734, 'hampshir': 735, 'votetrumppence16': 736, 'colorado': 737, 'teamtrump': 738, 'imwithy': 739, 'wikileak': 740, '11/8': 741, 'trumppence16': 742, 'kain': 743, '//t.co/3kwol2ibaw': 744, 'bigleaguetruth': 745, 'debates2016': 746, 'vpdebat': 747, 'timkain': 748, 'debatenight': 749, 'african-american': 750}\n"
     ]
    }
   ],
   "source": [
    "print(dictionary.token2id)"
   ]
  },
  {
   "cell_type": "code",
   "execution_count": 38,
   "id": "47af30fb-fc94-423b-b511-054df53bea49",
   "metadata": {},
   "outputs": [
    {
     "name": "stdout",
     "output_type": "stream",
     "text": [
      "48\n",
      "154\n",
      "final\n",
      "dnc\n"
     ]
    }
   ],
   "source": [
    "print(dictionary.token2id['vote'])\n",
    "print(dictionary.token2id['american'])\n",
    "print(dictionary[33])\n",
    "print(dictionary[700])"
   ]
  },
  {
   "cell_type": "code",
   "execution_count": 39,
   "id": "f90932e5-78ba-4475-b98f-0207e6a91896",
   "metadata": {},
   "outputs": [
    {
     "name": "stdout",
     "output_type": "stream",
     "text": [
      "[(23, 1), (28, 1), (44, 1), (55, 1), (58, 1), (88, 1), (89, 1), (117, 2), (190, 1), (191, 1), (192, 1)]\n"
     ]
    }
   ],
   "source": [
    "corpus = [dictionary.doc2bow(text) for text in docs_stemmed]\n",
    "print(corpus[30])"
   ]
  },
  {
   "cell_type": "code",
   "execution_count": 40,
   "id": "b76340fd-33e4-44a4-8f51-ae8003c04dce",
   "metadata": {},
   "outputs": [
    {
     "name": "stdout",
     "output_type": "stream",
     "text": [
      "great 1\n",
      "great 1\n",
      "work 1\n",
      "keep 1\n",
      "... 1\n",
      "isi 1\n",
      "'' 1\n",
      "`` 1\n",
      "http 2\n",
      "100 1\n",
      "lose 1\n",
      "“ 1\n"
     ]
    }
   ],
   "source": [
    "wordid = corpus[30][0]\n",
    "print(dictionary[wordid[0]],wordid[1])\n",
    "\n",
    "for i in corpus[30]:\n",
    "    print(dictionary[i[0]], i[1])"
   ]
  },
  {
   "cell_type": "code",
   "execution_count": 41,
   "id": "c8db2ef1-a70b-428e-af8a-652b0e0b91c1",
   "metadata": {},
   "outputs": [
    {
     "data": {
      "text/plain": [
       "[(0,\n",
       "  '0.168*\"http\" + 0.079*\"thank\" + 0.043*\"amp\" + 0.042*\"ohio\" + 0.029*\"great\" + 0.023*\"live\" + 0.020*\"join\" + 0.018*\"americafirst\" + 0.018*\"watch\" + 0.018*\"w/\"'),\n",
       " (1,\n",
       "  '0.051*\"clinton\" + 0.039*\"hillari\" + 0.031*\"fbi\" + 0.024*\"http\" + 0.023*\"lie\" + 0.019*\"mani\" + 0.019*\"campaign\" + 0.018*\"elect\" + 0.018*\"...\" + 0.017*\"believ\"'),\n",
       " (2,\n",
       "  '0.171*\"rt\" + 0.097*\"http\" + 0.081*\"realdonaldtrump\" + 0.036*\"\\'s\" + 0.035*\"amp\" + 0.022*\"crookedhillari\" + 0.017*\"potu\" + 0.017*\"danscavino\" + 0.016*\"fail\" + 0.015*\"foxandfriend\"'),\n",
       " (3,\n",
       "  '0.175*\"http\" + 0.042*\"makeamericagreatagain\" + 0.029*\"honor\" + 0.029*\"today\" + 0.024*\"american\" + 0.024*\"famili\" + 0.016*\"welcom\" + 0.015*\"take\" + 0.015*\"minist\" + 0.014*\"protect\"'),\n",
       " (4,\n",
       "  '0.118*\"http\" + 0.078*\"great\" + 0.060*\"thank\" + 0.053*\"maga\" + 0.034*\"debat\" + 0.032*\"day\" + 0.032*\"support\" + 0.023*\"nation\" + 0.023*\"movement\" + 0.022*\"today\"'),\n",
       " (5,\n",
       "  '0.048*\"obamacar\" + 0.032*\"repeal\" + 0.032*\"year\" + 0.030*\"replac\" + 0.027*\"great\" + 0.026*\"peopl\" + 0.023*\"go\" + 0.021*\"look\" + 0.020*\"amp\" + 0.020*\"get\"'),\n",
       " (6,\n",
       "  '0.095*\"http\" + 0.084*\"america\" + 0.073*\"make\" + 0.069*\"great\" + 0.031*\"thank\" + 0.031*\"let\" + 0.030*\"safe\" + 0.028*\"vote\" + 0.025*\"togeth\" + 0.021*\"amp\"'),\n",
       " (7,\n",
       "  '0.152*\"http\" + 0.050*\"time\" + 0.045*\"poll\" + 0.032*\"draintheswamp\" + 0.028*\"watch\" + 0.025*\"new\" + 0.023*\"americafirst\" + 0.022*\"vote\" + 0.020*\"thank\" + 0.020*\"trump\"'),\n",
       " (8,\n",
       "  '0.058*\"hillaryclinton\" + 0.053*\"debat\" + 0.039*\"obama\" + 0.030*\"clinton\" + 0.030*\"http\" + 0.028*\"email\" + 0.028*\"\\'s\" + 0.026*\"hillari\" + 0.023*\"use\" + 0.019*\"noth\"'),\n",
       " (9,\n",
       "  '0.033*\"fail\" + 0.029*\"cnn\" + 0.027*\"call\" + 0.025*\"time\" + 0.023*\"never\" + 0.022*\"presid\" + 0.016*\"leader\" + 0.015*\"state\" + 0.015*\"badli\" + 0.014*\"new\"'),\n",
       " (10,\n",
       "  '0.088*\"draintheswamp\" + 0.067*\"http\" + 0.032*\"back\" + 0.026*\"go\" + 0.025*\"thought\" + 0.023*\"must\" + 0.022*\"countri\" + 0.022*\"border\" + 0.021*\"immigr\" + 0.020*\"amp\"'),\n",
       " (11,\n",
       "  '0.061*\"hillari\" + 0.035*\"crook\" + 0.021*\"n\\'t\" + 0.021*\"bad\" + 0.021*\"clinton\" + 0.019*\"would\" + 0.018*\"dishonest\" + 0.016*\"media\" + 0.016*\"russia\" + 0.016*\"``\"'),\n",
       " (12,\n",
       "  '0.052*\"tax\" + 0.028*\"u.s.\" + 0.022*\"countri\" + 0.020*\"cut\" + 0.020*\"korea\" + 0.019*\"china\" + 0.018*\"would\" + 0.018*\"north\" + 0.018*\"stand\" + 0.018*\"state\"'),\n",
       " (13,\n",
       "  '0.048*\"go\" + 0.040*\"senat\" + 0.040*\"dem\" + 0.036*\"republican\" + 0.027*\"vote\" + 0.022*\"major\" + 0.020*\"trump\" + 0.019*\"u.s.\" + 0.019*\"number\" + 0.018*\"great\"'),\n",
       " (14,\n",
       "  '0.058*\"job\" + 0.031*\"mani\" + 0.027*\"good\" + 0.026*\"american\" + 0.025*\"hous\" + 0.024*\"thing\" + 0.021*\"white\" + 0.021*\"amp\" + 0.017*\"win\" + 0.017*\"great\"'),\n",
       " (15,\n",
       "  '0.167*\"``\" + 0.157*\"\\'\\'\" + 0.056*\"trump\" + 0.028*\"realdonaldtrump\" + 0.027*\"http\" + 0.020*\"vote\" + 0.020*\"said\" + 0.016*\"presid\" + 0.016*\"donald\" + 0.015*\"say\"'),\n",
       " (16,\n",
       "  '0.067*\"enjoy\" + 0.061*\"interview\" + 0.054*\"tonight\" + 0.041*\"foxandfriend\" + 0.030*\"great\" + 0.027*\"foxnew\" + 0.024*\"meet\" + 0.023*\"discuss\" + 0.022*\"north\" + 0.020*\"attack\"'),\n",
       " (17,\n",
       "  '0.055*\"http\" + 0.040*\"us\" + 0.038*\"amp\" + 0.028*\"mike_p\" + 0.027*\"maga\" + 0.026*\"thank\" + 0.024*\"iowa\" + 0.021*\"peopl\" + 0.018*\"7pm\" + 0.018*\"law\"'),\n",
       " (18,\n",
       "  '0.043*\"news\" + 0.037*\"fake\" + 0.024*\"media\" + 0.023*\"hillari\" + 0.023*\"cnn\" + 0.022*\"report\" + 0.022*\"want\" + 0.022*\"crook\" + 0.020*\"penc\" + 0.019*\"wow\"'),\n",
       " (19,\n",
       "  '0.244*\"http\" + 0.099*\"join\" + 0.044*\"tomorrow\" + 0.043*\"ticket\" + 0.033*\"florida\" + 0.027*\"night\" + 0.020*\"last\" + 0.019*\"ralli\" + 0.019*\"today\" + 0.018*\"thank\"')]"
      ]
     },
     "execution_count": 41,
     "metadata": {},
     "output_type": "execute_result"
    }
   ],
   "source": [
    "ldamodel = gensim.models.ldamodel.LdaModel(corpus, \n",
    "                                           num_topics=20, \n",
    "                                           id2word = dictionary, \n",
    "                                           passes=5)\n",
    "ldamodel.show_topics(num_topics=20)"
   ]
  },
  {
   "cell_type": "code",
   "execution_count": 42,
   "id": "70457ef3-1495-46f4-9f71-2b9302831d5a",
   "metadata": {},
   "outputs": [
    {
     "name": "stdout",
     "output_type": "stream",
     "text": [
      "0\n",
      "0.168*\"http\" + 0.079*\"thank\" + 0.043*\"amp\" + 0.042*\"ohio\" + 0.029*\"great\" + 0.023*\"live\" + 0.020*\"join\" + 0.018*\"americafirst\" + 0.018*\"watch\" + 0.018*\"w/\" + 0.017*\"rt\" + 0.016*\"governor\" + 0.015*\"maga\" + 0.015*\"help\" + 0.014*\"get\" + 0.013*\"us\" + 0.012*\"wisconsin\" + 0.010*\"icymi\" + 0.010*\"job\" + 0.009*\"texa\"\n",
      "\n",
      "\n",
      "1\n",
      "0.051*\"clinton\" + 0.039*\"hillari\" + 0.031*\"fbi\" + 0.024*\"http\" + 0.023*\"lie\" + 0.019*\"mani\" + 0.019*\"campaign\" + 0.018*\"elect\" + 0.018*\"...\" + 0.017*\"believ\" + 0.017*\"john\" + 0.013*\"amp\" + 0.013*\"lost\" + 0.013*\"``\" + 0.012*\"media\" + 0.012*\"hack\" + 0.012*\"rig\" + 0.012*\"total\" + 0.012*\"''\" + 0.012*\"investig\"\n",
      "\n",
      "\n",
      "2\n",
      "0.171*\"rt\" + 0.097*\"http\" + 0.081*\"realdonaldtrump\" + 0.036*\"'s\" + 0.035*\"amp\" + 0.022*\"crookedhillari\" + 0.017*\"potu\" + 0.017*\"danscavino\" + 0.016*\"fail\" + 0.015*\"foxandfriend\" + 0.014*\"corrupt\" + 0.014*\"leadership\" + 0.013*\"trump\" + 0.012*\"mike_p\" + 0.012*\"rapid\" + 0.012*\"call\" + 0.011*\"``\" + 0.010*\"love\" + 0.009*\"put\" + 0.008*\"maga\"\n",
      "\n",
      "\n",
      "3\n",
      "0.175*\"http\" + 0.042*\"makeamericagreatagain\" + 0.029*\"honor\" + 0.029*\"today\" + 0.024*\"american\" + 0.024*\"famili\" + 0.016*\"welcom\" + 0.015*\"take\" + 0.015*\"minist\" + 0.014*\"protect\" + 0.013*\"first\" + 0.013*\"amp\" + 0.013*\"thank\" + 0.013*\"presid\" + 0.013*\"prime\" + 0.012*\"whitehous\" + 0.012*\"great\" + 0.012*\"trump\" + 0.011*\"year\" + 0.011*\"debat\"\n",
      "\n",
      "\n",
      "4\n",
      "0.118*\"http\" + 0.078*\"great\" + 0.060*\"thank\" + 0.053*\"maga\" + 0.034*\"debat\" + 0.032*\"day\" + 0.032*\"support\" + 0.023*\"nation\" + 0.023*\"movement\" + 0.022*\"today\" + 0.020*\"honor\" + 0.020*\"happi\" + 0.019*\"amp\" + 0.015*\"america\" + 0.014*\"join\" + 0.013*\"state\" + 0.013*\"team\" + 0.013*\"continu\" + 0.012*\"unit\" + 0.012*\"govern\"\n",
      "\n",
      "\n",
      "5\n",
      "0.048*\"obamacar\" + 0.032*\"repeal\" + 0.032*\"year\" + 0.030*\"replac\" + 0.027*\"great\" + 0.026*\"peopl\" + 0.023*\"go\" + 0.021*\"look\" + 0.020*\"amp\" + 0.020*\"get\" + 0.018*\"healthcar\" + 0.017*\"forward\" + 0.017*\"talk\" + 0.016*\"leav\" + 0.015*\"big\" + 0.015*\"never\" + 0.015*\"bill\" + 0.013*\"http\" + 0.013*\"hillari\" + 0.013*\"plan\"\n",
      "\n",
      "\n",
      "6\n",
      "0.095*\"http\" + 0.084*\"america\" + 0.073*\"make\" + 0.069*\"great\" + 0.031*\"thank\" + 0.031*\"let\" + 0.030*\"safe\" + 0.028*\"vote\" + 0.025*\"togeth\" + 0.021*\"amp\" + 0.018*\"michigan\" + 0.018*\"get\" + 0.016*\"go\" + 0.015*\"ralli\" + 0.015*\"new\" + 0.014*\"pennsylvania\" + 0.014*\"keep\" + 0.012*\"clinton\" + 0.010*\"florida\" + 0.010*\"regist\"\n",
      "\n",
      "\n",
      "7\n",
      "0.152*\"http\" + 0.050*\"time\" + 0.045*\"poll\" + 0.032*\"draintheswamp\" + 0.028*\"watch\" + 0.025*\"new\" + 0.023*\"americafirst\" + 0.022*\"vote\" + 0.020*\"thank\" + 0.020*\"trump\" + 0.016*\"'s\" + 0.015*\"even\" + 0.015*\"amp\" + 0.015*\"via\" + 0.014*\"result\" + 0.013*\"depart\" + 0.011*\"--\" + 0.011*\"get\" + 0.011*\"facebook\" + 0.011*\"execut\"\n",
      "\n",
      "\n",
      "8\n",
      "0.058*\"hillaryclinton\" + 0.053*\"debat\" + 0.039*\"obama\" + 0.030*\"clinton\" + 0.030*\"http\" + 0.028*\"email\" + 0.028*\"'s\" + 0.026*\"hillari\" + 0.023*\"use\" + 0.019*\"noth\" + 0.015*\"rt\" + 0.014*\"crook\" + 0.013*\"bad\" + 0.013*\"endors\" + 0.012*\"100\" + 0.012*\"presid\" + 0.011*\"releas\" + 0.011*\"allow\" + 0.011*\"anyon\" + 0.011*\"push\"\n",
      "\n",
      "\n",
      "9\n",
      "0.033*\"fail\" + 0.029*\"cnn\" + 0.027*\"call\" + 0.025*\"time\" + 0.023*\"never\" + 0.022*\"presid\" + 0.016*\"leader\" + 0.015*\"state\" + 0.015*\"badli\" + 0.014*\"new\" + 0.014*\"nice\" + 0.014*\"much\" + 0.013*\"win\" + 0.013*\"includ\" + 0.013*\"berni\" + 0.013*\"congratul\" + 0.012*\"decis\" + 0.012*\"first\" + 0.011*\"'ve\" + 0.011*\"n't\"\n",
      "\n",
      "\n",
      "10\n",
      "0.088*\"draintheswamp\" + 0.067*\"http\" + 0.032*\"back\" + 0.026*\"go\" + 0.025*\"thought\" + 0.023*\"must\" + 0.022*\"countri\" + 0.022*\"border\" + 0.021*\"immigr\" + 0.020*\"amp\" + 0.018*\"illeg\" + 0.018*\"take\" + 0.018*\"prayer\" + 0.017*\"stop\" + 0.016*\"washington\" + 0.015*\"isi\" + 0.015*\"bring\" + 0.014*\"want\" + 0.014*\"30\" + 0.012*\"work\"\n",
      "\n",
      "\n",
      "11\n",
      "0.061*\"hillari\" + 0.035*\"crook\" + 0.021*\"n't\" + 0.021*\"bad\" + 0.021*\"clinton\" + 0.019*\"would\" + 0.018*\"dishonest\" + 0.016*\"media\" + 0.016*\"russia\" + 0.016*\"``\" + 0.015*\"peopl\" + 0.015*\"''\" + 0.014*\"nytim\" + 0.014*\"made\" + 0.013*\"know\" + 0.013*\"'s\" + 0.012*\"got\" + 0.012*\"money\" + 0.012*\"debat\" + 0.012*\"deal\"\n",
      "\n",
      "\n",
      "12\n",
      "0.052*\"tax\" + 0.028*\"u.s.\" + 0.022*\"countri\" + 0.020*\"cut\" + 0.020*\"korea\" + 0.019*\"china\" + 0.018*\"would\" + 0.018*\"north\" + 0.018*\"stand\" + 0.018*\"state\" + 0.017*\"much\" + 0.015*\"....\" + 0.014*\"billion\" + 0.013*\"big\" + 0.012*\"n't\" + 0.012*\"massiv\" + 0.012*\"rt\" + 0.012*\"presid\" + 0.012*\"...\" + 0.012*\"amp\"\n",
      "\n",
      "\n",
      "13\n",
      "0.048*\"go\" + 0.040*\"senat\" + 0.040*\"dem\" + 0.036*\"republican\" + 0.027*\"vote\" + 0.022*\"major\" + 0.020*\"trump\" + 0.019*\"u.s.\" + 0.019*\"number\" + 0.018*\"great\" + 0.018*\"amp\" + 0.016*\"parti\" + 0.015*\"peopl\" + 0.014*\"control\" + 0.014*\"get\" + 0.013*\"month\" + 0.013*\"lose\" + 0.013*\"must\" + 0.012*\"...\" + 0.012*\"poll\"\n",
      "\n",
      "\n",
      "14\n",
      "0.058*\"job\" + 0.031*\"mani\" + 0.027*\"good\" + 0.026*\"american\" + 0.025*\"hous\" + 0.024*\"thing\" + 0.021*\"white\" + 0.021*\"amp\" + 0.017*\"win\" + 0.017*\"great\" + 0.016*\"'s\" + 0.016*\"work\" + 0.016*\"get\" + 0.015*\"peopl\" + 0.015*\"best\" + 0.014*\"long\" + 0.013*\"week\" + 0.013*\"look\" + 0.013*\"bad\" + 0.012*\"come\"\n",
      "\n",
      "\n",
      "15\n",
      "0.167*\"``\" + 0.157*\"''\" + 0.056*\"trump\" + 0.028*\"realdonaldtrump\" + 0.027*\"http\" + 0.020*\"vote\" + 0.020*\"said\" + 0.016*\"presid\" + 0.016*\"donald\" + 0.015*\"say\" + 0.015*\"elect\" + 0.014*\"one\" + 0.012*\"two\" + 0.011*\"hillari\" + 0.011*\"voter\" + 0.011*\"...\" + 0.011*\"'s\" + 0.010*\"state\" + 0.010*\"peopl\" + 0.009*\"campaign\"\n",
      "\n",
      "\n",
      "16\n",
      "0.067*\"enjoy\" + 0.061*\"interview\" + 0.054*\"tonight\" + 0.041*\"foxandfriend\" + 0.030*\"great\" + 0.027*\"foxnew\" + 0.024*\"meet\" + 0.023*\"discuss\" + 0.022*\"north\" + 0.020*\"attack\" + 0.020*\"big\" + 0.020*\"deliv\" + 0.019*\"speech\" + 0.019*\"last\" + 0.018*\"p.m.\" + 0.018*\"carolina\" + 0.017*\"today\" + 0.017*\"look\" + 0.013*\"pleas\" + 0.013*\"tomorrow\"\n",
      "\n",
      "\n",
      "17\n",
      "0.055*\"http\" + 0.040*\"us\" + 0.038*\"amp\" + 0.028*\"mike_p\" + 0.027*\"maga\" + 0.026*\"thank\" + 0.024*\"iowa\" + 0.021*\"peopl\" + 0.018*\"7pm\" + 0.018*\"law\" + 0.016*\"million\" + 0.015*\"time\" + 0.014*\"carolina\" + 0.014*\"enforc\" + 0.014*\"novemb\" + 0.014*\"creat\" + 0.014*\"n't\" + 0.013*\"8th\" + 0.013*\"north\" + 0.013*\"fight\"\n",
      "\n",
      "\n",
      "18\n",
      "0.043*\"news\" + 0.037*\"fake\" + 0.024*\"media\" + 0.023*\"hillari\" + 0.023*\"cnn\" + 0.022*\"report\" + 0.022*\"want\" + 0.022*\"crook\" + 0.020*\"penc\" + 0.019*\"wow\" + 0.018*\"stori\" + 0.017*\"support\" + 0.015*\"poll\" + 0.014*\"n't\" + 0.013*\"mike\" + 0.013*\"amp\" + 0.012*\"countri\" + 0.012*\"look\" + 0.011*\"get\" + 0.011*\"nevada\"\n",
      "\n",
      "\n",
      "19\n",
      "0.244*\"http\" + 0.099*\"join\" + 0.044*\"tomorrow\" + 0.043*\"ticket\" + 0.033*\"florida\" + 0.027*\"night\" + 0.020*\"last\" + 0.019*\"ralli\" + 0.019*\"today\" + 0.018*\"thank\" + 0.017*\"live\" + 0.016*\"arizona\" + 0.016*\"alabama\" + 0.015*\"saturday\" + 0.014*\"incred\" + 0.013*\"la\" + 0.012*\"virginia\" + 0.011*\"crowd\" + 0.010*\"world\" + 0.009*\"women\"\n",
      "\n",
      "\n"
     ]
    }
   ],
   "source": [
    "for i in ldamodel.print_topics(num_topics=20, num_words=20):\n",
    "    print(i[0])\n",
    "    print(i[1])\n",
    "    print('\\n')"
   ]
  },
  {
   "cell_type": "code",
   "execution_count": 43,
   "id": "065f126c-1ef2-4533-96de-b1af965cfb9c",
   "metadata": {},
   "outputs": [
    {
     "data": {
      "text/plain": [
       "[\"'m\",\n",
       " 'grateful',\n",
       " 'senjohnmccain',\n",
       " 'lifetime',\n",
       " 'service',\n",
       " 'country',\n",
       " 'congratulations',\n",
       " 'john',\n",
       " 'receiving',\n",
       " 'year',\n",
       " \"'s\",\n",
       " 'liberty',\n",
       " 'medal']"
      ]
     },
     "execution_count": 43,
     "metadata": {},
     "output_type": "execute_result"
    }
   ],
   "source": [
    "# Obama\n",
    "myStopWords = list(punctuation) + stopwords.words('english')\n",
    "[w for w in word_tokenize(obama_text[0].lower()) if w not in myStopWords]"
   ]
  },
  {
   "cell_type": "code",
   "execution_count": 44,
   "id": "a9efb71e-90a1-40c1-be17-2e2d00281229",
   "metadata": {},
   "outputs": [
    {
     "data": {
      "text/plain": [
       "\"I'm grateful to @SenJohnMcCain for his lifetime of service to our country. Congratulations, John, on receiving this year's Liberty Medal.\""
      ]
     },
     "execution_count": 44,
     "metadata": {},
     "output_type": "execute_result"
    }
   ],
   "source": [
    "docs = []\n",
    "for i in obama_text:\n",
    "    docs.append([w for w in word_tokenize(i.lower()) if w not in myStopWords])\n",
    "    \n",
    "obama_text[0]"
   ]
  },
  {
   "cell_type": "code",
   "execution_count": 63,
   "id": "dbdb59ef-c5f1-4a1c-9c7e-1838b3284ed6",
   "metadata": {},
   "outputs": [
    {
     "data": {
      "text/plain": [
       "[\"'m\",\n",
       " 'grate',\n",
       " 'senjohnmccain',\n",
       " 'lifetim',\n",
       " 'servic',\n",
       " 'countri',\n",
       " 'congratul',\n",
       " 'john',\n",
       " 'receiv',\n",
       " 'year',\n",
       " \"'s\",\n",
       " 'liberti',\n",
       " 'medal']"
      ]
     },
     "execution_count": 63,
     "metadata": {},
     "output_type": "execute_result"
    }
   ],
   "source": [
    "p_stemmer = PorterStemmer()\n",
    "\n",
    "docs_stemmed1 = []\n",
    "for i in docs:\n",
    "    docs_stemmed1.append([p_stemmer.stem(w) for w in i])\n",
    "    \n",
    "docs_stemmed1[0]"
   ]
  },
  {
   "cell_type": "code",
   "execution_count": 64,
   "id": "25ed24a8-d7fb-4680-b4c8-29240bb6d0fa",
   "metadata": {},
   "outputs": [
    {
     "data": {
      "text/plain": [
       "6936"
      ]
     },
     "execution_count": 64,
     "metadata": {},
     "output_type": "execute_result"
    }
   ],
   "source": [
    "dictionary1 = corpora.Dictionary(docs_stemmed1)\n",
    "len(dictionary1)"
   ]
  },
  {
   "cell_type": "code",
   "execution_count": 65,
   "id": "c22ad88a-89d2-496b-89a2-821c347b53d6",
   "metadata": {},
   "outputs": [
    {
     "data": {
      "text/plain": [
       "542"
      ]
     },
     "execution_count": 65,
     "metadata": {},
     "output_type": "execute_result"
    }
   ],
   "source": [
    "dictionary1.filter_extremes(no_below=10, no_above=0.5)\n",
    "len(dictionary1)"
   ]
  },
  {
   "cell_type": "code",
   "execution_count": 66,
   "id": "1a724baf-6817-4826-85a2-e700d7cb6aa8",
   "metadata": {},
   "outputs": [
    {
     "name": "stdout",
     "output_type": "stream",
     "text": [
      "{\"'m\": 0, \"'s\": 1, 'countri': 2, 'servic': 3, 'year': 4, 'amp': 5, 'anoth': 6, 'everyon': 7, 'famili': 8, 'michel': 9, 'thought': 10, 'best': 11, 'friend': 12, 'game': 13, 'proud': 14, 'team': 15, 'today': 16, \"'re\": 17, 'american': 18, 'effort': 19, 'expand': 20, 'fellow': 21, 'help': 22, 'join': 23, 'need': 24, 'right': 25, 'us': 26, 'better': 27, 'leav': 28, 'made': 29, 'want': 30, 'address': 31, 'presid': 32, 'rt': 33, 'start': 34, 'tune': 35, 'think': 36, 'tonight': 37, 'everi': 38, 'import': 39, 'kid': 40, 'make': 41, 'sure': 42, 'thank': 43, 'work': 44, 'chang': 45, 'inspir': 46, 'peopl': 47, 'world': 48, 'act': 49, 'ever': 50, 'honor': 51, 'across': 52, 'answer': 53, 'call': 54, 'u.s.': 55, 'futur': 56, 'hope': 57, 'mind': 58, 'young': 59, 'alway': 60, 'done': 61, 'noth': 62, 'statement': 63, 'first': 64, 'stand': 65, \"''\": 66, '...': 67, '``': 68, 'come': 69, 'love': 70, 'learn': 71, 'must': 72, 'one': 73, 'person': 74, \"'ve\": 75, 'give': 76, 'know': 77, \"n't\": 78, 'care': 79, 'health': 80, 'polit': 81, 'someth': 82, 'enough': 83, 'life': 84, 'commit': 85, 'day': 86, 'gun': 87, 'heard': 88, 'let': 89, 'nation': 90, 'reduc': 91, 'show': 92, 'violenc': 93, 'voic': 94, 'protect': 95, 'discuss': 96, 'good': 97, 'see': 98, 'go': 99, 'differ': 100, 'hear': 101, 'home': 102, 'happi': 103, 'back': 104, 'hard': 105, 'like': 106, 'it‰ûª': 107, 'side': 108, \"'ll\": 109, 'came': 110, 'miss': 111, 'turn': 112, 'power': 113, '//t‰û_': 114, 'commun': 115, 'lead': 116, 'mani': 117, 'tell': 118, '‰û_': 119, 'almost': 120, 'feel': 121, 'new': 122, 'job': 123, 'part': 124, 'read': 125, 'add': 126, 'ahead': 127, 'idea': 128, 'share': 129, 'everybodi': 130, 'get': 131, 'still': 132, 'thing': 133, 'eight': 134, 'et': 135, 'obama': 136, 'progress': 137, 'watch': 138, 'afford': 139, 'coverag': 140, 'ofa': 141, 'weekli': 142, 'improv': 143, 'obamacar': 144, 'economi': 145, 'keep': 146, 'stronger': 147, 'actonclim': 148, 'enter': 149, 'momentum': 150, 'parisagr': 151, 'ad': 152, 'past': 153, 'percent': 154, 'wage': 155, 'check': 156, 'getcov': 157, 'lot': 158, 'option': 159, 'plan': 160, 'big': 161, 'hold': 162, 'impact': 163, 'state': 164, 'believ': 165, 'even': 166, 'happen': 167, 'hous': 168, 'potu': 169, 'white': 170, 'win': 171, 'benefit': 172, 'million': 173, 'marketplac': 174, 'qualiti': 175, 'ensur': 176, 'equal': 177, 'mark': 178, 'pay': 179, 'whitehous': 180, 'never': 181, 'organ': 182, 'without': 183, 'open': 184, 'time': 185, 'uninsur': 186, '//t.‰û_': 187, 'enrol': 188, 'flotu': 189, 'stori': 190, 'tomorrow': 191, 'speak': 192, 'support': 193, 'insur': 194, 'three': 195, 'ca': 196, 'stop': 197, 'court': 198, 'doyourjob': 199, 'leader': 200, 'nomin': 201, 'obstruct': 202, 'process': 203, 'say': 204, 'senat': 205, 'suprem': 206, 'highest': 207, 'put': 208, 'chanc': 209, 'climat': 210, 'danger': 211, 'abl': 212, 'play': 213, 'rule': 214, 'lay': 215, 'way': 216, 'energi': 217, 'report': 218, 'gain': 219, 'peac': 220, 'build': 221, 'find': 222, 'cover': 223, 'name': 224, '1': 225, 'less': 226, 'month': 227, 'deserv': 228, 'fair': 229, 'sick': 230, 'system': 231, 'women': 232, 'trip': 233, 'truth': 234, 'financi': 235, 'movement': 236, 'polici': 237, 'strong': 238, 'level': 239, 'lowest': 240, 'sign': 241, 'sinc': 242, 'america': 243, 'cut': 244, 'rate': 245, 'live': 246, 'retweet': 247, 'save': 248, 'stay': 249, 'secur': 250, 'law': 251, 'celebr': 252, 'far': 253, 'talk': 254, '//t.co‰û_': 255, '10': 256, 'p.m.': 257, 'around': 258, 'got': 259, 'board': 260, 'editori': 261, 'look': 262, 'take': 263, 'justic': 264, 'long': 265, 'histori': 266, 'clear': 267, 'action': 268, 'bold': 269, 'real': 270, 'forward': 271, 'latest': 272, 'push': 273, 'step': 274, 'access': 275, 'educ': 276, 'fight': 277, 'could': 278, 'decad': 279, 'next': 280, 'block': 281, 'higher': 282, '‰ûó': 283, '//t.c‰û_': 284, 'opportun': 285, 'student': 286, 'garland': 287, 'judg': 288, 'agre': 289, 'fill': 290, 'cynic': 291, 'challeng': 292, 'face': 293, 'that‰ûª': 294, 'vote': 295, 'offic': 296, '//t.co/‰û_': 297, 'readi': 298, 'carbon': 299, 'deal': 300, 'last': 301, 'pollut': 302, 'reach': 303, 'week': 304, 'children': 305, 'planet': 306, 'behind': 307, 'effect': 308, 'scienc': 309, '‰ûópresid': 310, 'lgbt': 311, 'continu': 312, 'qualifi': 313, 'fact': 314, 'spread': 315, 'deadlin': 316, 'succeed': 317, 'administr': 318, 'econom': 319, 'growth': 320, 'longest': 321, 'record': 322, 'streak': 323, 'histor': 324, 'icymi': 325, 'mean': 326, 'clean': 327, 'cost': 328, 'drop': 329, 'gener': 330, 'agreement': 331, 'deliv': 332, 'vacanc': 333, 'pass': 334, 'matter': 335, 'convers': 336, 'bring': 337, 'inform': 338, 'paid': 339, 'private-sector': 340, 'took': 341, 'worker': 342, 'leadonleav': 343, 'child': 344, 'congress': 345, 'nomine': 346, 'consid': 347, 'refus': 348, 'õ': 349, '‰': 350, 'question': 351, 'easi': 352, 'togeth': 353, 'ago': 354, 'poverti': 355, 'six': 356, 'high': 357, 'yet': 358, 'end': 359, 'unpreced': 360, 'wait': 361, 'broken': 362, 'record-break': 363, 'set': 364, 'recess': 365, 'respons': 366, 'alreadi': 367, 'leadership': 368, 'meet': 369, 'unit': 370, 'basic': 371, 'remind': 372, 'partisan': 373, 'land': 374, 'water': 375, 'nearli': 376, '2016': 377, 'confer': 378, 'break': 379, 'constitut': 380, 'solar': 381, 'two': 382, 'scotu': 383, 'middle-class': 384, '2015': 385, '//‰û_': 386, 'biden': 387, 'interview': 388, 'global': 389, 'factsonclim': 390, 'wind': 391, 'vp': 392, 'rise': 393, 'messag': 394, 'great': 395, 'deficit': 396, 'unemploy': 397, 'thousand': 398, 'feder': 399, 'up-or-down': 400, 'treat': 401, 'birthday': 402, 'park': 403, 'news': 404, 'straight': 405, 'creat': 406, 'full': 407, 'longer': 408, 'public': 409, 'we‰ûªv': 410, 'anniversari': 411, 'billion': 412, 'common-sens': 413, 'disarmh': 414, 'use': 415, 'left': 416, 'five': 417, 'critic': 418, 'major': 419, 'much': 420, 'toward': 421, 'strongest': 422, 'card': 423, 'wish': 424, 'special': 425, '8': 426, 'number': 427, 'may': 428, 'issu': 429, 'place': 430, 'away': 431, 'scientist': 432, 'prevent': 433, 'announc': 434, 'minimum': 435, 'rais': 436, 'raisethewag': 437, 'crisi': 438, 'reform': 439, 'bipartisan': 440, 'busi': 441, '/‰û_': 442, 'industri': 443, 'train': 444, 'op-': 445, 'remark': 446, 'hall': 447, 'town': 448, 'would': 449, 'chicago': 450, 'hard-work': 451, 'chip': 452, 'run': 453, 'moment': 454, 'fall': 455, 'tackl': 456, 'demand': 457, '1st': 458, 'loveislov': 459, 'free': 460, 'marriag': 461, 'grassroot': 462, 'word': 463, 'immigr': 464, 'immigrationact': 465, 'decis': 466, 'merrick': 467, 'taken': 468, 'worth': 469, 'tpp': 470, 'final': 471, 'seven': 472, 'school': 473, 'overtim': 474, 'updat': 475, 'consecut': 476, 'grow': 477, 'men': 478, 'volunt': 479, 'trade': 480, 'air': 481, 'safer': 482, 'denier': 483, 'move': 484, 'head': 485, 'crimin': 486, 'huge': 487, 'invest': 488, 'threat': 489, 'a.m.': 490, 'centuri': 491, 'shot': 492, 'petit': 493, 'februari': 494, 'list': 495, 'itsonu': 496, 'skill': 497, 'januari': 498, 'budget': 499, 'send': 500, 'privat': 501, 'stopgunviol': 502, 'tri': 503, 'auto': 504, 'prison': 505, 'madeinamerica': 506, 'iran': 507, 'irand': 508, 'reject': 509, 'sotu': 510, 'leadontrad': 511, 'dollar': 512, 'colleg': 513, 'collegeopportun': 514, 'union': 515, 'alaska': 516, 'holiday': 517, 'reason': 518, 'enoughalreadi': 519, 'dosometh': 520, 'assault': 521, 'compani': 522, 'summit': 523, 'fix': 524, 'ofafallsummit': 525, 'class': 526, 'middl': 527, 'pledg': 528, 'fixovertim': 529, 'bill': 530, 'internet': 531, 'acawork': 532, 'lovewin': 533, 'marchon': 534, 'selma50': 535, 'netneutr': 536, 'sexual': 537, 'americalead': 538, 'thisiswhi': 539, 'womensucce': 540, 'opportunityforal': 541}\n"
     ]
    }
   ],
   "source": [
    "print(dictionary1.token2id)"
   ]
  },
  {
   "cell_type": "code",
   "execution_count": 70,
   "id": "8d83646c-a71e-4c46-b519-6057d41c079d",
   "metadata": {},
   "outputs": [
    {
     "name": "stdout",
     "output_type": "stream",
     "text": [
      "391\n",
      "155\n",
      "momentum\n",
      "bill\n"
     ]
    }
   ],
   "source": [
    "print(dictionary1.token2id['wind'])\n",
    "print(dictionary1.token2id['wage'])\n",
    "print(dictionary1[150])\n",
    "print(dictionary1[530])"
   ]
  },
  {
   "cell_type": "code",
   "execution_count": 73,
   "id": "184773cf-668a-40ae-9cbf-574d9529f792",
   "metadata": {},
   "outputs": [
    {
     "name": "stdout",
     "output_type": "stream",
     "text": [
      "[(1, 1), (24, 1), (40, 1), (95, 1), (105, 1), (106, 1)]\n"
     ]
    }
   ],
   "source": [
    "corpus = [dictionary1.doc2bow(text) for text in docs_stemmed1]\n",
    "print(corpus[30])"
   ]
  },
  {
   "cell_type": "code",
   "execution_count": 74,
   "id": "8e526f84-6c71-42bb-86ec-cc9bf0c1722f",
   "metadata": {},
   "outputs": [
    {
     "name": "stdout",
     "output_type": "stream",
     "text": [
      "'s 1\n",
      "'s 1\n",
      "need 1\n",
      "kid 1\n",
      "protect 1\n",
      "hard 1\n",
      "like 1\n"
     ]
    }
   ],
   "source": [
    "wordid = corpus[30][0]\n",
    "print(dictionary1[wordid[0]],wordid[1])\n",
    "\n",
    "for i in corpus[30]:\n",
    "    print(dictionary1[i[0]], i[1])"
   ]
  },
  {
   "cell_type": "code",
   "execution_count": 75,
   "id": "c4f42d0a-cbc3-4c08-aa16-a25ef4343c28",
   "metadata": {},
   "outputs": [
    {
     "data": {
      "text/plain": [
       "[(0,\n",
       "  '0.178*\"rt\" + 0.108*\"whitehous\" + 0.053*\"‰\" + 0.047*\"õ\" + 0.027*\"news\" + 0.027*\"great\" + 0.026*\"\\'s\" + 0.024*\"potu\" + 0.020*\"flotu\" + 0.017*\"assault\"'),\n",
       " (1,\n",
       "  '0.075*\"ofa\" + 0.061*\"get\" + 0.043*\"\\'s\" + 0.042*\"let\" + 0.032*\"countri\" + 0.031*\"across\" + 0.031*\"organ\" + 0.030*\"go\" + 0.026*\"team\" + 0.025*\"fact\"'),\n",
       " (2,\n",
       "  '0.084*\"senat\" + 0.071*\"doyourjob\" + 0.053*\"leader\" + 0.048*\"judg\" + 0.046*\"garland\" + 0.044*\"fair\" + 0.044*\"suprem\" + 0.043*\"court\" + 0.039*\"hear\" + 0.034*\"vote\"'),\n",
       " (3,\n",
       "  '0.180*\"presid\" + 0.147*\"obama\" + 0.065*\"live\" + 0.060*\"watch\" + 0.058*\"speak\" + 0.042*\"tune\" + 0.038*\"et\" + 0.030*\"p.m.\" + 0.025*\"happen\" + 0.023*\"deliv\"'),\n",
       " (4,\n",
       "  '0.059*\"actonclim\" + 0.052*\"support\" + 0.033*\"name\" + 0.033*\"clean\" + 0.032*\"plan\" + 0.030*\"power\" + 0.030*\"pollut\" + 0.026*\"add\" + 0.026*\"carbon\" + 0.025*\"invest\"'),\n",
       " (5,\n",
       "  '0.092*\"equal\" + 0.060*\"day\" + 0.056*\"pay\" + 0.043*\"retweet\" + 0.041*\"women\" + 0.038*\"loveislov\" + 0.031*\"marriag\" + 0.029*\"agre\" + 0.028*\"work\" + 0.027*\"think\"'),\n",
       " (6,\n",
       "  '0.060*\"health\" + 0.057*\"care\" + 0.039*\"act\" + 0.038*\"afford\" + 0.037*\"leav\" + 0.036*\"coverag\" + 0.035*\"paid\" + 0.032*\"part\" + 0.029*\"leadonleav\" + 0.029*\"american\"'),\n",
       " (7,\n",
       "  '0.093*\"presid\" + 0.067*\"obama\" + 0.056*\"watch\" + 0.051*\"address\" + 0.047*\"weekli\" + 0.038*\"tonight\" + 0.033*\"meet\" + 0.031*\"chanc\" + 0.030*\"\\'s\" + 0.029*\"enter\"'),\n",
       " (8,\n",
       "  '0.095*\"getcov\" + 0.061*\"health\" + 0.051*\"today\" + 0.041*\"make\" + 0.033*\"enrol\" + 0.031*\"check\" + 0.031*\"open\" + 0.031*\"get\" + 0.031*\"insur\" + 0.030*\"sure\"'),\n",
       " (9,\n",
       "  '0.146*\"job\" + 0.063*\"month\" + 0.054*\"economi\" + 0.046*\"growth\" + 0.043*\"rate\" + 0.041*\"ad\" + 0.041*\"million\" + 0.037*\"year\" + 0.032*\"record\" + 0.028*\"private-sector\"'),\n",
       " (10,\n",
       "  '0.086*\"obamacar\" + 0.071*\"health\" + 0.051*\"care\" + 0.039*\"thank\" + 0.036*\"matter\" + 0.032*\"american\" + 0.029*\"peopl\" + 0.028*\"reform\" + 0.028*\"make\" + 0.027*\"read\"'),\n",
       " (11,\n",
       "  '0.079*\"obama\" + 0.076*\"``\" + 0.074*\"\\'\\'\" + 0.072*\"‰ûópresid\" + 0.040*\"\\'re\" + 0.033*\"make\" + 0.031*\"colleg\" + 0.024*\"free\" + 0.021*\"law\" + 0.020*\"best\"'),\n",
       " (12,\n",
       "  '0.093*\"wage\" + 0.076*\"raisethewag\" + 0.073*\"rais\" + 0.072*\"minimum\" + 0.057*\"name\" + 0.050*\"add\" + 0.038*\"irand\" + 0.030*\"air\" + 0.029*\"want\" + 0.023*\"justic\"'),\n",
       " (13,\n",
       "  '0.070*\"immigr\" + 0.067*\"immigrationact\" + 0.054*\"take\" + 0.042*\"\\'s\" + 0.037*\"system\" + 0.029*\"broken\" + 0.026*\"pass\" + 0.026*\"itsonu\" + 0.026*\"look\" + 0.025*\"nation\"'),\n",
       " (14,\n",
       "  '0.069*\"\\'s\" + 0.055*\"econom\" + 0.041*\"work\" + 0.040*\"economi\" + 0.034*\"year\" + 0.034*\"n\\'t\" + 0.029*\"last\" + 0.028*\"middle-class\" + 0.025*\"miss\" + 0.025*\"build\"'),\n",
       " (15,\n",
       "  '0.146*\"\\'s\" + 0.126*\"time\" + 0.044*\"congress\" + 0.039*\"happi\" + 0.027*\"actonclim\" + 0.022*\"gun\" + 0.020*\"get\" + 0.019*\"birthday\" + 0.018*\"done\" + 0.018*\"year\"'),\n",
       " (16,\n",
       "  '0.127*\"chang\" + 0.109*\"climat\" + 0.101*\"actonclim\" + 0.063*\"fight\" + 0.043*\"\\'s\" + 0.025*\"read\" + 0.022*\"action\" + 0.020*\"real\" + 0.020*\"n\\'t\" + 0.016*\"state\"'),\n",
       " (17,\n",
       "  '0.156*\"``\" + 0.151*\"\\'\\'\" + 0.141*\"‰ûópresid\" + 0.138*\"obama\" + 0.021*\"america\" + 0.020*\"work\" + 0.018*\"sotu\" + 0.013*\"us\" + 0.012*\"american\" + 0.010*\"\\'s\"'),\n",
       " (18,\n",
       "  '0.115*\"rt\" + 0.072*\"‰ûó\" + 0.056*\"whitehous\" + 0.048*\"potu\" + 0.037*\"it‰ûª\" + 0.033*\"``\" + 0.031*\"right\" + 0.031*\"\\'\\'\" + 0.024*\"januari\" + 0.023*\"vp\"'),\n",
       " (19,\n",
       "  '0.063*\"presid\" + 0.053*\"obama\" + 0.037*\"american\" + 0.035*\"worker\" + 0.034*\"\\'s\" + 0.034*\"address\" + 0.033*\"progress\" + 0.029*\"sinc\" + 0.028*\"discuss\" + 0.028*\"leadontrad\"')]"
      ]
     },
     "execution_count": 75,
     "metadata": {},
     "output_type": "execute_result"
    }
   ],
   "source": [
    "ldamodel = gensim.models.ldamodel.LdaModel(corpus, \n",
    "                                           num_topics=20, \n",
    "                                           id2word = dictionary1, \n",
    "                                           passes=5)\n",
    "ldamodel.show_topics(num_topics=20)"
   ]
  },
  {
   "cell_type": "code",
   "execution_count": 76,
   "id": "7ea1adf1-ed83-4312-ba27-4e611f073422",
   "metadata": {},
   "outputs": [
    {
     "name": "stdout",
     "output_type": "stream",
     "text": [
      "0\n",
      "0.178*\"rt\" + 0.108*\"whitehous\" + 0.053*\"‰\" + 0.047*\"õ\" + 0.027*\"news\" + 0.027*\"great\" + 0.026*\"'s\" + 0.024*\"potu\" + 0.020*\"flotu\" + 0.017*\"assault\" + 0.017*\"‰û_\" + 0.016*\"1st\" + 0.014*\"//‰û_\" + 0.014*\"watch\" + 0.013*\"world\" + 0.012*\"amp\" + 0.012*\"//t.c‰û_\" + 0.012*\"today\" + 0.012*\"help\" + 0.011*\"worth\"\n",
      "\n",
      "\n",
      "1\n",
      "0.075*\"ofa\" + 0.061*\"get\" + 0.043*\"'s\" + 0.042*\"let\" + 0.032*\"countri\" + 0.031*\"across\" + 0.031*\"organ\" + 0.030*\"go\" + 0.026*\"team\" + 0.025*\"fact\" + 0.024*\"readi\" + 0.023*\"help\" + 0.023*\"holiday\" + 0.022*\"2015\" + 0.021*\"join\" + 0.020*\"love\" + 0.019*\"cover\" + 0.018*\"truth\" + 0.018*\"like\" + 0.016*\"fight\"\n",
      "\n",
      "\n",
      "2\n",
      "0.084*\"senat\" + 0.071*\"doyourjob\" + 0.053*\"leader\" + 0.048*\"judg\" + 0.046*\"garland\" + 0.044*\"fair\" + 0.044*\"suprem\" + 0.043*\"court\" + 0.039*\"hear\" + 0.034*\"vote\" + 0.028*\"deserv\" + 0.024*\"'s\" + 0.023*\"polit\" + 0.020*\"give\" + 0.019*\"time\" + 0.016*\"scotu\" + 0.015*\"nomin\" + 0.015*\"tell\" + 0.014*\"vacanc\" + 0.014*\"game\"\n",
      "\n",
      "\n",
      "3\n",
      "0.180*\"presid\" + 0.147*\"obama\" + 0.065*\"live\" + 0.060*\"watch\" + 0.058*\"speak\" + 0.042*\"tune\" + 0.038*\"et\" + 0.030*\"p.m.\" + 0.025*\"happen\" + 0.023*\"deliv\" + 0.020*\"hous\" + 0.019*\"'s\" + 0.015*\"white\" + 0.014*\"nation\" + 0.013*\"statement\" + 0.011*\"ofa\" + 0.010*\"state\" + 0.010*\"messag\" + 0.009*\"remark\" + 0.009*\"discuss\"\n",
      "\n",
      "\n",
      "4\n",
      "0.059*\"actonclim\" + 0.052*\"support\" + 0.033*\"name\" + 0.033*\"clean\" + 0.032*\"plan\" + 0.030*\"power\" + 0.030*\"pollut\" + 0.026*\"add\" + 0.026*\"carbon\" + 0.025*\"invest\" + 0.023*\"energi\" + 0.022*\"cut\" + 0.021*\"big\" + 0.020*\"believ\" + 0.016*\"global\" + 0.015*\"new\" + 0.014*\"announc\" + 0.014*\"presid\" + 0.014*\"stand\" + 0.014*\"gener\"\n",
      "\n",
      "\n",
      "5\n",
      "0.092*\"equal\" + 0.060*\"day\" + 0.056*\"pay\" + 0.043*\"retweet\" + 0.041*\"women\" + 0.038*\"loveislov\" + 0.031*\"marriag\" + 0.029*\"agre\" + 0.028*\"work\" + 0.027*\"think\" + 0.024*\"board\" + 0.023*\"pledg\" + 0.021*\"editori\" + 0.020*\"head\" + 0.017*\"ensur\" + 0.015*\"icymi\" + 0.014*\"rt\" + 0.013*\"stop\" + 0.012*\"need\" + 0.012*\"name\"\n",
      "\n",
      "\n",
      "6\n",
      "0.060*\"health\" + 0.057*\"care\" + 0.039*\"act\" + 0.038*\"afford\" + 0.037*\"leav\" + 0.036*\"coverag\" + 0.035*\"paid\" + 0.032*\"part\" + 0.029*\"leadonleav\" + 0.029*\"american\" + 0.026*\"issu\" + 0.024*\"million\" + 0.021*\"n't\" + 0.020*\"secur\" + 0.020*\"famili\" + 0.019*\"tri\" + 0.016*\"'s\" + 0.015*\"send\" + 0.015*\"team\" + 0.014*\"sick\"\n",
      "\n",
      "\n",
      "7\n",
      "0.093*\"presid\" + 0.067*\"obama\" + 0.056*\"watch\" + 0.051*\"address\" + 0.047*\"weekli\" + 0.038*\"tonight\" + 0.033*\"meet\" + 0.031*\"chanc\" + 0.030*\"'s\" + 0.029*\"enter\" + 0.028*\"deadlin\" + 0.023*\"could\" + 0.023*\"grassroot\" + 0.019*\"talk\" + 0.019*\"movement\" + 0.016*\"get\" + 0.015*\"friend\" + 0.014*\"discuss\" + 0.013*\"life\" + 0.012*\"help\"\n",
      "\n",
      "\n",
      "8\n",
      "0.095*\"getcov\" + 0.061*\"health\" + 0.051*\"today\" + 0.041*\"make\" + 0.033*\"enrol\" + 0.031*\"check\" + 0.031*\"open\" + 0.031*\"get\" + 0.031*\"insur\" + 0.030*\"sure\" + 0.025*\"'s\" + 0.023*\"start\" + 0.023*\"care\" + 0.017*\"cover\" + 0.017*\"find\" + 0.017*\"left\" + 0.016*\"day\" + 0.016*\"plan\" + 0.016*\"ofa\" + 0.016*\"option\"\n",
      "\n",
      "\n",
      "9\n",
      "0.146*\"job\" + 0.063*\"month\" + 0.054*\"economi\" + 0.046*\"growth\" + 0.043*\"rate\" + 0.041*\"ad\" + 0.041*\"million\" + 0.037*\"year\" + 0.032*\"record\" + 0.028*\"private-sector\" + 0.024*\"uninsur\" + 0.024*\"american\" + 0.021*\"'s\" + 0.021*\"internet\" + 0.019*\"nearli\" + 0.017*\"new\" + 0.016*\"gain\" + 0.015*\"almost\" + 0.015*\"drop\" + 0.015*\"unemploy\"\n",
      "\n",
      "\n",
      "10\n",
      "0.086*\"obamacar\" + 0.071*\"health\" + 0.051*\"care\" + 0.039*\"thank\" + 0.036*\"matter\" + 0.032*\"american\" + 0.029*\"peopl\" + 0.028*\"reform\" + 0.028*\"make\" + 0.027*\"read\" + 0.027*\"million\" + 0.024*\"biden\" + 0.023*\"young\" + 0.023*\"commun\" + 0.023*\"vp\" + 0.021*\"'s\" + 0.020*\"help\" + 0.020*\"mind\" + 0.016*\"improv\" + 0.015*\"stori\"\n",
      "\n",
      "\n",
      "11\n",
      "0.079*\"obama\" + 0.076*\"``\" + 0.074*\"''\" + 0.072*\"‰ûópresid\" + 0.040*\"'re\" + 0.033*\"make\" + 0.031*\"colleg\" + 0.024*\"free\" + 0.021*\"law\" + 0.020*\"best\" + 0.019*\"school\" + 0.017*\"high\" + 0.016*\"past\" + 0.016*\"everybodi\" + 0.015*\"today\" + 0.015*\"sure\" + 0.015*\"class\" + 0.014*\"year\" + 0.013*\"countri\" + 0.013*\"'s\"\n",
      "\n",
      "\n",
      "12\n",
      "0.093*\"wage\" + 0.076*\"raisethewag\" + 0.073*\"rais\" + 0.072*\"minimum\" + 0.057*\"name\" + 0.050*\"add\" + 0.038*\"irand\" + 0.030*\"air\" + 0.029*\"want\" + 0.023*\"justic\" + 0.022*\"know\" + 0.019*\"opportun\" + 0.018*\"iran\" + 0.017*\"histori\" + 0.017*\"obama\" + 0.016*\"critic\" + 0.013*\"make\" + 0.013*\"would\" + 0.012*\"crimin\" + 0.012*\"american\"\n",
      "\n",
      "\n",
      "13\n",
      "0.070*\"immigr\" + 0.067*\"immigrationact\" + 0.054*\"take\" + 0.042*\"'s\" + 0.037*\"system\" + 0.029*\"broken\" + 0.026*\"pass\" + 0.026*\"itsonu\" + 0.026*\"look\" + 0.025*\"nation\" + 0.024*\"fix\" + 0.021*\"congress\" + 0.020*\"say\" + 0.020*\"presid\" + 0.019*\"action\" + 0.017*\"step\" + 0.017*\"reform\" + 0.017*\"help\" + 0.016*\"enoughalreadi\" + 0.015*\"bill\"\n",
      "\n",
      "\n",
      "14\n",
      "0.069*\"'s\" + 0.055*\"econom\" + 0.041*\"work\" + 0.040*\"economi\" + 0.034*\"year\" + 0.034*\"n't\" + 0.029*\"last\" + 0.028*\"middle-class\" + 0.025*\"miss\" + 0.025*\"build\" + 0.023*\"sign\" + 0.022*\"way\" + 0.022*\"still\" + 0.021*\"grow\" + 0.021*\"famili\" + 0.020*\"futur\" + 0.020*\"better\" + 0.020*\"call\" + 0.019*\"long\" + 0.018*\"card\"\n",
      "\n",
      "\n",
      "15\n",
      "0.146*\"'s\" + 0.126*\"time\" + 0.044*\"congress\" + 0.039*\"happi\" + 0.027*\"actonclim\" + 0.022*\"gun\" + 0.020*\"get\" + 0.019*\"birthday\" + 0.018*\"done\" + 0.018*\"year\" + 0.016*\"first\" + 0.016*\"violenc\" + 0.015*\"need\" + 0.014*\"cynic\" + 0.014*\"proud\" + 0.014*\"reason\" + 0.013*\"side\" + 0.013*\"remind\" + 0.012*\"agre\" + 0.012*\"take\"\n",
      "\n",
      "\n",
      "16\n",
      "0.127*\"chang\" + 0.109*\"climat\" + 0.101*\"actonclim\" + 0.063*\"fight\" + 0.043*\"'s\" + 0.025*\"read\" + 0.022*\"action\" + 0.020*\"real\" + 0.020*\"n't\" + 0.016*\"state\" + 0.016*\"show\" + 0.015*\"support\" + 0.014*\"let\" + 0.012*\"help\" + 0.011*\"lead\" + 0.011*\"denier\" + 0.010*\"protect\" + 0.010*\"water\" + 0.010*\"latest\" + 0.009*\"take\"\n",
      "\n",
      "\n",
      "17\n",
      "0.156*\"``\" + 0.151*\"''\" + 0.141*\"‰ûópresid\" + 0.138*\"obama\" + 0.021*\"america\" + 0.020*\"work\" + 0.018*\"sotu\" + 0.013*\"us\" + 0.012*\"american\" + 0.010*\"'s\" + 0.010*\"peopl\" + 0.008*\"n't\" + 0.008*\"year\" + 0.008*\"...\" + 0.008*\"famili\" + 0.007*\"'ve\" + 0.006*\"everi\" + 0.006*\"togeth\" + 0.006*\"go\" + 0.005*\"world\"\n",
      "\n",
      "\n",
      "18\n",
      "0.115*\"rt\" + 0.072*\"‰ûó\" + 0.056*\"whitehous\" + 0.048*\"potu\" + 0.037*\"it‰ûª\" + 0.033*\"``\" + 0.031*\"right\" + 0.031*\"''\" + 0.024*\"januari\" + 0.023*\"vp\" + 0.019*\"everi\" + 0.019*\"learn\" + 0.018*\"tomorrow\" + 0.017*\"coverag\" + 0.015*\"nomine\" + 0.014*\"announc\" + 0.014*\"number\" + 0.014*\"industri\" + 0.013*\"unpreced\" + 0.013*\"chicago\"\n",
      "\n",
      "\n",
      "19\n",
      "0.063*\"presid\" + 0.053*\"obama\" + 0.037*\"american\" + 0.035*\"worker\" + 0.034*\"'s\" + 0.034*\"address\" + 0.033*\"progress\" + 0.029*\"sinc\" + 0.028*\"discuss\" + 0.028*\"leadontrad\" + 0.026*\"weekli\" + 0.023*\"america\" + 0.022*\"made\" + 0.022*\"state\" + 0.020*\"unit\" + 0.019*\"busi\" + 0.017*\"five\" + 0.016*\"took\" + 0.016*\"watch\" + 0.015*\"higher\"\n",
      "\n",
      "\n"
     ]
    }
   ],
   "source": [
    "for i in ldamodel.print_topics(num_topics=20, num_words=20):\n",
    "    print(i[0])\n",
    "    print(i[1])\n",
    "    print('\\n')"
   ]
  },
  {
   "cell_type": "code",
   "execution_count": null,
   "id": "4ecf2b5a-0887-43fb-9997-5d6dc0880cb5",
   "metadata": {},
   "outputs": [],
   "source": []
  }
 ],
 "metadata": {
  "kernelspec": {
   "display_name": "Python 3 (ipykernel)",
   "language": "python",
   "name": "python3"
  },
  "language_info": {
   "codemirror_mode": {
    "name": "ipython",
    "version": 3
   },
   "file_extension": ".py",
   "mimetype": "text/x-python",
   "name": "python",
   "nbconvert_exporter": "python",
   "pygments_lexer": "ipython3",
   "version": "3.9.6"
  }
 },
 "nbformat": 4,
 "nbformat_minor": 5
}
