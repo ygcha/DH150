{
 "cells": [
  {
   "cell_type": "markdown",
   "id": "1d7756af-61f1-4f81-a7b5-77f6b0b41ddb",
   "metadata": {},
   "source": [
    "# Assignment 6"
   ]
  },
  {
   "cell_type": "code",
   "execution_count": 1,
   "id": "9f602a49-c702-462f-9741-ff59740cc213",
   "metadata": {},
   "outputs": [
    {
     "name": "stderr",
     "output_type": "stream",
     "text": [
      "[nltk_data] Downloading package vader_lexicon to\n",
      "[nltk_data]     /home/jovyan/nltk_data...\n",
      "[nltk_data]   Package vader_lexicon is already up-to-date!\n"
     ]
    }
   ],
   "source": [
    "import numpy as np\n",
    "import pandas as pd\n",
    "import statistics\n",
    "import matplotlib.pyplot as plt\n",
    "import nltk\n",
    "nltk.download('vader_lexicon')\n",
    "from nltk.sentiment.vader import SentimentIntensityAnalyzer\n",
    "sia = SentimentIntensityAnalyzer()"
   ]
  },
  {
   "cell_type": "markdown",
   "id": "debf5a77-8f86-44c8-ab22-29b6f96a0c94",
   "metadata": {},
   "source": [
    "#### Import Data"
   ]
  },
  {
   "cell_type": "code",
   "execution_count": 2,
   "id": "2c70a075-5eb2-45ba-b747-3ed679edc4d3",
   "metadata": {},
   "outputs": [],
   "source": [
    "trump_tweets = pd.read_csv('realDonaldTrump.csv',encoding='mac_roman')\n",
    "obama_tweets = pd.read_csv('BarackObama.csv',encoding='mac_roman')"
   ]
  },
  {
   "cell_type": "markdown",
   "id": "f65153f9-4972-46ac-9272-ec2b35ee2015",
   "metadata": {},
   "source": [
    "#### View Data"
   ]
  },
  {
   "cell_type": "code",
   "execution_count": 3,
   "id": "f02fd451-04e4-4122-bacc-83d81a7d1e1b",
   "metadata": {},
   "outputs": [
    {
     "data": {
      "text/html": [
       "<div>\n",
       "<style scoped>\n",
       "    .dataframe tbody tr th:only-of-type {\n",
       "        vertical-align: middle;\n",
       "    }\n",
       "\n",
       "    .dataframe tbody tr th {\n",
       "        vertical-align: top;\n",
       "    }\n",
       "\n",
       "    .dataframe thead th {\n",
       "        text-align: right;\n",
       "    }\n",
       "</style>\n",
       "<table border=\"1\" class=\"dataframe\">\n",
       "  <thead>\n",
       "    <tr style=\"text-align: right;\">\n",
       "      <th></th>\n",
       "      <th>created_at</th>\n",
       "      <th>text</th>\n",
       "      <th>url</th>\n",
       "      <th>replies</th>\n",
       "      <th>retweets</th>\n",
       "      <th>favorites</th>\n",
       "      <th>user</th>\n",
       "    </tr>\n",
       "  </thead>\n",
       "  <tbody>\n",
       "    <tr>\n",
       "      <th>0</th>\n",
       "      <td>10/23/17 12:30</td>\n",
       "      <td>I had a very respectful conversation with the ...</td>\n",
       "      <td>https://twitter.com/realDonaldTrump/status/922...</td>\n",
       "      <td>46228</td>\n",
       "      <td>10243</td>\n",
       "      <td>49468</td>\n",
       "      <td>realDonaldTrump</td>\n",
       "    </tr>\n",
       "    <tr>\n",
       "      <th>1</th>\n",
       "      <td>10/23/17 11:53</td>\n",
       "      <td>Two dozen NFL players continue to kneel during...</td>\n",
       "      <td>https://twitter.com/realDonaldTrump/status/922...</td>\n",
       "      <td>31419</td>\n",
       "      <td>14006</td>\n",
       "      <td>62406</td>\n",
       "      <td>realDonaldTrump</td>\n",
       "    </tr>\n",
       "    <tr>\n",
       "      <th>2</th>\n",
       "      <td>10/23/17 11:42</td>\n",
       "      <td>There will be NO change to your 401(k). This h...</td>\n",
       "      <td>https://twitter.com/realDonaldTrump/status/922...</td>\n",
       "      <td>9552</td>\n",
       "      <td>13719</td>\n",
       "      <td>62662</td>\n",
       "      <td>realDonaldTrump</td>\n",
       "    </tr>\n",
       "    <tr>\n",
       "      <th>3</th>\n",
       "      <td>10/22/17 12:08</td>\n",
       "      <td>It is finally sinking through. 46% OF PEOPLE B...</td>\n",
       "      <td>https://twitter.com/realDonaldTrump/status/922...</td>\n",
       "      <td>56238</td>\n",
       "      <td>25102</td>\n",
       "      <td>112890</td>\n",
       "      <td>realDonaldTrump</td>\n",
       "    </tr>\n",
       "    <tr>\n",
       "      <th>4</th>\n",
       "      <td>10/22/17 12:02</td>\n",
       "      <td>Wacky Congresswoman Wilson is the gift that ke...</td>\n",
       "      <td>https://twitter.com/realDonaldTrump/status/922...</td>\n",
       "      <td>32136</td>\n",
       "      <td>21573</td>\n",
       "      <td>97145</td>\n",
       "      <td>realDonaldTrump</td>\n",
       "    </tr>\n",
       "    <tr>\n",
       "      <th>...</th>\n",
       "      <td>...</td>\n",
       "      <td>...</td>\n",
       "      <td>...</td>\n",
       "      <td>...</td>\n",
       "      <td>...</td>\n",
       "      <td>...</td>\n",
       "      <td>...</td>\n",
       "    </tr>\n",
       "    <tr>\n",
       "      <th>3227</th>\n",
       "      <td>8/24/16 22:39</td>\n",
       "      <td>Thank you for your support!\\r#AmericaFirst #Im...</td>\n",
       "      <td>https://twitter.com/realDonaldTrump/status/768...</td>\n",
       "      <td>1693</td>\n",
       "      <td>6441</td>\n",
       "      <td>18401</td>\n",
       "      <td>realDonaldTrump</td>\n",
       "    </tr>\n",
       "    <tr>\n",
       "      <th>3228</th>\n",
       "      <td>8/24/16 21:32</td>\n",
       "      <td>A great afternoon in Tampa, Florida. Thank you...</td>\n",
       "      <td>https://twitter.com/realDonaldTrump/status/768...</td>\n",
       "      <td>1148</td>\n",
       "      <td>4837</td>\n",
       "      <td>16968</td>\n",
       "      <td>realDonaldTrump</td>\n",
       "    </tr>\n",
       "    <tr>\n",
       "      <th>3229</th>\n",
       "      <td>8/24/16 17:24</td>\n",
       "      <td>New national poll released. Join the MOVEMENT ...</td>\n",
       "      <td>https://twitter.com/realDonaldTrump/status/768...</td>\n",
       "      <td>2737</td>\n",
       "      <td>5991</td>\n",
       "      <td>16619</td>\n",
       "      <td>realDonaldTrump</td>\n",
       "    </tr>\n",
       "    <tr>\n",
       "      <th>3230</th>\n",
       "      <td>8/24/16 16:42</td>\n",
       "      <td>Great new poll Florida - thank you! #MakeAmeri...</td>\n",
       "      <td>https://twitter.com/realDonaldTrump/status/768...</td>\n",
       "      <td>1888</td>\n",
       "      <td>7288</td>\n",
       "      <td>20072</td>\n",
       "      <td>realDonaldTrump</td>\n",
       "    </tr>\n",
       "    <tr>\n",
       "      <th>3231</th>\n",
       "      <td>8/24/16 15:19</td>\n",
       "      <td>I will not let the families of The Remembrance...</td>\n",
       "      <td>https://twitter.com/realDonaldTrump/status/768...</td>\n",
       "      <td>1178</td>\n",
       "      <td>6809</td>\n",
       "      <td>15973</td>\n",
       "      <td>realDonaldTrump</td>\n",
       "    </tr>\n",
       "  </tbody>\n",
       "</table>\n",
       "<p>3232 rows × 7 columns</p>\n",
       "</div>"
      ],
      "text/plain": [
       "          created_at                                               text  \\\n",
       "0     10/23/17 12:30  I had a very respectful conversation with the ...   \n",
       "1     10/23/17 11:53  Two dozen NFL players continue to kneel during...   \n",
       "2     10/23/17 11:42  There will be NO change to your 401(k). This h...   \n",
       "3     10/22/17 12:08  It is finally sinking through. 46% OF PEOPLE B...   \n",
       "4     10/22/17 12:02  Wacky Congresswoman Wilson is the gift that ke...   \n",
       "...              ...                                                ...   \n",
       "3227   8/24/16 22:39  Thank you for your support!\\r#AmericaFirst #Im...   \n",
       "3228   8/24/16 21:32  A great afternoon in Tampa, Florida. Thank you...   \n",
       "3229   8/24/16 17:24  New national poll released. Join the MOVEMENT ...   \n",
       "3230   8/24/16 16:42  Great new poll Florida - thank you! #MakeAmeri...   \n",
       "3231   8/24/16 15:19  I will not let the families of The Remembrance...   \n",
       "\n",
       "                                                    url  replies  retweets  \\\n",
       "0     https://twitter.com/realDonaldTrump/status/922...    46228     10243   \n",
       "1     https://twitter.com/realDonaldTrump/status/922...    31419     14006   \n",
       "2     https://twitter.com/realDonaldTrump/status/922...     9552     13719   \n",
       "3     https://twitter.com/realDonaldTrump/status/922...    56238     25102   \n",
       "4     https://twitter.com/realDonaldTrump/status/922...    32136     21573   \n",
       "...                                                 ...      ...       ...   \n",
       "3227  https://twitter.com/realDonaldTrump/status/768...     1693      6441   \n",
       "3228  https://twitter.com/realDonaldTrump/status/768...     1148      4837   \n",
       "3229  https://twitter.com/realDonaldTrump/status/768...     2737      5991   \n",
       "3230  https://twitter.com/realDonaldTrump/status/768...     1888      7288   \n",
       "3231  https://twitter.com/realDonaldTrump/status/768...     1178      6809   \n",
       "\n",
       "      favorites             user  \n",
       "0         49468  realDonaldTrump  \n",
       "1         62406  realDonaldTrump  \n",
       "2         62662  realDonaldTrump  \n",
       "3        112890  realDonaldTrump  \n",
       "4         97145  realDonaldTrump  \n",
       "...         ...              ...  \n",
       "3227      18401  realDonaldTrump  \n",
       "3228      16968  realDonaldTrump  \n",
       "3229      16619  realDonaldTrump  \n",
       "3230      20072  realDonaldTrump  \n",
       "3231      15973  realDonaldTrump  \n",
       "\n",
       "[3232 rows x 7 columns]"
      ]
     },
     "execution_count": 3,
     "metadata": {},
     "output_type": "execute_result"
    }
   ],
   "source": [
    "trump_tweets"
   ]
  },
  {
   "cell_type": "code",
   "execution_count": 4,
   "id": "5ed4e4bb-da4d-44b0-949b-25e3fde3b8ca",
   "metadata": {},
   "outputs": [
    {
     "data": {
      "text/html": [
       "<div>\n",
       "<style scoped>\n",
       "    .dataframe tbody tr th:only-of-type {\n",
       "        vertical-align: middle;\n",
       "    }\n",
       "\n",
       "    .dataframe tbody tr th {\n",
       "        vertical-align: top;\n",
       "    }\n",
       "\n",
       "    .dataframe thead th {\n",
       "        text-align: right;\n",
       "    }\n",
       "</style>\n",
       "<table border=\"1\" class=\"dataframe\">\n",
       "  <thead>\n",
       "    <tr style=\"text-align: right;\">\n",
       "      <th></th>\n",
       "      <th>created_at</th>\n",
       "      <th>text</th>\n",
       "      <th>url</th>\n",
       "      <th>replies</th>\n",
       "      <th>retweets</th>\n",
       "      <th>favorites</th>\n",
       "      <th>user</th>\n",
       "    </tr>\n",
       "  </thead>\n",
       "  <tbody>\n",
       "    <tr>\n",
       "      <th>0</th>\n",
       "      <td>10/16/17 22:59</td>\n",
       "      <td>I'm grateful to @SenJohnMcCain for his lifetim...</td>\n",
       "      <td>https://twitter.com/BarackObama/status/9200615...</td>\n",
       "      <td>17064</td>\n",
       "      <td>89916</td>\n",
       "      <td>641842</td>\n",
       "      <td>BarackObama</td>\n",
       "    </tr>\n",
       "    <tr>\n",
       "      <th>1</th>\n",
       "      <td>10/2/17 12:41</td>\n",
       "      <td>Michelle &amp;amp; I are praying for the victims i...</td>\n",
       "      <td>https://twitter.com/BarackObama/status/9148326...</td>\n",
       "      <td>21588</td>\n",
       "      <td>405895</td>\n",
       "      <td>1715753</td>\n",
       "      <td>BarackObama</td>\n",
       "    </tr>\n",
       "    <tr>\n",
       "      <th>2</th>\n",
       "      <td>9/30/17 2:22</td>\n",
       "      <td>Proud to cheer on Team USA at the Invictus Gam...</td>\n",
       "      <td>https://twitter.com/BarackObama/status/9139520...</td>\n",
       "      <td>8476</td>\n",
       "      <td>60651</td>\n",
       "      <td>503255</td>\n",
       "      <td>BarackObama</td>\n",
       "    </tr>\n",
       "    <tr>\n",
       "      <th>3</th>\n",
       "      <td>9/26/17 17:03</td>\n",
       "      <td>We're expanding our efforts to help Puerto Ric...</td>\n",
       "      <td>https://twitter.com/BarackObama/status/9127244...</td>\n",
       "      <td>10657</td>\n",
       "      <td>113807</td>\n",
       "      <td>334901</td>\n",
       "      <td>BarackObama</td>\n",
       "    </tr>\n",
       "    <tr>\n",
       "      <th>4</th>\n",
       "      <td>9/25/17 23:36</td>\n",
       "      <td>Prosecutor, soldier, family man, citizen. Beau...</td>\n",
       "      <td>https://twitter.com/BarackObama/status/9124608...</td>\n",
       "      <td>3886</td>\n",
       "      <td>58449</td>\n",
       "      <td>328106</td>\n",
       "      <td>BarackObama</td>\n",
       "    </tr>\n",
       "    <tr>\n",
       "      <th>...</th>\n",
       "      <td>...</td>\n",
       "      <td>...</td>\n",
       "      <td>...</td>\n",
       "      <td>...</td>\n",
       "      <td>...</td>\n",
       "      <td>...</td>\n",
       "      <td>...</td>\n",
       "    </tr>\n",
       "    <tr>\n",
       "      <th>3202</th>\n",
       "      <td>8/15/14 20:16</td>\n",
       "      <td>Earning the minimum wage while raising a famil...</td>\n",
       "      <td>https://twitter.com/BarackObama/status/5003754...</td>\n",
       "      <td>536</td>\n",
       "      <td>1520</td>\n",
       "      <td>2155</td>\n",
       "      <td>BarackObama</td>\n",
       "    </tr>\n",
       "    <tr>\n",
       "      <th>3203</th>\n",
       "      <td>8/15/14 18:02</td>\n",
       "      <td>FACT: 97% of scientists and NASA accept the sc...</td>\n",
       "      <td>https://twitter.com/BarackObama/status/5003418...</td>\n",
       "      <td>531</td>\n",
       "      <td>2103</td>\n",
       "      <td>2377</td>\n",
       "      <td>BarackObama</td>\n",
       "    </tr>\n",
       "    <tr>\n",
       "      <th>3204</th>\n",
       "      <td>8/15/14 16:21</td>\n",
       "      <td>Getting covered made Jason so happy he wanted ...</td>\n",
       "      <td>https://twitter.com/BarackObama/status/5003164...</td>\n",
       "      <td>206</td>\n",
       "      <td>261</td>\n",
       "      <td>721</td>\n",
       "      <td>BarackObama</td>\n",
       "    </tr>\n",
       "    <tr>\n",
       "      <th>3205</th>\n",
       "      <td>8/15/14 15:15</td>\n",
       "      <td>It's time to get serious and #ActOnClimate. ht...</td>\n",
       "      <td>https://twitter.com/BarackObama/status/5002997...</td>\n",
       "      <td>509</td>\n",
       "      <td>2009</td>\n",
       "      <td>2273</td>\n",
       "      <td>BarackObama</td>\n",
       "    </tr>\n",
       "    <tr>\n",
       "      <th>3206</th>\n",
       "      <td>8/14/14 16:50</td>\n",
       "      <td>Happening now: President Obama is delivering a...</td>\n",
       "      <td>https://twitter.com/BarackObama/status/4999611...</td>\n",
       "      <td>583</td>\n",
       "      <td>1243</td>\n",
       "      <td>961</td>\n",
       "      <td>BarackObama</td>\n",
       "    </tr>\n",
       "  </tbody>\n",
       "</table>\n",
       "<p>3207 rows × 7 columns</p>\n",
       "</div>"
      ],
      "text/plain": [
       "          created_at                                               text  \\\n",
       "0     10/16/17 22:59  I'm grateful to @SenJohnMcCain for his lifetim...   \n",
       "1      10/2/17 12:41  Michelle &amp; I are praying for the victims i...   \n",
       "2       9/30/17 2:22  Proud to cheer on Team USA at the Invictus Gam...   \n",
       "3      9/26/17 17:03  We're expanding our efforts to help Puerto Ric...   \n",
       "4      9/25/17 23:36  Prosecutor, soldier, family man, citizen. Beau...   \n",
       "...              ...                                                ...   \n",
       "3202   8/15/14 20:16  Earning the minimum wage while raising a famil...   \n",
       "3203   8/15/14 18:02  FACT: 97% of scientists and NASA accept the sc...   \n",
       "3204   8/15/14 16:21  Getting covered made Jason so happy he wanted ...   \n",
       "3205   8/15/14 15:15  It's time to get serious and #ActOnClimate. ht...   \n",
       "3206   8/14/14 16:50  Happening now: President Obama is delivering a...   \n",
       "\n",
       "                                                    url  replies  retweets  \\\n",
       "0     https://twitter.com/BarackObama/status/9200615...    17064     89916   \n",
       "1     https://twitter.com/BarackObama/status/9148326...    21588    405895   \n",
       "2     https://twitter.com/BarackObama/status/9139520...     8476     60651   \n",
       "3     https://twitter.com/BarackObama/status/9127244...    10657    113807   \n",
       "4     https://twitter.com/BarackObama/status/9124608...     3886     58449   \n",
       "...                                                 ...      ...       ...   \n",
       "3202  https://twitter.com/BarackObama/status/5003754...      536      1520   \n",
       "3203  https://twitter.com/BarackObama/status/5003418...      531      2103   \n",
       "3204  https://twitter.com/BarackObama/status/5003164...      206       261   \n",
       "3205  https://twitter.com/BarackObama/status/5002997...      509      2009   \n",
       "3206  https://twitter.com/BarackObama/status/4999611...      583      1243   \n",
       "\n",
       "      favorites         user  \n",
       "0        641842  BarackObama  \n",
       "1       1715753  BarackObama  \n",
       "2        503255  BarackObama  \n",
       "3        334901  BarackObama  \n",
       "4        328106  BarackObama  \n",
       "...         ...          ...  \n",
       "3202       2155  BarackObama  \n",
       "3203       2377  BarackObama  \n",
       "3204        721  BarackObama  \n",
       "3205       2273  BarackObama  \n",
       "3206        961  BarackObama  \n",
       "\n",
       "[3207 rows x 7 columns]"
      ]
     },
     "execution_count": 4,
     "metadata": {},
     "output_type": "execute_result"
    }
   ],
   "source": [
    "obama_tweets"
   ]
  },
  {
   "cell_type": "markdown",
   "id": "355b3eb9-0efc-4d0e-95fa-e29276192f39",
   "metadata": {},
   "source": [
    "#### VADER's SentimentIntensityAnalyzer to get the sentiment scores"
   ]
  },
  {
   "cell_type": "code",
   "execution_count": 5,
   "id": "457ed979-db2b-4e7a-9194-893d84d89137",
   "metadata": {},
   "outputs": [],
   "source": [
    "trump_text = trump_tweets['text']\n",
    "obama_text = obama_tweets['text']"
   ]
  },
  {
   "cell_type": "code",
   "execution_count": 6,
   "id": "b7adaa37-22d3-4f0c-b453-c91ed37e4815",
   "metadata": {},
   "outputs": [
    {
     "name": "stdout",
     "output_type": "stream",
     "text": [
      "Two dozen NFL players continue to kneel during the National Anthem, showing total disrespect to our Flag &amp; Country.  No leadership in NFL!\n"
     ]
    }
   ],
   "source": [
    "# Trump\n",
    "a = trump_text[1]\n",
    "print(a)"
   ]
  },
  {
   "cell_type": "code",
   "execution_count": 7,
   "id": "6137af15-0bf2-404a-b600-a458eed3a3b6",
   "metadata": {},
   "outputs": [
    {
     "data": {
      "text/plain": [
       "{'neg': 0.201, 'neu': 0.799, 'pos': 0.0, 'compound': -0.6476}"
      ]
     },
     "execution_count": 7,
     "metadata": {},
     "output_type": "execute_result"
    }
   ],
   "source": [
    "sia.polarity_scores(a)"
   ]
  },
  {
   "cell_type": "code",
   "execution_count": 8,
   "id": "dada1193-fe7b-4605-ac71-e20b232659e9",
   "metadata": {},
   "outputs": [
    {
     "name": "stdout",
     "output_type": "stream",
     "text": [
      "Michelle &amp; I are praying for the victims in Las Vegas. Our thoughts are with their families &amp; everyone enduring another senseless tragedy.\n"
     ]
    }
   ],
   "source": [
    "# Obama\n",
    "b = obama_text[1]\n",
    "print(b)"
   ]
  },
  {
   "cell_type": "code",
   "execution_count": 9,
   "id": "befa67fd-d87f-40ef-936c-6869af5db3cc",
   "metadata": {},
   "outputs": [
    {
     "data": {
      "text/plain": [
       "{'neg': 0.238, 'neu': 0.674, 'pos': 0.089, 'compound': -0.6369}"
      ]
     },
     "execution_count": 9,
     "metadata": {},
     "output_type": "execute_result"
    }
   ],
   "source": [
    "sia.polarity_scores(b)"
   ]
  },
  {
   "cell_type": "code",
   "execution_count": 10,
   "id": "de3b246a-4bd6-4ab1-9e6e-7516a4f9ad3b",
   "metadata": {},
   "outputs": [],
   "source": [
    "# NEG, NEU, POS\n",
    "analyzer = SentimentIntensityAnalyzer()"
   ]
  },
  {
   "cell_type": "code",
   "execution_count": 11,
   "id": "ae53febd-0d3c-467b-81f6-134236f3b36b",
   "metadata": {},
   "outputs": [
    {
     "data": {
      "text/html": [
       "<div>\n",
       "<style scoped>\n",
       "    .dataframe tbody tr th:only-of-type {\n",
       "        vertical-align: middle;\n",
       "    }\n",
       "\n",
       "    .dataframe tbody tr th {\n",
       "        vertical-align: top;\n",
       "    }\n",
       "\n",
       "    .dataframe thead th {\n",
       "        text-align: right;\n",
       "    }\n",
       "</style>\n",
       "<table border=\"1\" class=\"dataframe\">\n",
       "  <thead>\n",
       "    <tr style=\"text-align: right;\">\n",
       "      <th></th>\n",
       "      <th>created_at</th>\n",
       "      <th>text</th>\n",
       "      <th>url</th>\n",
       "      <th>replies</th>\n",
       "      <th>retweets</th>\n",
       "      <th>favorites</th>\n",
       "      <th>user</th>\n",
       "      <th>neg</th>\n",
       "      <th>neu</th>\n",
       "      <th>pos</th>\n",
       "      <th>compound</th>\n",
       "      <th>comp_score</th>\n",
       "    </tr>\n",
       "  </thead>\n",
       "  <tbody>\n",
       "    <tr>\n",
       "      <th>0</th>\n",
       "      <td>10/23/17 12:30</td>\n",
       "      <td>I had a very respectful conversation with the ...</td>\n",
       "      <td>https://twitter.com/realDonaldTrump/status/922...</td>\n",
       "      <td>46228</td>\n",
       "      <td>10243</td>\n",
       "      <td>49468</td>\n",
       "      <td>realDonaldTrump</td>\n",
       "      <td>0.000</td>\n",
       "      <td>0.769</td>\n",
       "      <td>0.231</td>\n",
       "      <td>0.6596</td>\n",
       "      <td>pos</td>\n",
       "    </tr>\n",
       "    <tr>\n",
       "      <th>1</th>\n",
       "      <td>10/23/17 11:53</td>\n",
       "      <td>Two dozen NFL players continue to kneel during...</td>\n",
       "      <td>https://twitter.com/realDonaldTrump/status/922...</td>\n",
       "      <td>31419</td>\n",
       "      <td>14006</td>\n",
       "      <td>62406</td>\n",
       "      <td>realDonaldTrump</td>\n",
       "      <td>0.201</td>\n",
       "      <td>0.799</td>\n",
       "      <td>0.000</td>\n",
       "      <td>-0.6476</td>\n",
       "      <td>neg</td>\n",
       "    </tr>\n",
       "    <tr>\n",
       "      <th>2</th>\n",
       "      <td>10/23/17 11:42</td>\n",
       "      <td>There will be NO change to your 401(k). This h...</td>\n",
       "      <td>https://twitter.com/realDonaldTrump/status/922...</td>\n",
       "      <td>9552</td>\n",
       "      <td>13719</td>\n",
       "      <td>62662</td>\n",
       "      <td>realDonaldTrump</td>\n",
       "      <td>0.094</td>\n",
       "      <td>0.675</td>\n",
       "      <td>0.231</td>\n",
       "      <td>0.6439</td>\n",
       "      <td>pos</td>\n",
       "    </tr>\n",
       "    <tr>\n",
       "      <th>3</th>\n",
       "      <td>10/22/17 12:08</td>\n",
       "      <td>It is finally sinking through. 46% OF PEOPLE B...</td>\n",
       "      <td>https://twitter.com/realDonaldTrump/status/922...</td>\n",
       "      <td>56238</td>\n",
       "      <td>25102</td>\n",
       "      <td>112890</td>\n",
       "      <td>realDonaldTrump</td>\n",
       "      <td>0.323</td>\n",
       "      <td>0.677</td>\n",
       "      <td>0.000</td>\n",
       "      <td>-0.8599</td>\n",
       "      <td>neg</td>\n",
       "    </tr>\n",
       "    <tr>\n",
       "      <th>4</th>\n",
       "      <td>10/22/17 12:02</td>\n",
       "      <td>Wacky Congresswoman Wilson is the gift that ke...</td>\n",
       "      <td>https://twitter.com/realDonaldTrump/status/922...</td>\n",
       "      <td>32136</td>\n",
       "      <td>21573</td>\n",
       "      <td>97145</td>\n",
       "      <td>realDonaldTrump</td>\n",
       "      <td>0.123</td>\n",
       "      <td>0.629</td>\n",
       "      <td>0.248</td>\n",
       "      <td>0.4926</td>\n",
       "      <td>pos</td>\n",
       "    </tr>\n",
       "    <tr>\n",
       "      <th>...</th>\n",
       "      <td>...</td>\n",
       "      <td>...</td>\n",
       "      <td>...</td>\n",
       "      <td>...</td>\n",
       "      <td>...</td>\n",
       "      <td>...</td>\n",
       "      <td>...</td>\n",
       "      <td>...</td>\n",
       "      <td>...</td>\n",
       "      <td>...</td>\n",
       "      <td>...</td>\n",
       "      <td>...</td>\n",
       "    </tr>\n",
       "    <tr>\n",
       "      <th>3227</th>\n",
       "      <td>8/24/16 22:39</td>\n",
       "      <td>Thank you for your support!\\r#AmericaFirst #Im...</td>\n",
       "      <td>https://twitter.com/realDonaldTrump/status/768...</td>\n",
       "      <td>1693</td>\n",
       "      <td>6441</td>\n",
       "      <td>18401</td>\n",
       "      <td>realDonaldTrump</td>\n",
       "      <td>0.000</td>\n",
       "      <td>0.522</td>\n",
       "      <td>0.478</td>\n",
       "      <td>0.6696</td>\n",
       "      <td>pos</td>\n",
       "    </tr>\n",
       "    <tr>\n",
       "      <th>3228</th>\n",
       "      <td>8/24/16 21:32</td>\n",
       "      <td>A great afternoon in Tampa, Florida. Thank you...</td>\n",
       "      <td>https://twitter.com/realDonaldTrump/status/768...</td>\n",
       "      <td>1148</td>\n",
       "      <td>4837</td>\n",
       "      <td>16968</td>\n",
       "      <td>realDonaldTrump</td>\n",
       "      <td>0.000</td>\n",
       "      <td>0.504</td>\n",
       "      <td>0.496</td>\n",
       "      <td>0.7840</td>\n",
       "      <td>pos</td>\n",
       "    </tr>\n",
       "    <tr>\n",
       "      <th>3229</th>\n",
       "      <td>8/24/16 17:24</td>\n",
       "      <td>New national poll released. Join the MOVEMENT ...</td>\n",
       "      <td>https://twitter.com/realDonaldTrump/status/768...</td>\n",
       "      <td>2737</td>\n",
       "      <td>5991</td>\n",
       "      <td>16619</td>\n",
       "      <td>realDonaldTrump</td>\n",
       "      <td>0.000</td>\n",
       "      <td>0.839</td>\n",
       "      <td>0.161</td>\n",
       "      <td>0.3595</td>\n",
       "      <td>pos</td>\n",
       "    </tr>\n",
       "    <tr>\n",
       "      <th>3230</th>\n",
       "      <td>8/24/16 16:42</td>\n",
       "      <td>Great new poll Florida - thank you! #MakeAmeri...</td>\n",
       "      <td>https://twitter.com/realDonaldTrump/status/768...</td>\n",
       "      <td>1888</td>\n",
       "      <td>7288</td>\n",
       "      <td>20072</td>\n",
       "      <td>realDonaldTrump</td>\n",
       "      <td>0.000</td>\n",
       "      <td>0.465</td>\n",
       "      <td>0.535</td>\n",
       "      <td>0.7840</td>\n",
       "      <td>pos</td>\n",
       "    </tr>\n",
       "    <tr>\n",
       "      <th>3231</th>\n",
       "      <td>8/24/16 15:19</td>\n",
       "      <td>I will not let the families of The Remembrance...</td>\n",
       "      <td>https://twitter.com/realDonaldTrump/status/768...</td>\n",
       "      <td>1178</td>\n",
       "      <td>6809</td>\n",
       "      <td>15973</td>\n",
       "      <td>realDonaldTrump</td>\n",
       "      <td>0.000</td>\n",
       "      <td>1.000</td>\n",
       "      <td>0.000</td>\n",
       "      <td>0.0000</td>\n",
       "      <td>pos</td>\n",
       "    </tr>\n",
       "  </tbody>\n",
       "</table>\n",
       "<p>3232 rows × 12 columns</p>\n",
       "</div>"
      ],
      "text/plain": [
       "          created_at                                               text  \\\n",
       "0     10/23/17 12:30  I had a very respectful conversation with the ...   \n",
       "1     10/23/17 11:53  Two dozen NFL players continue to kneel during...   \n",
       "2     10/23/17 11:42  There will be NO change to your 401(k). This h...   \n",
       "3     10/22/17 12:08  It is finally sinking through. 46% OF PEOPLE B...   \n",
       "4     10/22/17 12:02  Wacky Congresswoman Wilson is the gift that ke...   \n",
       "...              ...                                                ...   \n",
       "3227   8/24/16 22:39  Thank you for your support!\\r#AmericaFirst #Im...   \n",
       "3228   8/24/16 21:32  A great afternoon in Tampa, Florida. Thank you...   \n",
       "3229   8/24/16 17:24  New national poll released. Join the MOVEMENT ...   \n",
       "3230   8/24/16 16:42  Great new poll Florida - thank you! #MakeAmeri...   \n",
       "3231   8/24/16 15:19  I will not let the families of The Remembrance...   \n",
       "\n",
       "                                                    url  replies  retweets  \\\n",
       "0     https://twitter.com/realDonaldTrump/status/922...    46228     10243   \n",
       "1     https://twitter.com/realDonaldTrump/status/922...    31419     14006   \n",
       "2     https://twitter.com/realDonaldTrump/status/922...     9552     13719   \n",
       "3     https://twitter.com/realDonaldTrump/status/922...    56238     25102   \n",
       "4     https://twitter.com/realDonaldTrump/status/922...    32136     21573   \n",
       "...                                                 ...      ...       ...   \n",
       "3227  https://twitter.com/realDonaldTrump/status/768...     1693      6441   \n",
       "3228  https://twitter.com/realDonaldTrump/status/768...     1148      4837   \n",
       "3229  https://twitter.com/realDonaldTrump/status/768...     2737      5991   \n",
       "3230  https://twitter.com/realDonaldTrump/status/768...     1888      7288   \n",
       "3231  https://twitter.com/realDonaldTrump/status/768...     1178      6809   \n",
       "\n",
       "      favorites             user    neg    neu    pos  compound comp_score  \n",
       "0         49468  realDonaldTrump  0.000  0.769  0.231    0.6596        pos  \n",
       "1         62406  realDonaldTrump  0.201  0.799  0.000   -0.6476        neg  \n",
       "2         62662  realDonaldTrump  0.094  0.675  0.231    0.6439        pos  \n",
       "3        112890  realDonaldTrump  0.323  0.677  0.000   -0.8599        neg  \n",
       "4         97145  realDonaldTrump  0.123  0.629  0.248    0.4926        pos  \n",
       "...         ...              ...    ...    ...    ...       ...        ...  \n",
       "3227      18401  realDonaldTrump  0.000  0.522  0.478    0.6696        pos  \n",
       "3228      16968  realDonaldTrump  0.000  0.504  0.496    0.7840        pos  \n",
       "3229      16619  realDonaldTrump  0.000  0.839  0.161    0.3595        pos  \n",
       "3230      20072  realDonaldTrump  0.000  0.465  0.535    0.7840        pos  \n",
       "3231      15973  realDonaldTrump  0.000  1.000  0.000    0.0000        pos  \n",
       "\n",
       "[3232 rows x 12 columns]"
      ]
     },
     "execution_count": 11,
     "metadata": {},
     "output_type": "execute_result"
    }
   ],
   "source": [
    "# Trump\n",
    "trump_tweets['neg'] = trump_tweets['text'].apply(lambda x:analyzer.polarity_scores(x)['neg'])\n",
    "trump_tweets['neu'] = trump_tweets['text'].apply(lambda x:analyzer.polarity_scores(x)['neu'])\n",
    "trump_tweets['pos'] = trump_tweets['text'].apply(lambda x:analyzer.polarity_scores(x)['pos'])\n",
    "trump_tweets['compound'] = trump_tweets['text'].apply(lambda x:analyzer.polarity_scores(x)['compound'])\n",
    "trump_tweets['comp_score'] = trump_tweets['compound'].apply(lambda c: 'pos' if c >=0 else 'neg')\n",
    "trump_tweets"
   ]
  },
  {
   "cell_type": "code",
   "execution_count": 12,
   "id": "93f5c6ba-b3ae-4b86-b9a7-ac7eeca30e7d",
   "metadata": {},
   "outputs": [
    {
     "data": {
      "text/html": [
       "<div>\n",
       "<style scoped>\n",
       "    .dataframe tbody tr th:only-of-type {\n",
       "        vertical-align: middle;\n",
       "    }\n",
       "\n",
       "    .dataframe tbody tr th {\n",
       "        vertical-align: top;\n",
       "    }\n",
       "\n",
       "    .dataframe thead th {\n",
       "        text-align: right;\n",
       "    }\n",
       "</style>\n",
       "<table border=\"1\" class=\"dataframe\">\n",
       "  <thead>\n",
       "    <tr style=\"text-align: right;\">\n",
       "      <th></th>\n",
       "      <th>created_at</th>\n",
       "      <th>text</th>\n",
       "      <th>url</th>\n",
       "      <th>replies</th>\n",
       "      <th>retweets</th>\n",
       "      <th>favorites</th>\n",
       "      <th>user</th>\n",
       "      <th>neg</th>\n",
       "      <th>neu</th>\n",
       "      <th>pos</th>\n",
       "      <th>compound</th>\n",
       "      <th>comp_score</th>\n",
       "    </tr>\n",
       "  </thead>\n",
       "  <tbody>\n",
       "    <tr>\n",
       "      <th>0</th>\n",
       "      <td>10/16/17 22:59</td>\n",
       "      <td>I'm grateful to @SenJohnMcCain for his lifetim...</td>\n",
       "      <td>https://twitter.com/BarackObama/status/9200615...</td>\n",
       "      <td>17064</td>\n",
       "      <td>89916</td>\n",
       "      <td>641842</td>\n",
       "      <td>BarackObama</td>\n",
       "      <td>0.000</td>\n",
       "      <td>0.544</td>\n",
       "      <td>0.456</td>\n",
       "      <td>0.9246</td>\n",
       "      <td>pos</td>\n",
       "    </tr>\n",
       "    <tr>\n",
       "      <th>1</th>\n",
       "      <td>10/2/17 12:41</td>\n",
       "      <td>Michelle &amp;amp; I are praying for the victims i...</td>\n",
       "      <td>https://twitter.com/BarackObama/status/9148326...</td>\n",
       "      <td>21588</td>\n",
       "      <td>405895</td>\n",
       "      <td>1715753</td>\n",
       "      <td>BarackObama</td>\n",
       "      <td>0.238</td>\n",
       "      <td>0.674</td>\n",
       "      <td>0.089</td>\n",
       "      <td>-0.6369</td>\n",
       "      <td>neg</td>\n",
       "    </tr>\n",
       "    <tr>\n",
       "      <th>2</th>\n",
       "      <td>9/30/17 2:22</td>\n",
       "      <td>Proud to cheer on Team USA at the Invictus Gam...</td>\n",
       "      <td>https://twitter.com/BarackObama/status/9139520...</td>\n",
       "      <td>8476</td>\n",
       "      <td>60651</td>\n",
       "      <td>503255</td>\n",
       "      <td>BarackObama</td>\n",
       "      <td>0.000</td>\n",
       "      <td>0.579</td>\n",
       "      <td>0.421</td>\n",
       "      <td>0.9300</td>\n",
       "      <td>pos</td>\n",
       "    </tr>\n",
       "    <tr>\n",
       "      <th>3</th>\n",
       "      <td>9/26/17 17:03</td>\n",
       "      <td>We're expanding our efforts to help Puerto Ric...</td>\n",
       "      <td>https://twitter.com/BarackObama/status/9127244...</td>\n",
       "      <td>10657</td>\n",
       "      <td>113807</td>\n",
       "      <td>334901</td>\n",
       "      <td>BarackObama</td>\n",
       "      <td>0.000</td>\n",
       "      <td>0.811</td>\n",
       "      <td>0.189</td>\n",
       "      <td>0.5994</td>\n",
       "      <td>pos</td>\n",
       "    </tr>\n",
       "    <tr>\n",
       "      <th>4</th>\n",
       "      <td>9/25/17 23:36</td>\n",
       "      <td>Prosecutor, soldier, family man, citizen. Beau...</td>\n",
       "      <td>https://twitter.com/BarackObama/status/9124608...</td>\n",
       "      <td>3886</td>\n",
       "      <td>58449</td>\n",
       "      <td>328106</td>\n",
       "      <td>BarackObama</td>\n",
       "      <td>0.056</td>\n",
       "      <td>0.748</td>\n",
       "      <td>0.196</td>\n",
       "      <td>0.4588</td>\n",
       "      <td>pos</td>\n",
       "    </tr>\n",
       "    <tr>\n",
       "      <th>...</th>\n",
       "      <td>...</td>\n",
       "      <td>...</td>\n",
       "      <td>...</td>\n",
       "      <td>...</td>\n",
       "      <td>...</td>\n",
       "      <td>...</td>\n",
       "      <td>...</td>\n",
       "      <td>...</td>\n",
       "      <td>...</td>\n",
       "      <td>...</td>\n",
       "      <td>...</td>\n",
       "      <td>...</td>\n",
       "    </tr>\n",
       "    <tr>\n",
       "      <th>3202</th>\n",
       "      <td>8/15/14 20:16</td>\n",
       "      <td>Earning the minimum wage while raising a famil...</td>\n",
       "      <td>https://twitter.com/BarackObama/status/5003754...</td>\n",
       "      <td>536</td>\n",
       "      <td>1520</td>\n",
       "      <td>2155</td>\n",
       "      <td>BarackObama</td>\n",
       "      <td>0.171</td>\n",
       "      <td>0.829</td>\n",
       "      <td>0.000</td>\n",
       "      <td>-0.5106</td>\n",
       "      <td>neg</td>\n",
       "    </tr>\n",
       "    <tr>\n",
       "      <th>3203</th>\n",
       "      <td>8/15/14 18:02</td>\n",
       "      <td>FACT: 97% of scientists and NASA accept the sc...</td>\n",
       "      <td>https://twitter.com/BarackObama/status/5003418...</td>\n",
       "      <td>531</td>\n",
       "      <td>2103</td>\n",
       "      <td>2377</td>\n",
       "      <td>BarackObama</td>\n",
       "      <td>0.000</td>\n",
       "      <td>0.833</td>\n",
       "      <td>0.167</td>\n",
       "      <td>0.3818</td>\n",
       "      <td>pos</td>\n",
       "    </tr>\n",
       "    <tr>\n",
       "      <th>3204</th>\n",
       "      <td>8/15/14 16:21</td>\n",
       "      <td>Getting covered made Jason so happy he wanted ...</td>\n",
       "      <td>https://twitter.com/BarackObama/status/5003164...</td>\n",
       "      <td>206</td>\n",
       "      <td>261</td>\n",
       "      <td>721</td>\n",
       "      <td>BarackObama</td>\n",
       "      <td>0.000</td>\n",
       "      <td>0.717</td>\n",
       "      <td>0.283</td>\n",
       "      <td>0.6948</td>\n",
       "      <td>pos</td>\n",
       "    </tr>\n",
       "    <tr>\n",
       "      <th>3205</th>\n",
       "      <td>8/15/14 15:15</td>\n",
       "      <td>It's time to get serious and #ActOnClimate. ht...</td>\n",
       "      <td>https://twitter.com/BarackObama/status/5002997...</td>\n",
       "      <td>509</td>\n",
       "      <td>2009</td>\n",
       "      <td>2273</td>\n",
       "      <td>BarackObama</td>\n",
       "      <td>0.157</td>\n",
       "      <td>0.843</td>\n",
       "      <td>0.000</td>\n",
       "      <td>-0.0772</td>\n",
       "      <td>neg</td>\n",
       "    </tr>\n",
       "    <tr>\n",
       "      <th>3206</th>\n",
       "      <td>8/14/14 16:50</td>\n",
       "      <td>Happening now: President Obama is delivering a...</td>\n",
       "      <td>https://twitter.com/BarackObama/status/4999611...</td>\n",
       "      <td>583</td>\n",
       "      <td>1243</td>\n",
       "      <td>961</td>\n",
       "      <td>BarackObama</td>\n",
       "      <td>0.000</td>\n",
       "      <td>1.000</td>\n",
       "      <td>0.000</td>\n",
       "      <td>0.0000</td>\n",
       "      <td>pos</td>\n",
       "    </tr>\n",
       "  </tbody>\n",
       "</table>\n",
       "<p>3207 rows × 12 columns</p>\n",
       "</div>"
      ],
      "text/plain": [
       "          created_at                                               text  \\\n",
       "0     10/16/17 22:59  I'm grateful to @SenJohnMcCain for his lifetim...   \n",
       "1      10/2/17 12:41  Michelle &amp; I are praying for the victims i...   \n",
       "2       9/30/17 2:22  Proud to cheer on Team USA at the Invictus Gam...   \n",
       "3      9/26/17 17:03  We're expanding our efforts to help Puerto Ric...   \n",
       "4      9/25/17 23:36  Prosecutor, soldier, family man, citizen. Beau...   \n",
       "...              ...                                                ...   \n",
       "3202   8/15/14 20:16  Earning the minimum wage while raising a famil...   \n",
       "3203   8/15/14 18:02  FACT: 97% of scientists and NASA accept the sc...   \n",
       "3204   8/15/14 16:21  Getting covered made Jason so happy he wanted ...   \n",
       "3205   8/15/14 15:15  It's time to get serious and #ActOnClimate. ht...   \n",
       "3206   8/14/14 16:50  Happening now: President Obama is delivering a...   \n",
       "\n",
       "                                                    url  replies  retweets  \\\n",
       "0     https://twitter.com/BarackObama/status/9200615...    17064     89916   \n",
       "1     https://twitter.com/BarackObama/status/9148326...    21588    405895   \n",
       "2     https://twitter.com/BarackObama/status/9139520...     8476     60651   \n",
       "3     https://twitter.com/BarackObama/status/9127244...    10657    113807   \n",
       "4     https://twitter.com/BarackObama/status/9124608...     3886     58449   \n",
       "...                                                 ...      ...       ...   \n",
       "3202  https://twitter.com/BarackObama/status/5003754...      536      1520   \n",
       "3203  https://twitter.com/BarackObama/status/5003418...      531      2103   \n",
       "3204  https://twitter.com/BarackObama/status/5003164...      206       261   \n",
       "3205  https://twitter.com/BarackObama/status/5002997...      509      2009   \n",
       "3206  https://twitter.com/BarackObama/status/4999611...      583      1243   \n",
       "\n",
       "      favorites         user    neg    neu    pos  compound comp_score  \n",
       "0        641842  BarackObama  0.000  0.544  0.456    0.9246        pos  \n",
       "1       1715753  BarackObama  0.238  0.674  0.089   -0.6369        neg  \n",
       "2        503255  BarackObama  0.000  0.579  0.421    0.9300        pos  \n",
       "3        334901  BarackObama  0.000  0.811  0.189    0.5994        pos  \n",
       "4        328106  BarackObama  0.056  0.748  0.196    0.4588        pos  \n",
       "...         ...          ...    ...    ...    ...       ...        ...  \n",
       "3202       2155  BarackObama  0.171  0.829  0.000   -0.5106        neg  \n",
       "3203       2377  BarackObama  0.000  0.833  0.167    0.3818        pos  \n",
       "3204        721  BarackObama  0.000  0.717  0.283    0.6948        pos  \n",
       "3205       2273  BarackObama  0.157  0.843  0.000   -0.0772        neg  \n",
       "3206        961  BarackObama  0.000  1.000  0.000    0.0000        pos  \n",
       "\n",
       "[3207 rows x 12 columns]"
      ]
     },
     "execution_count": 12,
     "metadata": {},
     "output_type": "execute_result"
    }
   ],
   "source": [
    "# Obama\n",
    "obama_tweets['neg'] = obama_tweets['text'].apply(lambda x:analyzer.polarity_scores(x)['neg'])\n",
    "obama_tweets['neu'] = obama_tweets['text'].apply(lambda x:analyzer.polarity_scores(x)['neu'])\n",
    "obama_tweets['pos'] = obama_tweets['text'].apply(lambda x:analyzer.polarity_scores(x)['pos'])\n",
    "obama_tweets['compound'] = obama_tweets['text'].apply(lambda x:analyzer.polarity_scores(x)['compound'])\n",
    "obama_tweets['comp_score'] = obama_tweets['compound'].apply(lambda c: 'pos' if c >=0 else 'neg')\n",
    "obama_tweets"
   ]
  },
  {
   "cell_type": "markdown",
   "id": "b3b0f0f3-e749-4104-a487-b7f8c43d097c",
   "metadata": {},
   "source": [
    "#### Compare the sentiment scores of the two dataframes by:"
   ]
  },
  {
   "cell_type": "code",
   "execution_count": 13,
   "id": "46294c72-4f01-4a25-9b96-02e55352ac09",
   "metadata": {},
   "outputs": [],
   "source": [
    "# Calculating the mean and standard deviation of the sentiment scores for each dataframe"
   ]
  },
  {
   "cell_type": "code",
   "execution_count": 14,
   "id": "8ea32afe-e8a8-4cbc-add7-92ec3f9c4faa",
   "metadata": {},
   "outputs": [
    {
     "name": "stdout",
     "output_type": "stream",
     "text": [
      "Mean of the sentiment scores:  0.18796383044554454\n",
      "Standard Deviation of the sentiment scores:  0.541958272454006\n"
     ]
    }
   ],
   "source": [
    "trump_compound = trump_tweets['compound']\n",
    "print('Mean of the sentiment scores: ', statistics.mean(trump_compound))\n",
    "print('Standard Deviation of the sentiment scores: ', statistics.stdev(trump_compound))"
   ]
  },
  {
   "cell_type": "code",
   "execution_count": 15,
   "id": "fe9e104e-3ca7-4079-8807-880935e18782",
   "metadata": {},
   "outputs": [
    {
     "name": "stdout",
     "output_type": "stream",
     "text": [
      "Mean of the sentiment scores:  0.19910617399438726\n",
      "Standard Deviation of the sentiment scores:  0.37872101501899325\n"
     ]
    }
   ],
   "source": [
    "obama_compound = obama_tweets['compound']\n",
    "print('Mean of the sentiment scores: ', statistics.mean(obama_compound))\n",
    "print('Standard Deviation of the sentiment scores: ', statistics.stdev(obama_compound))"
   ]
  },
  {
   "cell_type": "code",
   "execution_count": 16,
   "id": "1421d010-a3c4-4fce-91f5-6d889192bf29",
   "metadata": {},
   "outputs": [],
   "source": [
    "# Making a histogram plot showing the distribution of sentiment scores for each dataframe"
   ]
  },
  {
   "cell_type": "code",
   "execution_count": 17,
   "id": "058da1c3-73ca-46c0-bcfd-1fbf50113cc1",
   "metadata": {},
   "outputs": [
    {
     "data": {
      "text/plain": [
       "Text(0.5, 0, 'Compound Value in Sentiment Analysis')"
      ]
     },
     "execution_count": 17,
     "metadata": {},
     "output_type": "execute_result"
    },
    {
     "data": {
      "image/png": "[encoded data removed]",
      "text/plain": [
       "<Figure size 432x288 with 1 Axes>"
      ]
     },
     "metadata": {
      "needs_background": "light"
     },
     "output_type": "display_data"
    }
   ],
   "source": [
    "plt.hist(trump_compound)\n",
    "plt.title('Sentiment Scores: Trumps Tweets')\n",
    "plt.ylabel('# of Occurrences')\n",
    "plt.xlabel('Compound Value in Sentiment Analysis')"
   ]
  },
  {
   "cell_type": "code",
   "execution_count": 18,
   "id": "24be0a67-337d-47c7-9787-266689cfbba2",
   "metadata": {},
   "outputs": [
    {
     "data": {
      "text/plain": [
       "Text(0.5, 0, 'Compound Value in Sentiment Analysis')"
      ]
     },
     "execution_count": 18,
     "metadata": {},
     "output_type": "execute_result"
    },
    {
     "data": {
      "image/png": "[encoded data removed]",
      "text/plain": [
       "<Figure size 432x288 with 1 Axes>"
      ]
     },
     "metadata": {
      "needs_background": "light"
     },
     "output_type": "display_data"
    }
   ],
   "source": [
    "plt.hist(obama_compound)\n",
    "plt.title('Sentiment Scores: Obamas Tweets')\n",
    "plt.ylabel('# of Occurrences')\n",
    "plt.xlabel('Compound Value in Sentiment Analysis')"
   ]
  },
  {
   "cell_type": "code",
   "execution_count": 19,
   "id": "188b97e0-55d4-408b-bf5d-66abb89794b5",
   "metadata": {},
   "outputs": [],
   "source": [
    "# Printing examples of the most positively and most negatively scored tweets from each dataframe "
   ]
  },
  {
   "cell_type": "code",
   "execution_count": 26,
   "id": "b564105e-29cf-4df2-bd73-52cb72dfae6d",
   "metadata": {},
   "outputs": [
    {
     "name": "stdout",
     "output_type": "stream",
     "text": [
      "-0.9735\n",
      "0.9805\n"
     ]
    }
   ],
   "source": [
    "# Trump\n",
    "print(min(trump_compound))\n",
    "print(max(trump_compound))"
   ]
  },
  {
   "cell_type": "code",
   "execution_count": 34,
   "id": "df0be927-6ed8-4c3b-b069-89bedeef4518",
   "metadata": {},
   "outputs": [
    {
     "data": {
      "text/html": [
       "<div>\n",
       "<style scoped>\n",
       "    .dataframe tbody tr th:only-of-type {\n",
       "        vertical-align: middle;\n",
       "    }\n",
       "\n",
       "    .dataframe tbody tr th {\n",
       "        vertical-align: top;\n",
       "    }\n",
       "\n",
       "    .dataframe thead th {\n",
       "        text-align: right;\n",
       "    }\n",
       "</style>\n",
       "<table border=\"1\" class=\"dataframe\">\n",
       "  <thead>\n",
       "    <tr style=\"text-align: right;\">\n",
       "      <th></th>\n",
       "      <th>created_at</th>\n",
       "      <th>text</th>\n",
       "      <th>url</th>\n",
       "      <th>replies</th>\n",
       "      <th>retweets</th>\n",
       "      <th>favorites</th>\n",
       "      <th>user</th>\n",
       "      <th>neg</th>\n",
       "      <th>neu</th>\n",
       "      <th>pos</th>\n",
       "      <th>compound</th>\n",
       "      <th>comp_score</th>\n",
       "    </tr>\n",
       "  </thead>\n",
       "  <tbody>\n",
       "    <tr>\n",
       "      <th>1431</th>\n",
       "      <td>4/18/17 10:38</td>\n",
       "      <td>Democrat Jon Ossoff would be a disaster in Con...</td>\n",
       "      <td>https://twitter.com/realDonaldTrump/status/854...</td>\n",
       "      <td>12950</td>\n",
       "      <td>14207</td>\n",
       "      <td>56073</td>\n",
       "      <td>realDonaldTrump</td>\n",
       "      <td>0.555</td>\n",
       "      <td>0.445</td>\n",
       "      <td>0.0</td>\n",
       "      <td>-0.9735</td>\n",
       "      <td>neg</td>\n",
       "    </tr>\n",
       "  </tbody>\n",
       "</table>\n",
       "</div>"
      ],
      "text/plain": [
       "         created_at                                               text  \\\n",
       "1431  4/18/17 10:38  Democrat Jon Ossoff would be a disaster in Con...   \n",
       "\n",
       "                                                    url  replies  retweets  \\\n",
       "1431  https://twitter.com/realDonaldTrump/status/854...    12950     14207   \n",
       "\n",
       "      favorites             user    neg    neu  pos  compound comp_score  \n",
       "1431      56073  realDonaldTrump  0.555  0.445  0.0   -0.9735        neg  "
      ]
     },
     "execution_count": 34,
     "metadata": {},
     "output_type": "execute_result"
    }
   ],
   "source": [
    "trump_min = -0.9735\n",
    "trump_tweets.loc[trump_tweets['compound'] == trump_min]"
   ]
  },
  {
   "cell_type": "code",
   "execution_count": 35,
   "id": "e4cc8f4a-8e62-47c8-a51a-19c32f58a072",
   "metadata": {},
   "outputs": [
    {
     "name": "stdout",
     "output_type": "stream",
     "text": [
      "Min Tweet: Democrat Jon Ossoff would be a disaster in Congress. VERY weak on crime and illegal immigration, bad for jobs and wants higher taxes. Say NO\n"
     ]
    }
   ],
   "source": [
    "print('Min Tweet:', trump_text[1431])"
   ]
  },
  {
   "cell_type": "code",
   "execution_count": 38,
   "id": "4b8418ef-1d8e-4b6f-87a3-86234c1bf357",
   "metadata": {},
   "outputs": [
    {
     "data": {
      "text/html": [
       "<div>\n",
       "<style scoped>\n",
       "    .dataframe tbody tr th:only-of-type {\n",
       "        vertical-align: middle;\n",
       "    }\n",
       "\n",
       "    .dataframe tbody tr th {\n",
       "        vertical-align: top;\n",
       "    }\n",
       "\n",
       "    .dataframe thead th {\n",
       "        text-align: right;\n",
       "    }\n",
       "</style>\n",
       "<table border=\"1\" class=\"dataframe\">\n",
       "  <thead>\n",
       "    <tr style=\"text-align: right;\">\n",
       "      <th></th>\n",
       "      <th>created_at</th>\n",
       "      <th>text</th>\n",
       "      <th>url</th>\n",
       "      <th>replies</th>\n",
       "      <th>retweets</th>\n",
       "      <th>favorites</th>\n",
       "      <th>user</th>\n",
       "      <th>neg</th>\n",
       "      <th>neu</th>\n",
       "      <th>pos</th>\n",
       "      <th>compound</th>\n",
       "      <th>comp_score</th>\n",
       "    </tr>\n",
       "  </thead>\n",
       "  <tbody>\n",
       "    <tr>\n",
       "      <th>458</th>\n",
       "      <td>9/7/17 12:33</td>\n",
       "      <td>Hurricane Irma is raging but we have great tea...</td>\n",
       "      <td>https://twitter.com/realDonaldTrump/status/905...</td>\n",
       "      <td>6457</td>\n",
       "      <td>16565</td>\n",
       "      <td>82003</td>\n",
       "      <td>realDonaldTrump</td>\n",
       "      <td>0.046</td>\n",
       "      <td>0.377</td>\n",
       "      <td>0.577</td>\n",
       "      <td>0.9805</td>\n",
       "      <td>pos</td>\n",
       "    </tr>\n",
       "  </tbody>\n",
       "</table>\n",
       "</div>"
      ],
      "text/plain": [
       "       created_at                                               text  \\\n",
       "458  9/7/17 12:33  Hurricane Irma is raging but we have great tea...   \n",
       "\n",
       "                                                   url  replies  retweets  \\\n",
       "458  https://twitter.com/realDonaldTrump/status/905...     6457     16565   \n",
       "\n",
       "     favorites             user    neg    neu    pos  compound comp_score  \n",
       "458      82003  realDonaldTrump  0.046  0.377  0.577    0.9805        pos  "
      ]
     },
     "execution_count": 38,
     "metadata": {},
     "output_type": "execute_result"
    }
   ],
   "source": [
    "trump_max = 0.9805\n",
    "trump_tweets.loc[trump_tweets['compound'] == trump_max]"
   ]
  },
  {
   "cell_type": "code",
   "execution_count": 39,
   "id": "a7d5d6ff-72d4-40d5-a5b3-7924feb1d4ae",
   "metadata": {},
   "outputs": [
    {
     "name": "stdout",
     "output_type": "stream",
     "text": [
      "Max Tweet: Hurricane Irma is raging but we have great teams of talented and brave people already in place and ready to help. Be careful, be safe! #FEMA\n"
     ]
    }
   ],
   "source": [
    "print('Max Tweet:', trump_text[458])"
   ]
  },
  {
   "cell_type": "code",
   "execution_count": 40,
   "id": "67094dbd-d4e8-45ec-a9fd-1affad6d0ee6",
   "metadata": {},
   "outputs": [
    {
     "name": "stdout",
     "output_type": "stream",
     "text": [
      "-0.9201\n",
      "0.9349\n"
     ]
    }
   ],
   "source": [
    "# Obama\n",
    "print(min(obama_compound))\n",
    "print(max(obama_compound))"
   ]
  },
  {
   "cell_type": "code",
   "execution_count": 42,
   "id": "4ba6c073-e92a-4f9e-b5ae-670ea9267f47",
   "metadata": {},
   "outputs": [
    {
     "data": {
      "text/html": [
       "<div>\n",
       "<style scoped>\n",
       "    .dataframe tbody tr th:only-of-type {\n",
       "        vertical-align: middle;\n",
       "    }\n",
       "\n",
       "    .dataframe tbody tr th {\n",
       "        vertical-align: top;\n",
       "    }\n",
       "\n",
       "    .dataframe thead th {\n",
       "        text-align: right;\n",
       "    }\n",
       "</style>\n",
       "<table border=\"1\" class=\"dataframe\">\n",
       "  <thead>\n",
       "    <tr style=\"text-align: right;\">\n",
       "      <th></th>\n",
       "      <th>created_at</th>\n",
       "      <th>text</th>\n",
       "      <th>url</th>\n",
       "      <th>replies</th>\n",
       "      <th>retweets</th>\n",
       "      <th>favorites</th>\n",
       "      <th>user</th>\n",
       "      <th>neg</th>\n",
       "      <th>neu</th>\n",
       "      <th>pos</th>\n",
       "      <th>compound</th>\n",
       "      <th>comp_score</th>\n",
       "    </tr>\n",
       "  </thead>\n",
       "  <tbody>\n",
       "    <tr>\n",
       "      <th>453</th>\n",
       "      <td>6/21/16 15:46</td>\n",
       "      <td>RT @POTUS: Gun violence requires more than mom...</td>\n",
       "      <td>https://twitter.com/BarackObama/status/7452818...</td>\n",
       "      <td>4272</td>\n",
       "      <td>64984</td>\n",
       "      <td>120391</td>\n",
       "      <td>BarackObama</td>\n",
       "      <td>0.408</td>\n",
       "      <td>0.592</td>\n",
       "      <td>0.0</td>\n",
       "      <td>-0.9201</td>\n",
       "      <td>neg</td>\n",
       "    </tr>\n",
       "  </tbody>\n",
       "</table>\n",
       "</div>"
      ],
      "text/plain": [
       "        created_at                                               text  \\\n",
       "453  6/21/16 15:46  RT @POTUS: Gun violence requires more than mom...   \n",
       "\n",
       "                                                   url  replies  retweets  \\\n",
       "453  https://twitter.com/BarackObama/status/7452818...     4272     64984   \n",
       "\n",
       "     favorites         user    neg    neu  pos  compound comp_score  \n",
       "453     120391  BarackObama  0.408  0.592  0.0   -0.9201        neg  "
      ]
     },
     "execution_count": 42,
     "metadata": {},
     "output_type": "execute_result"
    }
   ],
   "source": [
    "obama_min = -0.9201\n",
    "obama_tweets.loc[obama_tweets['compound'] == obama_min]"
   ]
  },
  {
   "cell_type": "code",
   "execution_count": 43,
   "id": "09293341-26e9-46eb-ad0b-83185d6cb482",
   "metadata": {},
   "outputs": [
    {
     "name": "stdout",
     "output_type": "stream",
     "text": [
      "Min Tweet: RT @POTUS: Gun violence requires more than moments of silence. It requires action. In failing that test, the Senate failed the American peo‰Û_\n"
     ]
    }
   ],
   "source": [
    "print('Min Tweet:', obama_text[453])"
   ]
  },
  {
   "cell_type": "code",
   "execution_count": 44,
   "id": "15dc1bff-32e9-4c89-bb36-7ab66604e4e6",
   "metadata": {},
   "outputs": [
    {
     "data": {
      "text/html": [
       "<div>\n",
       "<style scoped>\n",
       "    .dataframe tbody tr th:only-of-type {\n",
       "        vertical-align: middle;\n",
       "    }\n",
       "\n",
       "    .dataframe tbody tr th {\n",
       "        vertical-align: top;\n",
       "    }\n",
       "\n",
       "    .dataframe thead th {\n",
       "        text-align: right;\n",
       "    }\n",
       "</style>\n",
       "<table border=\"1\" class=\"dataframe\">\n",
       "  <thead>\n",
       "    <tr style=\"text-align: right;\">\n",
       "      <th></th>\n",
       "      <th>created_at</th>\n",
       "      <th>text</th>\n",
       "      <th>url</th>\n",
       "      <th>replies</th>\n",
       "      <th>retweets</th>\n",
       "      <th>favorites</th>\n",
       "      <th>user</th>\n",
       "      <th>neg</th>\n",
       "      <th>neu</th>\n",
       "      <th>pos</th>\n",
       "      <th>compound</th>\n",
       "      <th>comp_score</th>\n",
       "    </tr>\n",
       "  </thead>\n",
       "  <tbody>\n",
       "    <tr>\n",
       "      <th>723</th>\n",
       "      <td>3/27/16 17:43</td>\n",
       "      <td>\"We wish all who celebrate a blessed and joyfu...</td>\n",
       "      <td>https://twitter.com/BarackObama/status/7141457...</td>\n",
       "      <td>1140</td>\n",
       "      <td>7866</td>\n",
       "      <td>32989</td>\n",
       "      <td>BarackObama</td>\n",
       "      <td>0.0</td>\n",
       "      <td>0.360</td>\n",
       "      <td>0.640</td>\n",
       "      <td>0.9349</td>\n",
       "      <td>pos</td>\n",
       "    </tr>\n",
       "    <tr>\n",
       "      <th>1618</th>\n",
       "      <td>8/4/15 21:13</td>\n",
       "      <td>Help President Obama celebrate another great y...</td>\n",
       "      <td>https://twitter.com/BarackObama/status/6286750...</td>\n",
       "      <td>1516</td>\n",
       "      <td>2382</td>\n",
       "      <td>6101</td>\n",
       "      <td>BarackObama</td>\n",
       "      <td>0.0</td>\n",
       "      <td>0.388</td>\n",
       "      <td>0.612</td>\n",
       "      <td>0.9349</td>\n",
       "      <td>pos</td>\n",
       "    </tr>\n",
       "  </tbody>\n",
       "</table>\n",
       "</div>"
      ],
      "text/plain": [
       "         created_at                                               text  \\\n",
       "723   3/27/16 17:43  \"We wish all who celebrate a blessed and joyfu...   \n",
       "1618   8/4/15 21:13  Help President Obama celebrate another great y...   \n",
       "\n",
       "                                                    url  replies  retweets  \\\n",
       "723   https://twitter.com/BarackObama/status/7141457...     1140      7866   \n",
       "1618  https://twitter.com/BarackObama/status/6286750...     1516      2382   \n",
       "\n",
       "      favorites         user  neg    neu    pos  compound comp_score  \n",
       "723       32989  BarackObama  0.0  0.360  0.640    0.9349        pos  \n",
       "1618       6101  BarackObama  0.0  0.388  0.612    0.9349        pos  "
      ]
     },
     "execution_count": 44,
     "metadata": {},
     "output_type": "execute_result"
    }
   ],
   "source": [
    "obama_max = 0.9349\n",
    "obama_tweets.loc[obama_tweets['compound'] == obama_max]"
   ]
  },
  {
   "cell_type": "code",
   "execution_count": 45,
   "id": "463942c8-593d-4ed6-ac37-55f1bcd88a64",
   "metadata": {},
   "outputs": [
    {
     "name": "stdout",
     "output_type": "stream",
     "text": [
      "Max Tweet: RT @IvankaTrump: Since @realDonaldTrump inauguration, over 1 million net new jobs have been created in the American economy! #MAGA\n",
      "Max Tweet: 45,000 construction &amp; manufacturing jobs in the U.S. Gulf Coast region. $20 billion investment. We are already winning again, America!\n"
     ]
    }
   ],
   "source": [
    "print('Max Tweet:', trump_text[723])\n",
    "print('Max Tweet:', trump_text[1618])"
   ]
  },
  {
   "cell_type": "code",
   "execution_count": 46,
   "id": "9fbb9806-db43-4c07-a2ca-99b40cb8b219",
   "metadata": {},
   "outputs": [],
   "source": [
    "# Commenting on how the two sets differ"
   ]
  },
  {
   "cell_type": "markdown",
   "id": "6d14bad2-7ddd-4daa-823f-aeff4f4d37a1",
   "metadata": {},
   "source": [
    "Obama has two tweets that have the same highest compound score. In addition, Obama's highest neg and pos tweets are from 2015-2016 while Trump's is slightly more recent with the highest neg and pos tweets being from 2017. "
   ]
  },
  {
   "cell_type": "markdown",
   "id": "2be278ed-9182-409a-86c8-2671007067f4",
   "metadata": {},
   "source": [
    "### Topic Modeling of Trump & Obama Tweets"
   ]
  },
  {
   "cell_type": "code",
   "execution_count": 47,
   "id": "9e8691a9-5212-412d-b82d-10581bd2bcdc",
   "metadata": {},
   "outputs": [],
   "source": [
    "# Use gensim and LDA to perform topic modeling on the tweets of each dataframe."
   ]
  },
  {
   "cell_type": "code",
   "execution_count": null,
   "id": "2151cc5a-b98a-47d1-a23c-3348b5d780d3",
   "metadata": {},
   "outputs": [],
   "source": []
  }
 ],
 "metadata": {
  "kernelspec": {
   "display_name": "Python 3 (ipykernel)",
   "language": "python",
   "name": "python3"
  },
  "language_info": {
   "codemirror_mode": {
    "name": "ipython",
    "version": 3
   },
   "file_extension": ".py",
   "mimetype": "text/x-python",
   "name": "python",
   "nbconvert_exporter": "python",
   "pygments_lexer": "ipython3",
   "version": "3.9.6"
  }
 },
 "nbformat": 4,
 "nbformat_minor": 5
}
