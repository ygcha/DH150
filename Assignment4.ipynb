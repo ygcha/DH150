{
 "cells": [
  {
   "cell_type": "markdown",
   "id": "6f633361-7035-4b98-8b6d-82b804d0afaf",
   "metadata": {},
   "source": [
    "# Assignment 4"
   ]
  },
  {
   "cell_type": "markdown",
   "id": "ae698ce6-e685-4dfa-93cd-ed1a5356f870",
   "metadata": {},
   "source": [
    "## Import the diabetes dataset from scikit-learn"
   ]
  },
  {
   "cell_type": "code",
   "execution_count": 1,
   "id": "b9376841-b4f2-4683-99b2-f83a1f57baf9",
   "metadata": {},
   "outputs": [],
   "source": [
    "# Import scikit-learn's example diabetes dataset with the following code:\n",
    "import sklearn.datasets\n",
    "diabetes = sklearn.datasets.load_diabetes()"
   ]
  },
  {
   "cell_type": "code",
   "execution_count": 2,
   "id": "165a813a-5256-4906-aea6-4aabd2c51659",
   "metadata": {},
   "outputs": [
    {
     "name": "stdout",
     "output_type": "stream",
     "text": [
      ".. _diabetes_dataset:\n",
      "\n",
      "Diabetes dataset\n",
      "----------------\n",
      "\n",
      "Ten baseline variables, age, sex, body mass index, average blood\n",
      "pressure, and six blood serum measurements were obtained for each of n =\n",
      "442 diabetes patients, as well as the response of interest, a\n",
      "quantitative measure of disease progression one year after baseline.\n",
      "\n",
      "**Data Set Characteristics:**\n",
      "\n",
      "  :Number of Instances: 442\n",
      "\n",
      "  :Number of Attributes: First 10 columns are numeric predictive values\n",
      "\n",
      "  :Target: Column 11 is a quantitative measure of disease progression one year after baseline\n",
      "\n",
      "  :Attribute Information:\n",
      "      - age     age in years\n",
      "      - sex\n",
      "      - bmi     body mass index\n",
      "      - bp      average blood pressure\n",
      "      - s1      tc, total serum cholesterol\n",
      "      - s2      ldl, low-density lipoproteins\n",
      "      - s3      hdl, high-density lipoproteins\n",
      "      - s4      tch, total cholesterol / HDL\n",
      "      - s5      ltg, possibly log of serum triglycerides level\n",
      "      - s6      glu, blood sugar level\n",
      "\n",
      "Note: Each of these 10 feature variables have been mean centered and scaled by the standard deviation times `n_samples` (i.e. the sum of squares of each column totals 1).\n",
      "\n",
      "Source URL:\n",
      "https://www4.stat.ncsu.edu/~boos/var.select/diabetes.html\n",
      "\n",
      "For more information see:\n",
      "Bradley Efron, Trevor Hastie, Iain Johnstone and Robert Tibshirani (2004) \"Least Angle Regression,\" Annals of Statistics (with discussion), 407-499.\n",
      "(https://web.stanford.edu/~hastie/Papers/LARS/LeastAngle_2002.pdf)\n"
     ]
    }
   ],
   "source": [
    "# Print a description of the dataset with:\n",
    "print(diabetes.DESCR)"
   ]
  },
  {
   "cell_type": "code",
   "execution_count": 3,
   "id": "bcc59593-76a0-40f1-93ac-af260d2293b3",
   "metadata": {},
   "outputs": [],
   "source": [
    "# Get the features and target arrays with:\n",
    "x = diabetes.data\n",
    "y = diabetes.target"
   ]
  },
  {
   "cell_type": "code",
   "execution_count": 4,
   "id": "c3b80532-e9cf-4c51-b523-142a18356f7e",
   "metadata": {},
   "outputs": [],
   "source": [
    "# We are going to use ALL the features stored in x to do regression. And we are NOT going to make any plots this time."
   ]
  },
  {
   "cell_type": "markdown",
   "id": "47e9ac66-6694-43e4-b964-07b313228810",
   "metadata": {},
   "source": [
    "## Compare the results of doing regression on this dataset with k-nearest neighbors, linear regression, decision tree regression, and random forest regression"
   ]
  },
  {
   "cell_type": "code",
   "execution_count": 5,
   "id": "6e5a1cbe-5dfb-4456-b96b-703545d54547",
   "metadata": {},
   "outputs": [],
   "source": [
    "import numpy as np\n",
    "import seaborn as sns\n",
    "import pandas as pd\n",
    "import sklearn.linear_model\n",
    "import sklearn.model_selection\n",
    "import sklearn.neighbors\n",
    "import sklearn.tree\n",
    "import matplotlib.pyplot as plt\n",
    "from sklearn import preprocessing, svm\n",
    "from sklearn.metrics import mean_squared_error\n",
    "from sklearn.linear_model import LinearRegression\n",
    "from sklearn.ensemble import RandomForestRegressor\n",
    "from sklearn.model_selection import cross_val_score"
   ]
  },
  {
   "cell_type": "markdown",
   "id": "9bbbb7bd-8350-496b-835e-24587d9485eb",
   "metadata": {},
   "source": [
    "### Linear Regression"
   ]
  },
  {
   "cell_type": "code",
   "execution_count": 6,
   "id": "72ae597a-afcf-4e0a-8313-bfd8cc6a12d9",
   "metadata": {},
   "outputs": [],
   "source": [
    "model1 = sklearn.linear_model.LinearRegression()"
   ]
  },
  {
   "cell_type": "code",
   "execution_count": 7,
   "id": "e0b35030-efbf-4050-beec-c11e31f79868",
   "metadata": {},
   "outputs": [],
   "source": [
    "# Split your x and y data into training and test sets\n",
    "x_train, x_test, y_train, y_test = sklearn.model_selection.train_test_split(\n",
    "    x, y, test_size=0.2, random_state=42)"
   ]
  },
  {
   "cell_type": "code",
   "execution_count": 8,
   "id": "6f1fc258-e6aa-4512-a884-b4ac9da57002",
   "metadata": {},
   "outputs": [
    {
     "data": {
      "text/plain": [
       "LinearRegression()"
      ]
     },
     "execution_count": 8,
     "metadata": {},
     "output_type": "execute_result"
    }
   ],
   "source": [
    "# Train the model\n",
    "model1.fit(x_train,y_train)"
   ]
  },
  {
   "cell_type": "code",
   "execution_count": 9,
   "id": "157019ed-3844-46db-a434-cf5d3b9f3dba",
   "metadata": {},
   "outputs": [],
   "source": [
    "# Make a prediction\n",
    "y_pred1 = model1.predict(x_test)"
   ]
  },
  {
   "cell_type": "code",
   "execution_count": 10,
   "id": "3de7e7b4-7a44-4c3e-b680-3de6cfff97ad",
   "metadata": {},
   "outputs": [
    {
     "data": {
      "text/plain": [
       "(353, 10)"
      ]
     },
     "execution_count": 10,
     "metadata": {},
     "output_type": "execute_result"
    }
   ],
   "source": [
    "x_train.shape"
   ]
  },
  {
   "cell_type": "code",
   "execution_count": 11,
   "id": "00d84861-8dd5-4612-b45f-9ddc858a575f",
   "metadata": {},
   "outputs": [
    {
     "data": {
      "text/plain": [
       "(89, 10)"
      ]
     },
     "execution_count": 11,
     "metadata": {},
     "output_type": "execute_result"
    }
   ],
   "source": [
    "x_test.shape"
   ]
  },
  {
   "cell_type": "code",
   "execution_count": 12,
   "id": "409e18af-a9b5-403e-a10d-190a067aeea8",
   "metadata": {},
   "outputs": [
    {
     "name": "stdout",
     "output_type": "stream",
     "text": [
      "Intercept =  151.3456553477407\n",
      "Model coefficients =  [  37.90031426 -241.96624835  542.42575342  347.70830529 -931.46126093\n",
      "  518.04405547  163.40353476  275.31003837  736.18909839   48.67112488]\n",
      "MSE_linrig =  2900.1732878832318\n"
     ]
    }
   ],
   "source": [
    "# Print the MSE of the predictions relative to the true y values of the data\n",
    "x_model_vals = np.linspace(0, 10, 50).reshape(-1,10)\n",
    "y_model_vals = model1.predict(x_model_vals)\n",
    "\n",
    "print('Intercept = ', model1.intercept_)\n",
    "print('Model coefficients = ', model1.coef_)\n",
    "print('MSE_linrig = ', mean_squared_error(y_test, y_pred1))"
   ]
  },
  {
   "cell_type": "markdown",
   "id": "164f6bd0-34d5-427e-bb06-ce70712c838d",
   "metadata": {
    "tags": []
   },
   "source": [
    "### k-nearest neighbors"
   ]
  },
  {
   "cell_type": "code",
   "execution_count": 13,
   "id": "2830bc8f-a5d8-4325-82f6-3bdc558756dd",
   "metadata": {},
   "outputs": [],
   "source": [
    "model2 = sklearn.neighbors.KNeighborsRegressor(n_neighbors=3)"
   ]
  },
  {
   "cell_type": "code",
   "execution_count": 14,
   "id": "605d8af6-5b9b-43b1-99e9-90cf52904d7c",
   "metadata": {},
   "outputs": [],
   "source": [
    "def knntest(n=3):\n",
    "    model2 = sklearn.neighbors.KNeighborsRegressor(n_neighbors=n)\n",
    "\n",
    "    x_train, x_test, y_train, y_test = sklearn.model_selection.train_test_split(\n",
    "        x, y, test_size=0.2, random_state=42)\n",
    "\n",
    "    model2.fit(x_train, y_train)\n",
    "\n",
    "    y_pred2 = model2.predict(x_test)\n",
    "\n",
    "    print('MSE_knn = ', mean_squared_error(y_test, y_pred2))"
   ]
  },
  {
   "cell_type": "code",
   "execution_count": 15,
   "id": "53293ee9-51f2-4268-ac03-92eb3bcb6320",
   "metadata": {},
   "outputs": [],
   "source": [
    "# Split your x and y data into training and test sets\n",
    "x_train, x_test, y_train, y_test = sklearn.model_selection.train_test_split(\n",
    "    x, y, test_size=0.2, random_state=42)"
   ]
  },
  {
   "cell_type": "code",
   "execution_count": 16,
   "id": "f1827535-4bb9-424e-87bd-e9e95740e16c",
   "metadata": {},
   "outputs": [
    {
     "data": {
      "text/plain": [
       "KNeighborsRegressor(n_neighbors=3)"
      ]
     },
     "execution_count": 16,
     "metadata": {},
     "output_type": "execute_result"
    }
   ],
   "source": [
    "# Train the model\n",
    "model2.fit(x_train,y_train)"
   ]
  },
  {
   "cell_type": "code",
   "execution_count": 17,
   "id": "2221df19-b8b8-4343-a2a8-5abb39d45425",
   "metadata": {},
   "outputs": [],
   "source": [
    "# Make a prediction\n",
    "y_pred2 = model2.predict(x_test)"
   ]
  },
  {
   "cell_type": "code",
   "execution_count": 18,
   "id": "b4ea8710-dbba-4b04-8714-82728817730a",
   "metadata": {},
   "outputs": [
    {
     "data": {
      "text/plain": [
       "array([-4250.91236307, -4645.72143975, -4536.07668232, -4767.94920635,\n",
       "       -3825.44603175])"
      ]
     },
     "execution_count": 18,
     "metadata": {},
     "output_type": "execute_result"
    }
   ],
   "source": [
    "loss = cross_val_score(model2,\n",
    "                       x_train,\n",
    "                       y_train, \n",
    "                       cv=5, \n",
    "                       scoring='neg_mean_squared_error')\n",
    "loss"
   ]
  },
  {
   "cell_type": "code",
   "execution_count": 19,
   "id": "75bd1481-bca8-484c-854a-66835e071a0e",
   "metadata": {},
   "outputs": [
    {
     "data": {
      "text/plain": [
       "66.3218962404476"
      ]
     },
     "execution_count": 19,
     "metadata": {},
     "output_type": "execute_result"
    }
   ],
   "source": [
    "np.mean(np.sqrt(-loss))"
   ]
  },
  {
   "cell_type": "code",
   "execution_count": 20,
   "id": "eaa114f1-f846-44a5-bfc0-101d00c534c7",
   "metadata": {},
   "outputs": [],
   "source": [
    "k_range = range(1, 20)\n",
    "k_scores = []\n",
    "\n",
    "for k in k_range:\n",
    "    knn = sklearn.neighbors.KNeighborsRegressor(n_neighbors=k)\n",
    "    loss = cross_val_score(knn,\n",
    "                           x_train,\n",
    "                           y_train, \n",
    "                           cv=5, \n",
    "                           scoring='neg_mean_squared_error')\n",
    "    k_scores.append(np.sqrt(-loss).mean())"
   ]
  },
  {
   "cell_type": "code",
   "execution_count": 21,
   "id": "8cf82a04-bed0-41b7-8d7e-f1ef3e125710",
   "metadata": {},
   "outputs": [
    {
     "name": "stdout",
     "output_type": "stream",
     "text": [
      "MSE_knn =  3115.359438202248\n"
     ]
    }
   ],
   "source": [
    "knntest(n=10)"
   ]
  },
  {
   "cell_type": "markdown",
   "id": "01715970-69f4-4b33-9e05-b2d5d15921a1",
   "metadata": {
    "tags": []
   },
   "source": [
    "### Decision Tree Regression"
   ]
  },
  {
   "cell_type": "code",
   "execution_count": 22,
   "id": "9d3f1a9c-cbb7-4724-891e-f36d74920a41",
   "metadata": {},
   "outputs": [],
   "source": [
    "model3 = sklearn.tree.DecisionTreeRegressor(max_depth=3)"
   ]
  },
  {
   "cell_type": "code",
   "execution_count": 23,
   "id": "95e31dc6-0498-428a-82b9-20075c39d2b9",
   "metadata": {},
   "outputs": [],
   "source": [
    "def dtMax(n=1):\n",
    "    model3 = sklearn.tree.DecisionTreeRegressor(max_depth=n)\n",
    "\n",
    "    x_train, x_test, y_train, y_test = sklearn.model_selection.train_test_split(\n",
    "        x, y, test_size=0.2, random_state=42)\n",
    "    \n",
    "    model3.fit(x_train,y_train)\n",
    "    \n",
    "    y_pred3 = model3.predict(x_test)\n",
    "    \n",
    "    print('MSE_depth',n,' = ', mean_squared_error(y_test, y_pred3))\n",
    "    \n",
    "    text_representation = sklearn.tree.export_text(model3)\n",
    "    print(text_representation)"
   ]
  },
  {
   "cell_type": "code",
   "execution_count": 24,
   "id": "20fdf0c1-b048-4534-88db-6a495e9b659c",
   "metadata": {},
   "outputs": [],
   "source": [
    "# Split your x and y data into training and test sets\n",
    "x_train, x_test, y_train, y_test = sklearn.model_selection.train_test_split(\n",
    "    x, y, test_size=0.2, random_state=42)"
   ]
  },
  {
   "cell_type": "code",
   "execution_count": 25,
   "id": "deca9197-8607-4f9f-8a83-31bd1564d1a6",
   "metadata": {},
   "outputs": [
    {
     "data": {
      "text/plain": [
       "DecisionTreeRegressor(max_depth=3)"
      ]
     },
     "execution_count": 25,
     "metadata": {},
     "output_type": "execute_result"
    }
   ],
   "source": [
    "# Train the model\n",
    "model3.fit(x_train,y_train)"
   ]
  },
  {
   "cell_type": "code",
   "execution_count": 26,
   "id": "05bf131b-f770-4c60-b654-91b29ed9ccfd",
   "metadata": {},
   "outputs": [],
   "source": [
    "# Make a prediction\n",
    "y_pred3 = model3.predict(x_test)"
   ]
  },
  {
   "cell_type": "code",
   "execution_count": 27,
   "id": "1a6d3036-cae3-4f73-84fb-518eb2d390e5",
   "metadata": {},
   "outputs": [
    {
     "data": {
      "text/plain": [
       "array([-3967.33998151, -5158.02467042, -3516.99932374, -4685.11190454,\n",
       "       -3919.4934666 ])"
      ]
     },
     "execution_count": 27,
     "metadata": {},
     "output_type": "execute_result"
    }
   ],
   "source": [
    "loss = cross_val_score(model3,\n",
    "                       x_train,\n",
    "                       y_train, \n",
    "                       cv=5, \n",
    "                       scoring='neg_mean_squared_error')\n",
    "loss"
   ]
  },
  {
   "cell_type": "code",
   "execution_count": 28,
   "id": "e1a7dd69-44c0-4eec-9695-9072c2b8c032",
   "metadata": {},
   "outputs": [
    {
     "data": {
      "text/plain": [
       "65.03284855777811"
      ]
     },
     "execution_count": 28,
     "metadata": {},
     "output_type": "execute_result"
    }
   ],
   "source": [
    "np.mean(np.sqrt(-loss))"
   ]
  },
  {
   "cell_type": "code",
   "execution_count": 29,
   "id": "e80e5ee2-9c6b-406f-8bc9-fc7f0d42061e",
   "metadata": {},
   "outputs": [
    {
     "name": "stdout",
     "output_type": "stream",
     "text": [
      "MSE_depth 3  =  3656.186930948001\n",
      "|--- feature_2 <= 0.01\n",
      "|   |--- feature_8 <= 0.01\n",
      "|   |   |--- feature_8 <= -0.04\n",
      "|   |   |   |--- value: [80.88]\n",
      "|   |   |--- feature_8 >  -0.04\n",
      "|   |   |   |--- value: [109.92]\n",
      "|   |--- feature_8 >  0.01\n",
      "|   |   |--- feature_7 <= 0.09\n",
      "|   |   |   |--- value: [159.57]\n",
      "|   |   |--- feature_7 >  0.09\n",
      "|   |   |   |--- value: [256.33]\n",
      "|--- feature_2 >  0.01\n",
      "|   |--- feature_2 <= 0.07\n",
      "|   |   |--- feature_9 <= 0.03\n",
      "|   |   |   |--- value: [175.80]\n",
      "|   |   |--- feature_9 >  0.03\n",
      "|   |   |   |--- value: [230.52]\n",
      "|   |--- feature_2 >  0.07\n",
      "|   |   |--- feature_5 <= 0.02\n",
      "|   |   |   |--- value: [291.22]\n",
      "|   |   |--- feature_5 >  0.02\n",
      "|   |   |   |--- value: [225.75]\n",
      "\n"
     ]
    }
   ],
   "source": [
    "dtMax(n=3)"
   ]
  },
  {
   "cell_type": "markdown",
   "id": "023d6888-d4ea-4ad3-92a4-fdbdae0ce32a",
   "metadata": {
    "tags": []
   },
   "source": [
    "### Random Forest Regression"
   ]
  },
  {
   "cell_type": "code",
   "execution_count": 30,
   "id": "babc8375-283e-4dd6-8a89-c7d952b4008c",
   "metadata": {},
   "outputs": [],
   "source": [
    "model4 = sklearn.ensemble.RandomForestRegressor(max_depth=3)"
   ]
  },
  {
   "cell_type": "code",
   "execution_count": 31,
   "id": "181f0101-c188-4ecb-afcd-bb642903bc76",
   "metadata": {},
   "outputs": [],
   "source": [
    "def rfMax(n=1):\n",
    "    model4 = sklearn.ensemble.RandomForestRegressor(max_depth=2)\n",
    "\n",
    "    x_train, x_test, y_train, y_test = sklearn.model_selection.train_test_split(\n",
    "        x, y, test_size=0.2, random_state=42)\n",
    "    \n",
    "    model4.fit(x_train,\n",
    "          y_train)\n",
    "    y_pred4 = model4.predict(x_test)\n",
    "    \n",
    "    print('MSE_depth',n,' = ', mean_squared_error(y_test, y_pred4))\n",
    "    \n",
    "    text_representation = sklearn.tree.export_text(model4.estimators_[0])\n",
    "    print(text_representation)"
   ]
  },
  {
   "cell_type": "code",
   "execution_count": 32,
   "id": "a897c689-9654-4c72-aa2d-748a30b2c279",
   "metadata": {},
   "outputs": [],
   "source": [
    "# Split your x and y data into training and test sets\n",
    "x_train, x_test, y_train, y_test = sklearn.model_selection.train_test_split(\n",
    "    x, y, test_size=0.2, random_state=42)"
   ]
  },
  {
   "cell_type": "code",
   "execution_count": 33,
   "id": "83f3d36d-973e-4f51-b43b-4f993c77700d",
   "metadata": {},
   "outputs": [
    {
     "data": {
      "text/plain": [
       "RandomForestRegressor(max_depth=3)"
      ]
     },
     "execution_count": 33,
     "metadata": {},
     "output_type": "execute_result"
    }
   ],
   "source": [
    "# Train the model\n",
    "model4.fit(x_train,y_train)"
   ]
  },
  {
   "cell_type": "code",
   "execution_count": 34,
   "id": "3388a56e-d875-4ee9-bce4-78829872ca71",
   "metadata": {},
   "outputs": [],
   "source": [
    "# Make a prediction\n",
    "y_pred4 = model4.predict(x_test)"
   ]
  },
  {
   "cell_type": "code",
   "execution_count": 35,
   "id": "353b4c88-4a60-4abb-9ad3-dfa5a41a6388",
   "metadata": {},
   "outputs": [
    {
     "data": {
      "text/plain": [
       "array([-2972.81712804, -4309.63435091, -2914.32531442, -3536.45856485,\n",
       "       -3181.7104444 ])"
      ]
     },
     "execution_count": 35,
     "metadata": {},
     "output_type": "execute_result"
    }
   ],
   "source": [
    "loss = cross_val_score(model4,\n",
    "                       x_train,\n",
    "                       y_train, \n",
    "                       cv=5, \n",
    "                       scoring='neg_mean_squared_error')\n",
    "loss"
   ]
  },
  {
   "cell_type": "code",
   "execution_count": 36,
   "id": "f745ef87-36e6-47cf-a6c2-27fcbcd220cf",
   "metadata": {},
   "outputs": [
    {
     "data": {
      "text/plain": [
       "58.00612529970745"
      ]
     },
     "execution_count": 36,
     "metadata": {},
     "output_type": "execute_result"
    }
   ],
   "source": [
    "np.mean(np.sqrt(-loss))"
   ]
  },
  {
   "cell_type": "code",
   "execution_count": 37,
   "id": "804fe619-6cc5-44c7-9fb2-69499f768af0",
   "metadata": {},
   "outputs": [
    {
     "name": "stdout",
     "output_type": "stream",
     "text": [
      "MSE_depth 2  =  3002.8033606871018\n",
      "|--- feature_2 <= 0.01\n",
      "|   |--- feature_8 <= 0.01\n",
      "|   |   |--- value: [103.55]\n",
      "|   |--- feature_8 >  0.01\n",
      "|   |   |--- value: [168.41]\n",
      "|--- feature_2 >  0.01\n",
      "|   |--- feature_3 <= 0.02\n",
      "|   |   |--- value: [174.00]\n",
      "|   |--- feature_3 >  0.02\n",
      "|   |   |--- value: [242.82]\n",
      "\n"
     ]
    }
   ],
   "source": [
    "rfMax(n=2)"
   ]
  },
  {
   "cell_type": "markdown",
   "id": "2e689f66-3fcb-4a70-9d81-ef4da54144b5",
   "metadata": {},
   "source": [
    "## Conclusion"
   ]
  },
  {
   "cell_type": "markdown",
   "id": "ad3cbe2c-c272-4b88-8f91-3a44645a3266",
   "metadata": {},
   "source": [
    "#### Linear Regression\n",
    "2900.1732878832318\n",
    "\n",
    "#### k-nearest neighbors\n",
    "3115.359438202248\n",
    "\n",
    "#### Decision Tree Regression\n",
    "3656.186930948001\n",
    "\n",
    "#### Random Forest Regression\n",
    "2989.943511307444\n",
    "\n",
    " <hr> "
   ]
  },
  {
   "cell_type": "markdown",
   "id": "62a7dea3-4bfd-4a5a-896d-12ca49e292e0",
   "metadata": {},
   "source": [
    "#### **<u>Linear Regression</u> performed the best out of the four.**"
   ]
  }
 ],
 "metadata": {
  "kernelspec": {
   "display_name": "Python 3 (ipykernel)",
   "language": "python",
   "name": "python3"
  },
  "language_info": {
   "codemirror_mode": {
    "name": "ipython",
    "version": 3
   },
   "file_extension": ".py",
   "mimetype": "text/x-python",
   "name": "python",
   "nbconvert_exporter": "python",
   "pygments_lexer": "ipython3",
   "version": "3.9.6"
  }
 },
 "nbformat": 4,
 "nbformat_minor": 5
}
