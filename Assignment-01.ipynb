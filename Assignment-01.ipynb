{
 "cells": [
  {
   "cell_type": "markdown",
   "id": "53a75286-8e9a-4574-a9cd-deadf632e1d1",
   "metadata": {},
   "source": [
    "# Instructions"
   ]
  },
  {
   "cell_type": "markdown",
   "id": "64e3cf6e-cf51-4531-baa3-c576b50d555b",
   "metadata": {},
   "source": [
    "1. Join our Slack channel\n",
    "    * [click here if you need the link to join](https://join.slack.com/t/slack-tup9115/shared_invite/zt-1b8kosos2-TaVmfT7l_TdpKjQ1izCK0g)\n",
    "    * The following assignment is intended to help you gain familiarity with the requisite software infrastructure and to help you practice (potentially completely new) Python skills\n",
    "    * It's not intended to make you tear your hair out in consternation!\n",
    "    * If you want hints or guidance on the basics, please post in Slack\n",
    "1. Make a new repository on GitHub to store assignments from this class.\n",
    "    * Select the \"Add a README file\" option when making the new repository\n",
    "1. In your account on the JupyterHub, go into your home folder\n",
    "1. Select the GitHub button on the left-hand JupyterHub menu and clone the repository you just created.\n",
    "1. Copy this assignment file into the folder you just cloned.\n",
    "1. Carry out the subsequent exercises (below) in that file and save it.\n",
    "1. Push your completed assignment file to your GitHub repository\n",
    "    1. Select the GitHub button on the left-hand JupyterHub menu\n",
    "    1. Hover over the new files under \"Untracked\" and click on the \"+\" symbol to add them\n",
    "    1. Add a message under the Commit summary on bottom\n",
    "    1. Click on Commit\n",
    "    1. After that is successful, go up to the top of the side panel and click on the button that now has the orange dot (with the cloud symbol and upward arrow)\n",
    "    1. You will need a personal access token for the password\n",
    "        * If you don't have one, follow the steps at GitHub's documentation page for creating a [personal access token](https://docs.github.com/en/authentication/keeping-your-account-and-data-secure/creating-a-personal-access-token)\n",
    "        * When the token is generated, you only get to see it once, so make sure to store it somewhere securely as needed\n",
    "    1. After you push successfully, verify that your files are in your GitHub repository by visiting the website for your repository\n",
    "1. Finish the assignment by submitting a link to your GitHub repository on the Canvas site"
   ]
  },
  {
   "cell_type": "markdown",
   "id": "49b9267a-d050-4671-a643-1103fd47c690",
   "metadata": {},
   "source": [
    "# Python exercises"
   ]
  },
  {
   "cell_type": "code",
   "execution_count": null,
   "id": "31728919-ffb3-44c6-ba97-d00489c96274",
   "metadata": {},
   "outputs": [
    {
     "name": "stdout",
     "output_type": "stream",
     "text": [
      "x + y = 64\n",
      "x * y = 960\n",
      "x / y = 0.6\n",
      "x - y = 64\n"
     ]
    }
   ],
   "source": [
    "# Do at least three mathematical calculations with `+`, `-`, `*`, `/`, and/or `%`.\n",
    "\n",
    "x = 24\n",
    "y = 40\n",
    "\n",
    "print('x + y =', x+y)\n",
    "\n",
    "print('x * y =', x*y)\n",
    "\n",
    "print('x / y =', x/y)\n",
    "\n",
    "print('x - y =', x+y)"
   ]
  },
  {
   "cell_type": "code",
   "execution_count": 20,
   "id": "8fe34a6d-a4f7-4111-a95a-257a7de52103",
   "metadata": {},
   "outputs": [
    {
     "name": "stdout",
     "output_type": "stream",
     "text": [
      "a is odd\n"
     ]
    }
   ],
   "source": [
    "# Assign a number to the variable `a`,\n",
    "# do a mathematical calculation to determine whether a is odd or even,\n",
    "# and print out either \"a is even\" or \"a is odd\" as appropriate.\n",
    "\n",
    "a = 5\n",
    "\n",
    "def check(num):\n",
    "    if num % 2 == 0:\n",
    "        print(\"a is even\")\n",
    "    else:\n",
    "        print(\"a is odd\")\n",
    "check(a)"
   ]
  },
  {
   "cell_type": "code",
   "execution_count": 25,
   "id": "a70653e6-0a18-4155-8b4b-c6835f72e4e6",
   "metadata": {},
   "outputs": [
    {
     "name": "stdout",
     "output_type": "stream",
     "text": [
      "[1, 1, 2, 3, 5, 8, 13, 21, 34, 55, 89]\n",
      "1\n",
      "8\n",
      "89\n",
      "The length of the Array is 11\n",
      "1, 1, 2, 3, 5, 8, 13, 21, 34, 55, 89\n",
      "[1, 1, 2, 3, 5]\n",
      "[89, 55, 34, 21, 13, 8, 5, 3, 2, 1, 1]\n",
      "[0, 1, 1, 2, 3, 5, 8, 13, 21, 34, 55, 89, 144]\n"
     ]
    }
   ],
   "source": [
    "# Using the given list,\n",
    "# 1. print the list\n",
    "# 2. print the 0th element \n",
    "# 3. print the 5th element \n",
    "# 4. print the last element \n",
    "# 5. print the length\n",
    "#        look at https://python.readthedocs.io/en/stable/library/functions.html\n",
    "#        specifically `len()`\n",
    "# 6. print all the elements\n",
    "# 7. print all the elements less than 8\n",
    "# 8. print out the elements in reverse order\n",
    "#        look at https://python-reference.readthedocs.io/en/latest/docs/list/\n",
    "#        specifically `reverse`\n",
    "# 9. append the next fibonacci number and print out the new list\n",
    "#        look again at the docs, this time for `append`\n",
    "#        [elements in the fibonacci sequence are equal to the sum of the previous two elements]\n",
    "\n",
    "a = [1, 1, 2, 3, 5, 8, 13, 21, 34, 55, 89]\n",
    "\n",
    "#1 \n",
    "print(a)\n",
    "\n",
    "#2\n",
    "print(a[0])\n",
    "\n",
    "#3\n",
    "print(a[5])\n",
    "\n",
    "#4\n",
    "print(a[-1])\n",
    "\n",
    "#5\n",
    "print(\"The length of the Array is\", len(a))\n",
    "\n",
    "#6\n",
    "print(*a, sep = \", \")\n",
    "\n",
    "#7\n",
    "b = []\n",
    "[b.append(i) for i in a if i < 8]\n",
    "print(b)\n",
    "\n",
    "#8\n",
    "def reverse(a):\n",
    "    a.reverse()\n",
    "    return a\n",
    "\n",
    "print(reverse(a))\n",
    "\n",
    "#9\n",
    "def a(n):\n",
    "  if n <= 0:\n",
    "    return [0]\n",
    "  sequence = [0, 1]\n",
    "  while len(sequence) <= n:\n",
    "    next_value = sequence[len(sequence) - 1] + sequence[len(sequence) - 2]\n",
    "    sequence.append(next_value)\n",
    "  return sequence\n",
    "print(a(12))"
   ]
  },
  {
   "cell_type": "code",
   "execution_count": 29,
   "id": "22203dab-ac71-45fa-9922-c649c7810488",
   "metadata": {},
   "outputs": [
    {
     "name": "stdout",
     "output_type": "stream",
     "text": [
      "[1, 1, 2, 3, 5, 8, 13, 21, 34, 55, 89, 1, 2, 3, 4, 5, 6, 7, 8, 9, 10, 11, 12, 13]\n",
      "[89, 34, 21, 55, 4, 6, 7, 9, 10, 11, 12]\n"
     ]
    }
   ],
   "source": [
    "# Using the below lists\n",
    "# 1. print out all the elements that are contained in both lists\n",
    "# 2. print out the elements that are contained in either list a or list b but not both\n",
    "\n",
    "a = [1, 1, 2, 3, 5, 8, 13, 21, 34, 55, 89]\n",
    "b = [1, 2, 3, 4, 5, 6, 7, 8, 9, 10, 11, 12, 13]\n",
    "\n",
    "#1\n",
    "print(a+b)\n",
    "    \n",
    "#2 \n",
    "set1 = list(set(a) - set(b))\n",
    "set2 = list(set(b) - set(a))\n",
    "\n",
    "print(set1+set2)"
   ]
  },
  {
   "cell_type": "code",
   "execution_count": 18,
   "id": "ad4f7b2a-5cc1-4a65-a5b5-1f2994f42fab",
   "metadata": {},
   "outputs": [
    {
     "name": "stdout",
     "output_type": "stream",
     "text": [
      "{'January': 7, 'February': 8, 'March': 5, 'April': 5, 'July': 4}\n",
      "('March', 5)\n",
      "January has 7 letters\n",
      "February has 8 letters\n",
      "March has 5 letters\n",
      "April has 5 letters\n",
      "July has 4 letters\n"
     ]
    }
   ],
   "source": [
    "# Using the below dictionary\n",
    "# add a new item to the dictionary,\n",
    "# print an element from the dictionary,\n",
    "# print out the message \"<key> has <value> letters\" for every <key>/<value> pair\n",
    "\n",
    "a = {'January': 7, 'February': 8, 'March': 5, 'April': 5}\n",
    "\n",
    "# add a new item to the dictionary\n",
    "a['July'] = 4\n",
    "print(a)\n",
    "\n",
    "# print an element from the dictionary\n",
    "month_letters = list(a.items())\n",
    "print(month_letters[2])\n",
    "\n",
    "# print out the message \"<key> has <value> letters\" for every <key>/<value> pair\n",
    "for key, value in a.items():\n",
    "    print(key, \"has\", value, \"letters\")\n"
   ]
  },
  {
   "cell_type": "code",
   "execution_count": 71,
   "id": "3005621c-e50c-436a-a033-9aadae71eafb",
   "metadata": {},
   "outputs": [
    {
     "name": "stdout",
     "output_type": "stream",
     "text": [
      "(2, 7)\n",
      "(7, 24)\n",
      "(68, 15)\n",
      "(62, 77)\n"
     ]
    }
   ],
   "source": [
    "# Write a function that takes as input a list of numbers \n",
    "# and prints a new list of only the first and last elements of the given list.\n",
    "# Execute it with several examples.\n",
    "\n",
    "list_1 = [2, 20, 85, 11, 41, 7]\n",
    "list_1_firstlast = list_1[0],list_1[-1]\n",
    "print(list_1_firstlast)\n",
    "\n",
    "list_2 = [7, 33, 10, 77, 24]\n",
    "list_2_firstlast = list_2[0],list_2[-1]\n",
    "print(list_2_firstlast)\n",
    "\n",
    "list_3 = [68, 96, 64, 18, 21, 59, 70, 76, 46, 15]\n",
    "list_3_firstlast = list_3[0],list_3[-1]\n",
    "print(list_3_firstlast)\n",
    "\n",
    "list_4 = [62, 49, 19, 96, 74, 85, 86, 88, 10, 32, 65, 75, 31, 66, 77]\n",
    "list_4_firstlast = list_4[0],list_4[-1]\n",
    "print(list_4_firstlast)\n"
   ]
  },
  {
   "cell_type": "code",
   "execution_count": 22,
   "id": "4a607e0a-2e1b-4e44-af40-4571f2e0b4f0",
   "metadata": {},
   "outputs": [
    {
     "name": "stdout",
     "output_type": "stream",
     "text": [
      "Yes\n",
      "No\n",
      "Yes\n",
      "No\n"
     ]
    }
   ],
   "source": [
    "# Write a function that takes a string as input\n",
    "# and prints out \"Yes\" or \"No\" depending on whether the\n",
    "# string is a palindrome (spelled the same forwards and backwards).  \n",
    "# Execute it with several examples.\n",
    "\n",
    "def isPalindrome(s):\n",
    "    return s == s[::-1]\n",
    "\n",
    "s = \"kayak\"\n",
    "ans = isPalindrome(s)\n",
    "\n",
    "if ans:\n",
    "    print(\"Yes\")\n",
    "else:\n",
    "    print(\"No\")\n",
    "\n",
    "s = \"doctor\"\n",
    "ans1 = isPalindrome(s)\n",
    "\n",
    "if ans1:\n",
    "    print(\"Yes\")\n",
    "else:\n",
    "    print(\"No\")\n",
    "\n",
    "s = \"racecar\"\n",
    "ans2 = isPalindrome(s)\n",
    "\n",
    "if ans2:\n",
    "    print(\"Yes\")\n",
    "else:\n",
    "    print(\"No\")\n",
    "\n",
    "s = \"apple\"\n",
    "ans2 = isPalindrome(s)\n",
    "\n",
    "if ans2:\n",
    "    print(\"Yes\")\n",
    "else:\n",
    "    print(\"No\")"
   ]
  },
  {
   "cell_type": "markdown",
   "id": "86f9df9a-822a-42be-a778-541173a4fefe",
   "metadata": {},
   "source": [
    "Check out the Python documentation for `random` and `string`:\n",
    "* https://python.readthedocs.io/en/stable/library/random.html\n",
    "* https://python.readthedocs.io/en/stable/library/string.html\n",
    "\n",
    "It's overkill for what you need here, but if you search for the specific attributes and methods mentioned below, you will be able to find useful information."
   ]
  },
  {
   "cell_type": "code",
   "execution_count": 17,
   "id": "c221f184-1e0b-491f-97a8-f9fb30458926",
   "metadata": {},
   "outputs": [
    {
     "name": "stdout",
     "output_type": "stream",
     "text": [
      "[0.5781469932743515, 0.9738398374220802, 0.3361678459400236]\n"
     ]
    }
   ],
   "source": [
    "# Write a function that sets a random seed and prints three random numbers between 0 and 1\n",
    "# You may find it useful to look up:\n",
    "# random.seed and random.random\n",
    "\n",
    "import random\n",
    "random.seed(a=None, version=2)\n",
    "\n",
    "three_random = []\n",
    "\n",
    "for i in range(0,3):\n",
    "    x = random.random()\n",
    "    three_random.append(x) \n",
    "\n",
    "print(three_random)"
   ]
  },
  {
   "cell_type": "code",
   "execution_count": 32,
   "id": "fc7c0629-729b-4c7e-9edb-266fbacb3be7",
   "metadata": {},
   "outputs": [
    {
     "name": "stdout",
     "output_type": "stream",
     "text": [
      "random alphabetical character\n",
      "G\n",
      "\n",
      "random alphabetical string\n",
      "FFRkLbNXSlVxyxPVrlucznAyWCUgNrFDCYltrCVvcgvHJXIwuKagKPlJISgSCVeUqryfsK\n",
      "\n",
      "random alphabetical string of a fixed length equal to the input integer\n",
      "SwkFFKriQJHxnWI\n"
     ]
    }
   ],
   "source": [
    "# Write a function that takes an integer as input\n",
    "# and prints a random alphabetical character, alphabetical string,\n",
    "# and alphabetical string of a fixed length equal to the input integer.\n",
    "# You may find it useful to look up:\n",
    "# string.ascii_letters, random.randint, random.choice\n",
    "\n",
    "import random\n",
    "import string\n",
    "\n",
    "print(\"random alphabetical character\")\n",
    "print(random.choice(string.ascii_letters))\n",
    "\n",
    "print(\"\\nrandom alphabetical string\")\n",
    "max_length = 100\n",
    "str1 = \"\"\n",
    "for i in range(random.randint(1, max_length)):\n",
    "    str1 += random.choice(string.ascii_letters)\n",
    "print(str1)\n",
    "\n",
    "print(\"\\nrandom alphabetical string of a fixed length equal to the input integer\")\n",
    "str2 = \"\"\n",
    "for i in range(15):\n",
    "    str2 += random.choice(string.ascii_letters)\n",
    "print(str2)"
   ]
  },
  {
   "cell_type": "code",
   "execution_count": 42,
   "id": "c738c817-00aa-4597-b5c8-f38af11275cb",
   "metadata": {},
   "outputs": [
    {
     "name": "stdout",
     "output_type": "stream",
     "text": [
      "['computer', 'program', 'experience', 'respect', 'performance', 'measure', 'performance', 'measured', 'improves', 'experience']\n"
     ]
    }
   ],
   "source": [
    "# Print the words in the following sentence that are longer than 6 characters\n",
    "# Note: you may find it useful to look at \n",
    "# `split` in https://python-reference.readthedocs.io/en/latest/docs/str/\n",
    "\n",
    "ml_sentence = '''\n",
    "A computer program is said to learn \n",
    "from experience E with respect to some class of tasks T \n",
    "and performance measure P, if its performance at tasks in T, \n",
    "as measured by P, improves with experience E.\n",
    "'''\n",
    "\n",
    "str = '''\n",
    "A computer program is said to learn \n",
    "from experience E with respect to some class of tasks T \n",
    "and performance measure P, if its performance at tasks in T, \n",
    "as measured by P, improves with experience E.\n",
    "'''\n",
    "n = 6\n",
    "\n",
    "def ml_sentence(n, str):\n",
    "    longer_6 = []\n",
    "    txt = str.split(\" \")\n",
    "    for x in txt:\n",
    "        if len(x) > n:\n",
    "            longer_6.append(x)\n",
    "    return longer_6\t\n",
    "print(ml_sentence(n, str))\n"
   ]
  },
  {
   "cell_type": "code",
   "execution_count": 57,
   "id": "25e1bc45-95db-4e39-8abf-614660bc17ba",
   "metadata": {},
   "outputs": [
    {
     "name": "stdout",
     "output_type": "stream",
     "text": [
      "['at', 'from', 'with', 'performance', 'measured']\n"
     ]
    }
   ],
   "source": [
    "# Print 5 random words from following sentence:\n",
    "\n",
    "ml_sentence = '''\n",
    "A computer program is said to learn \n",
    "from experience E with respect to some class of tasks T \n",
    "and performance measure P if its performance at tasks in T \n",
    "as measured by P improves with experience E.\n",
    "'''\n",
    "\n",
    "import random\n",
    "list_of_words = ml_sentence.split()\n",
    "print(random.choices(list_of_words, k=5))"
   ]
  },
  {
   "cell_type": "code",
   "execution_count": 58,
   "id": "8ef4c496-014c-4459-941d-afb431501191",
   "metadata": {},
   "outputs": [
    {
     "name": "stdout",
     "output_type": "stream",
     "text": [
      "{'A': 1, 'computer': 1, 'program': 1, 'is': 1, 'said': 1, 'to': 2, 'learn': 1, 'from': 1, 'experience': 2, 'E': 1, 'with': 2, 'respect': 1, 'some': 1, 'class': 1, 'of': 1, 'tasks': 2, 'T': 2, 'and': 1, 'performance': 2, 'measure': 1, 'P': 2, 'if': 1, 'its': 1, 'at': 1, 'in': 1, 'as': 1, 'measured': 1, 'by': 1, 'improves': 1, 'E.': 1}\n"
     ]
    }
   ],
   "source": [
    "# Using the above 'ml_sentence', make a dictionary with\n",
    "# the dictionary keys equal to the unique words in the sentence,\n",
    "# and the value for each key equal to the number of times each word occurs.\n",
    "# e.g. 'hello my hello friend' would lead to the dictionary {'hello': 2, 'my': 1, 'friend': 1}\n",
    "\n",
    "ml_sentence = '''\n",
    "A computer program is said to learn \n",
    "from experience E with respect to some class of tasks T \n",
    "and performance measure P if its performance at tasks in T \n",
    "as measured by P improves with experience E.\n",
    "'''\n",
    "\n",
    "def number_of_words(str):\n",
    "    counts = dict()\n",
    "    words = ml_sentence.split()\n",
    "    for word in words:\n",
    "        if word in counts:\n",
    "            counts[word] += 1\n",
    "        else:\n",
    "            counts[word] = 1\n",
    "    return counts\n",
    "\n",
    "word_frequency = number_of_words(ml_sentence)\n",
    "print(word_frequency)"
   ]
  },
  {
   "cell_type": "code",
   "execution_count": 73,
   "id": "33eaaa90-e336-4367-b072-58a8a71dada8",
   "metadata": {},
   "outputs": [
    {
     "name": "stdout",
     "output_type": "stream",
     "text": [
      "['ï', '»', '¿the', 'project', 'gutenberg', 'ebook', 'of', 'macbeth', ',', 'by']\n"
     ]
    }
   ],
   "source": [
    "# Time to roll up our sleeves and make a similar dictionary for all the words in Macbeth.\n",
    "# I am going to do the first part (and you can execute this cell as is to see what happens),\n",
    "# you just need to adapt your code from above to make the dictionary at the end\n",
    "\n",
    "# Here we import libraries that can grab data from the web (via requests) and form a list of words using NLTK.\n",
    "import requests\n",
    "from nltk.tokenize import word_tokenize\n",
    "\n",
    "# Here we get the text of Macbeth from Project Gutenberg (https://www.gutenberg.org/) \n",
    "# and \"tokenize\" the text (split it up into words)\n",
    "target_url = \"https://www.gutenberg.org/files/1533/1533-0.txt\"\n",
    "response = requests.get(target_url)\n",
    "text_string = response.text\n",
    "text_string = text_string.lower()\n",
    "text_words = word_tokenize(text_string)\n",
    "\n",
    "# Here we print the first 10 words\n",
    "print(text_words[0:10])\n",
    "\n",
    "# Put in your code here to make the dictionary with the <word> : <word counts> pairs\n",
    "\n",
    "\n",
    "# Check out some entries in the dictionary (such as 'Macbeth', 'sword', 'thy')\n",
    "\n"
   ]
  },
  {
   "cell_type": "markdown",
   "id": "4940bcc8-b6db-4ddd-a0ec-3dcdf5fa4183",
   "metadata": {},
   "source": [
    "# End"
   ]
  }
 ],
 "metadata": {
  "kernelspec": {
   "display_name": "Python 3 (ipykernel)",
   "language": "python",
   "name": "python3"
  },
  "language_info": {
   "codemirror_mode": {
    "name": "ipython",
    "version": 3
   },
   "file_extension": ".py",
   "mimetype": "text/x-python",
   "name": "python",
   "nbconvert_exporter": "python",
   "pygments_lexer": "ipython3",
   "version": "3.9.6"
  }
 },
 "nbformat": 4,
 "nbformat_minor": 5
}
