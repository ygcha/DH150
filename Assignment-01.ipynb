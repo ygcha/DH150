{
 "cells": [
  {
   "cell_type": "markdown",
   "id": "53a75286-8e9a-4574-a9cd-deadf632e1d1",
   "metadata": {},
   "source": [
    "# Instructions"
   ]
  },
  {
   "cell_type": "markdown",
   "id": "64e3cf6e-cf51-4531-baa3-c576b50d555b",
   "metadata": {},
   "source": [
    "1. Join our Slack channel\n",
    "    * [click here if you need the link to join](https://join.slack.com/t/slack-tup9115/shared_invite/zt-1b8kosos2-TaVmfT7l_TdpKjQ1izCK0g)\n",
    "    * The following assignment is intended to help you gain familiarity with the requisite software infrastructure and to help you practice (potentially completely new) Python skills\n",
    "    * It's not intended to make you tear your hair out in consternation!\n",
    "    * If you want hints or guidance on the basics, please post in Slack\n",
    "1. Make a new repository on GitHub to store assignments from this class.\n",
    "    * Select the \"Add a README file\" option when making the new repository\n",
    "1. In your account on the JupyterHub, go into your home folder\n",
    "1. Select the GitHub button on the left-hand JupyterHub menu and clone the repository you just created.\n",
    "1. Copy this assignment file into the folder you just cloned.\n",
    "1. Carry out the subsequent exercises (below) in that file and save it.\n",
    "1. Push your completed assignment file to your GitHub repository\n",
    "    1. Select the GitHub button on the left-hand JupyterHub menu\n",
    "    1. Hover over the new files under \"Untracked\" and click on the \"+\" symbol to add them\n",
    "    1. Add a message under the Commit summary on bottom\n",
    "    1. Click on Commit\n",
    "    1. After that is successful, go up to the top of the side panel and click on the button that now has the orange dot (with the cloud symbol and upward arrow)\n",
    "    1. You will need a personal access token for the password\n",
    "        * If you don't have one, follow the steps at GitHub's documentation page for creating a [personal access token](https://docs.github.com/en/authentication/keeping-your-account-and-data-secure/creating-a-personal-access-token)\n",
    "        * When the token is generated, you only get to see it once, so make sure to store it somewhere securely as needed\n",
    "    1. After you push successfully, verify that your files are in your GitHub repository by visiting the website for your repository\n",
    "1. Finish the assignment by submitting a link to your GitHub repository on the Canvas site"
   ]
  },
  {
   "cell_type": "markdown",
   "id": "49b9267a-d050-4671-a643-1103fd47c690",
   "metadata": {},
   "source": [
    "# Python exercises"
   ]
  },
  {
   "cell_type": "code",
   "execution_count": null,
   "id": "31728919-ffb3-44c6-ba97-d00489c96274",
   "metadata": {},
   "outputs": [
    {
     "name": "stdout",
     "output_type": "stream",
     "text": [
      "x + y = 64\n",
      "x * y = 960\n",
      "x / y = 0.6\n",
      "x - y = 64\n"
     ]
    }
   ],
   "source": [
    "# Do at least three mathematical calculations with `+`, `-`, `*`, `/`, and/or `%`.\n",
    "\n",
    "x = 24\n",
    "y = 40\n",
    "\n",
    "print('x + y =', x+y)\n",
    "\n",
    "print('x * y =', x*y)\n",
    "\n",
    "print('x / y =', x/y)\n",
    "\n",
    "print('x - y =', x+y)"
   ]
  },
  {
   "cell_type": "code",
   "execution_count": 20,
   "id": "8fe34a6d-a4f7-4111-a95a-257a7de52103",
   "metadata": {},
   "outputs": [
    {
     "name": "stdout",
     "output_type": "stream",
     "text": [
      "a is odd\n"
     ]
    }
   ],
   "source": [
    "# Assign a number to the variable `a`,\n",
    "# do a mathematical calculation to determine whether a is odd or even,\n",
    "# and print out either \"a is even\" or \"a is odd\" as appropriate.\n",
    "\n",
    "a = 5\n",
    "\n",
    "def check(num):\n",
    "    if num % 2 == 0:\n",
    "        print(\"a is even\")\n",
    "    else:\n",
    "        print(\"a is odd\")\n",
    "check(a)"
   ]
  },
  {
   "cell_type": "code",
   "execution_count": 74,
   "id": "a70653e6-0a18-4155-8b4b-c6835f72e4e6",
   "metadata": {},
   "outputs": [
    {
     "name": "stdout",
     "output_type": "stream",
     "text": [
      "[1, 1, 2, 3, 5, 8, 13, 21, 34, 55, 89]\n",
      "1\n",
      "8\n",
      "89\n",
      "The length of the array is 11\n",
      "1, 1, 2, 3, 5, 8, 13, 21, 34, 55, 89\n",
      "[1, 1, 2, 3, 5]\n",
      "[89, 55, 34, 21, 13, 8, 5, 3, 2, 1, 1]\n",
      "[0, 1, 1, 2, 3, 5, 8, 13, 21, 34, 55, 89, 144]\n"
     ]
    }
   ],
   "source": [
    "# Using the given list,\n",
    "# 1. print the list\n",
    "# 2. print the 0th element \n",
    "# 3. print the 5th element \n",
    "# 4. print the last element \n",
    "# 5. print the length\n",
    "#        look at https://python.readthedocs.io/en/stable/library/functions.html\n",
    "#        specifically `len()`\n",
    "# 6. print all the elements\n",
    "# 7. print all the elements less than 8\n",
    "# 8. print out the elements in reverse order\n",
    "#        look at https://python-reference.readthedocs.io/en/latest/docs/list/\n",
    "#        specifically `reverse`\n",
    "# 9. append the next fibonacci number and print out the new list\n",
    "#        look again at the docs, this time for `append`\n",
    "#        [elements in the fibonacci sequence are equal to the sum of the previous two elements]\n",
    "\n",
    "a = [1, 1, 2, 3, 5, 8, 13, 21, 34, 55, 89]\n",
    "\n",
    "#1 \n",
    "print(a)\n",
    "\n",
    "#2\n",
    "print(a[0])\n",
    "\n",
    "#3\n",
    "print(a[5])\n",
    "\n",
    "#4\n",
    "print(a[-1])\n",
    "\n",
    "#5\n",
    "print(\"The length of the array is\", len(a))\n",
    "\n",
    "#6\n",
    "print(*a, sep = \", \")\n",
    "\n",
    "#7\n",
    "b = []\n",
    "[b.append(i) for i in a if i < 8]\n",
    "print(b)\n",
    "\n",
    "#8\n",
    "def reverse(a):\n",
    "    a.reverse()\n",
    "    return a\n",
    "\n",
    "print(reverse(a))\n",
    "\n",
    "#9\n",
    "def a(n):\n",
    "  if n <= 0:\n",
    "    return [0]\n",
    "  sequence = [0, 1]\n",
    "  while len(sequence) <= n:\n",
    "    next_value = sequence[len(sequence) - 1] + sequence[len(sequence) - 2]\n",
    "    sequence.append(next_value)\n",
    "  return sequence\n",
    "print(a(12))"
   ]
  },
  {
   "cell_type": "code",
   "execution_count": 29,
   "id": "22203dab-ac71-45fa-9922-c649c7810488",
   "metadata": {},
   "outputs": [
    {
     "name": "stdout",
     "output_type": "stream",
     "text": [
      "[1, 1, 2, 3, 5, 8, 13, 21, 34, 55, 89, 1, 2, 3, 4, 5, 6, 7, 8, 9, 10, 11, 12, 13]\n",
      "[89, 34, 21, 55, 4, 6, 7, 9, 10, 11, 12]\n"
     ]
    }
   ],
   "source": [
    "# Using the below lists\n",
    "# 1. print out all the elements that are contained in both lists\n",
    "# 2. print out the elements that are contained in either list a or list b but not both\n",
    "\n",
    "a = [1, 1, 2, 3, 5, 8, 13, 21, 34, 55, 89]\n",
    "b = [1, 2, 3, 4, 5, 6, 7, 8, 9, 10, 11, 12, 13]\n",
    "\n",
    "#1\n",
    "print(a+b)\n",
    "    \n",
    "#2 \n",
    "set1 = list(set(a) - set(b))\n",
    "set2 = list(set(b) - set(a))\n",
    "\n",
    "print(set1+set2)"
   ]
  },
  {
   "cell_type": "code",
   "execution_count": 18,
   "id": "ad4f7b2a-5cc1-4a65-a5b5-1f2994f42fab",
   "metadata": {},
   "outputs": [
    {
     "name": "stdout",
     "output_type": "stream",
     "text": [
      "{'January': 7, 'February': 8, 'March': 5, 'April': 5, 'July': 4}\n",
      "('March', 5)\n",
      "January has 7 letters\n",
      "February has 8 letters\n",
      "March has 5 letters\n",
      "April has 5 letters\n",
      "July has 4 letters\n"
     ]
    }
   ],
   "source": [
    "# Using the below dictionary\n",
    "# add a new item to the dictionary,\n",
    "# print an element from the dictionary,\n",
    "# print out the message \"<key> has <value> letters\" for every <key>/<value> pair\n",
    "\n",
    "a = {'January': 7, 'February': 8, 'March': 5, 'April': 5}\n",
    "\n",
    "# add a new item to the dictionary\n",
    "a['July'] = 4\n",
    "print(a)\n",
    "\n",
    "# print an element from the dictionary\n",
    "month_letters = list(a.items())\n",
    "print(month_letters[2])\n",
    "\n",
    "# print out the message \"<key> has <value> letters\" for every <key>/<value> pair\n",
    "for key, value in a.items():\n",
    "    print(key, \"has\", value, \"letters\")\n"
   ]
  },
  {
   "cell_type": "code",
   "execution_count": 71,
   "id": "3005621c-e50c-436a-a033-9aadae71eafb",
   "metadata": {},
   "outputs": [
    {
     "name": "stdout",
     "output_type": "stream",
     "text": [
      "(2, 7)\n",
      "(7, 24)\n",
      "(68, 15)\n",
      "(62, 77)\n"
     ]
    }
   ],
   "source": [
    "# Write a function that takes as input a list of numbers \n",
    "# and prints a new list of only the first and last elements of the given list.\n",
    "# Execute it with several examples.\n",
    "\n",
    "list_1 = [2, 20, 85, 11, 41, 7]\n",
    "list_1_firstlast = list_1[0],list_1[-1]\n",
    "print(list_1_firstlast)\n",
    "\n",
    "list_2 = [7, 33, 10, 77, 24]\n",
    "list_2_firstlast = list_2[0],list_2[-1]\n",
    "print(list_2_firstlast)\n",
    "\n",
    "list_3 = [68, 96, 64, 18, 21, 59, 70, 76, 46, 15]\n",
    "list_3_firstlast = list_3[0],list_3[-1]\n",
    "print(list_3_firstlast)\n",
    "\n",
    "list_4 = [62, 49, 19, 96, 74, 85, 86, 88, 10, 32, 65, 75, 31, 66, 77]\n",
    "list_4_firstlast = list_4[0],list_4[-1]\n",
    "print(list_4_firstlast)\n"
   ]
  },
  {
   "cell_type": "code",
   "execution_count": 22,
   "id": "4a607e0a-2e1b-4e44-af40-4571f2e0b4f0",
   "metadata": {},
   "outputs": [
    {
     "name": "stdout",
     "output_type": "stream",
     "text": [
      "Yes\n",
      "No\n",
      "Yes\n",
      "No\n"
     ]
    }
   ],
   "source": [
    "# Write a function that takes a string as input\n",
    "# and prints out \"Yes\" or \"No\" depending on whether the\n",
    "# string is a palindrome (spelled the same forwards and backwards).  \n",
    "# Execute it with several examples.\n",
    "\n",
    "def isPalindrome(s):\n",
    "    return s == s[::-1]\n",
    "\n",
    "s = \"kayak\"\n",
    "ans = isPalindrome(s)\n",
    "\n",
    "if ans:\n",
    "    print(\"Yes\")\n",
    "else:\n",
    "    print(\"No\")\n",
    "\n",
    "s = \"doctor\"\n",
    "ans1 = isPalindrome(s)\n",
    "\n",
    "if ans1:\n",
    "    print(\"Yes\")\n",
    "else:\n",
    "    print(\"No\")\n",
    "\n",
    "s = \"racecar\"\n",
    "ans2 = isPalindrome(s)\n",
    "\n",
    "if ans2:\n",
    "    print(\"Yes\")\n",
    "else:\n",
    "    print(\"No\")\n",
    "\n",
    "s = \"apple\"\n",
    "ans2 = isPalindrome(s)\n",
    "\n",
    "if ans2:\n",
    "    print(\"Yes\")\n",
    "else:\n",
    "    print(\"No\")"
   ]
  },
  {
   "cell_type": "markdown",
   "id": "86f9df9a-822a-42be-a778-541173a4fefe",
   "metadata": {},
   "source": [
    "Check out the Python documentation for `random` and `string`:\n",
    "* https://python.readthedocs.io/en/stable/library/random.html\n",
    "* https://python.readthedocs.io/en/stable/library/string.html\n",
    "\n",
    "It's overkill for what you need here, but if you search for the specific attributes and methods mentioned below, you will be able to find useful information."
   ]
  },
  {
   "cell_type": "code",
   "execution_count": 17,
   "id": "c221f184-1e0b-491f-97a8-f9fb30458926",
   "metadata": {},
   "outputs": [
    {
     "name": "stdout",
     "output_type": "stream",
     "text": [
      "[0.5781469932743515, 0.9738398374220802, 0.3361678459400236]\n"
     ]
    }
   ],
   "source": [
    "# Write a function that sets a random seed and prints three random numbers between 0 and 1\n",
    "# You may find it useful to look up:\n",
    "# random.seed and random.random\n",
    "\n",
    "import random\n",
    "random.seed(a=None, version=2)\n",
    "\n",
    "three_random = []\n",
    "\n",
    "for i in range(0,3):\n",
    "    x = random.random()\n",
    "    three_random.append(x) \n",
    "\n",
    "print(three_random)"
   ]
  },
  {
   "cell_type": "code",
   "execution_count": 32,
   "id": "fc7c0629-729b-4c7e-9edb-266fbacb3be7",
   "metadata": {},
   "outputs": [
    {
     "name": "stdout",
     "output_type": "stream",
     "text": [
      "random alphabetical character\n",
      "G\n",
      "\n",
      "random alphabetical string\n",
      "FFRkLbNXSlVxyxPVrlucznAyWCUgNrFDCYltrCVvcgvHJXIwuKagKPlJISgSCVeUqryfsK\n",
      "\n",
      "random alphabetical string of a fixed length equal to the input integer\n",
      "SwkFFKriQJHxnWI\n"
     ]
    }
   ],
   "source": [
    "# Write a function that takes an integer as input\n",
    "# and prints a random alphabetical character, alphabetical string,\n",
    "# and alphabetical string of a fixed length equal to the input integer.\n",
    "# You may find it useful to look up:\n",
    "# string.ascii_letters, random.randint, random.choice\n",
    "\n",
    "import random\n",
    "import string\n",
    "\n",
    "print(\"random alphabetical character\")\n",
    "print(random.choice(string.ascii_letters))\n",
    "\n",
    "print(\"\\nrandom alphabetical string\")\n",
    "max_length = 100\n",
    "str1 = \"\"\n",
    "for i in range(random.randint(1, max_length)):\n",
    "    str1 += random.choice(string.ascii_letters)\n",
    "print(str1)\n",
    "\n",
    "print(\"\\nrandom alphabetical string of a fixed length equal to the input integer\")\n",
    "str2 = \"\"\n",
    "for i in range(15):\n",
    "    str2 += random.choice(string.ascii_letters)\n",
    "print(str2)"
   ]
  },
  {
   "cell_type": "code",
   "execution_count": 42,
   "id": "c738c817-00aa-4597-b5c8-f38af11275cb",
   "metadata": {},
   "outputs": [
    {
     "name": "stdout",
     "output_type": "stream",
     "text": [
      "['computer', 'program', 'experience', 'respect', 'performance', 'measure', 'performance', 'measured', 'improves', 'experience']\n"
     ]
    }
   ],
   "source": [
    "# Print the words in the following sentence that are longer than 6 characters\n",
    "# Note: you may find it useful to look at \n",
    "# `split` in https://python-reference.readthedocs.io/en/latest/docs/str/\n",
    "\n",
    "ml_sentence = '''\n",
    "A computer program is said to learn \n",
    "from experience E with respect to some class of tasks T \n",
    "and performance measure P, if its performance at tasks in T, \n",
    "as measured by P, improves with experience E.\n",
    "'''\n",
    "\n",
    "str = '''\n",
    "A computer program is said to learn \n",
    "from experience E with respect to some class of tasks T \n",
    "and performance measure P, if its performance at tasks in T, \n",
    "as measured by P, improves with experience E.\n",
    "'''\n",
    "n = 6\n",
    "\n",
    "def ml_sentence(n, str):\n",
    "    longer_6 = []\n",
    "    txt = str.split(\" \")\n",
    "    for x in txt:\n",
    "        if len(x) > n:\n",
    "            longer_6.append(x)\n",
    "    return longer_6\t\n",
    "print(ml_sentence(n, str))\n"
   ]
  },
  {
   "cell_type": "code",
   "execution_count": 57,
   "id": "25e1bc45-95db-4e39-8abf-614660bc17ba",
   "metadata": {},
   "outputs": [
    {
     "name": "stdout",
     "output_type": "stream",
     "text": [
      "['at', 'from', 'with', 'performance', 'measured']\n"
     ]
    }
   ],
   "source": [
    "# Print 5 random words from following sentence:\n",
    "\n",
    "ml_sentence = '''\n",
    "A computer program is said to learn \n",
    "from experience E with respect to some class of tasks T \n",
    "and performance measure P if its performance at tasks in T \n",
    "as measured by P improves with experience E.\n",
    "'''\n",
    "\n",
    "import random\n",
    "list_of_words = ml_sentence.split()\n",
    "print(random.choices(list_of_words, k=5))"
   ]
  },
  {
   "cell_type": "code",
   "execution_count": 58,
   "id": "8ef4c496-014c-4459-941d-afb431501191",
   "metadata": {},
   "outputs": [
    {
     "name": "stdout",
     "output_type": "stream",
     "text": [
      "{'A': 1, 'computer': 1, 'program': 1, 'is': 1, 'said': 1, 'to': 2, 'learn': 1, 'from': 1, 'experience': 2, 'E': 1, 'with': 2, 'respect': 1, 'some': 1, 'class': 1, 'of': 1, 'tasks': 2, 'T': 2, 'and': 1, 'performance': 2, 'measure': 1, 'P': 2, 'if': 1, 'its': 1, 'at': 1, 'in': 1, 'as': 1, 'measured': 1, 'by': 1, 'improves': 1, 'E.': 1}\n"
     ]
    }
   ],
   "source": [
    "# Using the above 'ml_sentence', make a dictionary with\n",
    "# the dictionary keys equal to the unique words in the sentence,\n",
    "# and the value for each key equal to the number of times each word occurs.\n",
    "# e.g. 'hello my hello friend' would lead to the dictionary {'hello': 2, 'my': 1, 'friend': 1}\n",
    "\n",
    "ml_sentence = '''\n",
    "A computer program is said to learn \n",
    "from experience E with respect to some class of tasks T \n",
    "and performance measure P if its performance at tasks in T \n",
    "as measured by P improves with experience E.\n",
    "'''\n",
    "\n",
    "def number_of_words(str):\n",
    "    counts = dict()\n",
    "    words = ml_sentence.split()\n",
    "    for word in words:\n",
    "        if word in counts:\n",
    "            counts[word] += 1\n",
    "        else:\n",
    "            counts[word] = 1\n",
    "    return counts\n",
    "\n",
    "word_frequency = number_of_words(ml_sentence)\n",
    "print(word_frequency)"
   ]
  },
  {
   "cell_type": "code",
   "execution_count": 96,
   "id": "33eaaa90-e336-4367-b072-58a8a71dada8",
   "metadata": {},
   "outputs": [
    {
     "name": "stdout",
     "output_type": "stream",
     "text": [
      "['ï', '»', '¿the', 'project', 'gutenberg', 'ebook', 'of', 'macbeth', ',', 'by']\n",
      "{'ï»¿the': 1, 'project': 84, 'gutenberg': 26, 'ebook': 8, 'of': 481, 'macbeth,': 16, 'by': 74, 'william': 3, 'shakespeare': 4, 'this': 140, 'is': 199, 'for': 130, 'the': 912, 'use': 14, 'anyone': 4, 'anywhere': 2, 'in': 285, 'united': 15, 'states': 11, 'and': 623, 'most': 28, 'other': 24, 'parts': 2, 'world': 4, 'at': 65, 'no': 69, 'cost': 2, 'with': 204, 'almost': 10, 'restrictions': 2, 'whatsoever.': 2, 'you': 226, 'may': 43, 'copy': 8, 'it,': 14, 'give': 26, 'it': 134, 'away': 6, 'or': 113, 're-use': 2, 'under': 13, 'terms': 23, 'license': 12, 'included': 2, 'online': 4, 'www.gutenberg.org.': 2, 'if': 62, 'are': 88, 'not': 167, 'located': 7, 'states,': 4, 'will': 77, 'have': 126, 'to': 453, 'check': 5, 'laws': 9, 'country': 12, 'where': 38, 'before': 25, 'using': 7, 'ebook.': 2, 'title:': 1, 'macbeth': 31, 'author:': 1, 'release': 1, 'date:': 1, 'november': 1, '1998': 1, '[ebook': 1, '#1533]': 1, '[most': 1, 'recently': 1, 'updated:': 1, 'april': 1, '25,': 1, '2021]': 1, 'language:': 1, 'english': 9, 'character': 1, 'set': 16, 'encoding:': 1, 'utf-8': 1, 'produced': 2, 'by:': 1, 'pg': 2, 'team,': 1, 'a': 327, 'team': 1, 'about': 17, 'twenty': 4, 'volunteers.': 1, '***': 4, 'start': 4, 'cover': 1, 'contents': 1, 'act': 13, 'i': 299, 'scene': 56, 'i.': 13, 'an': 41, 'open': 2, 'place.': 4, 'ii.': 10, 'camp': 2, 'near': 11, 'forres.': 8, 'iii.': 10, 'heath.': 5, 'iv.': 8, 'room': 18, 'palace.': 14, 'v.': 6, 'inverness.': 4, 'macbethâ\\x80\\x99s': 5, 'castle.': 22, 'vi.': 6, 'same.': 22, 'vii.': 4, 'lobby': 2, 'ii': 2, 'court': 4, 'within': 16, 'without': 24, 'iii': 2, 'another': 9, 'park': 2, 'lawn,': 2, 'gate': 3, 'leading': 2, 'state': 11, 'iv': 2, 'dark': 6, 'cave.': 2, 'middle,': 2, 'cauldron': 5, 'boiling.': 2, 'fife.': 3, 'macduffâ\\x80\\x99s': 2, 'england.': 4, 'kingâ\\x80\\x99s': 6, 'v': 2, 'dunsinane.': 9, 'dunsinane:': 2, 'wood': 12, 'view.': 2, 'plain': 2, 'part': 11, 'plain.': 2, 'viii.': 2, 'field.': 3, 'dramatis': 1, 'personã¦': 1, 'duncan,': 7, 'king': 17, 'scotland.': 7, 'malcolm,': 8, 'his': 149, 'son.': 18, 'donalbain,': 5, 'general': 10, 'army.': 2, 'banquo,': 8, 'macduff,': 6, 'nobleman': 6, 'lennox,': 6, 'ross,': 5, 'menteith,': 3, 'angus,': 3, 'caithness,': 3, 'fleance,': 3, 'son': 7, 'banquo.': 38, 'siward,': 6, 'earl': 1, 'northumberland,': 2, 'forces.': 1, 'young': 12, 'seyton,': 2, 'officer': 1, 'attending': 2, 'on': 63, 'macbeth.': 227, 'boy,': 1, 'macduff.': 87, 'doctor.': 25, 'scottish': 1, 'soldier.': 4, 'porter.': 7, 'old': 16, 'man.': 9, 'lady': 94, 'gentlewoman': 1, 'hecate,': 1, 'three': 12, 'witches.': 4, 'lords,': 3, 'gentlemen,': 3, 'officers,': 1, 'soldiers,': 6, 'murderers,': 2, 'attendants': 1, 'messengers.': 1, 'ghost': 3, 'banquo': 15, 'several': 4, 'apparitions.': 1, 'scene:': 1, 'end': 2, 'fourth': 1, 'act,': 2, 'england;': 1, 'through': 9, 'rest': 7, 'play,': 1, 'scotland;': 1, 'chiefly': 1, 'thunder': 1, 'lightning.': 1, 'enter': 66, 'first': 47, 'witch.': 51, 'when': 40, 'shall': 68, 'we': 94, 'meet': 8, 'again?': 1, 'thunder,': 1, 'lightning,': 1, 'rain?': 1, 'second': 27, 'hurlyburlyâ\\x80\\x99s': 1, 'done,': 6, 'battleâ\\x80\\x99s': 1, 'lost': 4, 'won.': 2, 'third': 20, 'that': 224, 'be': 149, 'ere': 12, 'sun.': 1, 'place?': 2, 'upon': 61, 'there': 27, 'come,': 21, 'graymalkin!': 1, 'paddock': 1, 'calls.': 1, 'anon.': 2, 'all.': 15, 'fair': 4, 'foul,': 1, 'foul': 4, 'fair:': 1, 'hover': 1, 'fog': 1, 'filthy': 2, 'air.': 1, '[_exeunt._]': 19, 'alarum': 3, 'within.': 4, 'attendants,': 1, 'meeting': 4, 'bleeding': 2, 'captain.': 1, 'duncan.': 19, 'what': 88, 'bloody': 12, 'man': 16, 'that?': 2, 'he': 115, 'can': 33, 'report,': 2, 'as': 95, 'seemeth': 1, 'plight,': 1, 'revolt': 1, 'newest': 3, 'state.': 1, 'malcolm.': 40, 'sergeant': 1, 'who,': 6, 'like': 39, 'good': 46, 'hardy': 1, 'soldier,': 2, 'fought': 1, 'â\\x80\\x99gainst': 4, 'my': 189, 'captivity.â\\x80\\x94hail,': 1, 'brave': 2, 'friend!': 1, 'say': 21, 'knowledge': 1, 'broil': 1, 'thou': 84, 'didst': 3, 'leave': 9, 'it.': 14, 'doubtful': 2, 'stood;': 1, 'two': 10, 'spent': 1, 'swimmers': 1, 'do': 85, 'cling': 2, 'together': 1, 'choke': 1, 'their': 61, 'art.': 2, 'merciless': 1, 'macdonwald': 1, '(worthy': 1, 'rebel,': 1, 'multiplying': 1, 'villainies': 1, 'nature': 12, 'swarm': 1, 'him)': 1, 'from': 70, 'western': 1, 'isles': 1, 'kerns': 2, 'gallowglasses': 1, 'supplied;': 1, 'fortune,': 4, 'damned': 3, 'quarrel': 1, 'smiling,': 1, 'showâ\\x80\\x99d': 2, 'rebelâ\\x80\\x99s': 1, 'whore.': 1, 'but': 114, 'allâ\\x80\\x99s': 4, 'too': 15, 'weak;': 1, '(well': 1, 'deserves': 2, 'name),': 1, 'disdaining': 1, 'brandishâ\\x80\\x99d': 2, 'steel,': 2, 'which': 84, 'smokâ\\x80\\x99d': 1, 'execution,': 1, 'valourâ\\x80\\x99s': 1, 'minion,': 1, 'carvâ\\x80\\x99d': 1, 'out': 14, 'passage,': 1, 'till': 20, 'facâ\\x80\\x99d': 1, 'slave;': 1, 'neâ\\x80\\x99er': 3, 'shook': 1, 'hands,': 2, 'nor': 24, 'bade': 3, 'farewell': 1, 'him,': 15, 'unseamâ\\x80\\x99d': 1, 'him': 48, 'nave': 1, 'chops,': 1, 'fixâ\\x80\\x99d': 1, 'head': 3, 'our': 123, 'battlements.': 2, 'o': 7, 'valiant': 3, 'cousin!': 2, 'worthy': 16, 'gentleman!': 1, 'whence': 6, 'sun': 2, 'â\\x80\\x99gins': 1, 'reflection': 1, 'shipwracking': 1, 'storms': 1, 'direful': 1, 'thunders': 1, 'break,': 1, 'so': 70, 'spring,': 2, 'comfort': 4, 'seemâ\\x80\\x99d': 2, 'come': 27, 'discomfort': 1, 'swells.': 1, 'mark,': 1, 'scotland,': 3, 'mark:': 1, 'sooner': 2, 'justice': 2, 'had,': 2, 'valour': 4, 'armâ\\x80\\x99d,': 1, 'compellâ\\x80\\x99d': 1, 'these': 25, 'skipping': 1, 'trust': 2, 'heels,': 2, 'norweyan': 3, 'lord,': 18, 'surveying': 1, 'vantage,': 3, 'furbishâ\\x80\\x99d': 1, 'arms': 2, 'new': 14, 'supplies': 1, 'men,': 4, 'began': 3, 'fresh': 1, 'assault.': 1, 'dismayâ\\x80\\x99d': 1, 'captains,': 1, 'banquo?': 1, 'yes;': 1, 'sparrows': 1, 'eagles,': 1, 'hare': 1, 'lion.': 1, 'sooth,': 2, 'must': 44, 'report': 6, 'they': 66, 'were': 36, 'cannons': 1, 'overchargâ\\x80\\x99d': 1, 'double': 4, 'cracks;': 1, 'doubly': 1, 'redoubled': 1, 'strokes': 2, 'foe:': 1, 'except': 6, 'meant': 1, 'bathe': 1, 'reeking': 1, 'wounds,': 1, 'memorize': 1, 'golgotha,': 1, 'cannot': 24, 'tellâ\\x80\\x94': 1, 'am': 29, 'faint,': 1, 'gashes': 3, 'cry': 4, 'help.': 2, 'well': 12, 'thy': 52, 'words': 4, 'become': 4, 'thee': 36, 'wounds:': 1, 'smack': 1, 'honour': 6, 'both.â\\x80\\x94go,': 1, 'get': 7, 'surgeons.': 1, '[_exit': 11, 'captain,': 1, 'attended._]': 1, 'ross': 6, 'angus.': 7, 'who': 37, 'comes': 9, 'here?': 4, 'thane': 19, 'ross.': 42, 'lennox.': 24, 'haste': 1, 'looks': 1, 'eyes!': 3, 'should': 41, 'look': 21, 'seems': 5, 'speak': 17, 'things': 21, 'strange.': 1, 'god': 8, 'save': 1, 'king!': 1, 'camâ\\x80\\x99st': 1, 'thou,': 3, 'thane?': 2, 'fife,': 1, 'great': 30, 'king,': 11, 'banners': 2, 'flout': 1, 'sky': 1, 'fan': 1, 'people': 5, 'cold.': 1, 'norway': 1, 'himself,': 1, 'terrible': 4, 'numbers,': 1, 'assisted': 1, 'disloyal': 1, 'traitor,': 3, 'cawdor,': 2, 'dismal': 3, 'conflict;': 1, 'bellonaâ\\x80\\x99s': 1, 'bridegroom,': 1, 'lappâ\\x80\\x99d': 1, 'proof,': 1, 'confronted': 1, 'self-comparisons,': 1, 'point': 3, 'against': 15, 'point,': 2, 'rebellious': 2, 'arm': 1, 'arm,': 2, 'curbing': 1, 'lavish': 1, 'spirit:': 1, 'and,': 11, 'conclude,': 1, 'victory': 1, 'fell': 6, 'us.': 9, 'happiness!': 1, 'now': 30, 'sweno,': 1, 'norwaysâ\\x80\\x99': 1, 'craves': 1, 'composition;': 1, 'would': 45, 'deign': 1, 'burial': 1, 'men': 8, 'disbursed': 1, 'saint': 1, 'colmeâ\\x80\\x99s': 1, 'inch': 1, 'ten': 5, 'thousand': 3, 'dollars': 1, 'use.': 4, 'more': 36, 'cawdor': 6, 'deceive': 1, 'bosom': 4, 'interest.': 1, 'go': 22, 'pronounce': 4, 'present': 5, 'death,': 5, 'former': 4, 'title': 4, 'greet': 2, 'iâ\\x80\\x99ll': 32, 'see': 24, 'done.': 7, 'hath': 51, 'lost,': 2, 'noble': 11, 'thunder.': 4, 'hast': 6, 'been,': 3, 'sister?': 1, 'killing': 1, 'swine.': 1, 'sister,': 1, 'thou?': 1, 'sailorâ\\x80\\x99s': 1, 'wife': 7, 'had': 31, 'chestnuts': 1, 'her': 35, 'lap,': 1, 'mounchâ\\x80\\x99d,': 2, 'mounchâ\\x80\\x99d.': 1, 'â\\x80\\x9cgive': 1, 'me,â\\x80\\x9d': 1, 'quoth': 1, 'â\\x80\\x9caroint': 1, 'thee,': 10, 'witch!â\\x80\\x9d': 1, 'rump-fed': 1, 'ronyon': 1, 'cries.': 1, 'husbandâ\\x80\\x99s': 1, 'aleppo': 1, 'gone,': 3, 'master': 5, 'oâ\\x80\\x99': 15, 'thâ\\x80\\x99': 49, '_tiger:_': 1, 'sieve': 1, 'thither': 3, 'sail,': 1, 'rat': 1, 'tail,': 1, 'do,': 8, 'do.': 3, 'wind.': 2, 'thâ\\x80\\x99art': 1, 'kind.': 1, 'another.': 1, 'myself': 6, 'all': 93, 'other,': 4, 'very': 12, 'ports': 1, 'blow,': 1, 'quarters': 1, 'know': 28, 'iâ\\x80\\x99': 17, 'shipmanâ\\x80\\x99s': 1, 'card.': 1, 'drain': 1, 'dry': 1, 'hay:': 1, 'sleep': 8, 'neither': 3, 'night': 8, 'day': 10, 'hang': 8, 'pent-house': 1, 'lid;': 1, 'live': 5, 'forbid.': 1, 'weary': 2, 'sevâ\\x80\\x99n-nights': 1, 'nine': 2, 'times': 2, 'nine,': 1, 'dwindle,': 1, 'peak,': 1, 'pine:': 1, 'though': 17, 'bark': 1, 'yet': 46, 'tempest-tost.': 1, 'have.': 1, 'show': 12, 'me,': 19, 'me.': 10, 'here': 17, 'pilotâ\\x80\\x99s': 1, 'thumb,': 1, 'wrackâ\\x80\\x99d': 1, 'homeward': 1, 'did': 37, 'come.': 4, '[_drum': 1, 'within._]': 6, 'drum,': 1, 'drum!': 1, 'doth': 6, 'weird': 6, 'sisters,': 2, 'hand': 7, 'hand,': 8, 'posters': 1, 'sea': 2, 'land,': 2, 'thus': 7, 'about,': 1, 'about:': 1, 'thrice': 4, 'thine,': 1, 'mine,': 5, 'again,': 5, 'make': 40, 'up': 22, 'nine.': 1, 'peace!â\\x80\\x94the': 1, 'charmâ\\x80\\x99s': 1, 'wound': 2, 'up.': 2, 'seen.': 1, 'how': 37, 'far': 4, 'isâ\\x80\\x99t': 8, 'callâ\\x80\\x99d': 4, 'forres?â\\x80\\x94what': 1, 'these,': 1, 'witherâ\\x80\\x99d,': 1, 'wild': 3, 'attire,': 1, 'inhabitants': 1, 'earth,': 2, 'onâ\\x80\\x99t?â\\x80\\x94live': 1, 'you?': 6, 'aught': 1, 'question?': 1, 'seem': 7, 'understand': 1, 'each': 14, 'once': 7, 'choppy': 1, 'finger': 2, 'laying': 1, 'skinny': 1, 'lips.': 2, 'women,': 2, 'your': 131, 'beards': 1, 'forbid': 1, 'me': 69, 'interpret': 2, 'so.': 5, 'speak,': 2, 'can;â\\x80\\x94what': 1, 'hail,': 8, 'macbeth!': 10, 'hail': 2, 'glamis!': 1, 'cawdor!': 3, 'shalt': 7, 'hereafter!': 2, 'sir,': 19, 'why': 19, 'fear': 13, 'sound': 4, 'fair?â\\x80\\x94iâ\\x80\\x99': 1, 'name': 10, 'truth,': 1, 'ye': 3, 'fantastical,': 2, 'indeed': 2, 'outwardly': 1, 'show?': 1, 'partner': 2, 'grace': 6, 'prediction': 1, 'having': 3, 'royal': 9, 'hope,': 2, 'rapt': 2, 'withal.': 2, 'not.': 9, 'into': 12, 'seeds': 1, 'time,': 13, 'grain': 1, 'grow,': 2, 'not,': 10, 'then': 21, 'beg': 2, 'favours': 1, 'hate.': 1, 'hail!': 4, 'lesser': 2, 'than': 32, 'greater.': 1, 'happy,': 1, 'much': 12, 'happier.': 1, 'kings,': 3, 'none:': 3, 'banquo!': 4, 'stay,': 1, 'imperfect': 1, 'speakers,': 1, 'tell': 9, 'more.': 6, 'sinelâ\\x80\\x99s': 1, 'death': 9, 'glamis;': 1, 'cawdor?': 3, 'lives,': 2, 'prosperous': 1, 'gentleman;': 1, 'stands': 5, 'prospect': 1, 'belief,': 1, 'cawdor.': 2, 'owe': 1, 'strange': 13, 'intelligence?': 1, 'blasted': 1, 'heath': 1, 'stop': 2, 'way': 15, 'such': 30, 'prophetic': 1, 'greeting?â\\x80\\x94speak,': 1, 'charge': 8, 'you.': 17, '[_witches': 1, 'vanish._]': 2, 'earth': 4, 'bubbles,': 1, 'water': 3, 'has,': 1, 'them.': 8, 'whither': 2, 'vanishâ\\x80\\x99d?': 1, 'air;': 2, 'corporal,': 1, 'melted': 1, 'breath': 4, 'stayâ\\x80\\x99d!': 1, 'about?': 1, 'eaten': 2, 'insane': 1, 'root': 4, 'takes': 6, 'reason': 2, 'prisoner?': 1, 'children': 4, 'kings.': 3, 'king.': 3, 'too;': 2, 'went': 4, 'so?': 5, 'selfsame': 2, 'tune': 2, 'words.': 3, 'whoâ\\x80\\x99s': 5, 'happily': 1, 'receivâ\\x80\\x99d,': 2, 'news': 2, 'success,': 2, 'reads': 1, 'personal': 1, 'venture': 1, 'rebelsâ\\x80\\x99': 1, 'fight,': 4, 'wonders': 1, 'praises': 2, 'contend': 3, 'thine': 8, 'his:': 1, 'silencâ\\x80\\x99d': 1, 'that,': 12, 'viewing': 1, 'oâ\\x80\\x99er': 3, 'day,': 4, 'finds': 2, 'stout': 1, 'ranks,': 1, 'nothing': 11, 'afeard': 2, 'thyself': 4, 'make,': 1, 'images': 1, 'death.': 3, 'thick': 4, 'tale': 2, 'came': 6, 'post': 1, 'post;': 1, 'everyone': 2, 'bear': 8, 'kingdomâ\\x80\\x99s': 2, 'defence,': 2, 'pourâ\\x80\\x99d': 1, 'them': 28, 'down': 6, 'him.': 16, 'sent': 5, 'thanks;': 2, 'only': 10, 'herald': 1, 'sight,': 2, 'pay': 3, 'thee.': 6, 'earnest': 2, 'greater': 2, 'honour,': 2, 'call': 8, 'cawdor:': 3, 'addition,': 2, 'thane,': 3, 'thine.': 1, 'what,': 11, 'devil': 5, 'true?': 1, 'lives:': 1, 'dress': 1, 'borrowâ\\x80\\x99d': 1, 'robes?': 1, 'was': 45, 'lives': 4, 'yet,': 5, 'heavy': 4, 'judgement': 2, 'bears': 2, 'life': 9, 'lose.': 1, 'whether': 3, 'combinâ\\x80\\x99d': 1, 'those': 25, 'norway,': 1, 'line': 3, 'rebel': 1, 'hidden': 1, 'help': 6, 'both': 16, 'labourâ\\x80\\x99d': 1, 'countryâ\\x80\\x99s': 4, 'wrack,': 1, 'not;': 2, 'treasons': 1, 'capital,': 1, 'confessâ\\x80\\x99d': 2, 'provâ\\x80\\x99d,': 1, 'overthrown': 1, '[_aside._]': 6, 'glamis,': 4, 'greatest': 2, 'behind.': 1, '[_to': 2, 'angus._]': 1, 'thanks': 5, 'pains.': 1, 'banquo._]': 3, 'hope': 5, 'gave': 2, 'promisâ\\x80\\x99d': 2, 'less': 8, 'them?': 3, 'trusted': 2, 'home,': 1, 'might': 7, 'enkindle': 1, 'unto': 3, 'crown,': 2, 'besides': 2, 'â\\x80\\x99tis': 35, 'strange:': 1, 'oftentimes': 1, 'win': 3, 'us': 38, 'harm,': 1, 'instruments': 1, 'darkness': 2, 'truths;': 1, 'honest': 4, 'trifles,': 1, 'betrayâ\\x80\\x99s': 1, 'deepest': 1, 'consequence.â\\x80\\x94': 1, 'cousins,': 2, 'word,': 1, 'pray': 11, 'truths': 1, 'told,': 1, 'happy': 2, 'prologues': 1, 'swelling': 1, 'imperial': 2, 'theme.â\\x80\\x94i': 1, 'thank': 4, 'you,': 15, 'gentlemen.â\\x80\\x94': 1, 'supernatural': 1, 'soliciting': 1, 'ill;': 1, 'good.': 2, 'ill,': 1, 'given': 8, 'commencing': 1, 'truth?': 1, 'good,': 3, 'yield': 3, 'suggestion': 1, 'whose': 14, 'horrid': 3, 'image': 1, 'unfix': 2, 'hair,': 2, 'seated': 1, 'heart': 15, 'knock': 1, 'ribs,': 1, 'nature?': 1, 'fears': 5, 'horrible': 3, 'imaginings.': 1, 'thought,': 4, 'murder': 5, 'shakes': 1, 'single': 3, 'function': 1, 'smotherâ\\x80\\x99d': 1, 'surmise,': 1, 'look,': 1, 'partnerâ\\x80\\x99s': 1, 'rapt.': 1, 'chance': 3, 'why,': 13, 'crown': 4, 'stir.': 1, 'honours': 3, 'garments,': 1, 'cleave': 2, 'mould': 1, 'aid': 3, 'may,': 1, 'time': 23, 'hour': 7, 'runs': 2, 'roughest': 1, 'day.': 3, 'stay': 4, 'leisure.': 2, 'favour.': 1, 'dull': 1, 'brain': 1, 'wrought': 3, 'forgotten.': 1, 'kind': 3, 'pains': 1, 'registerâ\\x80\\x99d': 1, 'every': 12, 'turn': 1, 'leaf': 1, 'read': 5, 'them.â\\x80\\x94let': 1, 'toward': 5, 'king.â\\x80\\x94': 1, 'think': 8, 'chancâ\\x80\\x99d;': 1, 'interim': 1, 'weighâ\\x80\\x99d': 1, 'let': 33, 'free': 9, 'hearts': 2, 'other.': 2, 'gladly.': 1, 'then,': 10, 'enough.â\\x80\\x94come,': 1, 'friends.': 3, 'flourish.': 2, 'lennox': 4, 'attendants.': 5, 'execution': 2, 'done': 17, 'commission': 1, 'returnâ\\x80\\x99d?': 1, 'liege,': 2, 'back.': 2, 'spoke': 3, 'one': 22, 'saw': 4, 'die,': 2, 'frankly': 1, 'treasons,': 1, 'implorâ\\x80\\x99d': 1, 'highnessâ\\x80\\x99': 3, 'pardon,': 1, 'forth': 14, 'deep': 4, 'repentance.': 1, 'became': 2, 'leaving': 1, 'it;': 2, 'died': 6, 'been': 19, 'studied': 1, 'throw': 6, 'dearest': 5, 'thing': 3, 'owâ\\x80\\x99d': 1, 'â\\x80\\x99twere': 4, 'careless': 1, 'trifle.': 1, 'thereâ\\x80\\x99s': 12, 'art': 11, 'find': 11, 'mindâ\\x80\\x99s': 1, 'construction': 1, 'face:': 1, 'gentleman': 1, 'whom': 10, 'built': 1, 'absolute': 3, 'trust.': 1, 'worthiest': 1, 'sin': 2, 'ingratitude': 1, 'even': 12, 'before,': 3, 'swiftest': 1, 'wing': 2, 'recompense': 1, 'slow': 1, 'overtake': 1, 'hadst': 1, 'deservâ\\x80\\x99d;': 1, 'proportion': 1, 'payment': 1, 'mine!': 1, 'left': 5, 'say,': 13, 'due': 4, 'pay.': 2, 'service': 1, 'loyalty': 1, 'owe,': 2, 'doing': 2, 'pays': 1, 'itself.': 1, 'receive': 8, 'duties:': 1, 'duties': 3, 'throne': 2, 'state,': 1, 'servants;': 1, 'should,': 1, 'everything': 2, 'safe': 3, 'love': 8, 'honour.': 2, 'welcome': 5, 'hither:': 1, 'begun': 2, 'plant': 2, 'labour': 2, 'full': 20, 'growing.â\\x80\\x94noble': 1, 'deservâ\\x80\\x99d,': 1, 'known': 7, 'so,': 12, 'infold': 1, 'hold': 8, 'heart.': 1, 'harvest': 1, 'own.': 3, 'plenteous': 1, 'joys,': 1, 'wanton': 1, 'fulness,': 1, 'seek': 3, 'hide': 4, 'themselves': 3, 'drops': 1, 'sorrow.â\\x80\\x94sons,': 1, 'kinsmen,': 2, 'thanes,': 2, 'places': 1, 'nearest,': 1, 'know,': 4, 'establish': 1, 'estate': 2, 'eldest,': 1, 'malcolm;': 1, 'hereafter': 1, 'prince': 2, 'cumberland:': 1, 'unaccompanied': 1, 'invest': 1, 'only,': 2, 'signs': 1, 'nobleness,': 1, 'stars,': 2, 'shine': 2, 'deservers.â\\x80\\x94from': 1, 'hence': 4, 'inverness,': 1, 'bind': 1, 'further': 3, 'labour,': 1, 'usâ\\x80\\x99d': 2, 'you:': 2, 'harbinger,': 1, 'joyful': 2, 'hearing': 2, 'approach;': 1, 'humbly': 1, 'take': 17, 'leave.': 2, 'cumberland!â\\x80\\x94that': 1, 'step': 1, 'fall': 6, 'down,': 2, 'else': 11, 'oâ\\x80\\x99erleap,': 1, 'lies.': 2, 'fires!': 1, 'light': 4, 'black': 5, 'desires.': 1, 'eye': 8, 'wink': 1, 'be,': 4, 'fears,': 1, 'see.': 1, '[_exit._]': 11, 'true,': 2, 'valiant;': 1, 'commendations': 1, 'fed.': 1, 'banquet': 2, 'letâ\\x80\\x99s': 7, 'after': 6, 'care': 4, 'gone': 4, 'bid': 7, 'welcome:': 1, 'peerless': 1, 'kinsman.': 1, '[_flourish.': 2, 'exeunt._]': 2, 'reading': 2, 'letter.': 1, 'â\\x80\\x9cthey': 2, 'met': 4, 'success;': 2, 'learned': 1, 'perfectâ\\x80\\x99st': 1, 'mortal': 6, 'knowledge.': 1, 'burned': 1, 'desire': 5, 'question': 3, 'further,': 2, 'made': 12, 'air,': 5, 'vanished.': 1, 'whiles': 3, 'stood': 3, 'wonder': 1, 'missives': 1, 'all-hailed': 1, 'â\\x80\\x98thane': 1, 'cawdorâ\\x80\\x99;': 1, 'title,': 1, 'sisters': 2, 'saluted': 1, 'referred': 1, 'coming': 3, 'â\\x80\\x98hail,': 1, 'be!â\\x80\\x99': 1, 'thought': 9, 'deliver': 1, '(my': 1, 'greatness)': 1, 'mightâ\\x80\\x99st': 1, 'lose': 2, 'dues': 1, 'rejoicing,': 1, 'being': 9, 'ignorant': 2, 'greatness': 2, 'lay': 4, 'heart,': 4, 'farewell.â\\x80\\x9d': 1, 'glamis': 1, 'art,': 2, 'cawdor;': 1, 'promisâ\\x80\\x99d.': 1, 'nature;': 1, 'milk': 3, 'human': 1, 'kindness': 1, 'catch': 3, 'nearest': 1, 'way.': 1, 'wouldst': 6, 'great;': 1, 'ambition,': 3, 'illness': 1, 'attend': 5, 'highly,': 2, 'holily;': 1, 'play': 4, 'false,': 3, 'wrongly': 1, 'win.': 1, 'thouâ\\x80\\x99dst': 3, 'have,': 2, 'cries,': 2, 'â\\x80\\x9cthus': 2, 'do,â\\x80\\x9d': 1, 'rather': 7, 'dost': 3, 'wishest': 1, 'undone.': 2, 'hie': 2, 'hither,': 2, 'pour': 4, 'spirits': 4, 'ear,': 3, 'chastise': 1, 'tongue': 5, 'impedes': 1, 'golden': 4, 'round,': 1, 'fate': 2, 'metaphysical': 1, 'crownâ\\x80\\x99d': 2, 'messenger.': 9, 'tidings?': 1, 'tonight.': 7, 'thouâ\\x80\\x99rt': 1, 'mad': 1, 'him?': 2, 'wereâ\\x80\\x99t': 1, 'informâ\\x80\\x99d': 1, 'preparation.': 1, 'please': 9, 'true.': 1, 'coming.': 2, 'fellows': 2, 'speed': 1, 'dead': 4, 'breath,': 3, 'scarcely': 2, 'message.': 1, 'tending.': 1, 'brings': 1, 'news.': 1, 'messenger._]': 1, 'raven': 1, 'himself': 5, 'hoarse': 1, 'croaks': 1, 'fatal': 4, 'entrance': 1, 'duncan': 8, 'tend': 1, 'thoughts,': 3, 'unsex': 1, 'here,': 6, 'fill': 5, 'toe,': 1, 'top-full': 1, 'direst': 1, 'cruelty!': 1, 'blood,': 5, 'access': 11, 'passage': 1, 'remorse,': 1, 'compunctious': 1, 'visitings': 1, 'shake': 6, 'purpose,': 1, 'keep': 14, 'peace': 3, 'between': 2, 'effect': 1, 'it!': 1, 'womanâ\\x80\\x99s': 3, 'breasts,': 1, 'gall,': 1, 'murdâ\\x80\\x99ring': 1, 'ministers,': 1, 'wherever': 1, 'sightless': 2, 'substances': 1, 'wait': 3, 'natureâ\\x80\\x99s': 4, 'mischief!': 1, 'night,': 5, 'pall': 1, 'dunnest': 1, 'smoke': 1, 'hell': 4, 'keen': 2, 'knife': 2, 'makes,': 1, 'heaven': 9, 'peep': 1, 'blanket': 1, 'cry,': 2, 'â\\x80\\x9chold,': 2, 'hold!â\\x80\\x9d': 1, 'both,': 1, 'all-hail': 1, 'letters': 1, 'transported': 1, 'beyond': 2, 'present,': 1, 'feel': 4, 'future': 4, 'instant.': 1, 'love,': 6, 'goes': 7, 'hence?': 2, 'tomorrow,': 5, 'purposes.': 1, 'o,': 10, 'never': 13, 'morrow': 1, 'see!': 1, 'face,': 3, 'book': 1, 'matters.': 1, 'beguile': 1, 'time;': 4, 'eye,': 3, 'tongue:': 2, 'innocent': 5, 'flower,': 2, 'serpent': 2, 'underâ\\x80\\x99t.': 1, 'thatâ\\x80\\x99s': 9, 'provided': 5, 'for;': 1, 'put': 16, 'nightâ\\x80\\x99s': 4, 'business': 7, 'dispatch;': 1, 'nights': 3, 'days': 8, 'solely': 1, 'sovereign': 2, 'sway': 2, 'masterdom.': 1, 'further.': 3, 'clear;': 1, 'alter': 1, 'favour': 1, 'ever': 7, 'fear.': 8, 'hautboys.': 1, 'servants': 3, 'attending.': 1, 'angus': 1, 'castle': 3, 'pleasant': 1, 'seat.': 1, 'air': 5, 'nimbly': 1, 'sweetly': 1, 'recommends': 1, 'itself': 4, 'gentle': 4, 'senses.': 1, 'guest': 2, 'summer,': 1, 'temple-haunting': 1, 'martlet,': 1, 'does': 24, 'approve,': 1, 'loved': 2, 'mansionry,': 1, 'heavenâ\\x80\\x99s': 2, 'smells': 1, 'wooingly': 1, 'here:': 1, 'jutty,': 1, 'frieze,': 1, 'buttress,': 1, 'coign': 1, 'bird': 2, 'pendant': 1, 'bed': 1, 'procreant': 1, 'cradle.': 1, 'breed': 2, 'haunt,': 1, 'observâ\\x80\\x99d': 1, 'delicate.': 1, 'see,': 8, 'honourâ\\x80\\x99d': 2, 'hostess!â\\x80\\x94': 1, 'follows': 1, 'sometime': 2, 'trouble,': 2, 'still': 10, 'love.': 2, 'herein': 1, 'teach': 2, 'â\\x80\\x99ild': 1, 'pains,': 2, 'trouble.': 1, 'service,': 1, 'twice': 1, 'double,': 7, 'poor': 15, 'broad': 3, 'wherewith': 1, 'majesty': 2, 'loads': 1, 'house:': 3, 'old,': 2, 'late': 1, 'dignities': 1, 'heapâ\\x80\\x99d': 1, 'them,': 4, 'hermits.': 1, 'whereâ\\x80\\x99s': 1, 'coursâ\\x80\\x99d': 1, 'purpose': 4, 'purveyor:': 1, 'rides': 1, 'well;': 4, 'sharp': 1, 'spur,': 1, 'holp': 1, 'home': 2, 'hostess,': 2, 'theirs,': 2, 'themselves,': 3, 'compt,': 1, 'audit': 1, 'pleasure,': 1, 'return': 8, 'hand;': 2, 'conduct': 1, 'mine': 18, 'host:': 1, 'continue': 2, 'graces': 2, 'towards': 4, 'leave,': 1, 'hostess.': 1, 'hautboys': 1, 'torches.': 1, 'enter,': 6, 'pass': 2, 'over,': 1, 'sewer': 1, 'divers': 1, 'dishes': 1, 'service.': 3, 'quickly.': 2, 'assassination': 1, 'could': 15, 'trammel': 1, 'consequence,': 1, 'surcease': 1, 'blow': 2, 'be-all': 1, 'end-allâ\\x80\\x94here,': 1, 'bank': 1, 'shoal': 1, 'weâ\\x80\\x99d': 1, 'jump': 1, 'cases': 1, 'here;': 2, 'instructions,': 1, 'taught,': 1, 'plague': 1, 'inventor.': 1, 'even-handed': 1, 'commends': 1, 'ingredience': 1, 'poisonâ\\x80\\x99d': 2, 'chalice': 1, 'own': 13, 'heâ\\x80\\x99s': 7, 'trust:': 1, 'first,': 1, 'kinsman': 1, 'subject,': 1, 'strong': 5, 'deed;': 1, 'host,': 2, 'murderer': 2, 'shut': 2, 'door,': 2, 'myself.': 3, 'besides,': 1, 'borne': 3, 'faculties': 1, 'meek,': 1, 'clear': 1, 'office,': 1, 'virtues': 1, 'plead': 1, 'angels,': 1, 'trumpet-tongued,': 1, 'damnation': 1, 'taking-off;': 1, 'pity,': 1, 'naked': 2, 'new-born': 1, 'babe,': 1, 'striding': 1, 'blast,': 1, 'cherubin,': 1, 'horsâ\\x80\\x99d': 1, 'couriers': 1, 'deed': 7, 'tears': 2, 'drown': 2, 'wind.â\\x80\\x94i': 1, 'spur': 1, 'prick': 2, 'sides': 3, 'intent,': 1, 'vaulting': 1, 'oâ\\x80\\x99erleaps': 1, 'falls': 1, 'otherâ\\x80\\x94': 1, 'now!': 2, 'news?': 1, 'has': 19, 'suppâ\\x80\\x99d.': 1, 'chamber?': 2, 'askâ\\x80\\x99d': 2, 'me?': 3, 'has?': 1, 'proceed': 1, 'business:': 1, 'late;': 2, 'bought': 1, 'opinions': 1, 'sorts': 1, 'people,': 2, 'worn': 1, 'gloss,': 1, 'cast': 3, 'aside': 1, 'soon.': 1, 'drunk': 2, 'wherein': 1, 'dressâ\\x80\\x99d': 1, 'yourself?': 1, 'slept': 1, 'since?': 1, 'wakes': 1, 'now,': 10, 'green': 2, 'pale': 2, 'freely?': 1, 'account': 1, 'same': 2, 'desire?': 1, 'esteemâ\\x80\\x99st': 1, 'ornament': 1, 'life,': 5, 'coward': 1, 'esteem,': 1, 'letting': 1, 'â\\x80\\x9ci': 2, 'dare': 11, 'notâ\\x80\\x9d': 1, 'would,â\\x80\\x9d': 1, 'cat': 2, 'adage?': 1, 'prâ\\x80\\x99ythee,': 4, 'peace!': 1, 'man;': 3, 'dares': 2, 'none.': 2, 'beast': 1, 'wasâ\\x80\\x99t,': 1, 'break': 2, 'enterprise': 1, 'durst': 1, 'were,': 3, 'place': 6, 'adhere,': 1, 'both:': 1, 'fitness': 2, 'unmake': 1, 'suck,': 1, 'tender': 2, 'babe': 2, 'milks': 1, 'me:': 2, 'would,': 1, 'while': 6, 'smiling': 1, 'pluckâ\\x80\\x99d': 1, 'nipple': 1, 'boneless': 1, 'gums': 1, 'dashâ\\x80\\x99d': 1, 'brains': 2, 'out,': 7, 'sworn': 1, 'this.': 2, 'fail?': 2, 'screw': 1, 'courage': 2, 'sticking-place,': 1, 'weâ\\x80\\x99ll': 9, 'fail.': 1, 'asleep': 1, '(whereto': 1, 'dayâ\\x80\\x99s': 4, 'hard': 3, 'journey': 1, 'soundly': 1, 'invite': 2, 'him),': 1, 'chamberlains': 1, 'wine': 2, 'wassail': 1, 'convince': 1, 'memory,': 1, 'warder': 1, 'brain,': 2, 'fume,': 1, 'receipt': 3, 'limbeck': 1, 'only:': 1, 'swinish': 1, 'drenched': 1, 'natures': 1, 'lie': 7, 'perform': 4, 'unguarded': 1, 'duncan?': 1, 'spongy': 1, 'officers;': 1, 'guilt': 1, 'quell?': 1, 'bring': 9, 'men-children': 1, 'only;': 1, 'undaunted': 1, 'mettle': 1, 'compose': 1, 'males.': 1, 'markâ\\x80\\x99d': 1, 'blood': 12, 'sleepy': 2, 'chamber,': 3, 'daggers,': 2, 'doneâ\\x80\\x99t?': 1, 'griefs': 1, 'clamour': 1, 'roar': 1, 'death?': 1, 'settled,': 1, 'bend': 1, 'corporal': 1, 'agent': 2, 'feat.': 1, 'away,': 4, 'mock': 2, 'fairest': 1, 'show:': 1, 'false': 6, 'face': 4, 'know.': 2, 'fleance': 8, 'torch': 1, 'boy?': 1, 'fleance.': 4, 'moon': 2, 'down;': 2, 'heard': 7, 'clock.': 1, 'she': 19, 'twelve.': 1, 'takeâ\\x80\\x99t,': 1, 'later,': 1, 'sir.': 6, 'hold,': 1, 'sword.â\\x80\\x94thereâ\\x80\\x99s': 1, 'husbandry': 1, 'heaven;': 1, 'candles': 1, 'out.': 2, 'too.': 3, 'summons': 3, 'lies': 3, 'lead': 2, 'sleep.': 6, 'merciful': 2, 'powers,': 1, 'restrain': 1, 'cursed': 2, 'thoughts': 6, 'gives': 3, 'repose!': 1, 'servant': 4, 'torch.': 2, 'sword.â\\x80\\x94whoâ\\x80\\x99s': 1, 'there?': 3, 'friend.': 1, 'rest?': 1, 'abed:': 1, 'unusual': 1, 'pleasure': 2, 'largess': 1, 'offices.': 1, 'diamond': 1, 'greets': 1, 'withal,': 3, 'measureless': 1, 'content.': 1, 'unpreparâ\\x80\\x99d,': 1, 'defect,': 1, 'wrought.': 1, 'well.': 5, 'dreamt': 1, 'last': 7, 'sisters:': 2, 'some': 18, 'truth.': 2, 'them:': 2, 'entreat': 1, 'serve,': 1, 'spend': 4, 'business,': 2, 'grant': 2, 'time.': 5, 'kindâ\\x80\\x99st': 1, 'consent,': 1, 'â\\x80\\x99tis,': 1, 'none': 7, 'seeking': 1, 'augment': 1, 'franchisâ\\x80\\x99d,': 1, 'allegiance': 1, 'clear,': 2, 'counsellâ\\x80\\x99d.': 1, 'repose': 1, 'while!': 1, 'thanks,': 1, 'sir:': 1, '[_exeunt': 8, 'fleance._]': 1, 'mistress,': 1, 'drink': 7, 'ready,': 1, 'strike': 5, 'bell.': 1, 'bed.': 3, 'servant._]': 4, 'dagger': 3, 'handle': 1, 'hand?': 2, 'clutch': 1, 'thee:â\\x80\\x94': 1, 'still.': 3, 'vision,': 1, 'sensible': 1, 'feeling': 1, 'sight?': 1, 'mind,': 3, 'creation,': 1, 'proceeding': 1, 'heat-oppressed': 1, 'brain?': 1, 'form': 2, 'palpable': 1, 'draw.': 1, 'marshallâ\\x80\\x99st': 1, 'going;': 1, 'instrument': 1, 'eyes': 4, 'fools': 2, 'senses,': 1, 'worth': 3, 'rest:': 1, 'still;': 2, 'blade': 2, 'dudgeon,': 1, 'gouts': 1, 'before.â\\x80\\x94thereâ\\x80\\x99s': 1, 'thing.': 1, 'informs': 1, 'eyes.â\\x80\\x94now': 1, 'half-world': 1, 'dead,': 4, 'wicked': 2, 'dreams': 2, 'abuse': 1, 'curtainâ\\x80\\x99d': 1, 'witchcraft': 1, 'celebrates': 1, 'hecateâ\\x80\\x99s': 2, 'offâ\\x80\\x99rings;': 1, 'witherâ\\x80\\x99d': 1, 'murder,': 1, 'alarumâ\\x80\\x99d': 1, 'sentinel,': 1, 'wolf,': 2, 'howlâ\\x80\\x99s': 1, 'watch,': 1, 'stealthy': 1, 'pace,': 1, 'tarquinâ\\x80\\x99s': 1, 'ravishing': 1, 'strides,': 1, 'design': 1, 'moves': 2, 'ghost.â\\x80\\x94thou': 1, 'sure': 3, 'firm-set': 1, 'hear': 17, 'steps,': 1, 'walk,': 1, 'stones': 2, 'prate': 1, 'whereabout,': 1, 'horror': 1, 'suits': 1, 'it.â\\x80\\x94whiles': 1, 'threat,': 1, 'lives.': 2, 'heat': 1, 'deeds': 3, 'cold': 3, 'gives.': 1, '[_a': 3, 'bell': 2, 'rings._]': 2, 'go,': 1, 'invites': 1, 'knell': 3, 'hell.': 3, 'bold:': 1, 'quenchâ\\x80\\x99d': 1, 'fire.â\\x80\\x94hark!â\\x80\\x94peace!': 1, 'owl': 3, 'shriekâ\\x80\\x99d,': 1, 'bellman,': 1, 'sternâ\\x80\\x99st': 1, 'night.': 5, 'doors': 1, 'open;': 1, 'surfeited': 1, 'grooms': 3, 'snores:': 1, 'druggâ\\x80\\x99d': 1, 'possets,': 1, 'die.': 1, '[_within._]': 2, 'there?â\\x80\\x94what,': 1, 'ho!': 3, 'alack!': 1, 'afraid': 5, 'awakâ\\x80\\x99d,': 1, 'attempt': 2, 'confounds': 1, 'us.â\\x80\\x94hark!â\\x80\\x94i': 1, 'laid': 2, 'daggers': 4, 'ready;': 2, 'miss': 2, 'â\\x80\\x99em.â\\x80\\x94had': 1, 'resembled': 1, 'father': 6, 'slept,': 1, 'doneâ\\x80\\x99t.â\\x80\\x94my': 1, 'husband!': 1, 'deed.â\\x80\\x94didst': 1, 'noise?': 2, 'scream': 1, 'crickets': 1, 'cry.': 1, 'speak?': 1, 'when?': 1, 'now.': 4, 'descended?': 1, 'ay.': 1, 'hark!â\\x80\\x94who': 1, 'donalbain.': 5, 'sorry': 2, 'sight.': 3, '[_looking': 1, 'hands._]': 1, 'foolish': 1, 'laugh': 4, 'inâ\\x80\\x99s': 1, 'sleep,': 7, 'cried,': 3, 'â\\x80\\x9cmurder!â\\x80\\x9d': 2, 'wake': 3, 'other:': 1, 'prayers,': 1, 'addressâ\\x80\\x99d': 1, 'again': 8, 'lodgâ\\x80\\x99d': 1, 'together.': 2, 'â\\x80\\x9cgod': 2, 'bless': 3, 'us!â\\x80\\x9d': 1, 'â\\x80\\x9camen,â\\x80\\x9d': 2, 'seen': 5, 'hangmanâ\\x80\\x99s': 1, 'hands.': 3, 'listâ\\x80\\x99ning': 1, 'fear,': 8, 'us.â\\x80\\x9d': 1, 'consider': 1, 'deeply.': 1, 'wherefore': 3, 'â\\x80\\x9camenâ\\x80\\x9d?': 1, 'need': 4, 'blessing,': 1, 'â\\x80\\x9camenâ\\x80\\x9d': 1, 'stuck': 1, 'throat.': 1, 'ways;': 1, 'mad.': 1, 'methought': 1, 'voice': 2, 'â\\x80\\x9csleep': 2, 'more!': 1, 'sleep,â\\x80\\x9dâ\\x80\\x94the': 1, 'sleep;': 1, 'knits': 1, 'ravellâ\\x80\\x99d': 1, 'sleave': 1, 'care,': 1, 'sore': 2, 'labourâ\\x80\\x99s': 1, 'bath,': 1, 'balm': 1, 'hurt': 1, 'minds,': 1, 'course,': 2, 'chief': 2, 'nourisher': 1, 'lifeâ\\x80\\x99s': 4, 'feast.': 2, 'mean?': 1, 'more!â\\x80\\x9d': 2, 'â\\x80\\x9cglamis': 1, 'murderâ\\x80\\x99d': 2, 'therefore': 3, 'cried?': 1, 'unbend': 1, 'strength': 3, 'brainsickly': 1, 'things.': 2, 'water,': 1, 'wash': 3, 'witness': 2, 'hand.â\\x80\\x94': 1, 'there:': 1, 'carry': 2, 'smear': 1, 'blood.': 3, 'more:': 2, 'done;': 1, 'onâ\\x80\\x99t': 1, 'infirm': 1, 'purpose!': 1, 'daggers.': 1, 'sleeping': 2, 'pictures.': 1, 'childhood': 1, 'painted': 2, 'devil.': 2, 'bleed,': 3, 'gild': 1, 'faces': 3, 'guilt.': 1, '[_exit.': 2, 'knocking': 6, 'knocking?': 1, 'noise': 3, 'appals': 1, 'hands': 6, 'ha,': 2, 'pluck': 2, 'neptuneâ\\x80\\x99s': 1, 'ocean': 1, 'clean': 1, 'no,': 6, 'multitudinous': 1, 'seas': 1, 'incarnadine,': 1, 'making': 1, 'red.': 1, 'color,': 1, 'shame': 2, 'wear': 5, 'white.': 1, '[_knocking': 2, 'south': 1, 'entry:â\\x80\\x94retire': 1, 'chamber.': 1, 'little': 6, 'clears': 1, 'deed:': 1, 'easy': 2, 'then!': 1, 'constancy': 1, 'unattended.â\\x80\\x94[_knocking': 1, 'hark,': 2, 'knocking.': 1, 'nightgown,': 1, 'lest': 2, 'occasion': 1, 'watchers.': 1, 'poorly': 1, 'thoughts.': 1, 'deed,': 1, 'best': 8, 'knocking!': 1, 'couldst!': 1, 'hereâ\\x80\\x99s': 8, 'indeed!': 1, 'porter': 1, 'gate,': 1, 'turning': 1, 'key.': 1, '[_knocking._]': 5, 'knock,': 6, 'knock.': 2, 'there,': 4, 'belzebub?': 1, 'farmer': 1, 'hanged': 2, 'expectation': 2, 'plenty:': 1, 'napkins': 1, 'enow': 2, 'you;': 3, 'youâ\\x80\\x99ll': 2, 'sweat': 1, 'forâ\\x80\\x99t.': 1, 'knock!': 2, 'devilâ\\x80\\x99s': 1, 'name?': 2, 'faith,': 4, 'equivocator,': 1, 'swear': 2, 'scales': 1, 'either': 3, 'scale,': 1, 'committed': 2, 'treason': 2, 'enough': 2, 'godâ\\x80\\x99s': 3, 'sake,': 1, 'equivocate': 1, 'heaven:': 1, 'in,': 3, 'equivocator.': 1, 'tailor': 1, 'stealing': 1, 'french': 1, 'hose:': 1, 'tailor;': 1, 'roast': 1, 'goose.': 1, 'quiet!': 1, 'you?â\\x80\\x94but': 1, 'devil-porter': 1, 'further:': 2, 'professions,': 1, 'primrose': 1, 'everlasting': 1, 'bonfire.': 1, 'anon,': 2, 'anon!': 1, 'remember': 4, '[_opens': 1, 'gate._]': 1, 'macduff': 12, 'late,': 1, 'friend,': 2, 'bed,': 5, 'late?': 1, 'carousing': 1, 'cock;': 1, 'drink,': 1, 'provoker': 1, 'especially': 2, 'provoke?': 1, 'marry,': 1, 'nose-painting,': 1, 'urine.': 1, 'lechery,': 1, 'provokes': 2, 'unprovokes;': 1, 'desire,': 1, 'performance.': 1, 'said': 3, 'equivocator': 1, 'lechery:': 1, 'makes': 6, 'mars': 1, 'him;': 5, 'sets': 1, 'on,': 6, 'off;': 2, 'persuades': 1, 'disheartens': 1, 'stand': 10, 'to,': 6, 'to;': 1, 'conclusion,': 1, 'equivocates': 1, 'giving': 1, 'lie,': 1, 'leaves': 2, 'believe': 1, 'did,': 1, 'throat': 2, 'me;': 3, 'requited': 1, 'lie;': 1, '(i': 1, 'think)': 1, 'took': 2, 'legs': 1, 'sometime,': 1, 'shift': 2, 'stirring?': 1, 'awakâ\\x80\\x99d': 1, 'comes.': 2, 'morrow,': 2, 'sir!': 1, 'both!': 2, 'stirring,': 1, 'yet.': 3, 'command': 3, 'timely': 2, 'slippâ\\x80\\x99d': 1, 'hour.': 3, 'trouble': 1, 'one.': 3, 'delight': 2, 'physics': 1, 'pain.': 1, 'door.': 2, 'bold': 2, 'call.': 2, 'limited': 6, 'macduff._]': 1, 'today?': 1, 'does.': 1, 'appoint': 1, 'unruly:': 1, 'lay,': 1, 'chimneys': 1, 'blown': 2, 'lamentings': 1, 'screams': 1, 'prophesying,': 1, 'accents': 1, 'terrible,': 1, 'dire': 2, 'combustion': 1, 'confusâ\\x80\\x99d': 1, 'events,': 1, 'hatchâ\\x80\\x99d': 1, 'woeful': 1, 'obscure': 1, 'clamourâ\\x80\\x99d': 1, 'live-long': 1, 'feverous,': 1, 'shake.': 1, 'â\\x80\\x99twas': 1, 'rough': 1, 'remembrance': 3, 'parallel': 1, 'fellow': 1, 'horror,': 2, 'horror!': 2, 'conceive': 1, 'thee!': 4, 'whatâ\\x80\\x99s': 11, 'matter?': 1, 'confusion': 1, 'masterpiece!': 1, 'sacrilegious': 1, 'broke': 4, 'ope': 1, 'lordâ\\x80\\x99s': 1, 'anointed': 1, 'temple,': 1, 'stole': 1, 'thence': 5, 'building.': 1, 'say?': 2, 'life?': 1, 'mean': 1, 'majesty?': 1, 'approach': 4, 'destroy': 3, 'sight': 1, 'gorgon.': 1, 'speak.': 3, 'yourselves.': 1, 'lennox._]': 1, 'awake,': 1, 'awake!â\\x80\\x94': 1, 'ring': 2, 'bell.â\\x80\\x94murder': 1, 'treason!': 1, 'donalbain!': 1, 'malcolm!': 2, 'awake!': 1, 'off': 4, 'downy': 1, 'deathâ\\x80\\x99s': 1, 'counterfeit,': 1, 'itself!': 3, 'up,': 4, 'doomâ\\x80\\x99s': 1, 'image.': 1, 'graves': 2, 'rise': 4, 'walk': 2, 'sprites': 1, 'countenance': 1, '[_alarum-bell': 1, 'hideous': 1, 'trumpet': 1, 'calls': 2, 'parley': 1, 'sleepers': 1, 'house?': 2, 'speak!': 1, 'lady,': 1, 'speak:': 2, 'repetition,': 1, 'fell.': 1, 'masterâ\\x80\\x99s': 1, 'murderâ\\x80\\x99d!': 1, 'woe,': 2, 'alas!': 1, 'cruel': 4, 'anywhere.â\\x80\\x94': 1, 'dear': 4, 'duff,': 1, 'contradict': 1, 'thyself,': 1, 'chance,': 2, 'livâ\\x80\\x99d': 3, 'blessed': 1, 'for,': 1, 'instant': 1, 'serious': 1, 'mortality.': 1, 'toys:': 1, 'renown': 1, 'dead;': 1, 'drawn,': 1, 'mere': 3, 'lees': 1, 'vault': 1, 'brag': 1, 'of.': 1, 'malcolm': 6, 'amiss?': 1, 'are,': 6, 'knowâ\\x80\\x99t:': 1, 'head,': 4, 'fountain': 1, 'stoppâ\\x80\\x99d;': 1, 'source': 1, 'stoppâ\\x80\\x99d.': 1, 'fatherâ\\x80\\x99s': 2, 'murderâ\\x80\\x99d.': 1, 'whom?': 1, 'seemâ\\x80\\x99d,': 1, 'doneâ\\x80\\x99t:': 1, 'badgâ\\x80\\x99d': 1, 'blood;': 2, 'which,': 1, 'unwipâ\\x80\\x99d,': 1, 'found': 5, 'pillows.': 1, 'starâ\\x80\\x99d,': 1, 'distracted;': 1, 'manâ\\x80\\x99s': 4, 'repent': 1, 'fury,': 2, 'kill': 3, 'wise,': 2, 'amazâ\\x80\\x99d,': 1, 'temperate,': 1, 'furious,': 1, 'loyal': 1, 'neutral,': 1, 'moment?': 1, 'man:': 2, 'expedition': 1, 'violent': 4, 'outrun': 1, 'pauser,': 1, 'reason.': 2, 'silver': 1, 'skin': 1, 'lacâ\\x80\\x99d': 1, 'gashâ\\x80\\x99d': 1, 'stabs': 1, 'lookâ\\x80\\x99d': 3, 'breach': 3, 'ruinâ\\x80\\x99s': 1, 'wasteful': 1, 'entrance:': 1, 'steepâ\\x80\\x99d': 1, 'colours': 3, 'trade,': 1, 'unmannerly': 1, 'breechâ\\x80\\x99d': 1, 'gore.': 1, 'refrain,': 1, 'makeâ\\x80\\x99s': 1, 'known?': 1, 'hence,': 3, 'lady.': 1, 'tongues,': 2, 'claim': 2, 'argument': 1, 'ours?': 1, 'spoken': 1, 'fate,': 3, 'hid': 1, 'auger': 1, 'hole,': 1, 'rush,': 1, 'seize': 2, 'us?': 3, 'away.': 2, 'brewâ\\x80\\x99d.': 1, 'sorrow': 5, 'foot': 1, 'motion.': 1, 'lady:â\\x80\\x94': 1, '[_lady': 1, 'carried': 2, 'out._]': 1, 'frailties': 1, 'hid,': 1, 'suffer': 1, 'exposure,': 1, 'meet,': 1, 'piece': 1, 'work': 35, 'scruples': 1, 'us:': 1, 'stand;': 1, 'undivulgâ\\x80\\x99d': 1, 'pretence': 1, 'fight': 5, 'treasonous': 1, 'malice.': 1, 'briefly': 1, 'manly': 1, 'readiness,': 1, 'hall': 1, 'contented.': 1, 'donalbain._]': 1, 'do?': 2, 'consort': 1, 'unfelt': 1, 'office': 3, 'easy.': 2, 'ireland,': 1, 'separated': 1, 'fortune': 2, 'safer.': 1, 'menâ\\x80\\x99s': 2, 'smiles:': 1, 'nearer': 1, 'bloody.': 1, 'murderous': 1, 'shaft': 1, 'shot': 1, 'lighted;': 1, 'safest': 1, 'avoid': 1, 'aim.': 1, 'horse;': 1, 'dainty': 1, 'leave-taking,': 1, 'warrant': 1, 'theft': 1, 'steals': 1, 'itself,': 1, 'mercy': 1, 'left.': 1, 'threescore': 1, 'well,': 10, 'volume': 1, 'hours': 1, 'dreadful': 2, 'strange,': 1, 'trifled': 1, 'knowings.': 1, 'father,': 1, 'seest': 1, 'heavens,': 2, 'troubled': 2, 'threatens': 1, 'stage:': 1, 'clock': 1, 'strangles': 1, 'travelling': 1, 'lamp.': 1, 'predominance,': 1, 'shame,': 1, 'entomb,': 1, 'living': 1, 'kiss': 2, 'it?': 1, 'unnatural,': 1, 'tuesday': 1, 'last,': 1, 'falcon,': 1, 'towering': 1, 'pride': 1, 'place,': 1, 'mousing': 1, 'hawkâ\\x80\\x99d': 1, 'killâ\\x80\\x99d.': 1, 'duncanâ\\x80\\x99s': 3, 'horses': 3, '(a': 1, 'certain)': 1, 'beauteous': 1, 'swift,': 2, 'minions': 1, 'race,': 1, 'turnâ\\x80\\x99d': 1, 'nature,': 4, 'stalls,': 1, 'flung': 1, 'contending': 1, 'obedience,': 2, 'war': 1, 'mankind.': 1, 'eat': 3, 'so;': 3, 'amazement': 1, 'eyes,': 3, 'uponâ\\x80\\x99t.': 1, 'world,': 2, 'now?': 3, 'not?': 1, 'deed?': 1, 'slain.': 1, 'alas,': 3, 'day!': 1, 'pretend?': 1, 'subornâ\\x80\\x99d.': 1, 'sons,': 1, 'stolâ\\x80\\x99n': 1, 'fled;': 1, 'puts': 1, 'suspicion': 1, 'deed.': 3, 'still:': 2, 'thriftless': 1, 'ravin': 1, 'means!â\\x80\\x94then': 1, 'sovereignty': 1, 'already': 4, 'namâ\\x80\\x99d;': 1, 'scone': 1, 'invested.': 1, 'body?': 1, 'colmekill,': 1, 'sacred': 1, 'storehouse': 1, 'predecessors,': 1, 'guardian': 1, 'bones.': 1, 'scone?': 1, 'cousin,': 4, 'thither.': 2, 'there.': 1, 'adieu!': 1, 'robes': 1, 'sit': 5, 'easier': 1, 'new!': 1, 'farewell,': 1, 'father.': 2, 'benison': 1, 'bad,': 1, 'friends': 5, 'foes!': 1, 'all,': 2, 'women': 3, 'promisâ\\x80\\x99d;': 1, 'playâ\\x80\\x99dst': 1, 'foully': 1, 'forâ\\x80\\x99t;': 1, 'posterity;': 1, 'many': 11, 'truth': 4, '(as': 1, 'speeches': 2, 'shine)': 1, 'verities': 1, 'oracles': 1, 'hope?': 1, 'hush;': 1, 'sennet': 1, 'sounded.': 1, 'queen;': 1, 'guest.': 1, 'forgotten,': 1, 'gap': 1, 'feast,': 2, 'all-thing': 1, 'unbecoming.': 1, 'tonight': 2, 'solemn': 1, 'supper,': 1, 'request': 1, 'presence.': 1, 'highness': 4, 'indissoluble': 1, 'tie': 1, 'knit.': 1, 'ride': 1, 'afternoon?': 1, 'ay,': 16, 'lord.': 14, 'desirâ\\x80\\x99d': 1, 'advice': 1, '(which': 1, 'grave': 1, 'prosperous)': 1, 'council;': 1, 'tomorrow.': 1, 'ride?': 1, 'far,': 1, 'â\\x80\\x99twixt': 1, 'supper:': 1, 'horse': 1, 'better,': 1, 'borrower': 1, 'twain.': 1, 'fail': 1, 'cousins': 1, 'bestowâ\\x80\\x99d': 1, 'england': 2, 'ireland;': 1, 'confessing': 1, 'parricide,': 1, 'filling': 1, 'hearers': 1, 'invention.': 1, 'therewithal': 1, 'cause': 4, 'craving': 1, 'jointly.': 1, 'horse:': 2, 'adieu,': 1, 'lord:': 2, 'uponâ\\x80\\x99s.': 1, 'wish': 4, 'swift': 2, 'foot;': 1, 'commend': 2, 'backs.': 1, 'farewell.â\\x80\\x94': 1, 'seven': 1, 'night;': 2, 'society': 1, 'sweeter': 1, 'welcome,': 1, 'ourself': 2, 'supper': 1, 'alone:': 1, '&c._]': 3, 'sirrah,': 2, 'word': 5, 'pleasure?': 2, 'servant.': 8, 'palace': 2, 'gate.': 2, 'nothing,': 3, 'safely': 1, 'thus.': 1, 'stick': 1, 'deep,': 2, 'royalty': 5, 'reigns': 1, 'fearâ\\x80\\x99d:': 1, 'dares;': 1, 'dauntless': 1, 'temper': 1, 'wisdom': 5, 'guide': 1, 'safety.': 1, 'fear:': 2, 'genius': 1, 'rebukâ\\x80\\x99d;': 1, 'as,': 3, 'said,': 2, 'mark': 2, 'antonyâ\\x80\\x99s': 1, 'caesar.': 1, 'chid': 1, 'prophet-like,': 1, 'hailâ\\x80\\x99d': 1, 'kings:': 2, 'placâ\\x80\\x99d': 1, 'fruitless': 1, 'barren': 1, 'sceptre': 1, 'gripe,': 1, 'wrenchâ\\x80\\x99d': 1, 'unlineal': 1, 'succeeding.': 1, 'ifâ\\x80\\x99t': 3, 'banquoâ\\x80\\x99s': 5, 'issue': 5, 'filâ\\x80\\x99d': 1, 'mind;': 1, 'gracious': 7, 'murderâ\\x80\\x99d;': 1, 'rancours': 1, 'vessel': 1, 'them;': 3, 'eternal': 2, 'jewel': 1, 'common': 2, 'enemy': 2, 'man,': 2, 'seed': 1, 'kings!': 1, 'list,': 1, 'champion': 1, 'utterance!â\\x80\\x94whoâ\\x80\\x99s': 1, 'there?â\\x80\\x94': 1, 'murderers.': 5, 'yesterday': 1, 'together?': 1, 'murderer.': 31, 'was,': 1, 'highness.': 1, 'considerâ\\x80\\x99d': 1, 'speeches?': 1, 'he,': 1, 'past,': 1, 'held': 1, 'self?': 1, 'conference,': 1, 'passâ\\x80\\x99d': 1, 'probation': 1, 'crossâ\\x80\\x99d,': 1, 'instruments,': 1, 'half': 2, 'soul': 3, 'notion': 1, 'crazâ\\x80\\x99d': 1, 'banquo.â\\x80\\x9d': 1, 'meeting.': 1, 'patience': 1, 'predominant': 1, 'go?': 1, 'gospellâ\\x80\\x99d,': 1, 'issue,': 1, 'bowâ\\x80\\x99d': 1, 'grave,': 2, 'beggarâ\\x80\\x99d': 1, 'yours': 1, 'forever?': 1, 'liege.': 1, 'catalogue': 1, 'men;': 2, 'hounds,': 1, 'greyhounds,': 1, 'mongrels,': 1, 'spaniels,': 1, 'curs,': 1, 'shoughs,': 1, 'water-rugs,': 1, 'demi-wolves': 1, 'clept': 1, 'dogs:': 1, 'valuâ\\x80\\x99d': 1, 'file': 4, 'distinguishes': 1, 'slow,': 1, 'subtle,': 1, 'housekeeper,': 1, 'hunter,': 1, 'according': 2, 'gift': 2, 'bounteous': 1, 'closâ\\x80\\x99d;': 1, 'whereby': 1, 'particular': 3, 'bill': 1, 'writes': 1, 'alike:': 1, 'men.': 2, 'station': 2, 'file,': 1, 'worst': 3, 'rank': 1, 'manhood,': 1, 'sayâ\\x80\\x99t;': 1, 'bosoms,': 1, 'off,': 2, 'grapples': 1, 'us,': 2, 'health': 4, 'sickly': 2, 'perfect.': 2, 'one,': 3, 'vile': 1, 'blows': 1, 'buffets': 1, 'incensâ\\x80\\x99d': 1, 'reckless': 1, 'spite': 2, 'world.': 1, 'another,': 2, 'disasters,': 1, 'tuggâ\\x80\\x99d': 1, 'any': 41, 'mend': 1, 'rid': 1, 'onâ\\x80\\x99t.': 1, 'enemy.': 2, 'mine;': 1, 'distance,': 1, 'minute': 2, 'thrusts': 1, 'nearâ\\x80\\x99st': 1, 'life;': 1, 'barefacâ\\x80\\x99d': 1, 'power': 8, 'sweep': 1, 'avouch': 1, 'certain': 4, 'loves': 3, 'drop,': 1, 'wail': 1, 'struck': 2, 'down:': 2, 'assistance': 2, 'masking': 1, 'sundry': 3, 'weighty': 1, 'reasons.': 1, 'shall,': 1, 'livesâ\\x80\\x94': 1, 'most,': 1, 'advise': 2, 'yourselves,': 1, 'acquaint': 1, 'perfect': 1, 'spy': 1, 'moment': 2, 'onâ\\x80\\x99t;': 1, 'forâ\\x80\\x99t': 1, 'something': 3, 'palace;': 1, 'always': 1, 'require': 3, 'clearness.': 1, '(to': 1, 'rubs': 2, 'botches': 1, 'work)': 1, 'son,': 5, 'keeps': 4, 'company,': 1, 'absence': 1, 'material': 1, 'fatherâ\\x80\\x99s,': 1, 'embrace': 1, 'resolve': 1, 'yourselves': 1, 'apart.': 1, 'resolvâ\\x80\\x99d,': 1, 'straight:': 1, 'abide': 3, 'murderers._]': 2, 'concluded.': 1, 'soulâ\\x80\\x99s': 1, 'flight,': 2, 'heaven,': 3, 'court?': 1, 'madam,': 2, 'returns': 1, 'leisure': 1, 'few': 2, 'will.': 2, 'naughtâ\\x80\\x99s': 1, 'spent,': 1, 'got': 1, 'content:': 1, 'safer': 1, 'destroy,': 1, 'destruction': 2, 'dwell': 1, 'joy.': 1, 'alone,': 1, 'sorriest': 1, 'fancies': 1, 'companions': 1, 'making,': 1, 'on?': 1, 'remedy': 1, 'regard:': 1, 'scorchâ\\x80\\x99d': 1, 'snake,': 2, 'killâ\\x80\\x99d': 3, 'sheâ\\x80\\x99ll': 2, 'close,': 1, 'herself;': 1, 'whilst': 1, 'malice': 2, 'remains': 2, 'danger': 2, 'tooth.': 1, 'frame': 1, 'disjoint,': 1, 'worlds': 1, 'suffer,': 2, 'meal': 1, 'affliction': 1, 'nightly.': 1, 'better': 7, 'we,': 2, 'gain': 2, 'peace,': 3, 'torture': 1, 'mind': 5, 'restless': 1, 'ecstasy.': 2, 'grave;': 1, 'fitful': 1, 'fever': 1, 'sleeps': 1, 'worst:': 1, 'poison,': 1, 'domestic,': 1, 'foreign': 1, 'levy,': 1, 'touch': 1, 'gently': 2, 'sleek': 1, 'rugged': 2, 'looks;': 1, 'bright': 2, 'jovial': 1, 'among': 1, 'guests': 1, 'i,': 3, 'love;': 2, 'pray,': 1, 'apply': 2, 'banquo;': 1, 'eminence,': 1, 'unsafe': 1, 'while,': 1, 'lave': 1, 'flattering': 1, 'streams,': 1, 'vizards': 1, 'hearts,': 1, 'disguising': 1, 'are.': 2, 'scorpions': 1, 'wife!': 1, 'knowâ\\x80\\x99st': 1, 'copyâ\\x80\\x99s': 1, 'eterne.': 1, 'yet;': 1, 'assailable.': 1, 'jocund.': 1, 'bat': 1, 'flown': 1, 'cloisterâ\\x80\\x99d': 1, 'shard-born': 1, 'beetle,': 1, 'drowsy': 1, 'hums,': 2, 'rung': 1, 'yawning': 1, 'peal,': 1, 'note.': 1, 'done?': 2, 'knowledge,': 1, 'chuck,': 1, 'applaud': 3, 'seeling': 1, 'scarf': 1, 'pitiful': 2, 'invisible': 1, 'cancel': 1, 'tear': 2, 'pieces': 1, 'bond': 2, 'pale!â\\x80\\x94light': 1, 'thickens;': 1, 'crow': 1, 'rooky': 1, 'wood.': 1, 'begin': 2, 'droop': 1, 'drowse,': 1, 'agents': 1, 'preys': 1, 'rouse.': 1, 'marvellâ\\x80\\x99st': 1, 'words:': 1, 'bad': 1, 'ill.': 1, 'join': 1, 'needs': 3, 'mistrust;': 1, 'since': 5, 'delivers': 1, 'offices': 1, 'direction': 1, 'just.': 1, 'west': 1, 'glimmers': 1, 'streaks': 1, 'spurs': 1, 'lated': 1, 'traveller': 1, 'apace,': 1, 'inn;': 1, 'approaches': 1, 'subject': 2, 'watch.': 1, 'hark!': 2, 'horses.': 1, 'he;': 1, 'note': 3, 'court.': 1, 'about.': 1, 'mile;': 1, 'usually,': 1, 'walk.': 1, 'light,': 1, 'light!': 1, 'he.': 1, 'toâ\\x80\\x99t.': 2, 'rain': 1, 'down.': 2, '[_assaults': 1, 'treachery!': 2, 'fly,': 5, 'fly!': 1, 'mayst': 3, 'revengeâ\\x80\\x94o': 1, 'slave!': 2, '[_dies.': 2, 'escapes._]': 1, 'light?': 2, 'wasâ\\x80\\x99t': 2, 'way?': 1, 'fled.': 2, 'affair.': 1, 'prepared.': 1, 'lords': 2, 'degrees,': 1, 'hearty': 1, 'welcome.': 4, 'lords.': 3, 'majesty.': 1, 'mingle': 2, 'society,': 1, 'humble': 1, 'host.': 1, 'hostess': 1, 'state;': 1, 'but,': 7, 'friends;': 1, 'speaks': 1, 'encounter': 1, 'heartsâ\\x80\\x99': 1, 'thanks.': 1, 'even:': 1, 'midst.': 1, 'large': 2, 'mirth;': 1, 'anon': 1, 'measure': 1, 'table': 1, 'round.': 1, 'face.': 1, 'then.': 1, 'dispatchâ\\x80\\x99d?': 1, 'cut.': 1, 'cut-throats;': 1, 'fleance:': 1, 'nonpareil.': 1, 'â\\x80\\x99scapâ\\x80\\x99d.': 1, 'fit': 4, 'again:': 1, 'perfect;': 1, 'whole': 4, 'marble,': 1, 'founded': 1, 'rock,': 1, 'casing': 1, 'air:': 1, 'cabinâ\\x80\\x99d,': 1, 'cribbâ\\x80\\x99d,': 1, 'confinâ\\x80\\x99d,': 1, 'bound': 3, 'saucy': 2, 'doubts': 1, 'fears.': 2, 'safe?': 1, 'ditch': 1, 'bides,': 1, 'trenched': 1, 'head;': 1, 'least': 2, 'nature.': 2, 'that.': 1, 'grown': 1, 'lies;': 1, 'worm': 1, 'fled': 4, 'venom': 2, 'breed,': 1, 'teeth': 1, 'present.â\\x80\\x94get': 1, 'gone;': 1, 'tomorrow': 2, 'hear,': 2, 'ourselves,': 1, 'again.': 5, 'murderer._]': 1, 'cheer:': 1, 'feast': 1, 'sold': 1, 'often': 4, 'vouchâ\\x80\\x99d,': 1, 'a-making,': 1, 'feed': 1, 'home;': 1, 'sauce': 2, 'meat': 1, 'ceremony;': 1, 'bare': 1, 'rises,': 1, 'sits': 2, 'sweet': 4, 'remembrancer!â\\x80\\x94': 1, 'digestion': 1, 'appetite,': 1, 'mayâ\\x80\\x99t': 1, 'sit.': 1, 'roofâ\\x80\\x99d,': 1, 'gracâ\\x80\\x99d': 1, 'person': 6, 'present;': 1, 'challenge': 1, 'unkindness': 1, 'pity': 1, 'mischance!': 1, 'absence,': 1, 'lays': 1, 'blame': 2, 'promise.': 1, 'pleaseâ\\x80\\x99t': 1, 'company?': 1, 'tableâ\\x80\\x99s': 1, 'full.': 1, 'reservâ\\x80\\x99d,': 1, 'where?': 1, 'highness?': 1, 'this?': 2, 'lord?': 2, 'canst': 3, 'gory': 1, 'locks': 1, 'rise;': 1, 'sit,': 1, 'lord': 1, 'thus,': 3, 'youth:': 1, 'seat;': 1, 'momentary;': 1, 'offend': 1, 'extend': 1, 'passion.': 1, 'feed,': 1, 'regard': 1, 'not.â\\x80\\x94are': 1, 'man?': 1, 'appal': 1, 'proper': 1, 'stuff!': 1, 'painting': 1, 'air-drawn': 1, 'led': 2, 'flaws,': 1, 'starts': 1, '(impostors': 1, 'true': 2, 'fear),': 1, 'story': 2, 'winterâ\\x80\\x99s': 1, 'fire,': 4, 'authorisâ\\x80\\x99d': 1, 'grandam.': 1, 'faces?': 2, 'stool.': 1, 'there!': 3, 'behold!': 1, 'look!': 1, 'lo!': 1, 'i?': 1, 'nod,': 1, 'too.â\\x80\\x94': 1, 'charnel': 1, 'houses': 1, 'send': 6, 'bury': 1, 'back,': 2, 'monuments': 1, 'maws': 1, 'kites.': 1, '[_ghost': 2, 'disappears._]': 2, 'quite': 1, 'unmannâ\\x80\\x99d': 1, 'folly?': 1, 'fie,': 2, 'shame!': 1, 'shed': 1, 'olden': 1, 'humane': 1, 'statute': 1, 'purgâ\\x80\\x99d': 1, 'weal;': 2, 'too,': 1, 'murders': 3, 'performâ\\x80\\x99d': 1, 'ear:': 1, 'end;': 1, 'crowns,': 1, 'push': 2, 'stools.': 1, 'is.': 2, 'lack': 3, 'forget.â\\x80\\x94': 1, 'muse': 1, 'infirmity,': 1, 'all;': 1, 'down.â\\x80\\x94give': 1, 'wine,': 1, 'full.â\\x80\\x94': 1, 'joy': 1, 'table,': 1, 'friend': 1, 'miss:': 1, 'here.': 3, 'rises': 2, 'thirst,': 1, 'duties,': 1, 'pledge.': 1, 'avaunt!': 1, 'quit': 1, 'sight!': 1, 'bones': 2, 'marrowless,': 1, 'cold;': 1, 'speculation': 1, 'glare': 1, 'with!': 1, 'this,': 4, 'peers,': 1, 'custom:': 1, 'spoils': 1, 'dare,': 1, 'dare:': 1, 'russian': 1, 'bear,': 2, 'armâ\\x80\\x99d': 1, 'rhinoceros,': 1, 'hyrcan': 1, 'tiger;': 1, 'shape': 1, 'firm': 2, 'nerves': 1, 'tremble:': 1, 'alive': 1, 'desert': 2, 'sword;': 1, 'trembling': 1, 'inhabit': 1, 'protest': 2, 'baby': 2, 'girl.': 1, 'shadow!': 1, 'unreal': 1, 'mockâ\\x80\\x99ry,': 1, 'hence!': 1, 'so;â\\x80\\x94being': 1, 'again.â\\x80\\x94pray': 1, 'displaced': 1, 'mirth,': 1, 'admirâ\\x80\\x99d': 1, 'disorder.': 1, 'overcome': 1, 'summerâ\\x80\\x99s': 1, 'cloud,': 1, 'special': 2, 'wonder?': 1, 'disposition': 1, 'behold': 1, 'sights,': 2, 'natural': 2, 'ruby': 1, 'cheeks,': 1, 'blanchâ\\x80\\x99d': 1, 'grows': 3, 'worse': 2, 'worse;': 1, 'enrages': 1, 'once,': 2, 'night:â\\x80\\x94': 1, 'order': 1, 'going,': 1, 'once.': 2, 'majesty!': 1, 'all!': 2, 'atendants._]': 1, 'move,': 1, 'trees': 2, 'speak;': 3, 'augurs,': 1, 'understood': 1, 'relations,': 1, 'magot-pies,': 1, 'choughs,': 1, 'rooks,': 1, 'brought': 2, 'secretâ\\x80\\x99st': 1, 'blood.â\\x80\\x94what': 1, 'night?': 1, 'odds': 1, 'morning,': 1, 'which.': 1, 'sayâ\\x80\\x99st': 1, 'denies': 1, 'bidding?': 1, 'sir?': 1, 'way;': 1, 'send.': 1, 'house': 1, 'feeâ\\x80\\x99d.': 1, '(and': 2, 'betimes': 2, 'will)': 1, 'bent': 1, 'means,': 1, 'worst.': 1, 'causes': 2, 'way:': 1, 'steppâ\\x80\\x99d': 1, 'wade': 1, 'more,': 1, 'returning': 1, 'tedious': 1, 'oâ\\x80\\x99er.': 1, 'acted': 1, 'scannâ\\x80\\x99d.': 1, 'season': 1, 'natures,': 1, 'self-abuse': 1, 'initiate': 1, 'wants': 2, 'witches': 2, 'hecate.': 4, 'hecate?': 1, 'angerly.': 1, 'reason,': 1, 'beldams': 1, 'overbold?': 1, 'trade': 1, 'traffic': 1, 'riddles': 1, 'affairs': 1, 'death;': 1, 'mistress': 1, 'charms,': 2, 'close': 1, 'contriver': 1, 'harms,': 1, 'part,': 1, 'glory': 1, 'art?': 1, 'worse,': 1, 'wayward': 1, 'spiteful': 1, 'wrathful;': 1, 'others': 1, 'ends,': 1, 'amends': 1, 'now:': 1, 'pit': 1, 'acheron': 1, 'morning:': 1, 'destiny.': 1, 'vessels': 1, 'spells': 1, 'provide,': 2, 'beside.': 1, 'end.': 2, 'noon.': 1, 'corner': 1, 'hangs': 1, 'vapâ\\x80\\x99rous': 1, 'drop': 2, 'profound;': 1, 'ground:': 1, 'distillâ\\x80\\x99d': 1, 'magic': 1, 'sleights,': 1, 'raise': 1, 'artificial': 1, 'sprites,': 2, 'illusion,': 1, 'draw': 2, 'confusion.': 1, 'spurn': 1, 'scorn': 2, 'hopes': 2, 'â\\x80\\x99bove': 1, 'wisdom,': 2, 'grace,': 3, 'security': 1, 'mortalsâ\\x80\\x99': 1, 'chiefest': 1, '[_music': 2, 'song': 1, 'within,': 1, 'â\\x80\\x9ccome': 1, 'awayâ\\x80\\x9d': 1, 'callâ\\x80\\x99d;': 1, 'spirit,': 1, 'foggy': 1, 'cloud': 1, 'stays': 1, 'haste;': 1, 'soon': 2, 'back': 1, 'hit': 1, 'farther:': 1, 'thingâ\\x80\\x99s': 1, 'strangely': 1, 'borne.': 1, 'pitied': 1, 'macbeth:â\\x80\\x94marry,': 1, 'dead:â\\x80\\x94': 1, 'right': 5, 'walkâ\\x80\\x99d': 1, 'whom,': 1, 'killâ\\x80\\x99d,': 1, 'late.': 1, 'want': 1, 'monstrous': 1, 'donalbain': 2, 'father?': 3, 'fact!': 1, 'grieve': 2, 'straight,': 1, 'pious': 2, 'rage,': 1, 'delinquents': 1, 'slaves': 1, 'thralls': 1, 'sleep?': 1, 'nobly': 1, 'wisely': 1, 'â\\x80\\x99twould': 1, 'angerâ\\x80\\x99d': 1, 'alive,': 2, 'denyâ\\x80\\x99t.': 1, 'well:': 1, 'think,': 3, 'sons': 2, 'key': 1, '(as,': 1, 'andâ\\x80\\x99t': 1, 'not)': 1, 'father;': 1, 'peace!â\\x80\\x94for': 1, 'words,': 1, 'â\\x80\\x99cause': 1, 'failâ\\x80\\x99d': 1, 'presence': 1, 'tyrantâ\\x80\\x99s': 6, 'disgrace.': 1, 'bestows': 1, 'himself?': 1, 'tyrant': 4, 'holds': 1, 'birth,': 1, 'receivâ\\x80\\x99d': 1, 'edward': 1, 'malevolence': 1, 'high': 3, 'respect.': 1, 'holy': 3, 'warlike': 3, 'siward': 4, '(with': 1, 'above': 3, 'ratify': 1, 'work),': 1, 'tables': 1, 'meat,': 1, 'nights;': 1, 'feasts': 1, 'banquets': 1, 'knives,': 1, 'faithful': 1, 'homage,': 1, 'honours,': 1, 'pine': 1, 'exasperate': 1, 'prepares': 1, 'war.': 2, 'macduff?': 1, 'did:': 1, 'â\\x80\\x9csir,': 1, 'i,â\\x80\\x9d': 1, 'cloudy': 1, 'messenger': 1, 'turns': 1, 'â\\x80\\x9cyouâ\\x80\\x99ll': 1, 'rue': 1, 'clogs': 1, 'answer.â\\x80\\x9d': 1, 'caution,': 2, 'tâ\\x80\\x99': 1, 'distance': 1, 'provide.': 1, 'angel': 2, 'fly': 4, 'england,': 3, 'unfold': 1, 'message': 1, 'blessing': 2, 'suffering': 1, 'accursâ\\x80\\x99d!': 1, 'prayers': 1, 'brinded': 1, 'mewâ\\x80\\x99d.': 1, 'thrice,': 1, 'hedge-pig': 1, 'whinâ\\x80\\x99d.': 1, 'harpier': 1, 'cries:â\\x80\\x94â\\x80\\x99tis': 1, 'round': 2, 'go;': 1, 'entrails': 1, 'throw.â\\x80\\x94': 1, 'toad,': 1, 'stone': 1, 'thirty-one': 1, 'swelterâ\\x80\\x99d': 1, 'got,': 1, 'boil': 3, 'charmed': 2, 'pot!': 1, 'toil': 3, 'trouble;': 3, 'burn;': 3, 'cauldron,': 3, 'bubble.': 4, 'fillet': 1, 'fenny': 1, 'bake;': 1, 'newt,': 1, 'toe': 1, 'frog,': 1, 'wool': 1, 'bat,': 1, 'dog,': 1, 'adderâ\\x80\\x99s': 1, 'fork,': 1, 'blind-wormâ\\x80\\x99s': 1, 'sting,': 1, 'lizardâ\\x80\\x99s': 1, 'leg,': 1, 'howletâ\\x80\\x99s': 1, 'wing,': 1, 'charm': 3, 'powerful': 1, 'hell-broth': 1, 'scale': 1, 'dragon,': 1, 'tooth': 1, 'witchâ\\x80\\x99s': 1, 'mummy,': 1, 'maw': 1, 'gulf': 1, 'ravinâ\\x80\\x99d': 1, 'salt-sea': 1, 'shark,': 1, 'hemlock': 1, 'diggâ\\x80\\x99d': 1, 'dark,': 1, 'liver': 1, 'blaspheming': 1, 'jew,': 1, 'gall': 1, 'goat,': 1, 'slips': 1, 'yew': 1, 'sliverâ\\x80\\x99d': 1, 'moonâ\\x80\\x99s': 1, 'eclipse,': 1, 'nose': 1, 'turk,': 1, 'tartarâ\\x80\\x99s': 1, 'lips,': 1, 'birth-strangled': 1, 'ditch-deliverâ\\x80\\x99d': 1, 'drab,': 1, 'gruel': 1, 'slab:': 1, 'add': 2, 'thereto': 1, 'tigerâ\\x80\\x99s': 1, 'chaudron,': 1, 'ingredients': 1, 'cauldron.': 1, 'cool': 1, 'baboonâ\\x80\\x99s': 1, 'done!': 1, 'share': 2, 'gains.': 1, 'sing,': 1, 'elves': 1, 'fairies': 1, 'ring,': 1, 'enchanting': 1, 'in.': 1, 'song:': 1, 'â\\x80\\x9cblack': 1, 'spirits,â\\x80\\x9d': 1, 'hecate._]': 1, 'pricking': 1, 'thumbs,': 1, 'open,': 1, 'locks,': 1, 'whoever': 1, 'knocks!': 1, 'secret,': 1, 'black,': 2, 'midnight': 1, 'hags!': 2, 'name.': 1, 'conjure': 1, 'profess,': 1, '(howeâ\\x80\\x99er': 1, 'it)': 1, 'answer': 3, 'untie': 1, 'winds,': 1, 'churches;': 1, 'yesty': 1, 'waves': 1, 'confound': 2, 'swallow': 1, 'navigation': 1, 'up;': 1, 'bladed': 1, 'corn': 1, 'lodgâ\\x80\\x99d,': 1, 'castles': 1, 'topple': 1, 'wardersâ\\x80\\x99': 1, 'heads;': 1, 'palaces': 1, 'pyramids': 1, 'slope': 1, 'heads': 1, 'foundations;': 1, 'treasure': 1, 'germens': 1, 'tumble': 1, 'together,': 2, 'sicken,': 1, 'ask': 1, 'demand.': 1, 'answer.': 1, 'mouths,': 1, 'masters?': 1, 'â\\x80\\x99em,': 1, 'â\\x80\\x99em.': 2, 'sowâ\\x80\\x99s': 1, 'farrow;': 1, 'grease': 1, 'sweaten': 1, 'murdererâ\\x80\\x99s': 1, 'gibbet': 1, 'flame.': 1, 'low;': 1, 'deftly': 1, 'show!': 4, '[_thunder.': 3, 'apparition': 3, 'armed': 1, 'rises._]': 3, 'unknown': 2, 'power,â\\x80\\x94': 1, 'knows': 6, 'thought:': 1, 'speech,': 1, 'naught.': 1, 'apparition.': 4, 'beware': 2, 'macduff;': 2, 'fife.â\\x80\\x94dismiss': 1, 'me.â\\x80\\x94enough.': 1, '[_descends._]': 3, 'whateâ\\x80\\x99er': 1, 'harpâ\\x80\\x99d': 1, 'aright.â\\x80\\x94but': 1, 'commanded.': 1, 'potent': 1, 'first.': 2, 'child': 3, 'ears,': 1, 'iâ\\x80\\x99d': 1, 'bloody,': 2, 'bold,': 1, 'resolute.': 1, 'woman': 6, 'born': 5, 'harm': 2, 'live,': 1, 'macduff:': 1, 'thee?': 1, 'assurance': 1, 'sure,': 2, 'fate.': 1, 'live;': 1, 'pale-hearted': 1, 'lies,': 1, 'crowned,': 1, 'tree': 3, 'wears': 1, 'brow': 1, 'top': 2, 'sovereignty?': 1, 'listen,': 1, 'lion-mettled,': 1, 'proud,': 1, 'chafes,': 1, 'frets,': 1, 'conspirers': 1, 'are:': 1, 'vanquishâ\\x80\\x99d': 1, 'until': 1, 'birnam': 7, 'dunsinane': 4, 'hill': 1, 'be:': 1, 'impress': 1, 'forest;': 1, 'earth-bound': 1, 'root?': 1, 'bodements,': 1, 'good!': 1, 'rise,': 1, 'high-placâ\\x80\\x99d': 1, 'lease': 1, 'custom.â\\x80\\x94yet': 1, 'throbs': 1, 'thing:': 1, 'much,': 1, 'reign': 1, 'kingdom?': 1, 'satisfied:': 1, 'deny': 1, 'curse': 1, 'you!': 4, 'sinks': 2, 'cauldron?': 1, '[_hautboys._]': 1, 'heart;': 1, 'shadows,': 1, 'depart!': 1, 'eight': 1, 'kings': 1, 'appear,': 2, 'over': 1, 'order,': 1, 'glass': 2, 'following._]': 1, 'spirit': 1, 'down!': 1, 'sear': 1, 'eyeballs:â\\x80\\x94and': 1, 'gold-bound': 1, 'brow,': 1, 'former.â\\x80\\x94filthy': 1, 'this?â\\x80\\x94a': 1, 'fourth!â\\x80\\x94start,': 1, 'stretch': 1, 'crack': 1, 'doom?': 1, 'yet!â\\x80\\x94a': 1, 'seventh!â\\x80\\x94iâ\\x80\\x99ll': 1, 'more:â\\x80\\x94': 1, 'eighth': 1, 'appears,': 2, 'shows': 1, 'more;': 2, 'twofold': 1, 'balls': 1, 'treble': 1, 'sceptres': 1, 'carry.': 1, 'sight!â\\x80\\x94now': 1, 'true;': 1, 'blood-bolterâ\\x80\\x99d': 1, 'smiles': 1, 'points': 1, 'his.â\\x80\\x94what!': 1, 'so:â\\x80\\x94but': 1, 'amazedly?â\\x80\\x94': 1, 'cheer': 3, 'delights.': 1, 'sound,': 1, 'antic': 1, 'round;': 2, 'kindly': 1, '[_music.': 1, 'dance,': 1, 'they?': 2, 'gone?â\\x80\\x94let': 1, 'pernicious': 2, 'aye': 1, 'accursed': 2, 'calendar!â\\x80\\x94': 1, 'graceâ\\x80\\x99s': 1, 'will?': 1, 'sisters?': 1, 'indeed,': 2, 'infected': 2, 'whereon': 1, 'ride;': 1, 'damnâ\\x80\\x99d': 3, 'them!â\\x80\\x94i': 1, 'galloping': 1, 'by?': 1, 'three,': 1, 'england!': 1, 'anticipatâ\\x80\\x99st': 1, 'dread': 1, 'exploits:': 1, 'flighty': 1, 'oâ\\x80\\x99ertook': 1, 'unless': 4, 'firstlings': 2, 'hand.': 3, 'acts,': 1, 'done:': 1, 'surprise;': 1, 'fife;': 1, 'edge': 1, 'sword': 4, 'wife,': 3, 'babes,': 2, 'unfortunate': 1, 'souls': 2, 'trace': 1, 'line.': 1, 'boasting': 1, 'fool;': 1, 'cool:': 1, 'sights!â\\x80\\x94where': 1, 'gentlemen?': 1, 'land?': 1, 'patience,': 2, 'madam.': 1, 'flight': 2, 'madness:': 1, 'actions': 1, 'traitors.': 1, 'wisdom!': 1, 'mansion,': 1, 'titles,': 1, 'fly?': 2, 'not:': 1, 'touch;': 1, 'wren,': 1, 'diminutive': 1, 'birds,': 1, 'ones': 1, 'nest,': 1, 'owl.': 1, 'coz,': 1, 'school': 1, 'yourself:': 1, 'husband,': 1, 'noble,': 1, 'judicious,': 1, 'fits': 1, 'season.': 1, 'times,': 1, 'traitors,': 1, 'ourselves;': 1, 'rumour': 2, 'float': 1, 'moveâ\\x80\\x94i': 1, 'long': 4, 'cease,': 1, 'climb': 1, 'upward': 1, 'before.â\\x80\\x94my': 1, 'pretty': 3, 'fatherâ\\x80\\x99d': 1, 'is,': 1, 'fatherless.': 1, 'fool,': 2, 'longer,': 1, 'disgrace': 1, 'discomfort:': 1, 'dead.': 2, 'live?': 1, 'birds': 2, 'mother.': 1, 'worms': 1, 'flies?': 1, 'get,': 1, 'mean;': 2, 'they.': 1, 'bird!': 1, 'net': 1, 'lime,': 1, 'pit-fall': 1, 'gin.': 1, 'mother?': 2, 'for.': 1, 'saying.': 1, 'yes,': 1, 'dead:': 1, 'wilt': 2, 'nay,': 2, 'husband?': 2, 'buy': 2, 'market.': 1, 'â\\x80\\x99em': 1, 'sell': 1, 'speakâ\\x80\\x99st': 2, 'wit;': 1, 'wit': 1, 'was.': 1, 'traitor?': 1, 'swears': 1, 'traitors': 1, 'hanged.': 1, 'lie?': 1, 'liars': 2, 'swearers': 2, 'fools:': 1, 'beat': 2, 'monkey!': 1, 'youâ\\x80\\x99ld': 1, 'weep': 2, 'him:': 1, 'sign': 1, 'quickly': 2, 'prattler,': 1, 'talkâ\\x80\\x99st!': 1, 'dame!': 1, 'known,': 1, 'doubt': 4, 'nearly:': 1, 'homely': 1, 'advice,': 1, 'ones.': 1, 'fright': 1, 'methinks,': 1, 'savage;': 1, 'cruelty,': 1, 'nigh': 1, 'person.': 1, 'preserve': 2, 'longer.': 1, 'harm.': 1, 'earthly': 1, 'laudable;': 1, 'accounted': 1, 'dangerous': 1, 'folly:': 1, 'womanly': 1, 'harm?': 1, 'unsanctified': 1, 'traitor.': 1, 'liest,': 2, 'shag-earâ\\x80\\x99d': 1, 'villain!': 1, 'egg!': 1, '[_stabbing': 1, 'him._]': 1, 'fry': 1, 'mother:': 1, 'run': 1, 'exit': 1, 'crying': 1, 'pursued': 1, 'desolate': 1, 'shade': 1, 'sad': 1, 'bosoms': 1, 'empty.': 1, 'fast': 3, 'sword,': 3, 'bestride': 1, 'down-fallâ\\x80\\x99n': 1, 'birthdom.': 1, 'morn': 1, 'widows': 1, 'howl,': 1, 'orphans': 1, 'cry;': 1, 'sorrows': 1, 'resounds': 1, 'felt': 1, 'yellâ\\x80\\x99d': 1, 'syllable': 2, 'dolour.': 1, 'believe,': 1, 'wail;': 1, 'believe;': 1, 'redress,': 1, 'spoke,': 1, 'perchance.': 1, 'tyrant,': 1, 'sole': 1, 'blisters': 1, 'honest:': 1, 'touchâ\\x80\\x99d': 1, 'young;': 1, 'deserve': 1, 'offer': 2, 'weak,': 1, 'poor,': 1, 'lamb': 1, 'appease': 1, 'angry': 1, 'god.': 1, 'treacherous.': 1, 'virtuous': 1, 'recoil': 2, 'charge.': 1, 'crave': 1, 'pardon.': 1, 'transpose.': 1, 'angels': 1, 'still,': 2, 'brightest': 1, 'fell:': 1, 'brows': 1, 'hopes.': 1, 'perchance': 1, 'doubts.': 1, 'rawness': 1, 'child,': 1, 'precious': 2, 'motives,': 1, 'knots': 1, 'leave-taking?â\\x80\\x94i': 1, 'jealousies': 1, 'dishonours,': 1, 'safeties.': 1, 'rightly': 1, 'just,': 1, 'whatever': 1, 'think.': 1, 'country!': 1, 'tyranny,': 1, 'basis': 1, 'goodness': 2, 'wrongs;': 1, 'affeerâ\\x80\\x99d.â\\x80\\x94fare': 1, 'villain': 2, 'thinkâ\\x80\\x99st': 1, 'space': 1, 'grasp': 1, 'rich': 1, 'east': 1, 'boot.': 1, 'offended:': 1, 'beneath': 1, 'yoke;': 1, 'weeps,': 1, 'bleeds;': 1, 'gash': 1, 'added': 1, 'wounds.': 1, 'uplifted': 1, 'right;': 1, 'goodly': 1, 'thousands:': 1, 'tread': 1, 'vices': 1, 'ways': 2, 'ever,': 2, 'succeed.': 1, 'be?': 1, 'particulars': 1, 'vice': 1, 'grafted': 1, 'openâ\\x80\\x99d,': 1, 'pure': 1, 'snow;': 1, 'esteem': 1, 'lamb,': 1, 'comparâ\\x80\\x99d': 1, 'confineless': 1, 'harms.': 1, 'legions': 1, 'evils': 2, 'luxurious,': 1, 'avaricious,': 1, 'deceitful,': 1, 'sudden,': 1, 'malicious,': 1, 'smacking': 1, 'name:': 1, 'bottom,': 1, 'none,': 1, 'voluptuousness:': 1, 'wives,': 1, 'daughters,': 1, 'matrons,': 1, 'maids,': 1, 'cistern': 1, 'lust;': 2, 'continent': 1, 'impediments': 1, 'oâ\\x80\\x99erbear,': 1, 'oppose': 1, 'will:': 1, 'reign.': 1, 'boundless': 1, 'intemperance': 1, 'tyranny;': 2, 'untimely': 2, 'emptying': 1, 'throne,': 2, 'yours:': 1, 'convey': 1, 'pleasures': 1, 'spacious': 1, 'plenty,': 1, 'coldâ\\x80\\x94the': 1, 'hoodwink.': 1, 'willing': 1, 'dames': 1, 'enough;': 1, 'vulture': 1, 'devour': 1, 'dedicate': 1, 'finding': 1, 'inclinâ\\x80\\x99d.': 1, 'ill-composâ\\x80\\x99d': 1, 'affection': 1, 'staunchless': 1, 'avarice,': 1, 'cut': 2, 'nobles': 1, 'lands;': 1, 'jewels,': 1, 'otherâ\\x80\\x99s': 1, 'more-having': 1, 'hunger': 1, 'forge': 1, 'quarrels': 1, 'unjust': 1, 'loyal,': 1, 'destroying': 1, 'wealth.': 1, 'avarice': 1, 'sticks': 1, 'deeper;': 1, 'summer-seeming': 1, 'slain': 2, 'fear;': 1, 'scotland': 5, 'foisons': 1, 'will,': 1, 'portable,': 1, 'weighâ\\x80\\x99d.': 1, 'king-becoming': 1, 'graces,': 1, 'justice,': 1, 'verity,': 1, 'tempâ\\x80\\x99rance,': 1, 'stableness,': 1, 'bounty,': 1, 'perseverance,': 1, 'mercy,': 1, 'lowliness,': 1, 'devotion,': 1, 'courage,': 1, 'fortitude,': 1, 'relish': 1, 'abound': 1, 'division': 1, 'crime,': 1, 'acting': 1, 'ways.': 1, 'power,': 2, 'concord': 1, 'hell,': 1, 'uproar': 1, 'universal': 1, 'unity': 1, 'earth.': 1, 'scotland!': 3, 'govern,': 1, 'spoken.': 1, 'govern?': 1, 'live.â\\x80\\x94o': 1, 'nation': 1, 'miserable,': 1, 'untitled': 1, 'bloody-scepterâ\\x80\\x99d,': 1, 'wholesome': 1, 'truest': 1, 'interdiction': 1, 'accusâ\\x80\\x99d,': 1, 'blaspheme': 1, 'breed?': 1, 'sainted': 1, 'queen': 1, 'bore': 1, 'oftâ\\x80\\x99ner': 1, 'knees': 1, 'feet,': 2, 'lived.': 1, 'fare': 2, 'well!': 1, 'repeatâ\\x80\\x99st': 1, 'banishâ\\x80\\x99d': 1, 'scotland.â\\x80\\x94o': 1, 'breast,': 1, 'ends': 1, 'here!': 1, 'passion,': 1, 'integrity,': 1, 'wiped': 1, 'scruples,': 1, 'reconcilâ\\x80\\x99d': 1, 'devilish': 1, 'trains': 1, 'sought': 1, 'modest': 1, 'plucks': 1, 'over-credulous': 1, 'haste:': 1, 'deal': 1, 'me!': 1, 'direction,': 1, 'unspeak': 1, 'detraction;': 1, 'abjure': 1, 'taints': 1, 'blames': 1, 'myself,': 1, 'strangers': 1, 'woman;': 1, 'forsworn;': 1, 'coveted': 1, 'own;': 1, 'faith;': 1, 'betray': 1, 'fellow;': 1, 'life:': 1, 'speaking': 1, 'truly,': 1, 'command:': 1, 'whither,': 1, 'here-approach,': 1, 'setting': 2, 'forth.': 1, 'warranted': 1, 'quarrel.': 1, 'silent?': 1, 'unwelcome': 1, 'reconcile.': 1, 'anon.â\\x80\\x94comes': 1, 'forth,': 1, 'crew': 1, 'wretched': 2, 'cure:': 1, 'malady': 1, 'convinces': 1, 'assay': 1, 'art;': 1, 'touch,': 1, 'sanctity': 1, 'presently': 1, 'amend.': 1, 'doctor._]': 2, 'disease': 2, 'means?': 1, 'evil:': 1, 'miraculous': 1, 'king;': 1, 'often,': 1, 'here-remain': 1, 'solicits': 1, 'knows,': 1, 'strangely-visited': 1, 'swoln': 1, 'ulcerous,': 1, 'despair': 2, 'surgery,': 1, 'cures;': 1, 'hanging': 1, 'stamp': 1, 'necks,': 1, 'prayers:': 1, 'spoken,': 1, 'succeeding': 1, 'healing': 1, 'benediction.': 1, 'virtue,': 1, 'heavenly': 1, 'prophecy;': 1, 'blessings': 1, 'grace.': 1, 'countryman;': 1, 'ever-gentle': 1, 'hither.': 1, 'god,': 3, 'remove': 4, 'means': 5, 'strangers!': 1, 'amen.': 1, 'did?': 1, 'country,': 1, 'mother,': 1, 'smile;': 1, 'sighs,': 1, 'groans,': 1, 'shrieks,': 1, 'rent': 1, 'made,': 1, 'markâ\\x80\\x99d;': 1, 'modern': 1, 'scarce': 1, 'who;': 1, 'expire': 1, 'flowers': 1, 'caps,': 1, 'dying': 1, 'sicken.': 1, 'relation': 1, 'nice,': 1, 'true!': 1, 'grief?': 1, 'hourâ\\x80\\x99s': 1, 'age': 1, 'hiss': 1, 'speaker;': 1, 'teems': 1, 'wife?': 1, 'children?': 1, 'batterâ\\x80\\x99d': 1, 'peace?': 1, 'no;': 2, 'niggard': 1, 'speech:': 1, 'goesâ\\x80\\x99t?': 1, 'hither': 1, 'transport': 1, 'tidings,': 1, 'heavily': 1, 'borne,': 1, 'ran': 1, 'out;': 1, 'belief': 1, 'witnessâ\\x80\\x99d': 1, 'rather,': 1, 'afoot.': 1, 'create': 1, 'doff': 1, 'distresses.': 1, 'beâ\\x80\\x99t': 1, 'lent': 1, 'older': 1, 'soldier': 3, 'christendom': 1, 'like!': 1, 'howlâ\\x80\\x99d': 1, 'latch': 1, 'concern': 1, 'cause?': 1, 'fee-grief': 1, 'breast?': 1, 'shares': 1, 'main': 3, 'pertains': 1, 'alone.': 1, 'ears': 1, 'despise': 1, 'possess': 1, 'heaviest': 1, 'heard.': 1, 'humh!': 1, 'guess': 1, 'surprisâ\\x80\\x99d;': 1, 'babes': 1, 'savagely': 1, 'slaughterâ\\x80\\x99d.': 1, 'relate': 1, 'manner': 1, 'quarry': 1, 'deer,': 1, 'heaven!â\\x80\\x94': 1, 'man!': 2, 'pull': 2, 'hat': 1, 'brows.': 1, 'grief': 2, 'whispers': 1, 'oâ\\x80\\x99er-fraught': 1, 'bids': 1, 'break.': 1, 'too?': 2, 'children,': 1, 'servants,': 1, 'found.': 1, 'thence!': 1, 'said.': 1, 'comforted:': 1, 'medâ\\x80\\x99cines': 1, 'revenge,': 1, 'cure': 2, 'deadly': 1, 'grief.': 1, 'children.â\\x80\\x94all': 1, 'ones?': 1, 'all?â\\x80\\x94o': 1, 'hell-kite!â\\x80\\x94all?': 1, 'chickens': 1, 'dam': 1, 'swoop?': 1, 'dispute': 1, 'also': 3, 'me.â\\x80\\x94did': 1, 'part?': 1, 'sinful': 1, 'naught': 1, 'am,': 1, 'demerits,': 1, 'slaughter': 1, 'souls:': 1, 'whetstone': 1, 'sword.': 1, 'convert': 2, 'anger;': 1, 'blunt': 1, 'enrage': 1, 'braggart': 1, 'tongue!â\\x80\\x94but,': 1, 'short': 1, 'intermission;': 1, 'front': 1, 'front,': 1, 'fiend': 1, 'myself;': 1, 'swordâ\\x80\\x99s': 1, 'length': 1, 'â\\x80\\x99scape,': 1, 'forgive': 2, 'too!': 1, 'manly.': 1, 'ripe': 1, 'shaking,': 1, 'powers': 1, 'instruments.': 1, 'may;': 1, 'doctor': 2, 'physic': 2, 'waiting-gentlewoman.': 1, 'watched': 1, 'perceive': 1, 'report.': 1, 'walked?': 1, 'gentlewoman.': 11, 'field,': 1, 'nightgown': 1, 'her,': 3, 'unlock': 1, 'closet,': 1, 'paper,': 1, 'fold': 1, 'write': 1, 'uponâ\\x80\\x99t,': 1, 'afterwards': 1, 'seal': 1, 'bed;': 1, 'perturbation': 1, 'benefit': 1, 'effects': 1, 'watching.': 1, 'slumbery': 1, 'agitation,': 1, 'walking': 2, 'actual': 1, 'performances,': 1, 'her.': 2, 'should.': 1, 'anyone;': 1, 'confirm': 1, 'speech.': 1, 'taper.': 1, 'lo': 1, 'comes!': 1, 'guise;': 1, 'asleep.': 1, 'observe': 1, 'her;': 2, 'close.': 1, 'her:': 1, 'continually;': 1, 'command.': 1, 'open.': 1, 'sense': 1, 'shut.': 1, 'accustomed': 1, 'action': 1, 'washing': 1, 'quarter': 1, 'spot.': 1, 'speaks.': 1, 'satisfy': 1, 'strongly.': 1, 'spot!': 1, 'say!': 1, 'one;': 1, 'two.': 1, 'doâ\\x80\\x99t.': 2, 'murky!': 1, 'fie!': 1, 'afeard?': 1, 'account?': 1, 'fife': 1, 'wife.': 1, 'now?â\\x80\\x94what,': 1, 'clean?': 1, 'that:': 4, 'mar': 1, 'starting.': 1, 'to.': 1, 'known.': 1, 'smell': 1, 'perfumes': 1, 'arabia': 1, 'sweeten': 1, 'oh,': 2, 'oh!': 1, 'sigh': 1, 'sorely': 1, 'charged.': 1, 'dignity': 1, 'body.': 1, 'practice:': 1, 'walked': 1, 'holily': 1, 'beds.': 1, 'nightgown;': 1, 'pale.': 1, 'buried;': 1, 'onâ\\x80\\x99s': 1, 'grave.': 1, 'bed?': 1, 'directly.': 1, 'whispâ\\x80\\x99rings': 1, 'abroad.': 1, 'unnatural': 2, 'troubles:': 1, 'minds': 1, 'deaf': 1, 'pillows': 1, 'discharge': 1, 'secrets.': 1, 'divine': 1, 'physician.â\\x80\\x94': 1, 'annoyance,': 1, 'night:': 1, 'mated,': 1, 'amazâ\\x80\\x99d': 1, 'drum': 5, 'soldiers.': 4, 'menteith.': 5, 'near,': 1, 'uncle': 1, 'revenges': 1, 'burn': 1, 'grim': 1, 'alarm': 1, 'excite': 1, 'mortified': 1, 'caithness.': 3, 'brother?': 1, 'certain,': 2, 'gentry:': 1, 'siwardâ\\x80\\x99s': 1, 'unrough': 1, 'youths,': 1, 'manhood.': 1, 'tyrant?': 1, 'strongly': 1, 'fortifies.': 1, 'mad;': 1, 'others,': 1, 'hate': 1, 'fury:': 1, 'buckle': 1, 'distemperâ\\x80\\x99d': 1, 'belt': 1, 'rule.': 1, 'secret': 1, 'sticking': 1, 'hands;': 1, 'minutely': 1, 'revolts': 1, 'upbraid': 1, 'faith-breach;': 1, 'commands': 1, 'move': 1, 'command,': 1, 'love:': 1, 'loose': 2, 'giantâ\\x80\\x99s': 1, 'robe': 1, 'dwarfish': 1, 'thief.': 1, 'pesterâ\\x80\\x99d': 1, 'senses': 2, 'start,': 1, 'condemn': 1, 'march': 2, 'obedience': 1, 'truly': 1, 'owâ\\x80\\x99d:': 1, 'medâ\\x80\\x99cine': 1, 'purge,': 1, 'dew': 1, 'weeds.': 1, 'birnam.': 2, '[_exeunt,': 2, 'marching._]': 2, 'reports;': 1, 'all:': 1, 'taint': 1, 'boy': 1, 'malcolm?': 1, 'woman?': 2, 'consequences': 1, 'pronouncâ\\x80\\x99d': 1, 'thus:': 1, 'â\\x80\\x9cfear': 2, 'macbeth;': 1, 'eâ\\x80\\x99er': 1, 'thee.â\\x80\\x9dâ\\x80\\x94then': 1, 'epicures:': 1, 'by,': 1, 'sag': 1, 'damn': 1, 'cream-facâ\\x80\\x99d': 1, 'loon!': 1, 'gottâ\\x80\\x99st': 1, 'goose': 1, 'look?': 1, 'thousandâ\\x80\\x94': 1, 'geese,': 1, 'villain?': 1, 'over-red': 1, 'lily-liverâ\\x80\\x99d': 1, 'boy.': 1, 'patch?': 1, 'soul!': 1, 'linen': 1, 'cheeks': 1, 'counsellors': 1, 'whey-face?': 1, 'force,': 1, 'hence.': 1, 'seyton!â\\x80\\x94i': 1, 'sick': 1, 'beholdâ\\x80\\x94seyton,': 1, 'say!â\\x80\\x94this': 1, 'disseat': 1, 'enough:': 1, 'fallâ\\x80\\x99n': 1, 'sere,': 1, 'yellow': 1, 'leaf;': 1, 'accompany': 1, 'age,': 1, 'troops': 1, 'friends,': 1, 'have;': 1, 'stead,': 1, 'curses,': 1, 'loud': 1, 'mouth-honour,': 1, 'fain': 1, 'deny,': 1, 'seyton!â\\x80\\x94': 1, 'seyton.': 7, 'more?': 1, 'confirmâ\\x80\\x99d,': 1, 'reported.': 1, 'flesh': 1, 'hackâ\\x80\\x99d.': 1, 'armour.': 1, 'needed': 1, 'on.': 1, 'horses,': 1, 'skirr': 1, 'talk': 1, 'armour.â\\x80\\x94': 1, 'patient,': 1, 'doctor?': 1, 'sick,': 1, 'thick-coming': 1, 'fancies,': 1, 'rest.': 1, 'minister': 2, 'diseasâ\\x80\\x99d,': 1, 'memory': 1, 'rooted': 1, 'sorrow,': 2, 'raze': 1, 'written': 4, 'troubles': 1, 'oblivious': 1, 'antidote': 1, 'cleanse': 1, 'stuffâ\\x80\\x99d': 1, 'perilous': 1, 'stuff': 1, 'weighs': 1, 'heart?': 1, 'therein': 1, 'patient': 1, 'himself.': 1, 'dogs,': 1, 'armour': 1, 'on;': 1, 'staff:': 1, 'out.â\\x80\\x94doctor,': 1, 'thanes': 4, 'me.â\\x80\\x94': 2, 'despatch.â\\x80\\x94if': 1, 'couldst,': 1, 'doctor,': 1, 'disease,': 1, 'purge': 1, 'pristine': 1, 'health,': 1, 'echo,': 1, 'again.â\\x80\\x94pullâ\\x80\\x99t': 1, 'say.â\\x80\\x94': 1, 'rhubarb,': 1, 'senna,': 1, 'purgative': 1, 'drug,': 1, 'scour': 1, 'hearâ\\x80\\x99st': 1, 'preparation': 1, 'something.': 1, 'bane,': 1, 'forest': 1, 'profit': 1, 'hardly': 1, 'marching.': 1, 'chambers': 1, 'safe.': 1, 'nothing.': 2, 'siward.': 17, 'hew': 1, 'bough,': 1, 'bearâ\\x80\\x99t': 1, 'thereby': 1, 'shadow': 1, 'numbers': 1, 'discovery': 1, 'err': 1, 'learn': 2, 'confident': 1, 'dunsinane,': 2, 'endure': 2, 'beforeâ\\x80\\x99t.': 1, 'hope;': 1, 'advantage': 1, 'given,': 1, 'revolt,': 1, 'serve': 1, 'constrained': 1, 'things,': 1, 'absent': 1, 'just': 1, 'censures': 1, 'event,': 1, 'industrious': 1, 'soldiership.': 1, 'approaches,': 1, 'decision': 1, 'owe.': 1, 'speculative': 1, 'unsure': 1, 'relate,': 1, 'arbitrate;': 1, 'advance': 1, 'colours,': 3, 'seyton': 1, 'outward': 1, 'walls;': 1, 'come!â\\x80\\x9d': 1, 'castleâ\\x80\\x99s': 2, 'siege': 1, 'scorn:': 1, 'famine': 2, 'ague': 1, 'forcâ\\x80\\x99d': 1, 'ours,': 1, 'dareful,': 1, 'beard': 1, 'beard,': 1, 'backward': 1, 'home.': 1, 'forgot': 1, 'taste': 1, 'coolâ\\x80\\x99d': 1, 'night-shriek;': 1, 'hair': 1, 'treatise': 1, 'rouse': 1, 'stir': 1, 'inâ\\x80\\x99t.': 1, 'suppâ\\x80\\x99d': 1, 'horrors;': 1, 'direness,': 1, 'familiar': 1, 'slaughterous': 1, 'cry?': 1, 'queen,': 2, 'hereafter.': 1, 'word.': 1, 'creeps': 1, 'petty': 1, 'pace': 1, 'recorded': 1, 'yesterdays': 1, 'lighted': 1, 'dusty': 1, 'brief': 1, 'candle!': 1, 'shadow;': 1, 'player,': 1, 'struts': 1, 'frets': 1, 'stage,': 1, 'told': 1, 'idiot,': 1, 'signifying': 1, 'comâ\\x80\\x99st': 1, 'tongue;': 1, 'saw,': 1, 'watch': 1, 'hill,': 1, 'birnam,': 1, 'methought,': 1, 'move.': 1, 'liar,': 1, 'wrath,': 1, 'mile': 1, 'coming;': 1, 'moving': 1, 'grove.': 1, 'next': 1, 'thee:': 2, 'speech': 1, 'much.â\\x80\\x94': 1, 'resolution;': 1, 'equivocation': 1, 'fiend,': 1, 'dunsinane;â\\x80\\x9d': 1, 'dunsinane.â\\x80\\x94arm,': 1, 'out!â\\x80\\x94': 1, 'avouches': 1, 'flying': 1, 'tarrying': 1, 'â\\x80\\x99gin': 1, 'aweary': 1, 'sun,': 1, 'undone.â\\x80\\x94': 1, 'bell!â\\x80\\x94blow,': 1, 'wind!': 1, 'wrack!': 1, 'die': 2, 'harness': 1, 'army,': 1, 'boughs.': 1, 'enough.': 1, 'leafy': 1, 'screens': 1, 'are.â\\x80\\x94you,': 1, 'uncle,': 1, 'battle:': 1, 'uponâ\\x80\\x99s': 1, 'order.': 1, 'well.â\\x80\\x94': 1, 'tonight,': 1, 'beaten,': 1, 'fight.': 1, 'trumpets': 1, 'clamorous': 1, 'harbingers': 1, 'alarums.': 2, 'tied': 1, 'stake.': 1, 'bear-like': 1, 'course.â\\x80\\x94whatâ\\x80\\x99s': 1, 'thouâ\\x80\\x99lt': 1, 'callâ\\x80\\x99st': 1, 'hotter': 1, 'nameâ\\x80\\x99s': 1, 'hateful': 1, 'ear.': 1, 'fearful.': 1, 'abhorred': 1, 'tyrant.': 1, 'prove': 1, 'speakâ\\x80\\x99st.': 1, '[_they': 2, 'slain._]': 1, 'wast': 1, 'woman.': 1, 'swords': 1, 'smile': 1, 'at,': 1, 'weapons': 1, 'scorn,': 1, 'born.': 2, 'is.â\\x80\\x94tyrant,': 1, 'face!': 1, 'beâ\\x80\\x99st': 1, 'stroke': 1, 'childrenâ\\x80\\x99s': 1, 'ghosts': 1, 'haunt': 1, 'kerns,': 1, 'hired': 1, 'staves.': 1, 'unbatterâ\\x80\\x99d': 1, 'edge,': 1, 'sheathe': 1, 'undeeded.': 1, 'shouldst': 1, 'be;': 1, 'clatter,': 1, 'bruited.': 1, 'fortune!': 1, 'alarums._]': 3, 'way,': 1, 'lord;â\\x80\\x94the': 1, 'renderâ\\x80\\x99d:': 1, 'fight;': 1, 'bravely': 1, 'war,': 1, 'professes': 1, 'yours,': 1, 'foes': 1, 'beside': 1, '[_exeunt.': 1, 'roman': 1, 'sword?': 1, 'turn,': 1, 'hell-hound,': 1, 'turn!': 1, 'avoided': 1, 'back;': 1, 'chargâ\\x80\\x99d': 1, 'already.': 1, 'words;': 1, 'sword:': 1, 'bloodier': 1, 'out!': 1, 'fight._]': 1, 'losest': 1, 'labour:': 1, 'intrenchant': 1, 'impress,': 1, 'bleed:': 1, 'vulnerable': 1, 'crests;': 1, 'charm;': 1, 'servâ\\x80\\x99d': 1, 'motherâ\\x80\\x99s': 1, 'womb': 1, 'rippâ\\x80\\x99d.': 1, 'tells': 1, 'cowâ\\x80\\x99d': 1, 'juggling': 1, 'fiends': 1, 'believâ\\x80\\x99d,': 1, 'palter': 1, 'sense;': 1, 'promise': 1, 'hope!â\\x80\\x94iâ\\x80\\x99ll': 1, 'coward,': 1, 'gaze': 1, 'rarer': 1, 'monsters': 1, 'pole,': 1, 'underwrit,': 1, 'â\\x80\\x9chere': 1, 'tyrant.â\\x80\\x9d': 1, 'yield,': 1, 'ground': 1, 'malcolmâ\\x80\\x99s': 1, 'baited': 1, 'rabbleâ\\x80\\x99s': 1, 'curse.': 1, 'opposâ\\x80\\x99d,': 1, 'born,': 1, 'try': 1, 'last.': 1, 'body': 1, 'shield:': 1, 'enough!â\\x80\\x9d': 1, 'fighting.': 1, 'retreat.': 1, 'arrivâ\\x80\\x99d.': 1, 'cheaply': 1, 'bought.': 1, 'missing,': 1, 'paid': 8, 'soldierâ\\x80\\x99s': 1, 'debt:': 1, 'prowess': 1, 'confirmâ\\x80\\x99d': 1, 'unshrinking': 1, 'fought,': 1, 'died.': 1, 'dead?': 1, 'measurâ\\x80\\x99d': 1, 'worth,': 1, 'hurts': 1, 'before?': 1, 'front.': 1, 'he!': 1, 'hairs,': 1, 'fairer': 1, 'death:': 1, 'knollâ\\x80\\x99d.': 1, 'parted': 1, 'score:': 1, 'him!â\\x80\\x94here': 1, 'newer': 1, 'comfort.': 1, 'head.': 1, 'behold,': 1, 'usurperâ\\x80\\x99s': 1, 'head:': 1, 'free.': 1, 'compassâ\\x80\\x99d': 1, 'pearl,': 1, 'salutation': 1, 'minds;': 1, 'voices': 1, 'aloud': 1, 'mine,â\\x80\\x94': 1, '[_flourish._]': 1, 'expense': 2, 'reckon': 1, 'loves,': 1, 'henceforth': 1, 'earls,': 1, 'namâ\\x80\\x99d.': 1, 'planted': 1, 'newly': 1, 'time,â\\x80\\x94': 1, 'calling': 1, 'exilâ\\x80\\x99d': 1, 'abroad,': 1, 'snares': 1, 'watchful': 1, 'producing': 1, 'ministers': 1, 'butcher,': 1, 'fiend-like': 1, 'self': 1, 'life;â\\x80\\x94this,': 1, 'needful': 1, 'measure,': 1, 'scone.': 1, '*****': 2, 'named': 1, '1533-0.txt': 1, '1533-0.zip': 1, 'associated': 7, 'files': 2, 'various': 1, 'formats': 2, 'in:': 1, 'https://www.gutenberg.org/1/5/3/1533/': 1, 'updated': 1, 'editions': 3, 'replace': 1, 'previous': 1, 'one--the': 1, 'renamed.': 1, 'creating': 4, 'works': 23, 'print': 1, 'protected': 5, 'u.s.': 7, 'copyright': 19, 'law': 5, 'owns': 2, 'works,': 5, 'foundation': 13, 'you!)': 1, 'distribute': 6, 'permission': 6, 'paying': 3, 'royalties.': 1, 'rules,': 1, 'license,': 3, 'copying': 2, 'distributing': 6, 'gutenberg-tm': 54, 'electronic': 27, 'protect': 2, 'concept': 2, 'trademark.': 4, 'registered': 2, 'trademark,': 3, 'used': 3, 'ebook,': 2, 'following': 4, 'trademark': 6, 'including': 9, 'royalties': 2, 'anything': 2, 'copies': 7, 'complying': 3, 'nearly': 2, 'creation': 1, 'derivative': 3, 'reports,': 1, 'performances': 1, 'research.': 1, 'ebooks': 5, 'modified': 1, 'printed': 2, 'away--you': 1, 'practically': 1, 'law.': 2, 'redistribution': 1, 'commercial': 1, 'redistribution.': 1, 'start:': 1, 'mission': 4, 'promoting': 2, 'distribution': 6, '(or': 3, 'phrase': 4, '\"project': 5, 'gutenberg\"),': 1, 'agree': 9, 'comply': 6, 'available': 2, 'www.gutenberg.org/license.': 1, 'section': 7, '1.': 1, 'redistributing': 2, '1.a.': 1, 'work,': 7, 'indicate': 1, 'read,': 1, 'understand,': 1, 'accept': 1, 'intellectual': 2, 'property': 2, '(trademark/copyright)': 1, 'agreement.': 3, 'agreement,': 6, 'cease': 1, 'possession.': 1, 'fee': 8, 'obtaining': 2, 'obtain': 3, 'refund': 7, 'entity': 3, 'paragraph': 11, '1.e.8.': 2, '1.b.': 1, 'gutenberg\"': 4, '1.c': 1, 'below.': 3, 'lot': 1, 'follow': 1, 'agreement': 9, 'works.': 4, '1.e': 1, '1.c.': 1, 'literary': 13, 'archive': 13, '(\"the': 1, 'foundation\"': 1, 'pglaf),': 1, 'compilation': 1, 'collection': 3, 'individual': 4, 'public': 3, 'domain': 2, 'states.': 4, 'unprotected': 1, 'prevent': 1, 'copying,': 2, 'distributing,': 1, 'performing,': 3, 'displaying': 2, 'based': 2, 'references': 2, 'removed.': 1, 'support': 3, 'freely': 4, 'sharing': 1, 'compliance': 4, 'keeping': 2, 'work.': 5, 'easily': 1, 'format': 4, 'its': 3, 'attached': 1, 'others.': 1, '1.d.': 1, 'govern': 1, 'countries': 1, 'constant': 1, 'change.': 1, 'outside': 2, 'addition': 1, 'downloading,': 1, 'displaying,': 2, 'representations': 1, 'concerning': 2, 'status': 4, '1.e.': 1, 'removed': 1, 'gutenberg:': 1, '1.e.1.': 2, 'sentence,': 1, 'active': 2, 'links': 3, 'immediate': 2, 'appear': 1, 'prominently': 2, 'whenever': 1, '(any': 1, 'associated)': 1, 'accessed,': 1, 'displayed,': 1, 'performed,': 1, 'viewed,': 1, 'copied': 2, 'distributed:': 1, '1.e.2.': 1, 'derived': 1, 'texts': 1, '(does': 1, 'contain': 2, 'notice': 3, 'indicating': 1, 'posted': 4, 'holder),': 1, 'distributed': 3, 'fees': 2, 'charges.': 1, 'providing': 4, 'appearing': 1, 'requirements': 2, 'paragraphs': 3, '1.e.1': 3, '1.e.7': 2, '1.e.8': 2, '1.e.9.': 3, '1.e.3.': 1, 'holder,': 1, 'additional': 3, 'imposed': 1, 'holder.': 1, 'linked': 1, 'holder': 1, 'beginning': 1, '1.e.4.': 1, 'unlink': 1, 'detach': 1, 'containing': 1, 'gutenberg-tm.': 1, '1.e.5.': 1, 'copy,': 4, 'display,': 1, 'perform,': 1, 'redistribute': 1, 'sentence': 1, 'license.': 2, '1.e.6.': 1, 'binary,': 1, 'compressed,': 1, 'marked': 2, 'nonproprietary': 1, 'proprietary': 1, 'form,': 1, 'processing': 1, 'hypertext': 1, 'form.': 2, 'however,': 1, 'provide': 6, '\"plain': 2, 'vanilla': 2, 'ascii\"': 2, 'official': 3, 'version': 1, 'website': 4, '(www.gutenberg.org),': 1, 'must,': 1, 'cost,': 1, 'user,': 1, 'exporting': 1, 'request,': 1, 'original': 1, 'alternate': 1, 'include': 1, 'specified': 2, '1.e.7.': 1, 'viewing,': 1, 'reasonable': 1, '*': 4, '20%': 1, 'gross': 1, 'profits': 1, 'derive': 1, 'calculated': 1, 'method': 1, 'calculate': 1, 'applicable': 3, 'taxes.': 1, 'owed': 1, 'owner': 2, 'agreed': 1, 'donate': 1, 'foundation.': 1, 'payments': 3, '60': 1, 'date': 2, 'prepare': 1, 'legally': 1, 'required': 1, 'prepare)': 1, 'periodic': 1, 'tax': 6, 'returns.': 1, 'clearly': 1, 'address': 1, '4,': 1, '\"information': 1, 'donations': 14, 'foundation.\"': 1, 'money': 3, 'user': 2, 'notifies': 1, 'writing': 3, 'e-mail)': 1, '30': 1, 's/he': 1, 'possessed': 1, 'physical': 2, 'medium': 3, 'discontinue': 1, 'accordance': 2, '1.f.3,': 3, 'replacement': 5, 'defect': 3, 'discovered': 1, 'reported': 1, '90': 2, 'group': 1, 'different': 1, 'foundation,': 6, 'manager': 1, 'contact': 3, '3': 2, '1.f.': 1, '1.f.1.': 1, 'volunteers': 5, 'employees': 1, 'expend': 1, 'considerable': 2, 'effort': 1, 'identify,': 1, 'research': 1, 'transcribe': 1, 'proofread': 1, 'collection.': 1, 'despite': 1, 'efforts,': 1, 'stored,': 1, '\"defects,\"': 1, 'incomplete,': 1, 'inaccurate': 1, 'corrupt': 1, 'data,': 1, 'transcription': 1, 'errors,': 1, 'infringement,': 1, 'defective': 2, 'damaged': 1, 'disk': 1, 'medium,': 2, 'computer': 2, 'virus,': 1, 'codes': 1, 'damage': 1, 'equipment.': 2, '1.f.2.': 1, 'warranty,': 1, 'disclaimer': 3, 'damages': 2, '-': 3, '\"right': 1, 'refund\"': 1, 'described': 1, 'party': 1, 'disclaim': 1, 'liability': 1, 'damages,': 1, 'costs': 2, 'expenses,': 2, 'legal': 2, 'fees.': 1, 'remedies': 1, 'negligence,': 1, 'strict': 1, 'liability,': 2, 'warranty': 1, 'contract': 1, '1.f.3.': 2, 'owner,': 2, 'distributor': 1, 'liable': 1, 'actual,': 1, 'direct,': 1, 'indirect,': 1, 'consequential,': 1, 'punitive': 1, 'incidental': 1, 'possibility': 1, 'damage.': 1, 'discover': 1, 'receiving': 1, '(if': 1, 'any)': 1, 'sending': 1, 'explanation': 1, 'received': 5, 'from.': 1, 'explanation.': 1, 'elect': 1, 'lieu': 2, 'refund.': 2, 'electronically,': 1, 'choose': 1, 'opportunity': 1, 'electronically': 1, 'defective,': 1, 'demand': 1, 'opportunities': 1, 'fix': 1, 'problem.': 1, '1.f.4.': 1, \"'as-is',\": 1, 'warranties': 3, 'kind,': 1, 'express': 1, 'implied,': 1, 'merchantability': 1, 'purpose.': 1, '1.f.5.': 1, 'allow': 1, 'disclaimers': 1, 'implied': 1, 'exclusion': 1, 'limitation': 3, 'types': 1, 'damages.': 1, 'violates': 1, 'interpreted': 1, 'maximum': 1, 'permitted': 2, 'invalidity': 1, 'unenforceability': 1, 'provision': 1, 'void': 1, 'remaining': 1, 'provisions.': 1, '1.f.6.': 1, 'indemnity': 1, 'indemnify': 1, 'employee': 1, 'production,': 1, 'promotion': 1, 'harmless': 1, 'fees,': 1, 'arise': 1, 'directly': 1, 'indirectly': 1, 'occur:': 1, '(a)': 1, '(b)': 1, 'alteration,': 1, 'modification,': 1, 'additions': 1, 'deletions': 1, '(c)': 1, 'cause.': 1, '2.': 1, 'information': 7, 'synonymous': 1, 'readable': 1, 'widest': 2, 'variety': 1, 'computers': 1, 'obsolete,': 1, 'middle-aged': 1, 'computers.': 1, 'exists': 1, 'because': 1, 'efforts': 2, 'hundreds': 1, 'walks': 1, 'life.': 1, 'financial': 1, 'critical': 1, 'reaching': 1, \"gutenberg-tm's\": 1, 'goals': 1, 'ensuring': 1, 'remain': 1, 'generations': 1, '2001,': 1, 'created': 2, 'secure': 1, 'permanent': 1, 'generations.': 1, 'help,': 1, 'sections': 1, '4': 1, 'page': 2, 'www.gutenberg.org': 2, '3.': 1, 'non-profit': 1, '501(c)(3)': 1, 'educational': 1, 'corporation': 1, 'organized': 1, 'mississippi': 1, 'granted': 1, 'exempt': 2, 'internal': 1, 'revenue': 1, \"foundation's\": 3, 'ein': 1, 'federal': 2, 'identification': 1, 'number': 3, '64-6221541.': 1, 'contributions': 2, 'deductible': 1, 'extent': 1, \"state's\": 1, 'laws.': 1, '809': 1, 'north': 1, '1500': 1, 'west,': 1, 'salt': 1, 'lake': 1, 'city,': 1, 'ut': 1, '84116,': 1, '(801)': 1, '596-1887.': 1, 'email': 2, 'www.gutenberg.org/contact': 1, '4.': 1, 'depends': 1, 'survive': 1, 'widespread': 1, 'increasing': 1, 'licensed': 1, 'machine-readable': 1, 'accessible': 1, 'array': 1, 'equipment': 1, 'outdated': 1, 'small': 2, '($1': 1, '$5,000)': 1, 'particularly': 1, 'important': 1, 'maintaining': 1, 'irs.': 1, 'regulating': 1, 'charities': 1, 'charitable': 1, '50': 1, 'uniform': 1, 'effort,': 1, 'paperwork': 1, 'requirements.': 1, 'solicit': 2, 'locations': 1, 'confirmation': 1, 'compliance.': 1, 'determine': 1, 'visit': 1, 'www.gutenberg.org/donate': 2, 'solicitation': 1, 'requirements,': 1, 'prohibition': 1, 'accepting': 1, 'unsolicited': 1, 'donors': 1, 'offers': 1, 'donate.': 1, 'international': 1, 'gratefully': 1, 'accepted,': 1, 'statements': 1, 'treatment': 1, 'alone': 1, 'swamp': 1, 'staff.': 1, 'web': 1, 'pages': 1, 'current': 1, 'donation': 1, 'methods': 1, 'addresses.': 1, 'accepted': 1, 'checks,': 1, 'credit': 1, 'card': 1, 'donations.': 1, 'donate,': 1, 'visit:': 1, '5.': 1, 'professor': 1, 'michael': 1, 's.': 1, 'hart': 1, 'originator': 1, 'library': 1, 'shared': 1, 'anyone.': 1, 'forty': 1, 'years,': 1, 'network': 1, 'volunteer': 1, 'support.': 1, 'editions,': 1, 'confirmed': 1, 'included.': 1, 'necessarily': 1, 'paper': 1, 'edition.': 1, 'search': 1, 'facility:': 1, 'includes': 1, 'gutenberg-tm,': 1, 'produce': 1, 'ebooks,': 1, 'subscribe': 1, 'newsletter': 1, 'ebooks.': 1}\n",
      "'Macbeth' shows up 31 times.\n",
      "'sword' shows up 4 times.\n",
      "thy' shows up 52 times.\n"
     ]
    }
   ],
   "source": [
    "# Time to roll up our sleeves and make a similar dictionary for all the words in Macbeth.\n",
    "# I am going to do the first part (and you can execute this cell as is to see what happens),\n",
    "# you just need to adapt your code from above to make the dictionary at the end\n",
    "\n",
    "# Here we import libraries that can grab data from the web (via requests) and form a list of words using NLTK.\n",
    "import requests\n",
    "from nltk.tokenize import word_tokenize\n",
    "\n",
    "# Here we get the text of Macbeth from Project Gutenberg (https://www.gutenberg.org/) \n",
    "# and \"tokenize\" the text (split it up into words)\n",
    "target_url = \"https://www.gutenberg.org/files/1533/1533-0.txt\"\n",
    "response = requests.get(target_url)\n",
    "text_string = response.text\n",
    "text_string = text_string.lower()\n",
    "text_words = word_tokenize(text_string)\n",
    "\n",
    "# Here we print the first 10 words\n",
    "print(text_words[0:10])\n",
    "\n",
    "# Put in your code here to make the dictionary with the <word> : <word counts> pairs\n",
    "def number_of_words(text_string):\n",
    "    counts = dict()\n",
    "    words = text_string.split()\n",
    "    for word in words:\n",
    "        if word in counts:\n",
    "            counts[word] += 1\n",
    "        else:\n",
    "            counts[word] = 1\n",
    "    return counts\n",
    "\n",
    "word_frequency_macbeth = number_of_words(text_string)\n",
    "print(word_frequency_macbeth) \n",
    "\n",
    "# Check out some entries in the dictionary (such as 'Macbeth', 'sword', 'thy')\n",
    "\n",
    "print(\"'Macbeth' shows up\", word_frequency_macbeth['macbeth'], \"times.\")\n",
    "print(\"'sword' shows up\", word_frequency_macbeth['sword'], \"times.\")\n",
    "print(\"'thy' shows up\", word_frequency_macbeth['thy'], \"times.\")\n"
   ]
  },
  {
   "cell_type": "markdown",
   "id": "4940bcc8-b6db-4ddd-a0ec-3dcdf5fa4183",
   "metadata": {},
   "source": [
    "# End"
   ]
  }
 ],
 "metadata": {
  "kernelspec": {
   "display_name": "Python 3 (ipykernel)",
   "language": "python",
   "name": "python3"
  },
  "language_info": {
   "codemirror_mode": {
    "name": "ipython",
    "version": 3
   },
   "file_extension": ".py",
   "mimetype": "text/x-python",
   "name": "python",
   "nbconvert_exporter": "python",
   "pygments_lexer": "ipython3",
   "version": "3.9.6"
  }
 },
 "nbformat": 4,
 "nbformat_minor": 5
}
